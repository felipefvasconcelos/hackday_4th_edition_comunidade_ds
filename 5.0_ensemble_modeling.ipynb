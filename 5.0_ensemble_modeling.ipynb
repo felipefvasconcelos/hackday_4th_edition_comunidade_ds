{
 "cells": [
  {
   "cell_type": "markdown",
   "id": "be9b865f",
   "metadata": {},
   "source": [
    "# 0.0. Imports"
   ]
  },
  {
   "cell_type": "code",
   "execution_count": 1,
   "id": "c3e45637",
   "metadata": {
    "ExecuteTime": {
     "end_time": "2023-03-26T18:20:41.372383Z",
     "start_time": "2023-03-26T18:20:38.077166Z"
    }
   },
   "outputs": [
    {
     "name": "stderr",
     "output_type": "stream",
     "text": [
      "/home/felipe/repos/hackday/hackday/lib/python3.11/site-packages/tqdm/auto.py:22: TqdmWarning: IProgress not found. Please update jupyter and ipywidgets. See https://ipywidgets.readthedocs.io/en/stable/user_install.html\n",
      "  from .autonotebook import tqdm as notebook_tqdm\n"
     ]
    }
   ],
   "source": [
    "import pickle\n",
    "import inflection\n",
    "\n",
    "import numpy as np\n",
    "import pandas as pd\n",
    "import seaborn as sn\n",
    "\n",
    "from sklearn import svm\n",
    "from xgboost import XGBClassifier\n",
    "from ydata_profiling import ProfileReport\n",
    "\n",
    "from matplotlib import pyplot as plt\n",
    "\n",
    "from sklearn import metrics as mt\n",
    "from sklearn import ensemble as en\n",
    "from sklearn import model_selection as ms\n",
    "from sklearn import preprocessing   as pp\n",
    "\n",
    "from sklearn import linear_model as lm\n",
    "from sklearn import ensemble as en\n"
   ]
  },
  {
   "cell_type": "markdown",
   "id": "40f1f5cd",
   "metadata": {
    "ExecuteTime": {
     "end_time": "2023-03-25T01:45:10.964211Z",
     "start_time": "2023-03-25T01:45:10.431585Z"
    }
   },
   "source": [
    "# 1.0. Data Description"
   ]
  },
  {
   "cell_type": "markdown",
   "id": "a44e7938",
   "metadata": {},
   "source": [
    "## 1.1. Loading Data"
   ]
  },
  {
   "cell_type": "code",
   "execution_count": 2,
   "id": "9d3310b9",
   "metadata": {
    "ExecuteTime": {
     "end_time": "2023-03-26T18:20:41.529307Z",
     "start_time": "2023-03-26T18:20:41.375453Z"
    }
   },
   "outputs": [],
   "source": [
    "df_raw = pd.read_csv('data/train.csv')\n",
    "df_country = pd.read_csv('data/country_base_2.csv')"
   ]
  },
  {
   "cell_type": "code",
   "execution_count": 3,
   "id": "1a00cb07",
   "metadata": {
    "ExecuteTime": {
     "end_time": "2023-03-26T18:20:43.414407Z",
     "start_time": "2023-03-26T18:20:41.531806Z"
    }
   },
   "outputs": [],
   "source": [
    "df1 = pd.merge(df_raw, df_country, on='Nacionalidade', how='left')"
   ]
  },
  {
   "cell_type": "code",
   "execution_count": 4,
   "id": "703e4dd2",
   "metadata": {
    "ExecuteTime": {
     "end_time": "2023-03-26T18:20:44.022944Z",
     "start_time": "2023-03-26T18:20:43.422641Z"
    }
   },
   "outputs": [],
   "source": [
    "df1 = df1.drop('country', axis=1)"
   ]
  },
  {
   "cell_type": "markdown",
   "id": "fc0a7f9f",
   "metadata": {},
   "source": [
    "## 1.2. Rename Columns"
   ]
  },
  {
   "cell_type": "code",
   "execution_count": 5,
   "id": "c37cd130",
   "metadata": {
    "ExecuteTime": {
     "end_time": "2023-03-26T18:20:44.107132Z",
     "start_time": "2023-03-26T18:20:44.026678Z"
    }
   },
   "outputs": [],
   "source": [
    "cols_old = ['id', 'Classificacao_do_hotel', 'Meses_da_reserva_ate_o_check-in', 'Numero_de_pernoites_reservadas', \n",
    "            'Numero_de_hospedes', 'Regime_de_alimentacao', 'Nacionalidade', 'Forma_de_Reserva',\n",
    "            'Ja_se_hospedou_anterioremente', 'Tipo_do_quarto_reservado', 'Reserva_feita_por_agencia_de_turismo', \n",
    "            'Reserva_feita_por_empresa', 'Reserva_com_Estacionamento', 'Reserva_com_Observacoes', \n",
    "            'Reserva_Cancelada', 'latitude', 'longitude']\n",
    "\n",
    "snakecase = lambda x: inflection.underscore(x)\n",
    "cols_new = list(map(snakecase, cols_old))\n",
    "df1.columns = cols_new"
   ]
  },
  {
   "cell_type": "markdown",
   "id": "d4e724b0",
   "metadata": {},
   "source": [
    "## 1.3. Data Dimensions"
   ]
  },
  {
   "cell_type": "code",
   "execution_count": 6,
   "id": "8b135b2f",
   "metadata": {
    "ExecuteTime": {
     "end_time": "2023-03-26T18:20:44.218904Z",
     "start_time": "2023-03-26T18:20:44.111276Z"
    }
   },
   "outputs": [
    {
     "name": "stdout",
     "output_type": "stream",
     "text": [
      "Number of rows: 72159\n",
      "Number of cols: 17\n"
     ]
    }
   ],
   "source": [
    "print('Number of rows: {}'.format(df1.shape[0]))\n",
    "print('Number of cols: {}'.format(df1.shape[1]))"
   ]
  },
  {
   "cell_type": "markdown",
   "id": "292ec09b",
   "metadata": {},
   "source": [
    "## 1.4. Check NA"
   ]
  },
  {
   "cell_type": "code",
   "execution_count": 7,
   "id": "2cf7ddae",
   "metadata": {
    "ExecuteTime": {
     "end_time": "2023-03-26T18:20:44.575625Z",
     "start_time": "2023-03-26T18:20:44.223734Z"
    }
   },
   "outputs": [
    {
     "data": {
      "text/plain": [
       "id                                         0\n",
       "classificacao_do_hotel                     0\n",
       "meses_da_reserva_ate_o_check_in            0\n",
       "numero_de_pernoites_reservadas             0\n",
       "numero_de_hospedes                         3\n",
       "regime_de_alimentacao                      0\n",
       "nacionalidade                           1093\n",
       "forma_de_reserva                           0\n",
       "ja_se_hospedou_anterioremente              0\n",
       "tipo_do_quarto_reservado                   0\n",
       "reserva_feita_por_agencia_de_turismo       0\n",
       "reserva_feita_por_empresa                  0\n",
       "reserva_com_estacionamento                 0\n",
       "reserva_com_observacoes                    0\n",
       "reserva_cancelada                          0\n",
       "latitude                                1093\n",
       "longitude                               1093\n",
       "dtype: int64"
      ]
     },
     "execution_count": 7,
     "metadata": {},
     "output_type": "execute_result"
    }
   ],
   "source": [
    "df1.isna().sum()#/len(df1)"
   ]
  },
  {
   "cell_type": "markdown",
   "id": "9d4a1ffc",
   "metadata": {},
   "source": [
    "### 1.4.1. Replace NA"
   ]
  },
  {
   "cell_type": "code",
   "execution_count": 8,
   "id": "e84b84df",
   "metadata": {
    "ExecuteTime": {
     "end_time": "2023-03-26T18:20:44.848114Z",
     "start_time": "2023-03-26T18:20:44.580591Z"
    }
   },
   "outputs": [],
   "source": [
    "#df1['numero_de_hospedes'] = df1['numero_de_hospedes'].fillna(2)\n",
    "df1 = df1.dropna()"
   ]
  },
  {
   "cell_type": "code",
   "execution_count": 9,
   "id": "7d30976c",
   "metadata": {
    "ExecuteTime": {
     "end_time": "2023-03-26T18:20:44.858230Z",
     "start_time": "2023-03-26T18:20:44.852205Z"
    }
   },
   "outputs": [],
   "source": [
    "# import pandas as pd\n",
    "# from sklearn.linear_model import LinearRegression\n",
    "# from sklearn.impute import SimpleImputer\n",
    "\n",
    "# # carregar dados de exemplo com valores ausentes\n",
    "# df = pd.read_csv('exemplo.csv')\n",
    "\n",
    "# # separar os dados em variáveis independentes e dependentes\n",
    "# X = df.drop('Target', axis=1)\n",
    "# y = df['Target']\n",
    "\n",
    "# # criar um objeto SimpleImputer para imputar valores ausentes\n",
    "# imputer = SimpleImputer(strategy='mean')\n",
    "\n",
    "# # imputar os valores ausentes usando regressão linear\n",
    "# for column in X.columns:\n",
    "#     X_column = X[[column]]\n",
    "#     X_column_with_nulls = X_column[X_column[column].isnull()]\n",
    "#     X_column_without_nulls = X_column[X_column[column].notnull()]\n",
    "#     y_without_nulls = y[X_column[column].notnull()]\n",
    "#     model = LinearRegression()\n",
    "#     model.fit(X_column_without_nulls, y_without_nulls)\n",
    "#     y_pred = model.predict(X_column_with_nulls)\n",
    "#     X_column_with_nulls[column] = y_pred\n",
    "#     X[[column]] = pd.concat([X_column_with_nulls, X_column_without_nulls], axis=0)\n",
    "\n",
    "# # juntar as variáveis independentes e dependentes de volta em um dataframe\n",
    "# df_imputed = pd.concat([X, y], axis=1)\n",
    "\n",
    "# # exibir o dataframe resultante\n",
    "# print(df_imputed)"
   ]
  },
  {
   "cell_type": "markdown",
   "id": "4682fcd5",
   "metadata": {},
   "source": [
    "## 1.5. Data Dtypes"
   ]
  },
  {
   "cell_type": "code",
   "execution_count": 10,
   "id": "abdcd99b",
   "metadata": {
    "ExecuteTime": {
     "end_time": "2023-03-26T18:20:44.955728Z",
     "start_time": "2023-03-26T18:20:44.869899Z"
    }
   },
   "outputs": [
    {
     "data": {
      "text/plain": [
       "id                                        int64\n",
       "classificacao_do_hotel                   object\n",
       "meses_da_reserva_ate_o_check_in           int64\n",
       "numero_de_pernoites_reservadas            int64\n",
       "numero_de_hospedes                      float64\n",
       "regime_de_alimentacao                    object\n",
       "nacionalidade                            object\n",
       "forma_de_reserva                         object\n",
       "ja_se_hospedou_anterioremente            object\n",
       "tipo_do_quarto_reservado                 object\n",
       "reserva_feita_por_agencia_de_turismo     object\n",
       "reserva_feita_por_empresa                object\n",
       "reserva_com_estacionamento               object\n",
       "reserva_com_observacoes                  object\n",
       "reserva_cancelada                         int64\n",
       "latitude                                float64\n",
       "longitude                               float64\n",
       "dtype: object"
      ]
     },
     "execution_count": 10,
     "metadata": {},
     "output_type": "execute_result"
    }
   ],
   "source": [
    "df1.dtypes"
   ]
  },
  {
   "cell_type": "markdown",
   "id": "586a208c",
   "metadata": {},
   "source": [
    "### 1.5.1. Change Dtypes"
   ]
  },
  {
   "cell_type": "code",
   "execution_count": 11,
   "id": "7694973f",
   "metadata": {
    "ExecuteTime": {
     "end_time": "2023-03-26T18:20:45.060150Z",
     "start_time": "2023-03-26T18:20:44.959880Z"
    }
   },
   "outputs": [],
   "source": [
    "df1['numero_de_hospedes'] = df1['numero_de_hospedes'].astype('int')"
   ]
  },
  {
   "cell_type": "markdown",
   "id": "9729dd5a",
   "metadata": {},
   "source": [
    "## 1.6. Data Balancing"
   ]
  },
  {
   "cell_type": "code",
   "execution_count": 12,
   "id": "8f61ac3b",
   "metadata": {
    "ExecuteTime": {
     "end_time": "2023-03-26T18:20:45.162709Z",
     "start_time": "2023-03-26T18:20:45.067327Z"
    }
   },
   "outputs": [
    {
     "data": {
      "text/plain": [
       "0    0.62674\n",
       "1    0.37326\n",
       "Name: reserva_cancelada, dtype: float64"
      ]
     },
     "execution_count": 12,
     "metadata": {},
     "output_type": "execute_result"
    }
   ],
   "source": [
    "df1['reserva_cancelada'].value_counts(normalize=True)"
   ]
  },
  {
   "cell_type": "markdown",
   "id": "a4e60ff0",
   "metadata": {},
   "source": [
    "## 1.7. Pandas Profiling"
   ]
  },
  {
   "cell_type": "code",
   "execution_count": 13,
   "id": "1d1e4c82",
   "metadata": {
    "ExecuteTime": {
     "end_time": "2023-03-26T18:20:45.258363Z",
     "start_time": "2023-03-26T18:20:45.166491Z"
    }
   },
   "outputs": [],
   "source": [
    "# prof = ProfileReport(df1)\n",
    "# prof.to_file(output_file='output.html')\n",
    "# # regime_de_alimentacao -> desbalanceado\n",
    "# # nacionalidade -> desbalanceado\n",
    "# # forma_de_reserva -> desbalanceado\n",
    "# # ja_se_hospedou_anterioremente -> desbalanceado\n",
    "# # tipo_do_quarto_reservado -> desbalanceado\n",
    "# # reserva_feita_por_agencia_de_turismo -> desbalanceado\n",
    "# # reserva_com_estacionamento -> desbalanceado"
   ]
  },
  {
   "cell_type": "markdown",
   "id": "2fa76fab",
   "metadata": {},
   "source": [
    "### 1.7.1. Meses da reserva até o check-in"
   ]
  },
  {
   "cell_type": "code",
   "execution_count": 14,
   "id": "30f9b6f1",
   "metadata": {
    "ExecuteTime": {
     "end_time": "2023-03-26T18:20:45.391349Z",
     "start_time": "2023-03-26T18:20:45.261839Z"
    }
   },
   "outputs": [
    {
     "data": {
      "text/html": [
       "<div>\n",
       "<style scoped>\n",
       "    .dataframe tbody tr th:only-of-type {\n",
       "        vertical-align: middle;\n",
       "    }\n",
       "\n",
       "    .dataframe tbody tr th {\n",
       "        vertical-align: top;\n",
       "    }\n",
       "\n",
       "    .dataframe thead th {\n",
       "        text-align: right;\n",
       "    }\n",
       "</style>\n",
       "<table border=\"1\" class=\"dataframe\">\n",
       "  <thead>\n",
       "    <tr style=\"text-align: right;\">\n",
       "      <th></th>\n",
       "      <th>id</th>\n",
       "      <th>classificacao_do_hotel</th>\n",
       "      <th>meses_da_reserva_ate_o_check_in</th>\n",
       "      <th>numero_de_pernoites_reservadas</th>\n",
       "      <th>numero_de_hospedes</th>\n",
       "      <th>regime_de_alimentacao</th>\n",
       "      <th>nacionalidade</th>\n",
       "      <th>forma_de_reserva</th>\n",
       "      <th>ja_se_hospedou_anterioremente</th>\n",
       "      <th>tipo_do_quarto_reservado</th>\n",
       "      <th>reserva_feita_por_agencia_de_turismo</th>\n",
       "      <th>reserva_feita_por_empresa</th>\n",
       "      <th>reserva_com_estacionamento</th>\n",
       "      <th>reserva_com_observacoes</th>\n",
       "      <th>reserva_cancelada</th>\n",
       "      <th>latitude</th>\n",
       "      <th>longitude</th>\n",
       "    </tr>\n",
       "  </thead>\n",
       "  <tbody>\n",
       "    <tr>\n",
       "      <th>54877</th>\n",
       "      <td>10526</td>\n",
       "      <td>5 estrelas</td>\n",
       "      <td>271</td>\n",
       "      <td>3</td>\n",
       "      <td>2</td>\n",
       "      <td>Sem refeicao</td>\n",
       "      <td>Spain</td>\n",
       "      <td>Agência</td>\n",
       "      <td>Não</td>\n",
       "      <td>Amethyst</td>\n",
       "      <td>Sim</td>\n",
       "      <td>Não</td>\n",
       "      <td>Não</td>\n",
       "      <td>Nenhuma</td>\n",
       "      <td>1</td>\n",
       "      <td>40463667.0</td>\n",
       "      <td>-374922.0</td>\n",
       "    </tr>\n",
       "    <tr>\n",
       "      <th>40073</th>\n",
       "      <td>87866</td>\n",
       "      <td>4 estrelas</td>\n",
       "      <td>84</td>\n",
       "      <td>4</td>\n",
       "      <td>4</td>\n",
       "      <td>Café da manha</td>\n",
       "      <td>France</td>\n",
       "      <td>Agência</td>\n",
       "      <td>Não</td>\n",
       "      <td>Tanzanite</td>\n",
       "      <td>Sim</td>\n",
       "      <td>Não</td>\n",
       "      <td>Não</td>\n",
       "      <td>1 a 3</td>\n",
       "      <td>0</td>\n",
       "      <td>46227638.0</td>\n",
       "      <td>2213749.0</td>\n",
       "    </tr>\n",
       "    <tr>\n",
       "      <th>16969</th>\n",
       "      <td>96638</td>\n",
       "      <td>4 estrelas</td>\n",
       "      <td>167</td>\n",
       "      <td>7</td>\n",
       "      <td>2</td>\n",
       "      <td>Café da manha</td>\n",
       "      <td>Norway</td>\n",
       "      <td>Agência</td>\n",
       "      <td>Não</td>\n",
       "      <td>Amethyst</td>\n",
       "      <td>Sim</td>\n",
       "      <td>Não</td>\n",
       "      <td>Não</td>\n",
       "      <td>1 a 3</td>\n",
       "      <td>0</td>\n",
       "      <td>60472024.0</td>\n",
       "      <td>8468946.0</td>\n",
       "    </tr>\n",
       "    <tr>\n",
       "      <th>58812</th>\n",
       "      <td>12913</td>\n",
       "      <td>5 estrelas</td>\n",
       "      <td>270</td>\n",
       "      <td>12</td>\n",
       "      <td>2</td>\n",
       "      <td>Café da manha e jantar</td>\n",
       "      <td>Germany</td>\n",
       "      <td>Agência</td>\n",
       "      <td>Não</td>\n",
       "      <td>Pink Sapphire</td>\n",
       "      <td>Sim</td>\n",
       "      <td>Não</td>\n",
       "      <td>Não</td>\n",
       "      <td>1 a 3</td>\n",
       "      <td>1</td>\n",
       "      <td>51165691.0</td>\n",
       "      <td>10451526.0</td>\n",
       "    </tr>\n",
       "    <tr>\n",
       "      <th>26444</th>\n",
       "      <td>70919</td>\n",
       "      <td>4 estrelas</td>\n",
       "      <td>195</td>\n",
       "      <td>3</td>\n",
       "      <td>2</td>\n",
       "      <td>Café da manha</td>\n",
       "      <td>Spain</td>\n",
       "      <td>Agência</td>\n",
       "      <td>Não</td>\n",
       "      <td>Amethyst</td>\n",
       "      <td>Sim</td>\n",
       "      <td>Não</td>\n",
       "      <td>Não</td>\n",
       "      <td>Nenhuma</td>\n",
       "      <td>1</td>\n",
       "      <td>40463667.0</td>\n",
       "      <td>-374922.0</td>\n",
       "    </tr>\n",
       "    <tr>\n",
       "      <th>56104</th>\n",
       "      <td>38387</td>\n",
       "      <td>5 estrelas</td>\n",
       "      <td>175</td>\n",
       "      <td>2</td>\n",
       "      <td>2</td>\n",
       "      <td>Café da manha</td>\n",
       "      <td>United Kingdom</td>\n",
       "      <td>Balcão</td>\n",
       "      <td>Não</td>\n",
       "      <td>Amethyst</td>\n",
       "      <td>Sim</td>\n",
       "      <td>Não</td>\n",
       "      <td>Não</td>\n",
       "      <td>1 a 3</td>\n",
       "      <td>0</td>\n",
       "      <td>55378051.0</td>\n",
       "      <td>-3435973.0</td>\n",
       "    </tr>\n",
       "    <tr>\n",
       "      <th>64463</th>\n",
       "      <td>2099</td>\n",
       "      <td>5 estrelas</td>\n",
       "      <td>41</td>\n",
       "      <td>7</td>\n",
       "      <td>2</td>\n",
       "      <td>Café da manha</td>\n",
       "      <td>Romania</td>\n",
       "      <td>Agência</td>\n",
       "      <td>Não</td>\n",
       "      <td>Pink Sapphire</td>\n",
       "      <td>Sim</td>\n",
       "      <td>Não</td>\n",
       "      <td>Sim</td>\n",
       "      <td>1 a 3</td>\n",
       "      <td>0</td>\n",
       "      <td>45943161.0</td>\n",
       "      <td>2496676.0</td>\n",
       "    </tr>\n",
       "    <tr>\n",
       "      <th>48156</th>\n",
       "      <td>51116</td>\n",
       "      <td>4 estrelas</td>\n",
       "      <td>159</td>\n",
       "      <td>7</td>\n",
       "      <td>2</td>\n",
       "      <td>Café da manha</td>\n",
       "      <td>United Kingdom</td>\n",
       "      <td>Agência</td>\n",
       "      <td>Não</td>\n",
       "      <td>Amethyst</td>\n",
       "      <td>Sim</td>\n",
       "      <td>Não</td>\n",
       "      <td>Não</td>\n",
       "      <td>1 a 3</td>\n",
       "      <td>0</td>\n",
       "      <td>55378051.0</td>\n",
       "      <td>-3435973.0</td>\n",
       "    </tr>\n",
       "    <tr>\n",
       "      <th>58897</th>\n",
       "      <td>13730</td>\n",
       "      <td>5 estrelas</td>\n",
       "      <td>196</td>\n",
       "      <td>3</td>\n",
       "      <td>2</td>\n",
       "      <td>Café da manha</td>\n",
       "      <td>Spain</td>\n",
       "      <td>Agência</td>\n",
       "      <td>Não</td>\n",
       "      <td>Amethyst</td>\n",
       "      <td>Não</td>\n",
       "      <td>Não</td>\n",
       "      <td>Não</td>\n",
       "      <td>Nenhuma</td>\n",
       "      <td>1</td>\n",
       "      <td>40463667.0</td>\n",
       "      <td>-374922.0</td>\n",
       "    </tr>\n",
       "    <tr>\n",
       "      <th>13381</th>\n",
       "      <td>25330</td>\n",
       "      <td>5 estrelas</td>\n",
       "      <td>178</td>\n",
       "      <td>0</td>\n",
       "      <td>2</td>\n",
       "      <td>Café da manha</td>\n",
       "      <td>France</td>\n",
       "      <td>Agência</td>\n",
       "      <td>Não</td>\n",
       "      <td>Amethyst</td>\n",
       "      <td>Sim</td>\n",
       "      <td>Não</td>\n",
       "      <td>Não</td>\n",
       "      <td>Nenhuma</td>\n",
       "      <td>0</td>\n",
       "      <td>46227638.0</td>\n",
       "      <td>2213749.0</td>\n",
       "    </tr>\n",
       "  </tbody>\n",
       "</table>\n",
       "</div>"
      ],
      "text/plain": [
       "          id classificacao_do_hotel  meses_da_reserva_ate_o_check_in  \\\n",
       "54877  10526             5 estrelas                              271   \n",
       "40073  87866             4 estrelas                               84   \n",
       "16969  96638             4 estrelas                              167   \n",
       "58812  12913             5 estrelas                              270   \n",
       "26444  70919             4 estrelas                              195   \n",
       "56104  38387             5 estrelas                              175   \n",
       "64463   2099             5 estrelas                               41   \n",
       "48156  51116             4 estrelas                              159   \n",
       "58897  13730             5 estrelas                              196   \n",
       "13381  25330             5 estrelas                              178   \n",
       "\n",
       "       numero_de_pernoites_reservadas  numero_de_hospedes  \\\n",
       "54877                               3                   2   \n",
       "40073                               4                   4   \n",
       "16969                               7                   2   \n",
       "58812                              12                   2   \n",
       "26444                               3                   2   \n",
       "56104                               2                   2   \n",
       "64463                               7                   2   \n",
       "48156                               7                   2   \n",
       "58897                               3                   2   \n",
       "13381                               0                   2   \n",
       "\n",
       "        regime_de_alimentacao   nacionalidade forma_de_reserva  \\\n",
       "54877            Sem refeicao           Spain          Agência   \n",
       "40073           Café da manha          France          Agência   \n",
       "16969           Café da manha          Norway          Agência   \n",
       "58812  Café da manha e jantar         Germany          Agência   \n",
       "26444           Café da manha           Spain          Agência   \n",
       "56104           Café da manha  United Kingdom           Balcão   \n",
       "64463           Café da manha         Romania          Agência   \n",
       "48156           Café da manha  United Kingdom          Agência   \n",
       "58897           Café da manha           Spain          Agência   \n",
       "13381           Café da manha          France          Agência   \n",
       "\n",
       "      ja_se_hospedou_anterioremente tipo_do_quarto_reservado  \\\n",
       "54877                           Não                 Amethyst   \n",
       "40073                           Não                Tanzanite   \n",
       "16969                           Não                 Amethyst   \n",
       "58812                           Não            Pink Sapphire   \n",
       "26444                           Não                 Amethyst   \n",
       "56104                           Não                 Amethyst   \n",
       "64463                           Não            Pink Sapphire   \n",
       "48156                           Não                 Amethyst   \n",
       "58897                           Não                 Amethyst   \n",
       "13381                           Não                 Amethyst   \n",
       "\n",
       "      reserva_feita_por_agencia_de_turismo reserva_feita_por_empresa  \\\n",
       "54877                                  Sim                       Não   \n",
       "40073                                  Sim                       Não   \n",
       "16969                                  Sim                       Não   \n",
       "58812                                  Sim                       Não   \n",
       "26444                                  Sim                       Não   \n",
       "56104                                  Sim                       Não   \n",
       "64463                                  Sim                       Não   \n",
       "48156                                  Sim                       Não   \n",
       "58897                                  Não                       Não   \n",
       "13381                                  Sim                       Não   \n",
       "\n",
       "      reserva_com_estacionamento reserva_com_observacoes  reserva_cancelada  \\\n",
       "54877                        Não                 Nenhuma                  1   \n",
       "40073                        Não                   1 a 3                  0   \n",
       "16969                        Não                   1 a 3                  0   \n",
       "58812                        Não                   1 a 3                  1   \n",
       "26444                        Não                 Nenhuma                  1   \n",
       "56104                        Não                   1 a 3                  0   \n",
       "64463                        Sim                   1 a 3                  0   \n",
       "48156                        Não                   1 a 3                  0   \n",
       "58897                        Não                 Nenhuma                  1   \n",
       "13381                        Não                 Nenhuma                  0   \n",
       "\n",
       "         latitude   longitude  \n",
       "54877  40463667.0   -374922.0  \n",
       "40073  46227638.0   2213749.0  \n",
       "16969  60472024.0   8468946.0  \n",
       "58812  51165691.0  10451526.0  \n",
       "26444  40463667.0   -374922.0  \n",
       "56104  55378051.0  -3435973.0  \n",
       "64463  45943161.0   2496676.0  \n",
       "48156  55378051.0  -3435973.0  \n",
       "58897  40463667.0   -374922.0  \n",
       "13381  46227638.0   2213749.0  "
      ]
     },
     "execution_count": 14,
     "metadata": {},
     "output_type": "execute_result"
    }
   ],
   "source": [
    "df1[df1['meses_da_reserva_ate_o_check_in']>24].sample(10)"
   ]
  },
  {
   "cell_type": "code",
   "execution_count": 15,
   "id": "2b3a2dcd",
   "metadata": {
    "ExecuteTime": {
     "end_time": "2023-03-26T18:20:45.473211Z",
     "start_time": "2023-03-26T18:20:45.395583Z"
    }
   },
   "outputs": [
    {
     "data": {
      "text/html": [
       "<div>\n",
       "<style scoped>\n",
       "    .dataframe tbody tr th:only-of-type {\n",
       "        vertical-align: middle;\n",
       "    }\n",
       "\n",
       "    .dataframe tbody tr th {\n",
       "        vertical-align: top;\n",
       "    }\n",
       "\n",
       "    .dataframe thead th {\n",
       "        text-align: right;\n",
       "    }\n",
       "</style>\n",
       "<table border=\"1\" class=\"dataframe\">\n",
       "  <thead>\n",
       "    <tr style=\"text-align: right;\">\n",
       "      <th></th>\n",
       "      <th>reserva_cancelada</th>\n",
       "      <th>id</th>\n",
       "    </tr>\n",
       "  </thead>\n",
       "  <tbody>\n",
       "    <tr>\n",
       "      <th>0</th>\n",
       "      <td>0</td>\n",
       "      <td>757</td>\n",
       "    </tr>\n",
       "    <tr>\n",
       "      <th>1</th>\n",
       "      <td>1</td>\n",
       "      <td>437</td>\n",
       "    </tr>\n",
       "  </tbody>\n",
       "</table>\n",
       "</div>"
      ],
      "text/plain": [
       "   reserva_cancelada   id\n",
       "0                  0  757\n",
       "1                  1  437"
      ]
     },
     "execution_count": 15,
     "metadata": {},
     "output_type": "execute_result"
    }
   ],
   "source": [
    "df1[df1['meses_da_reserva_ate_o_check_in']>60][['id','reserva_cancelada']].groupby('reserva_cancelada').count().reset_index()"
   ]
  },
  {
   "cell_type": "markdown",
   "id": "752d883d",
   "metadata": {},
   "source": [
    "### 1.7.2. numero_de_pernoites_reservadas"
   ]
  },
  {
   "cell_type": "code",
   "execution_count": 16,
   "id": "c4a30685",
   "metadata": {
    "ExecuteTime": {
     "end_time": "2023-03-26T18:20:45.571371Z",
     "start_time": "2023-03-26T18:20:45.477945Z"
    }
   },
   "outputs": [
    {
     "data": {
      "text/html": [
       "<div>\n",
       "<style scoped>\n",
       "    .dataframe tbody tr th:only-of-type {\n",
       "        vertical-align: middle;\n",
       "    }\n",
       "\n",
       "    .dataframe tbody tr th {\n",
       "        vertical-align: top;\n",
       "    }\n",
       "\n",
       "    .dataframe thead th {\n",
       "        text-align: right;\n",
       "    }\n",
       "</style>\n",
       "<table border=\"1\" class=\"dataframe\">\n",
       "  <thead>\n",
       "    <tr style=\"text-align: right;\">\n",
       "      <th></th>\n",
       "      <th>id</th>\n",
       "      <th>classificacao_do_hotel</th>\n",
       "      <th>meses_da_reserva_ate_o_check_in</th>\n",
       "      <th>numero_de_pernoites_reservadas</th>\n",
       "      <th>numero_de_hospedes</th>\n",
       "      <th>regime_de_alimentacao</th>\n",
       "      <th>nacionalidade</th>\n",
       "      <th>forma_de_reserva</th>\n",
       "      <th>ja_se_hospedou_anterioremente</th>\n",
       "      <th>tipo_do_quarto_reservado</th>\n",
       "      <th>reserva_feita_por_agencia_de_turismo</th>\n",
       "      <th>reserva_feita_por_empresa</th>\n",
       "      <th>reserva_com_estacionamento</th>\n",
       "      <th>reserva_com_observacoes</th>\n",
       "      <th>reserva_cancelada</th>\n",
       "      <th>latitude</th>\n",
       "      <th>longitude</th>\n",
       "    </tr>\n",
       "  </thead>\n",
       "  <tbody>\n",
       "    <tr>\n",
       "      <th>19772</th>\n",
       "      <td>72370</td>\n",
       "      <td>4 estrelas</td>\n",
       "      <td>12</td>\n",
       "      <td>475</td>\n",
       "      <td>623</td>\n",
       "      <td>Café da manha</td>\n",
       "      <td>Norway</td>\n",
       "      <td>Agência</td>\n",
       "      <td>Não</td>\n",
       "      <td>Green Emerald</td>\n",
       "      <td>Sim</td>\n",
       "      <td>Não</td>\n",
       "      <td>Não</td>\n",
       "      <td>Nenhuma</td>\n",
       "      <td>1</td>\n",
       "      <td>60472024.0</td>\n",
       "      <td>8468946.0</td>\n",
       "    </tr>\n",
       "    <tr>\n",
       "      <th>10807</th>\n",
       "      <td>84231</td>\n",
       "      <td>4 estrelas</td>\n",
       "      <td>2</td>\n",
       "      <td>1172</td>\n",
       "      <td>1</td>\n",
       "      <td>Café da manha</td>\n",
       "      <td>France</td>\n",
       "      <td>Balcão</td>\n",
       "      <td>Não</td>\n",
       "      <td>Amethyst</td>\n",
       "      <td>Não</td>\n",
       "      <td>Não</td>\n",
       "      <td>Não</td>\n",
       "      <td>1 a 3</td>\n",
       "      <td>0</td>\n",
       "      <td>46227638.0</td>\n",
       "      <td>2213749.0</td>\n",
       "    </tr>\n",
       "    <tr>\n",
       "      <th>17839</th>\n",
       "      <td>22621</td>\n",
       "      <td>5 estrelas</td>\n",
       "      <td>1</td>\n",
       "      <td>1024</td>\n",
       "      <td>3</td>\n",
       "      <td>Café da manha</td>\n",
       "      <td>Spain</td>\n",
       "      <td>Agência</td>\n",
       "      <td>Não</td>\n",
       "      <td>Green Emerald</td>\n",
       "      <td>Sim</td>\n",
       "      <td>Não</td>\n",
       "      <td>Não</td>\n",
       "      <td>1 a 3</td>\n",
       "      <td>0</td>\n",
       "      <td>40463667.0</td>\n",
       "      <td>-374922.0</td>\n",
       "    </tr>\n",
       "    <tr>\n",
       "      <th>37981</th>\n",
       "      <td>90924</td>\n",
       "      <td>4 estrelas</td>\n",
       "      <td>3</td>\n",
       "      <td>988</td>\n",
       "      <td>3</td>\n",
       "      <td>Café da manha e jantar</td>\n",
       "      <td>Italy</td>\n",
       "      <td>Agência</td>\n",
       "      <td>Não</td>\n",
       "      <td>Amethyst</td>\n",
       "      <td>Sim</td>\n",
       "      <td>Não</td>\n",
       "      <td>Não</td>\n",
       "      <td>1 a 3</td>\n",
       "      <td>0</td>\n",
       "      <td>4187194.0</td>\n",
       "      <td>1256738.0</td>\n",
       "    </tr>\n",
       "    <tr>\n",
       "      <th>42419</th>\n",
       "      <td>4086</td>\n",
       "      <td>5 estrelas</td>\n",
       "      <td>5</td>\n",
       "      <td>1130</td>\n",
       "      <td>2</td>\n",
       "      <td>Café da manha e jantar</td>\n",
       "      <td>Spain</td>\n",
       "      <td>Agência</td>\n",
       "      <td>Não</td>\n",
       "      <td>Amethyst</td>\n",
       "      <td>Não</td>\n",
       "      <td>Não</td>\n",
       "      <td>Não</td>\n",
       "      <td>Nenhuma</td>\n",
       "      <td>1</td>\n",
       "      <td>40463667.0</td>\n",
       "      <td>-374922.0</td>\n",
       "    </tr>\n",
       "    <tr>\n",
       "      <th>24617</th>\n",
       "      <td>40530</td>\n",
       "      <td>4 estrelas</td>\n",
       "      <td>1</td>\n",
       "      <td>1117</td>\n",
       "      <td>3</td>\n",
       "      <td>Café da manha</td>\n",
       "      <td>Spain</td>\n",
       "      <td>Agência</td>\n",
       "      <td>Não</td>\n",
       "      <td>Amethyst</td>\n",
       "      <td>Sim</td>\n",
       "      <td>Não</td>\n",
       "      <td>Não</td>\n",
       "      <td>Nenhuma</td>\n",
       "      <td>0</td>\n",
       "      <td>40463667.0</td>\n",
       "      <td>-374922.0</td>\n",
       "    </tr>\n",
       "    <tr>\n",
       "      <th>51033</th>\n",
       "      <td>91463</td>\n",
       "      <td>4 estrelas</td>\n",
       "      <td>5</td>\n",
       "      <td>749</td>\n",
       "      <td>2</td>\n",
       "      <td>Café da manha</td>\n",
       "      <td>Switzerland</td>\n",
       "      <td>Balcão</td>\n",
       "      <td>Não</td>\n",
       "      <td>Amethyst</td>\n",
       "      <td>Não</td>\n",
       "      <td>Não</td>\n",
       "      <td>Não</td>\n",
       "      <td>1 a 3</td>\n",
       "      <td>0</td>\n",
       "      <td>46818188.0</td>\n",
       "      <td>8227512.0</td>\n",
       "    </tr>\n",
       "    <tr>\n",
       "      <th>44340</th>\n",
       "      <td>89134</td>\n",
       "      <td>4 estrelas</td>\n",
       "      <td>4</td>\n",
       "      <td>634</td>\n",
       "      <td>3</td>\n",
       "      <td>Café da manha</td>\n",
       "      <td>Austria</td>\n",
       "      <td>Agência</td>\n",
       "      <td>Não</td>\n",
       "      <td>Green Emerald</td>\n",
       "      <td>Sim</td>\n",
       "      <td>Não</td>\n",
       "      <td>Não</td>\n",
       "      <td>1 a 3</td>\n",
       "      <td>0</td>\n",
       "      <td>47516231.0</td>\n",
       "      <td>14550072.0</td>\n",
       "    </tr>\n",
       "    <tr>\n",
       "      <th>16918</th>\n",
       "      <td>59617</td>\n",
       "      <td>4 estrelas</td>\n",
       "      <td>8</td>\n",
       "      <td>775</td>\n",
       "      <td>2</td>\n",
       "      <td>Café da manha</td>\n",
       "      <td>Spain</td>\n",
       "      <td>Agência</td>\n",
       "      <td>Não</td>\n",
       "      <td>Amethyst</td>\n",
       "      <td>Sim</td>\n",
       "      <td>Não</td>\n",
       "      <td>Não</td>\n",
       "      <td>Nenhuma</td>\n",
       "      <td>1</td>\n",
       "      <td>40463667.0</td>\n",
       "      <td>-374922.0</td>\n",
       "    </tr>\n",
       "    <tr>\n",
       "      <th>67364</th>\n",
       "      <td>10678</td>\n",
       "      <td>5 estrelas</td>\n",
       "      <td>12</td>\n",
       "      <td>403</td>\n",
       "      <td>2</td>\n",
       "      <td>Café da manha</td>\n",
       "      <td>Spain</td>\n",
       "      <td>Agência</td>\n",
       "      <td>Não</td>\n",
       "      <td>Amethyst</td>\n",
       "      <td>Sim</td>\n",
       "      <td>Não</td>\n",
       "      <td>Não</td>\n",
       "      <td>Nenhuma</td>\n",
       "      <td>1</td>\n",
       "      <td>40463667.0</td>\n",
       "      <td>-374922.0</td>\n",
       "    </tr>\n",
       "  </tbody>\n",
       "</table>\n",
       "</div>"
      ],
      "text/plain": [
       "          id classificacao_do_hotel  meses_da_reserva_ate_o_check_in  \\\n",
       "19772  72370             4 estrelas                               12   \n",
       "10807  84231             4 estrelas                                2   \n",
       "17839  22621             5 estrelas                                1   \n",
       "37981  90924             4 estrelas                                3   \n",
       "42419   4086             5 estrelas                                5   \n",
       "24617  40530             4 estrelas                                1   \n",
       "51033  91463             4 estrelas                                5   \n",
       "44340  89134             4 estrelas                                4   \n",
       "16918  59617             4 estrelas                                8   \n",
       "67364  10678             5 estrelas                               12   \n",
       "\n",
       "       numero_de_pernoites_reservadas  numero_de_hospedes  \\\n",
       "19772                             475                 623   \n",
       "10807                            1172                   1   \n",
       "17839                            1024                   3   \n",
       "37981                             988                   3   \n",
       "42419                            1130                   2   \n",
       "24617                            1117                   3   \n",
       "51033                             749                   2   \n",
       "44340                             634                   3   \n",
       "16918                             775                   2   \n",
       "67364                             403                   2   \n",
       "\n",
       "        regime_de_alimentacao nacionalidade forma_de_reserva  \\\n",
       "19772           Café da manha        Norway          Agência   \n",
       "10807           Café da manha        France           Balcão   \n",
       "17839           Café da manha         Spain          Agência   \n",
       "37981  Café da manha e jantar         Italy          Agência   \n",
       "42419  Café da manha e jantar         Spain          Agência   \n",
       "24617           Café da manha         Spain          Agência   \n",
       "51033           Café da manha   Switzerland           Balcão   \n",
       "44340           Café da manha       Austria          Agência   \n",
       "16918           Café da manha         Spain          Agência   \n",
       "67364           Café da manha         Spain          Agência   \n",
       "\n",
       "      ja_se_hospedou_anterioremente tipo_do_quarto_reservado  \\\n",
       "19772                           Não            Green Emerald   \n",
       "10807                           Não                 Amethyst   \n",
       "17839                           Não            Green Emerald   \n",
       "37981                           Não                 Amethyst   \n",
       "42419                           Não                 Amethyst   \n",
       "24617                           Não                 Amethyst   \n",
       "51033                           Não                 Amethyst   \n",
       "44340                           Não            Green Emerald   \n",
       "16918                           Não                 Amethyst   \n",
       "67364                           Não                 Amethyst   \n",
       "\n",
       "      reserva_feita_por_agencia_de_turismo reserva_feita_por_empresa  \\\n",
       "19772                                  Sim                       Não   \n",
       "10807                                  Não                       Não   \n",
       "17839                                  Sim                       Não   \n",
       "37981                                  Sim                       Não   \n",
       "42419                                  Não                       Não   \n",
       "24617                                  Sim                       Não   \n",
       "51033                                  Não                       Não   \n",
       "44340                                  Sim                       Não   \n",
       "16918                                  Sim                       Não   \n",
       "67364                                  Sim                       Não   \n",
       "\n",
       "      reserva_com_estacionamento reserva_com_observacoes  reserva_cancelada  \\\n",
       "19772                        Não                 Nenhuma                  1   \n",
       "10807                        Não                   1 a 3                  0   \n",
       "17839                        Não                   1 a 3                  0   \n",
       "37981                        Não                   1 a 3                  0   \n",
       "42419                        Não                 Nenhuma                  1   \n",
       "24617                        Não                 Nenhuma                  0   \n",
       "51033                        Não                   1 a 3                  0   \n",
       "44340                        Não                   1 a 3                  0   \n",
       "16918                        Não                 Nenhuma                  1   \n",
       "67364                        Não                 Nenhuma                  1   \n",
       "\n",
       "         latitude   longitude  \n",
       "19772  60472024.0   8468946.0  \n",
       "10807  46227638.0   2213749.0  \n",
       "17839  40463667.0   -374922.0  \n",
       "37981   4187194.0   1256738.0  \n",
       "42419  40463667.0   -374922.0  \n",
       "24617  40463667.0   -374922.0  \n",
       "51033  46818188.0   8227512.0  \n",
       "44340  47516231.0  14550072.0  \n",
       "16918  40463667.0   -374922.0  \n",
       "67364  40463667.0   -374922.0  "
      ]
     },
     "execution_count": 16,
     "metadata": {},
     "output_type": "execute_result"
    }
   ],
   "source": [
    "df1[df1['numero_de_pernoites_reservadas']>365].sample(10)"
   ]
  },
  {
   "cell_type": "code",
   "execution_count": 17,
   "id": "1f2dc0c2",
   "metadata": {
    "ExecuteTime": {
     "end_time": "2023-03-26T18:20:45.692446Z",
     "start_time": "2023-03-26T18:20:45.574764Z"
    }
   },
   "outputs": [
    {
     "data": {
      "text/html": [
       "<div>\n",
       "<style scoped>\n",
       "    .dataframe tbody tr th:only-of-type {\n",
       "        vertical-align: middle;\n",
       "    }\n",
       "\n",
       "    .dataframe tbody tr th {\n",
       "        vertical-align: top;\n",
       "    }\n",
       "\n",
       "    .dataframe thead th {\n",
       "        text-align: right;\n",
       "    }\n",
       "</style>\n",
       "<table border=\"1\" class=\"dataframe\">\n",
       "  <thead>\n",
       "    <tr style=\"text-align: right;\">\n",
       "      <th></th>\n",
       "      <th>reserva_cancelada</th>\n",
       "      <th>id</th>\n",
       "    </tr>\n",
       "  </thead>\n",
       "  <tbody>\n",
       "    <tr>\n",
       "      <th>0</th>\n",
       "      <td>0</td>\n",
       "      <td>660</td>\n",
       "    </tr>\n",
       "    <tr>\n",
       "      <th>1</th>\n",
       "      <td>1</td>\n",
       "      <td>375</td>\n",
       "    </tr>\n",
       "  </tbody>\n",
       "</table>\n",
       "</div>"
      ],
      "text/plain": [
       "   reserva_cancelada   id\n",
       "0                  0  660\n",
       "1                  1  375"
      ]
     },
     "execution_count": 17,
     "metadata": {},
     "output_type": "execute_result"
    }
   ],
   "source": [
    "df1[df1['numero_de_pernoites_reservadas']>365][['id','reserva_cancelada']].groupby('reserva_cancelada').count().reset_index()"
   ]
  },
  {
   "cell_type": "code",
   "execution_count": 18,
   "id": "2276d3df",
   "metadata": {
    "ExecuteTime": {
     "end_time": "2023-03-26T18:20:45.791763Z",
     "start_time": "2023-03-26T18:20:45.695196Z"
    }
   },
   "outputs": [
    {
     "data": {
      "text/html": [
       "<div>\n",
       "<style scoped>\n",
       "    .dataframe tbody tr th:only-of-type {\n",
       "        vertical-align: middle;\n",
       "    }\n",
       "\n",
       "    .dataframe tbody tr th {\n",
       "        vertical-align: top;\n",
       "    }\n",
       "\n",
       "    .dataframe thead th {\n",
       "        text-align: right;\n",
       "    }\n",
       "</style>\n",
       "<table border=\"1\" class=\"dataframe\">\n",
       "  <thead>\n",
       "    <tr style=\"text-align: right;\">\n",
       "      <th></th>\n",
       "      <th>reserva_cancelada</th>\n",
       "      <th>id</th>\n",
       "    </tr>\n",
       "  </thead>\n",
       "  <tbody>\n",
       "    <tr>\n",
       "      <th>0</th>\n",
       "      <td>0</td>\n",
       "      <td>391</td>\n",
       "    </tr>\n",
       "    <tr>\n",
       "      <th>1</th>\n",
       "      <td>1</td>\n",
       "      <td>12</td>\n",
       "    </tr>\n",
       "  </tbody>\n",
       "</table>\n",
       "</div>"
      ],
      "text/plain": [
       "   reserva_cancelada   id\n",
       "0                  0  391\n",
       "1                  1   12"
      ]
     },
     "execution_count": 18,
     "metadata": {},
     "output_type": "execute_result"
    }
   ],
   "source": [
    "df1[df1['numero_de_pernoites_reservadas']==0][['id','reserva_cancelada']].groupby('reserva_cancelada').count().reset_index()"
   ]
  },
  {
   "cell_type": "markdown",
   "id": "8fe08941",
   "metadata": {},
   "source": [
    "### 1.7.3. numero_de_hospedes"
   ]
  },
  {
   "cell_type": "code",
   "execution_count": 19,
   "id": "257905ad",
   "metadata": {
    "ExecuteTime": {
     "end_time": "2023-03-26T18:20:45.920236Z",
     "start_time": "2023-03-26T18:20:45.795587Z"
    }
   },
   "outputs": [
    {
     "data": {
      "text/html": [
       "<div>\n",
       "<style scoped>\n",
       "    .dataframe tbody tr th:only-of-type {\n",
       "        vertical-align: middle;\n",
       "    }\n",
       "\n",
       "    .dataframe tbody tr th {\n",
       "        vertical-align: top;\n",
       "    }\n",
       "\n",
       "    .dataframe thead th {\n",
       "        text-align: right;\n",
       "    }\n",
       "</style>\n",
       "<table border=\"1\" class=\"dataframe\">\n",
       "  <thead>\n",
       "    <tr style=\"text-align: right;\">\n",
       "      <th></th>\n",
       "      <th>id</th>\n",
       "      <th>classificacao_do_hotel</th>\n",
       "      <th>meses_da_reserva_ate_o_check_in</th>\n",
       "      <th>numero_de_pernoites_reservadas</th>\n",
       "      <th>numero_de_hospedes</th>\n",
       "      <th>regime_de_alimentacao</th>\n",
       "      <th>nacionalidade</th>\n",
       "      <th>forma_de_reserva</th>\n",
       "      <th>ja_se_hospedou_anterioremente</th>\n",
       "      <th>tipo_do_quarto_reservado</th>\n",
       "      <th>reserva_feita_por_agencia_de_turismo</th>\n",
       "      <th>reserva_feita_por_empresa</th>\n",
       "      <th>reserva_com_estacionamento</th>\n",
       "      <th>reserva_com_observacoes</th>\n",
       "      <th>reserva_cancelada</th>\n",
       "      <th>latitude</th>\n",
       "      <th>longitude</th>\n",
       "    </tr>\n",
       "  </thead>\n",
       "  <tbody>\n",
       "    <tr>\n",
       "      <th>75</th>\n",
       "      <td>15778</td>\n",
       "      <td>5 estrelas</td>\n",
       "      <td>3</td>\n",
       "      <td>5</td>\n",
       "      <td>1020</td>\n",
       "      <td>Café da manha</td>\n",
       "      <td>Spain</td>\n",
       "      <td>Agência</td>\n",
       "      <td>Não</td>\n",
       "      <td>Amethyst</td>\n",
       "      <td>Sim</td>\n",
       "      <td>Não</td>\n",
       "      <td>Não</td>\n",
       "      <td>1 a 3</td>\n",
       "      <td>0</td>\n",
       "      <td>40463667.0</td>\n",
       "      <td>-374922.0</td>\n",
       "    </tr>\n",
       "    <tr>\n",
       "      <th>102</th>\n",
       "      <td>2436</td>\n",
       "      <td>5 estrelas</td>\n",
       "      <td>11</td>\n",
       "      <td>7</td>\n",
       "      <td>20</td>\n",
       "      <td>Café da manha</td>\n",
       "      <td>Spain</td>\n",
       "      <td>Balcão</td>\n",
       "      <td>Não</td>\n",
       "      <td>Green Emerald</td>\n",
       "      <td>Não</td>\n",
       "      <td>Não</td>\n",
       "      <td>Não</td>\n",
       "      <td>Nenhuma</td>\n",
       "      <td>1</td>\n",
       "      <td>40463667.0</td>\n",
       "      <td>-374922.0</td>\n",
       "    </tr>\n",
       "    <tr>\n",
       "      <th>179</th>\n",
       "      <td>73042</td>\n",
       "      <td>4 estrelas</td>\n",
       "      <td>75</td>\n",
       "      <td>6</td>\n",
       "      <td>758</td>\n",
       "      <td>Café da manha</td>\n",
       "      <td>Poland</td>\n",
       "      <td>Agência</td>\n",
       "      <td>Não</td>\n",
       "      <td>Green Emerald</td>\n",
       "      <td>Sim</td>\n",
       "      <td>Não</td>\n",
       "      <td>Não</td>\n",
       "      <td>Nenhuma</td>\n",
       "      <td>1</td>\n",
       "      <td>51919438.0</td>\n",
       "      <td>19145136.0</td>\n",
       "    </tr>\n",
       "    <tr>\n",
       "      <th>187</th>\n",
       "      <td>81884</td>\n",
       "      <td>4 estrelas</td>\n",
       "      <td>2</td>\n",
       "      <td>3</td>\n",
       "      <td>470</td>\n",
       "      <td>Café da manha</td>\n",
       "      <td>Spain</td>\n",
       "      <td>Agência</td>\n",
       "      <td>Não</td>\n",
       "      <td>Amethyst</td>\n",
       "      <td>Sim</td>\n",
       "      <td>Não</td>\n",
       "      <td>Não</td>\n",
       "      <td>Nenhuma</td>\n",
       "      <td>0</td>\n",
       "      <td>40463667.0</td>\n",
       "      <td>-374922.0</td>\n",
       "    </tr>\n",
       "    <tr>\n",
       "      <th>251</th>\n",
       "      <td>83293</td>\n",
       "      <td>4 estrelas</td>\n",
       "      <td>1</td>\n",
       "      <td>2</td>\n",
       "      <td>381</td>\n",
       "      <td>Café da manha</td>\n",
       "      <td>Spain</td>\n",
       "      <td>B2B</td>\n",
       "      <td>Sim</td>\n",
       "      <td>Amethyst</td>\n",
       "      <td>Não</td>\n",
       "      <td>Sim</td>\n",
       "      <td>Não</td>\n",
       "      <td>1 a 3</td>\n",
       "      <td>0</td>\n",
       "      <td>40463667.0</td>\n",
       "      <td>-374922.0</td>\n",
       "    </tr>\n",
       "    <tr>\n",
       "      <th>...</th>\n",
       "      <td>...</td>\n",
       "      <td>...</td>\n",
       "      <td>...</td>\n",
       "      <td>...</td>\n",
       "      <td>...</td>\n",
       "      <td>...</td>\n",
       "      <td>...</td>\n",
       "      <td>...</td>\n",
       "      <td>...</td>\n",
       "      <td>...</td>\n",
       "      <td>...</td>\n",
       "      <td>...</td>\n",
       "      <td>...</td>\n",
       "      <td>...</td>\n",
       "      <td>...</td>\n",
       "      <td>...</td>\n",
       "      <td>...</td>\n",
       "    </tr>\n",
       "    <tr>\n",
       "      <th>71702</th>\n",
       "      <td>52893</td>\n",
       "      <td>4 estrelas</td>\n",
       "      <td>1</td>\n",
       "      <td>1</td>\n",
       "      <td>269</td>\n",
       "      <td>Café da manha</td>\n",
       "      <td>Spain</td>\n",
       "      <td>B2B</td>\n",
       "      <td>Não</td>\n",
       "      <td>Amethyst</td>\n",
       "      <td>Sim</td>\n",
       "      <td>Não</td>\n",
       "      <td>Não</td>\n",
       "      <td>Nenhuma</td>\n",
       "      <td>1</td>\n",
       "      <td>40463667.0</td>\n",
       "      <td>-374922.0</td>\n",
       "    </tr>\n",
       "    <tr>\n",
       "      <th>71711</th>\n",
       "      <td>8940</td>\n",
       "      <td>5 estrelas</td>\n",
       "      <td>5</td>\n",
       "      <td>2</td>\n",
       "      <td>502</td>\n",
       "      <td>Café da manha</td>\n",
       "      <td>United Kingdom</td>\n",
       "      <td>Agência</td>\n",
       "      <td>Não</td>\n",
       "      <td>Green Emerald</td>\n",
       "      <td>Sim</td>\n",
       "      <td>Não</td>\n",
       "      <td>Não</td>\n",
       "      <td>1 a 3</td>\n",
       "      <td>1</td>\n",
       "      <td>55378051.0</td>\n",
       "      <td>-3435973.0</td>\n",
       "    </tr>\n",
       "    <tr>\n",
       "      <th>71848</th>\n",
       "      <td>20468</td>\n",
       "      <td>5 estrelas</td>\n",
       "      <td>1</td>\n",
       "      <td>1</td>\n",
       "      <td>166</td>\n",
       "      <td>Café da manha</td>\n",
       "      <td>Spain</td>\n",
       "      <td>Agência</td>\n",
       "      <td>Sim</td>\n",
       "      <td>Amethyst</td>\n",
       "      <td>Não</td>\n",
       "      <td>Sim</td>\n",
       "      <td>Sim</td>\n",
       "      <td>1 a 3</td>\n",
       "      <td>0</td>\n",
       "      <td>40463667.0</td>\n",
       "      <td>-374922.0</td>\n",
       "    </tr>\n",
       "    <tr>\n",
       "      <th>71975</th>\n",
       "      <td>43193</td>\n",
       "      <td>4 estrelas</td>\n",
       "      <td>2</td>\n",
       "      <td>1</td>\n",
       "      <td>780</td>\n",
       "      <td>Café da manha e jantar</td>\n",
       "      <td>Spain</td>\n",
       "      <td>Agência</td>\n",
       "      <td>Não</td>\n",
       "      <td>Amethyst</td>\n",
       "      <td>Sim</td>\n",
       "      <td>Não</td>\n",
       "      <td>Não</td>\n",
       "      <td>Nenhuma</td>\n",
       "      <td>0</td>\n",
       "      <td>40463667.0</td>\n",
       "      <td>-374922.0</td>\n",
       "    </tr>\n",
       "    <tr>\n",
       "      <th>72056</th>\n",
       "      <td>8786</td>\n",
       "      <td>5 estrelas</td>\n",
       "      <td>9</td>\n",
       "      <td>4</td>\n",
       "      <td>1108</td>\n",
       "      <td>Café da manha</td>\n",
       "      <td>Spain</td>\n",
       "      <td>Agência</td>\n",
       "      <td>Não</td>\n",
       "      <td>Amethyst</td>\n",
       "      <td>Sim</td>\n",
       "      <td>Não</td>\n",
       "      <td>Não</td>\n",
       "      <td>Nenhuma</td>\n",
       "      <td>1</td>\n",
       "      <td>40463667.0</td>\n",
       "      <td>-374922.0</td>\n",
       "    </tr>\n",
       "  </tbody>\n",
       "</table>\n",
       "<p>1442 rows × 17 columns</p>\n",
       "</div>"
      ],
      "text/plain": [
       "          id classificacao_do_hotel  meses_da_reserva_ate_o_check_in  \\\n",
       "75     15778             5 estrelas                                3   \n",
       "102     2436             5 estrelas                               11   \n",
       "179    73042             4 estrelas                               75   \n",
       "187    81884             4 estrelas                                2   \n",
       "251    83293             4 estrelas                                1   \n",
       "...      ...                    ...                              ...   \n",
       "71702  52893             4 estrelas                                1   \n",
       "71711   8940             5 estrelas                                5   \n",
       "71848  20468             5 estrelas                                1   \n",
       "71975  43193             4 estrelas                                2   \n",
       "72056   8786             5 estrelas                                9   \n",
       "\n",
       "       numero_de_pernoites_reservadas  numero_de_hospedes  \\\n",
       "75                                  5                1020   \n",
       "102                                 7                  20   \n",
       "179                                 6                 758   \n",
       "187                                 3                 470   \n",
       "251                                 2                 381   \n",
       "...                               ...                 ...   \n",
       "71702                               1                 269   \n",
       "71711                               2                 502   \n",
       "71848                               1                 166   \n",
       "71975                               1                 780   \n",
       "72056                               4                1108   \n",
       "\n",
       "        regime_de_alimentacao   nacionalidade forma_de_reserva  \\\n",
       "75              Café da manha           Spain          Agência   \n",
       "102             Café da manha           Spain           Balcão   \n",
       "179             Café da manha          Poland          Agência   \n",
       "187             Café da manha           Spain          Agência   \n",
       "251             Café da manha           Spain              B2B   \n",
       "...                       ...             ...              ...   \n",
       "71702           Café da manha           Spain              B2B   \n",
       "71711           Café da manha  United Kingdom          Agência   \n",
       "71848           Café da manha           Spain          Agência   \n",
       "71975  Café da manha e jantar           Spain          Agência   \n",
       "72056           Café da manha           Spain          Agência   \n",
       "\n",
       "      ja_se_hospedou_anterioremente tipo_do_quarto_reservado  \\\n",
       "75                              Não                 Amethyst   \n",
       "102                             Não            Green Emerald   \n",
       "179                             Não            Green Emerald   \n",
       "187                             Não                 Amethyst   \n",
       "251                             Sim                 Amethyst   \n",
       "...                             ...                      ...   \n",
       "71702                           Não                 Amethyst   \n",
       "71711                           Não            Green Emerald   \n",
       "71848                           Sim                 Amethyst   \n",
       "71975                           Não                 Amethyst   \n",
       "72056                           Não                 Amethyst   \n",
       "\n",
       "      reserva_feita_por_agencia_de_turismo reserva_feita_por_empresa  \\\n",
       "75                                     Sim                       Não   \n",
       "102                                    Não                       Não   \n",
       "179                                    Sim                       Não   \n",
       "187                                    Sim                       Não   \n",
       "251                                    Não                       Sim   \n",
       "...                                    ...                       ...   \n",
       "71702                                  Sim                       Não   \n",
       "71711                                  Sim                       Não   \n",
       "71848                                  Não                       Sim   \n",
       "71975                                  Sim                       Não   \n",
       "72056                                  Sim                       Não   \n",
       "\n",
       "      reserva_com_estacionamento reserva_com_observacoes  reserva_cancelada  \\\n",
       "75                           Não                   1 a 3                  0   \n",
       "102                          Não                 Nenhuma                  1   \n",
       "179                          Não                 Nenhuma                  1   \n",
       "187                          Não                 Nenhuma                  0   \n",
       "251                          Não                   1 a 3                  0   \n",
       "...                          ...                     ...                ...   \n",
       "71702                        Não                 Nenhuma                  1   \n",
       "71711                        Não                   1 a 3                  1   \n",
       "71848                        Sim                   1 a 3                  0   \n",
       "71975                        Não                 Nenhuma                  0   \n",
       "72056                        Não                 Nenhuma                  1   \n",
       "\n",
       "         latitude   longitude  \n",
       "75     40463667.0   -374922.0  \n",
       "102    40463667.0   -374922.0  \n",
       "179    51919438.0  19145136.0  \n",
       "187    40463667.0   -374922.0  \n",
       "251    40463667.0   -374922.0  \n",
       "...           ...         ...  \n",
       "71702  40463667.0   -374922.0  \n",
       "71711  55378051.0  -3435973.0  \n",
       "71848  40463667.0   -374922.0  \n",
       "71975  40463667.0   -374922.0  \n",
       "72056  40463667.0   -374922.0  \n",
       "\n",
       "[1442 rows x 17 columns]"
      ]
     },
     "execution_count": 19,
     "metadata": {},
     "output_type": "execute_result"
    }
   ],
   "source": [
    "df1[df1['numero_de_hospedes']>10]"
   ]
  },
  {
   "cell_type": "code",
   "execution_count": 20,
   "id": "a73093d4",
   "metadata": {
    "ExecuteTime": {
     "end_time": "2023-03-26T18:20:45.999202Z",
     "start_time": "2023-03-26T18:20:45.925607Z"
    }
   },
   "outputs": [
    {
     "data": {
      "text/html": [
       "<div>\n",
       "<style scoped>\n",
       "    .dataframe tbody tr th:only-of-type {\n",
       "        vertical-align: middle;\n",
       "    }\n",
       "\n",
       "    .dataframe tbody tr th {\n",
       "        vertical-align: top;\n",
       "    }\n",
       "\n",
       "    .dataframe thead th {\n",
       "        text-align: right;\n",
       "    }\n",
       "</style>\n",
       "<table border=\"1\" class=\"dataframe\">\n",
       "  <thead>\n",
       "    <tr style=\"text-align: right;\">\n",
       "      <th></th>\n",
       "      <th>reserva_feita_por_empresa</th>\n",
       "      <th>id</th>\n",
       "    </tr>\n",
       "  </thead>\n",
       "  <tbody>\n",
       "    <tr>\n",
       "      <th>0</th>\n",
       "      <td>Não</td>\n",
       "      <td>1359</td>\n",
       "    </tr>\n",
       "    <tr>\n",
       "      <th>1</th>\n",
       "      <td>Sim</td>\n",
       "      <td>83</td>\n",
       "    </tr>\n",
       "  </tbody>\n",
       "</table>\n",
       "</div>"
      ],
      "text/plain": [
       "  reserva_feita_por_empresa    id\n",
       "0                       Não  1359\n",
       "1                       Sim    83"
      ]
     },
     "execution_count": 20,
     "metadata": {},
     "output_type": "execute_result"
    }
   ],
   "source": [
    "df1[df1['numero_de_hospedes']>10][['id', 'reserva_feita_por_empresa']].groupby('reserva_feita_por_empresa').count().reset_index()\n"
   ]
  },
  {
   "cell_type": "code",
   "execution_count": 21,
   "id": "fa22fcb7",
   "metadata": {
    "ExecuteTime": {
     "end_time": "2023-03-26T18:20:46.100096Z",
     "start_time": "2023-03-26T18:20:46.004604Z"
    }
   },
   "outputs": [
    {
     "data": {
      "text/html": [
       "<div>\n",
       "<style scoped>\n",
       "    .dataframe tbody tr th:only-of-type {\n",
       "        vertical-align: middle;\n",
       "    }\n",
       "\n",
       "    .dataframe tbody tr th {\n",
       "        vertical-align: top;\n",
       "    }\n",
       "\n",
       "    .dataframe thead th {\n",
       "        text-align: right;\n",
       "    }\n",
       "</style>\n",
       "<table border=\"1\" class=\"dataframe\">\n",
       "  <thead>\n",
       "    <tr style=\"text-align: right;\">\n",
       "      <th></th>\n",
       "      <th>reserva_feita_por_agencia_de_turismo</th>\n",
       "      <th>id</th>\n",
       "    </tr>\n",
       "  </thead>\n",
       "  <tbody>\n",
       "    <tr>\n",
       "      <th>0</th>\n",
       "      <td>Não</td>\n",
       "      <td>33</td>\n",
       "    </tr>\n",
       "    <tr>\n",
       "      <th>1</th>\n",
       "      <td>Sim</td>\n",
       "      <td>68</td>\n",
       "    </tr>\n",
       "  </tbody>\n",
       "</table>\n",
       "</div>"
      ],
      "text/plain": [
       "  reserva_feita_por_agencia_de_turismo  id\n",
       "0                                  Não  33\n",
       "1                                  Sim  68"
      ]
     },
     "execution_count": 21,
     "metadata": {},
     "output_type": "execute_result"
    }
   ],
   "source": [
    "df1[df1['numero_de_hospedes']==0][['id', 'reserva_feita_por_agencia_de_turismo']].groupby('reserva_feita_por_agencia_de_turismo').count().reset_index()\n"
   ]
  },
  {
   "cell_type": "markdown",
   "id": "b0a6e176",
   "metadata": {},
   "source": [
    "# 2.0. Feature Engineering"
   ]
  },
  {
   "cell_type": "code",
   "execution_count": 22,
   "id": "3ec87883",
   "metadata": {
    "ExecuteTime": {
     "end_time": "2023-03-26T18:20:46.209249Z",
     "start_time": "2023-03-26T18:20:46.107422Z"
    }
   },
   "outputs": [],
   "source": [
    "df2 = df1.copy()"
   ]
  },
  {
   "cell_type": "code",
   "execution_count": 23,
   "id": "5eba3f5b",
   "metadata": {
    "ExecuteTime": {
     "end_time": "2023-03-26T18:20:46.334302Z",
     "start_time": "2023-03-26T18:20:46.212764Z"
    }
   },
   "outputs": [],
   "source": [
    "df2['classificacao_do_hotel'] = df2['classificacao_do_hotel'].apply(lambda x: x.replace(' estrelas', ''))"
   ]
  },
  {
   "cell_type": "code",
   "execution_count": 24,
   "id": "ad3c6da7",
   "metadata": {
    "ExecuteTime": {
     "end_time": "2023-03-26T18:20:46.466346Z",
     "start_time": "2023-03-26T18:20:46.336971Z"
    }
   },
   "outputs": [],
   "source": [
    "df2['ja_se_hospedou_anterioremente'] = df2['ja_se_hospedou_anterioremente'].apply(lambda x: x.replace('Sim', '1'))\n",
    "df2['ja_se_hospedou_anterioremente'] = df2['ja_se_hospedou_anterioremente'].apply(lambda x: x.replace('Não', '0'))\n"
   ]
  },
  {
   "cell_type": "code",
   "execution_count": 25,
   "id": "7dc84379",
   "metadata": {
    "ExecuteTime": {
     "end_time": "2023-03-26T18:20:46.581178Z",
     "start_time": "2023-03-26T18:20:46.470507Z"
    }
   },
   "outputs": [],
   "source": [
    "df2['reserva_feita_por_agencia_de_turismo'] = df2['reserva_feita_por_agencia_de_turismo'].apply(lambda x: x.replace('Sim', '1'))\n",
    "df2['reserva_feita_por_agencia_de_turismo'] = df2['reserva_feita_por_agencia_de_turismo'].apply(lambda x: x.replace('Não', '0'))"
   ]
  },
  {
   "cell_type": "code",
   "execution_count": 26,
   "id": "592ac569",
   "metadata": {
    "ExecuteTime": {
     "end_time": "2023-03-26T18:20:46.688376Z",
     "start_time": "2023-03-26T18:20:46.584841Z"
    }
   },
   "outputs": [],
   "source": [
    "df2['reserva_feita_por_empresa'] = df2['reserva_feita_por_empresa'].apply(lambda x: x.replace('Sim', '1'))\n",
    "df2['reserva_feita_por_empresa'] = df2['reserva_feita_por_empresa'].apply(lambda x: x.replace('Não', '0'))"
   ]
  },
  {
   "cell_type": "code",
   "execution_count": 27,
   "id": "03980fa1",
   "metadata": {
    "ExecuteTime": {
     "end_time": "2023-03-26T18:20:46.796360Z",
     "start_time": "2023-03-26T18:20:46.693749Z"
    }
   },
   "outputs": [],
   "source": [
    "df2['reserva_com_estacionamento'] = df2['reserva_com_estacionamento'].apply(lambda x: x.replace('Sim', '1'))\n",
    "df2['reserva_com_estacionamento'] = df2['reserva_com_estacionamento'].apply(lambda x: x.replace('Não', '0'))"
   ]
  },
  {
   "cell_type": "code",
   "execution_count": 28,
   "id": "f9c2fa7a",
   "metadata": {
    "ExecuteTime": {
     "end_time": "2023-03-26T18:20:46.833217Z",
     "start_time": "2023-03-26T18:20:46.813532Z"
    }
   },
   "outputs": [],
   "source": [
    "# df2['regime_de_alimentacao'] = df2['regime_de_alimentacao'].apply(lambda x: x.replace('Café da manha e jantar', '1'))\n",
    "# df2['regime_de_alimentacao'] = df2['regime_de_alimentacao'].apply(lambda x: x.replace('Café da manha, almoco e jantar', '4'))\n",
    "# df2['regime_de_alimentacao'] = df2['regime_de_alimentacao'].apply(lambda x: x.replace('Café da manha', '2'))\n",
    "# df2['regime_de_alimentacao'] = df2['regime_de_alimentacao'].apply(lambda x: x.replace('Sem refeicao', '3'))\n",
    "\n"
   ]
  },
  {
   "cell_type": "code",
   "execution_count": 29,
   "id": "833574e5",
   "metadata": {
    "ExecuteTime": {
     "end_time": "2023-03-26T18:20:46.967805Z",
     "start_time": "2023-03-26T18:20:46.837441Z"
    }
   },
   "outputs": [],
   "source": [
    "# df2['forma_de_reserva'] = df2['forma_de_reserva'].apply(lambda x: x.replace('Agência', '1'))\n",
    "# df2['forma_de_reserva'] = df2['forma_de_reserva'].apply(lambda x: x.replace('Balcão', '2'))\n",
    "# df2['forma_de_reserva'] = df2['forma_de_reserva'].apply(lambda x: x.replace('B2B', '3'))\n"
   ]
  },
  {
   "cell_type": "code",
   "execution_count": 30,
   "id": "1d09cbbb",
   "metadata": {
    "ExecuteTime": {
     "end_time": "2023-03-26T18:20:47.065331Z",
     "start_time": "2023-03-26T18:20:46.971454Z"
    }
   },
   "outputs": [],
   "source": [
    "# df2['reserva_com_observacoes'] = df2['reserva_com_observacoes'].apply(lambda x: x.replace('Nenhuma', '1'))\n",
    "# df2['reserva_com_observacoes'] = df2['reserva_com_observacoes'].apply(lambda x: x.replace('1 a 3', '2'))\n",
    "# df2['reserva_com_observacoes'] = df2['reserva_com_observacoes'].apply(lambda x: x.replace('Mais de 3', '3'))\n"
   ]
  },
  {
   "cell_type": "code",
   "execution_count": 31,
   "id": "6bfceb26",
   "metadata": {
    "ExecuteTime": {
     "end_time": "2023-03-26T18:20:47.212210Z",
     "start_time": "2023-03-26T18:20:47.076249Z"
    }
   },
   "outputs": [
    {
     "data": {
      "text/html": [
       "<div>\n",
       "<style scoped>\n",
       "    .dataframe tbody tr th:only-of-type {\n",
       "        vertical-align: middle;\n",
       "    }\n",
       "\n",
       "    .dataframe tbody tr th {\n",
       "        vertical-align: top;\n",
       "    }\n",
       "\n",
       "    .dataframe thead th {\n",
       "        text-align: right;\n",
       "    }\n",
       "</style>\n",
       "<table border=\"1\" class=\"dataframe\">\n",
       "  <thead>\n",
       "    <tr style=\"text-align: right;\">\n",
       "      <th></th>\n",
       "      <th>id</th>\n",
       "      <th>classificacao_do_hotel</th>\n",
       "      <th>meses_da_reserva_ate_o_check_in</th>\n",
       "      <th>numero_de_pernoites_reservadas</th>\n",
       "      <th>numero_de_hospedes</th>\n",
       "      <th>regime_de_alimentacao</th>\n",
       "      <th>nacionalidade</th>\n",
       "      <th>forma_de_reserva</th>\n",
       "      <th>ja_se_hospedou_anterioremente</th>\n",
       "      <th>tipo_do_quarto_reservado</th>\n",
       "      <th>reserva_feita_por_agencia_de_turismo</th>\n",
       "      <th>reserva_feita_por_empresa</th>\n",
       "      <th>reserva_com_estacionamento</th>\n",
       "      <th>reserva_com_observacoes</th>\n",
       "      <th>reserva_cancelada</th>\n",
       "      <th>latitude</th>\n",
       "      <th>longitude</th>\n",
       "    </tr>\n",
       "  </thead>\n",
       "  <tbody>\n",
       "    <tr>\n",
       "      <th>0</th>\n",
       "      <td>33571</td>\n",
       "      <td>5</td>\n",
       "      <td>5</td>\n",
       "      <td>5</td>\n",
       "      <td>2</td>\n",
       "      <td>Café da manha e jantar</td>\n",
       "      <td>France</td>\n",
       "      <td>Agência</td>\n",
       "      <td>0</td>\n",
       "      <td>Amethyst</td>\n",
       "      <td>1</td>\n",
       "      <td>0</td>\n",
       "      <td>1</td>\n",
       "      <td>Nenhuma</td>\n",
       "      <td>0</td>\n",
       "      <td>46227638.0</td>\n",
       "      <td>2213749.0</td>\n",
       "    </tr>\n",
       "    <tr>\n",
       "      <th>1</th>\n",
       "      <td>82458</td>\n",
       "      <td>4</td>\n",
       "      <td>167</td>\n",
       "      <td>3</td>\n",
       "      <td>2</td>\n",
       "      <td>Café da manha</td>\n",
       "      <td>Spain</td>\n",
       "      <td>Agência</td>\n",
       "      <td>0</td>\n",
       "      <td>Amethyst</td>\n",
       "      <td>1</td>\n",
       "      <td>0</td>\n",
       "      <td>0</td>\n",
       "      <td>Nenhuma</td>\n",
       "      <td>1</td>\n",
       "      <td>40463667.0</td>\n",
       "      <td>-374922.0</td>\n",
       "    </tr>\n",
       "    <tr>\n",
       "      <th>2</th>\n",
       "      <td>94061</td>\n",
       "      <td>4</td>\n",
       "      <td>4</td>\n",
       "      <td>3</td>\n",
       "      <td>2</td>\n",
       "      <td>Café da manha</td>\n",
       "      <td>Belgium</td>\n",
       "      <td>Agência</td>\n",
       "      <td>0</td>\n",
       "      <td>Amethyst</td>\n",
       "      <td>1</td>\n",
       "      <td>0</td>\n",
       "      <td>0</td>\n",
       "      <td>1 a 3</td>\n",
       "      <td>0</td>\n",
       "      <td>50503887.0</td>\n",
       "      <td>4469936.0</td>\n",
       "    </tr>\n",
       "    <tr>\n",
       "      <th>3</th>\n",
       "      <td>75196</td>\n",
       "      <td>4</td>\n",
       "      <td>13</td>\n",
       "      <td>2</td>\n",
       "      <td>2</td>\n",
       "      <td>Café da manha</td>\n",
       "      <td>Spain</td>\n",
       "      <td>Agência</td>\n",
       "      <td>0</td>\n",
       "      <td>Amethyst</td>\n",
       "      <td>1</td>\n",
       "      <td>0</td>\n",
       "      <td>0</td>\n",
       "      <td>Nenhuma</td>\n",
       "      <td>1</td>\n",
       "      <td>40463667.0</td>\n",
       "      <td>-374922.0</td>\n",
       "    </tr>\n",
       "    <tr>\n",
       "      <th>4</th>\n",
       "      <td>82940</td>\n",
       "      <td>4</td>\n",
       "      <td>4</td>\n",
       "      <td>2</td>\n",
       "      <td>2</td>\n",
       "      <td>Café da manha</td>\n",
       "      <td>Spain</td>\n",
       "      <td>Agência</td>\n",
       "      <td>0</td>\n",
       "      <td>Amethyst</td>\n",
       "      <td>1</td>\n",
       "      <td>0</td>\n",
       "      <td>0</td>\n",
       "      <td>Nenhuma</td>\n",
       "      <td>1</td>\n",
       "      <td>40463667.0</td>\n",
       "      <td>-374922.0</td>\n",
       "    </tr>\n",
       "  </tbody>\n",
       "</table>\n",
       "</div>"
      ],
      "text/plain": [
       "      id classificacao_do_hotel  meses_da_reserva_ate_o_check_in  \\\n",
       "0  33571                      5                                5   \n",
       "1  82458                      4                              167   \n",
       "2  94061                      4                                4   \n",
       "3  75196                      4                               13   \n",
       "4  82940                      4                                4   \n",
       "\n",
       "   numero_de_pernoites_reservadas  numero_de_hospedes   regime_de_alimentacao  \\\n",
       "0                               5                   2  Café da manha e jantar   \n",
       "1                               3                   2           Café da manha   \n",
       "2                               3                   2           Café da manha   \n",
       "3                               2                   2           Café da manha   \n",
       "4                               2                   2           Café da manha   \n",
       "\n",
       "  nacionalidade forma_de_reserva ja_se_hospedou_anterioremente  \\\n",
       "0        France          Agência                             0   \n",
       "1         Spain          Agência                             0   \n",
       "2       Belgium          Agência                             0   \n",
       "3         Spain          Agência                             0   \n",
       "4         Spain          Agência                             0   \n",
       "\n",
       "  tipo_do_quarto_reservado reserva_feita_por_agencia_de_turismo  \\\n",
       "0                 Amethyst                                    1   \n",
       "1                 Amethyst                                    1   \n",
       "2                 Amethyst                                    1   \n",
       "3                 Amethyst                                    1   \n",
       "4                 Amethyst                                    1   \n",
       "\n",
       "  reserva_feita_por_empresa reserva_com_estacionamento  \\\n",
       "0                         0                          1   \n",
       "1                         0                          0   \n",
       "2                         0                          0   \n",
       "3                         0                          0   \n",
       "4                         0                          0   \n",
       "\n",
       "  reserva_com_observacoes  reserva_cancelada    latitude  longitude  \n",
       "0                 Nenhuma                  0  46227638.0  2213749.0  \n",
       "1                 Nenhuma                  1  40463667.0  -374922.0  \n",
       "2                   1 a 3                  0  50503887.0  4469936.0  \n",
       "3                 Nenhuma                  1  40463667.0  -374922.0  \n",
       "4                 Nenhuma                  1  40463667.0  -374922.0  "
      ]
     },
     "execution_count": 31,
     "metadata": {},
     "output_type": "execute_result"
    }
   ],
   "source": [
    "df2.head()"
   ]
  },
  {
   "cell_type": "code",
   "execution_count": 32,
   "id": "b9ad0507",
   "metadata": {
    "ExecuteTime": {
     "end_time": "2023-03-26T18:20:47.296892Z",
     "start_time": "2023-03-26T18:20:47.217401Z"
    }
   },
   "outputs": [
    {
     "data": {
      "text/plain": [
       "id                                        int64\n",
       "classificacao_do_hotel                   object\n",
       "meses_da_reserva_ate_o_check_in           int64\n",
       "numero_de_pernoites_reservadas            int64\n",
       "numero_de_hospedes                        int64\n",
       "regime_de_alimentacao                    object\n",
       "nacionalidade                            object\n",
       "forma_de_reserva                         object\n",
       "ja_se_hospedou_anterioremente            object\n",
       "tipo_do_quarto_reservado                 object\n",
       "reserva_feita_por_agencia_de_turismo     object\n",
       "reserva_feita_por_empresa                object\n",
       "reserva_com_estacionamento               object\n",
       "reserva_com_observacoes                  object\n",
       "reserva_cancelada                         int64\n",
       "latitude                                float64\n",
       "longitude                               float64\n",
       "dtype: object"
      ]
     },
     "execution_count": 32,
     "metadata": {},
     "output_type": "execute_result"
    }
   ],
   "source": [
    "df2.dtypes"
   ]
  },
  {
   "cell_type": "code",
   "execution_count": 33,
   "id": "c2373d98",
   "metadata": {
    "ExecuteTime": {
     "end_time": "2023-03-26T18:20:47.488681Z",
     "start_time": "2023-03-26T18:20:47.302025Z"
    }
   },
   "outputs": [],
   "source": [
    "df2['classificacao_do_hotel'] = df2['classificacao_do_hotel'].astype('int')\n",
    "df2['ja_se_hospedou_anterioremente'] = df2['ja_se_hospedou_anterioremente'].astype('int')\n",
    "df2['reserva_feita_por_agencia_de_turismo'] = df2['reserva_feita_por_agencia_de_turismo'].astype('int')\n",
    "df2['reserva_feita_por_empresa'] = df2['reserva_feita_por_empresa'].astype('int')\n",
    "df2['reserva_com_estacionamento'] = df2['reserva_com_estacionamento'].astype('int')\n",
    "\n",
    "# df2['regime_de_alimentacao'] = df2['regime_de_alimentacao'].astype('int')\n",
    "# df2['forma_de_reserva'] = df2['forma_de_reserva'].astype('int')\n",
    "# df2['reserva_com_observacoes'] = df2['reserva_com_observacoes'].astype('int')\n"
   ]
  },
  {
   "cell_type": "code",
   "execution_count": 34,
   "id": "990ba2bf",
   "metadata": {
    "ExecuteTime": {
     "end_time": "2023-03-26T18:20:47.546129Z",
     "start_time": "2023-03-26T18:20:47.492126Z"
    }
   },
   "outputs": [
    {
     "data": {
      "text/plain": [
       "array(['Café da manha e jantar', 'Café da manha', 'Sem refeicao',\n",
       "       'Café da manha, almoco e jantar'], dtype=object)"
      ]
     },
     "execution_count": 34,
     "metadata": {},
     "output_type": "execute_result"
    }
   ],
   "source": [
    "df2['regime_de_alimentacao'].unique()"
   ]
  },
  {
   "cell_type": "markdown",
   "id": "66cc9a58",
   "metadata": {},
   "source": [
    "# 3.0. Data Filtering"
   ]
  },
  {
   "cell_type": "code",
   "execution_count": 35,
   "id": "47c68e0f",
   "metadata": {
    "ExecuteTime": {
     "end_time": "2023-03-26T18:20:47.643259Z",
     "start_time": "2023-03-26T18:20:47.549414Z"
    }
   },
   "outputs": [],
   "source": [
    "df3 = df2.copy()"
   ]
  },
  {
   "cell_type": "code",
   "execution_count": 36,
   "id": "866f415e",
   "metadata": {
    "ExecuteTime": {
     "end_time": "2023-03-26T18:20:47.721458Z",
     "start_time": "2023-03-26T18:20:47.646376Z"
    }
   },
   "outputs": [],
   "source": [
    "# reserva_feita_por_agencia_de_turismo reserva_feita_por_empresa\n",
    "#df3 = df3.drop(['reserva_feita_por_agencia_de_turismo', 'reserva_feita_por_empresa'], axis=1)"
   ]
  },
  {
   "cell_type": "markdown",
   "id": "55684f1c",
   "metadata": {},
   "source": [
    "# 4.0. Data Preparation "
   ]
  },
  {
   "cell_type": "code",
   "execution_count": 37,
   "id": "3ad9776c",
   "metadata": {
    "ExecuteTime": {
     "end_time": "2023-03-26T18:20:47.814285Z",
     "start_time": "2023-03-26T18:20:47.724969Z"
    }
   },
   "outputs": [],
   "source": [
    "#df4 = df3.drop('nacionalidade', axis=1).copy()\n",
    "df4 = df3.copy()"
   ]
  },
  {
   "cell_type": "code",
   "execution_count": 38,
   "id": "0a3d5525",
   "metadata": {
    "ExecuteTime": {
     "end_time": "2023-03-26T18:20:47.964685Z",
     "start_time": "2023-03-26T18:20:47.816944Z"
    }
   },
   "outputs": [],
   "source": [
    "# mms = pp.MinMaxScaler()\n",
    "# df4['id'] = mms.fit_transform(df4[['id']].values)\n",
    "\n",
    "# df4['classificacao_do_hotel'] = mms.fit_transform(df4[['classificacao_do_hotel']].values)\n",
    "\n",
    "# df4['meses_da_reserva_ate_o_check_in'] = mms.fit_transform(df4[['meses_da_reserva_ate_o_check_in']].values)\n",
    "\n",
    "# df4['numero_de_pernoites_reservadas'] = mms.fit_transform(df4[['numero_de_pernoites_reservadas']].values)\n",
    "\n",
    "# df4['numero_de_hospedes'] = mms.fit_transform(df4[['numero_de_hospedes']].values)\n"
   ]
  },
  {
   "cell_type": "code",
   "execution_count": 39,
   "id": "8e1d4856",
   "metadata": {
    "ExecuteTime": {
     "end_time": "2023-03-26T18:20:48.069477Z",
     "start_time": "2023-03-26T18:20:47.967655Z"
    }
   },
   "outputs": [],
   "source": [
    "#tipo_do_quarto_reservado\n",
    "# criar um dicionário de frequência de cada categoria\n",
    "freq_dict = df4['tipo_do_quarto_reservado'].value_counts(normalize=True).to_dict()\n",
    "# aplicar o encoder ao dataframe\n",
    "df4['tipo_do_quarto_reservado_encoded'] = df4['tipo_do_quarto_reservado'].map(freq_dict)"
   ]
  },
  {
   "cell_type": "code",
   "execution_count": 40,
   "id": "d460ccb8",
   "metadata": {
    "ExecuteTime": {
     "end_time": "2023-03-26T18:20:48.168974Z",
     "start_time": "2023-03-26T18:20:48.072408Z"
    }
   },
   "outputs": [
    {
     "data": {
      "text/html": [
       "<div>\n",
       "<style scoped>\n",
       "    .dataframe tbody tr th:only-of-type {\n",
       "        vertical-align: middle;\n",
       "    }\n",
       "\n",
       "    .dataframe tbody tr th {\n",
       "        vertical-align: top;\n",
       "    }\n",
       "\n",
       "    .dataframe thead th {\n",
       "        text-align: right;\n",
       "    }\n",
       "</style>\n",
       "<table border=\"1\" class=\"dataframe\">\n",
       "  <thead>\n",
       "    <tr style=\"text-align: right;\">\n",
       "      <th></th>\n",
       "      <th>id</th>\n",
       "      <th>classificacao_do_hotel</th>\n",
       "      <th>meses_da_reserva_ate_o_check_in</th>\n",
       "      <th>numero_de_pernoites_reservadas</th>\n",
       "      <th>numero_de_hospedes</th>\n",
       "      <th>regime_de_alimentacao</th>\n",
       "      <th>nacionalidade</th>\n",
       "      <th>forma_de_reserva</th>\n",
       "      <th>ja_se_hospedou_anterioremente</th>\n",
       "      <th>tipo_do_quarto_reservado</th>\n",
       "      <th>reserva_feita_por_agencia_de_turismo</th>\n",
       "      <th>reserva_feita_por_empresa</th>\n",
       "      <th>reserva_com_estacionamento</th>\n",
       "      <th>reserva_com_observacoes</th>\n",
       "      <th>reserva_cancelada</th>\n",
       "      <th>latitude</th>\n",
       "      <th>longitude</th>\n",
       "      <th>tipo_do_quarto_reservado_encoded</th>\n",
       "    </tr>\n",
       "  </thead>\n",
       "  <tbody>\n",
       "    <tr>\n",
       "      <th>0</th>\n",
       "      <td>33571</td>\n",
       "      <td>5</td>\n",
       "      <td>5</td>\n",
       "      <td>5</td>\n",
       "      <td>2</td>\n",
       "      <td>Café da manha e jantar</td>\n",
       "      <td>France</td>\n",
       "      <td>Agência</td>\n",
       "      <td>0</td>\n",
       "      <td>Amethyst</td>\n",
       "      <td>1</td>\n",
       "      <td>0</td>\n",
       "      <td>1</td>\n",
       "      <td>Nenhuma</td>\n",
       "      <td>0</td>\n",
       "      <td>46227638.0</td>\n",
       "      <td>2213749.0</td>\n",
       "      <td>0.718447</td>\n",
       "    </tr>\n",
       "    <tr>\n",
       "      <th>1</th>\n",
       "      <td>82458</td>\n",
       "      <td>4</td>\n",
       "      <td>167</td>\n",
       "      <td>3</td>\n",
       "      <td>2</td>\n",
       "      <td>Café da manha</td>\n",
       "      <td>Spain</td>\n",
       "      <td>Agência</td>\n",
       "      <td>0</td>\n",
       "      <td>Amethyst</td>\n",
       "      <td>1</td>\n",
       "      <td>0</td>\n",
       "      <td>0</td>\n",
       "      <td>Nenhuma</td>\n",
       "      <td>1</td>\n",
       "      <td>40463667.0</td>\n",
       "      <td>-374922.0</td>\n",
       "      <td>0.718447</td>\n",
       "    </tr>\n",
       "    <tr>\n",
       "      <th>2</th>\n",
       "      <td>94061</td>\n",
       "      <td>4</td>\n",
       "      <td>4</td>\n",
       "      <td>3</td>\n",
       "      <td>2</td>\n",
       "      <td>Café da manha</td>\n",
       "      <td>Belgium</td>\n",
       "      <td>Agência</td>\n",
       "      <td>0</td>\n",
       "      <td>Amethyst</td>\n",
       "      <td>1</td>\n",
       "      <td>0</td>\n",
       "      <td>0</td>\n",
       "      <td>1 a 3</td>\n",
       "      <td>0</td>\n",
       "      <td>50503887.0</td>\n",
       "      <td>4469936.0</td>\n",
       "      <td>0.718447</td>\n",
       "    </tr>\n",
       "    <tr>\n",
       "      <th>3</th>\n",
       "      <td>75196</td>\n",
       "      <td>4</td>\n",
       "      <td>13</td>\n",
       "      <td>2</td>\n",
       "      <td>2</td>\n",
       "      <td>Café da manha</td>\n",
       "      <td>Spain</td>\n",
       "      <td>Agência</td>\n",
       "      <td>0</td>\n",
       "      <td>Amethyst</td>\n",
       "      <td>1</td>\n",
       "      <td>0</td>\n",
       "      <td>0</td>\n",
       "      <td>Nenhuma</td>\n",
       "      <td>1</td>\n",
       "      <td>40463667.0</td>\n",
       "      <td>-374922.0</td>\n",
       "      <td>0.718447</td>\n",
       "    </tr>\n",
       "    <tr>\n",
       "      <th>4</th>\n",
       "      <td>82940</td>\n",
       "      <td>4</td>\n",
       "      <td>4</td>\n",
       "      <td>2</td>\n",
       "      <td>2</td>\n",
       "      <td>Café da manha</td>\n",
       "      <td>Spain</td>\n",
       "      <td>Agência</td>\n",
       "      <td>0</td>\n",
       "      <td>Amethyst</td>\n",
       "      <td>1</td>\n",
       "      <td>0</td>\n",
       "      <td>0</td>\n",
       "      <td>Nenhuma</td>\n",
       "      <td>1</td>\n",
       "      <td>40463667.0</td>\n",
       "      <td>-374922.0</td>\n",
       "      <td>0.718447</td>\n",
       "    </tr>\n",
       "  </tbody>\n",
       "</table>\n",
       "</div>"
      ],
      "text/plain": [
       "      id  classificacao_do_hotel  meses_da_reserva_ate_o_check_in  \\\n",
       "0  33571                       5                                5   \n",
       "1  82458                       4                              167   \n",
       "2  94061                       4                                4   \n",
       "3  75196                       4                               13   \n",
       "4  82940                       4                                4   \n",
       "\n",
       "   numero_de_pernoites_reservadas  numero_de_hospedes   regime_de_alimentacao  \\\n",
       "0                               5                   2  Café da manha e jantar   \n",
       "1                               3                   2           Café da manha   \n",
       "2                               3                   2           Café da manha   \n",
       "3                               2                   2           Café da manha   \n",
       "4                               2                   2           Café da manha   \n",
       "\n",
       "  nacionalidade forma_de_reserva  ja_se_hospedou_anterioremente  \\\n",
       "0        France          Agência                              0   \n",
       "1         Spain          Agência                              0   \n",
       "2       Belgium          Agência                              0   \n",
       "3         Spain          Agência                              0   \n",
       "4         Spain          Agência                              0   \n",
       "\n",
       "  tipo_do_quarto_reservado  reserva_feita_por_agencia_de_turismo  \\\n",
       "0                 Amethyst                                     1   \n",
       "1                 Amethyst                                     1   \n",
       "2                 Amethyst                                     1   \n",
       "3                 Amethyst                                     1   \n",
       "4                 Amethyst                                     1   \n",
       "\n",
       "   reserva_feita_por_empresa  reserva_com_estacionamento  \\\n",
       "0                          0                           1   \n",
       "1                          0                           0   \n",
       "2                          0                           0   \n",
       "3                          0                           0   \n",
       "4                          0                           0   \n",
       "\n",
       "  reserva_com_observacoes  reserva_cancelada    latitude  longitude  \\\n",
       "0                 Nenhuma                  0  46227638.0  2213749.0   \n",
       "1                 Nenhuma                  1  40463667.0  -374922.0   \n",
       "2                   1 a 3                  0  50503887.0  4469936.0   \n",
       "3                 Nenhuma                  1  40463667.0  -374922.0   \n",
       "4                 Nenhuma                  1  40463667.0  -374922.0   \n",
       "\n",
       "   tipo_do_quarto_reservado_encoded  \n",
       "0                          0.718447  \n",
       "1                          0.718447  \n",
       "2                          0.718447  \n",
       "3                          0.718447  \n",
       "4                          0.718447  "
      ]
     },
     "execution_count": 40,
     "metadata": {},
     "output_type": "execute_result"
    }
   ],
   "source": [
    "df4.head()"
   ]
  },
  {
   "cell_type": "code",
   "execution_count": 41,
   "id": "703f3c94",
   "metadata": {
    "ExecuteTime": {
     "end_time": "2023-03-26T18:20:48.342188Z",
     "start_time": "2023-03-26T18:20:48.172883Z"
    }
   },
   "outputs": [],
   "source": [
    "# dummy variables\n",
    "cols_dummy = ['regime_de_alimentacao', 'forma_de_reserva', 'reserva_com_observacoes']\n",
    "\n",
    "df4_dummy = pd.get_dummies(df4[cols_dummy])\n",
    "\n",
    "df4 = pd.concat([df4, df4_dummy], axis=1)\n",
    "\n",
    "# # numerical\n",
    "# col_num = df4.select_dtypes(include=['int64', 'float64']).columns.tolist()\n",
    "\n",
    "# # categorical\n",
    "# col_cat = df4.select_dtypes(exclude=['int64', 'float64', 'datetime64[ns]']).columns.tolist()\n",
    "\n",
    "# # encoding\n",
    "# df4_dummy = pd.DataFrame(ohe.fit_transform(df4[col_cat]).toarray(), index=df4.index)\n",
    "# pickle.dump(ohe, open('ohe.pkl', 'wb' ))\n",
    "\n",
    "# # join numerical and categorical\n",
    "# df42 = pd.concat([df4[col_num], df4_dummy], axis=1)\n",
    "# df42.columns = df42.columns.astype(str)\n",
    "\n",
    "# # one hot encoding\n",
    "# ohe_class_hotel = pp.OneHotEncoder()\n",
    "# ohe_aliment = pp.OneHotEncoder()\n",
    "# ohe_form_reserv = pp.OneHotEncoder()\n",
    "# ohe_hosp_anter = pp.OneHotEncoder()\n",
    "# ohe_reserv_estac = pp.OneHotEncoder()\n",
    "# ohe_reserva_observ = pp.OneHotEncoder()\n",
    "\n",
    "# # classificacao_do_hotel\n",
    "# ohe_class_hotel.fit(df4[['classificacao_do_hotel']])\n",
    "# pickle.dump(ohe_class_hotel, open('ohe_class_hotel.pkl', 'wb' ))\n",
    "# encoded = ohe_class_hotel.transform(df4[['classificacao_do_hotel']])\n",
    "# df_encoded = pd.DataFrame(encoded.toarray(), columns=ohe_class_hotel.get_feature_names_out(['classificacao_do_hotel']))\n",
    "# df4 = pd.concat([df4, df_encoded], axis=1)\n",
    "\n",
    "# # regime_de_alimentacao\n",
    "# ohe_aliment.fit(df4[['regime_de_alimentacao']])\n",
    "# pickle.dump(ohe_aliment, open('ohe_aliment.pkl', 'wb' ))\n",
    "# encoded = ohe_aliment.transform(df4[['regime_de_alimentacao']])\n",
    "# df_encoded = pd.DataFrame(encoded.toarray(), columns=ohe_aliment.get_feature_names_out(['regime_de_alimentacao']))\n",
    "# df4 = pd.concat([df4, df_encoded], axis=1)\n",
    "\n",
    "# # forma_de_reserva\n",
    "# ohe_form_reserv.fit(df4[['forma_de_reserva']])\n",
    "# pickle.dump(ohe_form_reserv, open('ohe_form_reserv.pkl', 'wb' ))\n",
    "# encoded = ohe_form_reserv.transform(df4[['forma_de_reserva']])\n",
    "# df_encoded = pd.DataFrame(encoded.toarray(), columns=ohe_form_reserv.get_feature_names_out(['forma_de_reserva']))\n",
    "# df4 = pd.concat([df4, df_encoded], axis=1)\n",
    "\n",
    "# # ja_se_hospedou_anterioremente\n",
    "# ohe_hosp_anter.fit(df4[['ja_se_hospedou_anterioremente']])\n",
    "# pickle.dump(ohe_hosp_anter, open('ohe_hosp_anter.pkl', 'wb' ))\n",
    "# encoded = ohe_hosp_anter.transform(df4[['ja_se_hospedou_anterioremente']])\n",
    "# df_encoded = pd.DataFrame(encoded.toarray(), columns=ohe_hosp_anter.get_feature_names_out(['ja_se_hospedou_anterioremente']))\n",
    "# df4 = pd.concat([df4, df_encoded], axis=1)\n",
    "\n",
    "# # reserva_com_estacionamento\n",
    "# ohe_reserv_estac.fit(df4[['reserva_com_estacionamento']])\n",
    "# pickle.dump(ohe_reserv_estac, open('ohe_reserv_estac.pkl', 'wb' ))\n",
    "# encoded = ohe_reserv_estac.transform(df4[['reserva_com_estacionamento']])\n",
    "# df_encoded = pd.DataFrame(encoded.toarray(), columns=ohe_reserv_estac.get_feature_names_out(['reserva_com_estacionamento']))\n",
    "# df4 = pd.concat([df4, df_encoded], axis=1)\n",
    "\n",
    "# #reserva_com_observacoes\n",
    "# ohe_reserva_observ.fit(df4[['reserva_com_observacoes']])\n",
    "# pickle.dump(ohe_reserva_observ, open('ohe_reserva_observ.pkl', 'wb' ))\n",
    "# encoded = ohe_reserva_observ.transform(df4[['reserva_com_observacoes']])\n",
    "# df_encoded = pd.DataFrame(encoded.toarray(), columns=ohe_reserva_observ.get_feature_names_out(['reserva_com_observacoes']))\n",
    "# df4 = pd.concat([df4, df_encoded], axis=1)"
   ]
  },
  {
   "cell_type": "code",
   "execution_count": 42,
   "id": "6d769747",
   "metadata": {
    "ExecuteTime": {
     "end_time": "2023-03-26T18:20:48.423504Z",
     "start_time": "2023-03-26T18:20:48.351131Z"
    }
   },
   "outputs": [],
   "source": [
    "# df4 = df4.drop(['tipo_do_quarto_reservado', 'classificacao_do_hotel', 'regime_de_alimentacao', 'forma_de_reserva',\n",
    "#          'ja_se_hospedou_anterioremente', 'reserva_com_estacionamento', 'reserva_com_observacoes'], axis=1)\n"
   ]
  },
  {
   "cell_type": "code",
   "execution_count": 43,
   "id": "b639a819",
   "metadata": {
    "ExecuteTime": {
     "end_time": "2023-03-26T18:20:48.918473Z",
     "start_time": "2023-03-26T18:20:48.427798Z"
    }
   },
   "outputs": [],
   "source": [
    "df4['latitude'] = df4['latitude'].apply(lambda x: np.radians(x/1000000))\n",
    "df4['longitude'] = df4['longitude'].apply(lambda x: np.radians(x/1000000))"
   ]
  },
  {
   "cell_type": "code",
   "execution_count": 44,
   "id": "2ad07dc1",
   "metadata": {
    "ExecuteTime": {
     "end_time": "2023-03-26T18:20:48.962231Z",
     "start_time": "2023-03-26T18:20:48.923513Z"
    }
   },
   "outputs": [
    {
     "data": {
      "text/html": [
       "<div>\n",
       "<style scoped>\n",
       "    .dataframe tbody tr th:only-of-type {\n",
       "        vertical-align: middle;\n",
       "    }\n",
       "\n",
       "    .dataframe tbody tr th {\n",
       "        vertical-align: top;\n",
       "    }\n",
       "\n",
       "    .dataframe thead th {\n",
       "        text-align: right;\n",
       "    }\n",
       "</style>\n",
       "<table border=\"1\" class=\"dataframe\">\n",
       "  <thead>\n",
       "    <tr style=\"text-align: right;\">\n",
       "      <th></th>\n",
       "      <th>latitude</th>\n",
       "      <th>longitude</th>\n",
       "    </tr>\n",
       "  </thead>\n",
       "  <tbody>\n",
       "    <tr>\n",
       "      <th>26429</th>\n",
       "      <td>0.706224</td>\n",
       "      <td>-0.006544</td>\n",
       "    </tr>\n",
       "    <tr>\n",
       "      <th>38094</th>\n",
       "      <td>0.706224</td>\n",
       "      <td>-0.006544</td>\n",
       "    </tr>\n",
       "    <tr>\n",
       "      <th>17296</th>\n",
       "      <td>0.073080</td>\n",
       "      <td>0.021934</td>\n",
       "    </tr>\n",
       "    <tr>\n",
       "      <th>28763</th>\n",
       "      <td>0.893010</td>\n",
       "      <td>0.182414</td>\n",
       "    </tr>\n",
       "    <tr>\n",
       "      <th>51690</th>\n",
       "      <td>0.893010</td>\n",
       "      <td>0.182414</td>\n",
       "    </tr>\n",
       "    <tr>\n",
       "      <th>8141</th>\n",
       "      <td>0.966529</td>\n",
       "      <td>-0.059969</td>\n",
       "    </tr>\n",
       "    <tr>\n",
       "      <th>43281</th>\n",
       "      <td>0.064735</td>\n",
       "      <td>-1.670505</td>\n",
       "    </tr>\n",
       "    <tr>\n",
       "      <th>11455</th>\n",
       "      <td>0.706224</td>\n",
       "      <td>-0.006544</td>\n",
       "    </tr>\n",
       "    <tr>\n",
       "      <th>56740</th>\n",
       "      <td>0.706224</td>\n",
       "      <td>-0.006544</td>\n",
       "    </tr>\n",
       "    <tr>\n",
       "      <th>6280</th>\n",
       "      <td>0.706224</td>\n",
       "      <td>-0.006544</td>\n",
       "    </tr>\n",
       "  </tbody>\n",
       "</table>\n",
       "</div>"
      ],
      "text/plain": [
       "       latitude  longitude\n",
       "26429  0.706224  -0.006544\n",
       "38094  0.706224  -0.006544\n",
       "17296  0.073080   0.021934\n",
       "28763  0.893010   0.182414\n",
       "51690  0.893010   0.182414\n",
       "8141   0.966529  -0.059969\n",
       "43281  0.064735  -1.670505\n",
       "11455  0.706224  -0.006544\n",
       "56740  0.706224  -0.006544\n",
       "6280   0.706224  -0.006544"
      ]
     },
     "execution_count": 44,
     "metadata": {},
     "output_type": "execute_result"
    }
   ],
   "source": [
    "df4[['latitude', 'longitude']].sample(10)"
   ]
  },
  {
   "cell_type": "markdown",
   "id": "c8e990a1",
   "metadata": {},
   "source": [
    "# 5.0. Feature Selection "
   ]
  },
  {
   "cell_type": "code",
   "execution_count": 45,
   "id": "41d5f490",
   "metadata": {
    "ExecuteTime": {
     "end_time": "2023-03-26T18:20:49.053327Z",
     "start_time": "2023-03-26T18:20:48.966768Z"
    }
   },
   "outputs": [],
   "source": [
    "df5 = df4.copy()"
   ]
  },
  {
   "cell_type": "code",
   "execution_count": 46,
   "id": "b71c698e",
   "metadata": {
    "ExecuteTime": {
     "end_time": "2023-03-26T18:20:49.182514Z",
     "start_time": "2023-03-26T18:20:49.057677Z"
    }
   },
   "outputs": [
    {
     "data": {
      "text/html": [
       "<div>\n",
       "<style scoped>\n",
       "    .dataframe tbody tr th:only-of-type {\n",
       "        vertical-align: middle;\n",
       "    }\n",
       "\n",
       "    .dataframe tbody tr th {\n",
       "        vertical-align: top;\n",
       "    }\n",
       "\n",
       "    .dataframe thead th {\n",
       "        text-align: right;\n",
       "    }\n",
       "</style>\n",
       "<table border=\"1\" class=\"dataframe\">\n",
       "  <thead>\n",
       "    <tr style=\"text-align: right;\">\n",
       "      <th></th>\n",
       "      <th>id</th>\n",
       "      <th>classificacao_do_hotel</th>\n",
       "      <th>meses_da_reserva_ate_o_check_in</th>\n",
       "      <th>numero_de_pernoites_reservadas</th>\n",
       "      <th>numero_de_hospedes</th>\n",
       "      <th>regime_de_alimentacao</th>\n",
       "      <th>nacionalidade</th>\n",
       "      <th>forma_de_reserva</th>\n",
       "      <th>ja_se_hospedou_anterioremente</th>\n",
       "      <th>tipo_do_quarto_reservado</th>\n",
       "      <th>...</th>\n",
       "      <th>regime_de_alimentacao_Café da manha</th>\n",
       "      <th>regime_de_alimentacao_Café da manha e jantar</th>\n",
       "      <th>regime_de_alimentacao_Café da manha, almoco e jantar</th>\n",
       "      <th>regime_de_alimentacao_Sem refeicao</th>\n",
       "      <th>forma_de_reserva_Agência</th>\n",
       "      <th>forma_de_reserva_B2B</th>\n",
       "      <th>forma_de_reserva_Balcão</th>\n",
       "      <th>reserva_com_observacoes_1 a 3</th>\n",
       "      <th>reserva_com_observacoes_Mais de 3</th>\n",
       "      <th>reserva_com_observacoes_Nenhuma</th>\n",
       "    </tr>\n",
       "  </thead>\n",
       "  <tbody>\n",
       "    <tr>\n",
       "      <th>0</th>\n",
       "      <td>33571</td>\n",
       "      <td>5</td>\n",
       "      <td>5</td>\n",
       "      <td>5</td>\n",
       "      <td>2</td>\n",
       "      <td>Café da manha e jantar</td>\n",
       "      <td>France</td>\n",
       "      <td>Agência</td>\n",
       "      <td>0</td>\n",
       "      <td>Amethyst</td>\n",
       "      <td>...</td>\n",
       "      <td>0</td>\n",
       "      <td>1</td>\n",
       "      <td>0</td>\n",
       "      <td>0</td>\n",
       "      <td>1</td>\n",
       "      <td>0</td>\n",
       "      <td>0</td>\n",
       "      <td>0</td>\n",
       "      <td>0</td>\n",
       "      <td>1</td>\n",
       "    </tr>\n",
       "    <tr>\n",
       "      <th>1</th>\n",
       "      <td>82458</td>\n",
       "      <td>4</td>\n",
       "      <td>167</td>\n",
       "      <td>3</td>\n",
       "      <td>2</td>\n",
       "      <td>Café da manha</td>\n",
       "      <td>Spain</td>\n",
       "      <td>Agência</td>\n",
       "      <td>0</td>\n",
       "      <td>Amethyst</td>\n",
       "      <td>...</td>\n",
       "      <td>1</td>\n",
       "      <td>0</td>\n",
       "      <td>0</td>\n",
       "      <td>0</td>\n",
       "      <td>1</td>\n",
       "      <td>0</td>\n",
       "      <td>0</td>\n",
       "      <td>0</td>\n",
       "      <td>0</td>\n",
       "      <td>1</td>\n",
       "    </tr>\n",
       "    <tr>\n",
       "      <th>2</th>\n",
       "      <td>94061</td>\n",
       "      <td>4</td>\n",
       "      <td>4</td>\n",
       "      <td>3</td>\n",
       "      <td>2</td>\n",
       "      <td>Café da manha</td>\n",
       "      <td>Belgium</td>\n",
       "      <td>Agência</td>\n",
       "      <td>0</td>\n",
       "      <td>Amethyst</td>\n",
       "      <td>...</td>\n",
       "      <td>1</td>\n",
       "      <td>0</td>\n",
       "      <td>0</td>\n",
       "      <td>0</td>\n",
       "      <td>1</td>\n",
       "      <td>0</td>\n",
       "      <td>0</td>\n",
       "      <td>1</td>\n",
       "      <td>0</td>\n",
       "      <td>0</td>\n",
       "    </tr>\n",
       "    <tr>\n",
       "      <th>3</th>\n",
       "      <td>75196</td>\n",
       "      <td>4</td>\n",
       "      <td>13</td>\n",
       "      <td>2</td>\n",
       "      <td>2</td>\n",
       "      <td>Café da manha</td>\n",
       "      <td>Spain</td>\n",
       "      <td>Agência</td>\n",
       "      <td>0</td>\n",
       "      <td>Amethyst</td>\n",
       "      <td>...</td>\n",
       "      <td>1</td>\n",
       "      <td>0</td>\n",
       "      <td>0</td>\n",
       "      <td>0</td>\n",
       "      <td>1</td>\n",
       "      <td>0</td>\n",
       "      <td>0</td>\n",
       "      <td>0</td>\n",
       "      <td>0</td>\n",
       "      <td>1</td>\n",
       "    </tr>\n",
       "    <tr>\n",
       "      <th>4</th>\n",
       "      <td>82940</td>\n",
       "      <td>4</td>\n",
       "      <td>4</td>\n",
       "      <td>2</td>\n",
       "      <td>2</td>\n",
       "      <td>Café da manha</td>\n",
       "      <td>Spain</td>\n",
       "      <td>Agência</td>\n",
       "      <td>0</td>\n",
       "      <td>Amethyst</td>\n",
       "      <td>...</td>\n",
       "      <td>1</td>\n",
       "      <td>0</td>\n",
       "      <td>0</td>\n",
       "      <td>0</td>\n",
       "      <td>1</td>\n",
       "      <td>0</td>\n",
       "      <td>0</td>\n",
       "      <td>0</td>\n",
       "      <td>0</td>\n",
       "      <td>1</td>\n",
       "    </tr>\n",
       "  </tbody>\n",
       "</table>\n",
       "<p>5 rows × 28 columns</p>\n",
       "</div>"
      ],
      "text/plain": [
       "      id  classificacao_do_hotel  meses_da_reserva_ate_o_check_in  \\\n",
       "0  33571                       5                                5   \n",
       "1  82458                       4                              167   \n",
       "2  94061                       4                                4   \n",
       "3  75196                       4                               13   \n",
       "4  82940                       4                                4   \n",
       "\n",
       "   numero_de_pernoites_reservadas  numero_de_hospedes   regime_de_alimentacao  \\\n",
       "0                               5                   2  Café da manha e jantar   \n",
       "1                               3                   2           Café da manha   \n",
       "2                               3                   2           Café da manha   \n",
       "3                               2                   2           Café da manha   \n",
       "4                               2                   2           Café da manha   \n",
       "\n",
       "  nacionalidade forma_de_reserva  ja_se_hospedou_anterioremente  \\\n",
       "0        France          Agência                              0   \n",
       "1         Spain          Agência                              0   \n",
       "2       Belgium          Agência                              0   \n",
       "3         Spain          Agência                              0   \n",
       "4         Spain          Agência                              0   \n",
       "\n",
       "  tipo_do_quarto_reservado  ...  regime_de_alimentacao_Café da manha  \\\n",
       "0                 Amethyst  ...                                    0   \n",
       "1                 Amethyst  ...                                    1   \n",
       "2                 Amethyst  ...                                    1   \n",
       "3                 Amethyst  ...                                    1   \n",
       "4                 Amethyst  ...                                    1   \n",
       "\n",
       "   regime_de_alimentacao_Café da manha e jantar  \\\n",
       "0                                             1   \n",
       "1                                             0   \n",
       "2                                             0   \n",
       "3                                             0   \n",
       "4                                             0   \n",
       "\n",
       "   regime_de_alimentacao_Café da manha, almoco e jantar  \\\n",
       "0                                                  0      \n",
       "1                                                  0      \n",
       "2                                                  0      \n",
       "3                                                  0      \n",
       "4                                                  0      \n",
       "\n",
       "  regime_de_alimentacao_Sem refeicao  forma_de_reserva_Agência  \\\n",
       "0                                  0                         1   \n",
       "1                                  0                         1   \n",
       "2                                  0                         1   \n",
       "3                                  0                         1   \n",
       "4                                  0                         1   \n",
       "\n",
       "   forma_de_reserva_B2B  forma_de_reserva_Balcão  \\\n",
       "0                     0                        0   \n",
       "1                     0                        0   \n",
       "2                     0                        0   \n",
       "3                     0                        0   \n",
       "4                     0                        0   \n",
       "\n",
       "   reserva_com_observacoes_1 a 3  reserva_com_observacoes_Mais de 3  \\\n",
       "0                              0                                  0   \n",
       "1                              0                                  0   \n",
       "2                              1                                  0   \n",
       "3                              0                                  0   \n",
       "4                              0                                  0   \n",
       "\n",
       "   reserva_com_observacoes_Nenhuma  \n",
       "0                                1  \n",
       "1                                1  \n",
       "2                                0  \n",
       "3                                1  \n",
       "4                                1  \n",
       "\n",
       "[5 rows x 28 columns]"
      ]
     },
     "execution_count": 46,
     "metadata": {},
     "output_type": "execute_result"
    }
   ],
   "source": [
    "df5.head()"
   ]
  },
  {
   "cell_type": "code",
   "execution_count": 47,
   "id": "b7d3b67a",
   "metadata": {
    "ExecuteTime": {
     "end_time": "2023-03-26T18:20:49.285352Z",
     "start_time": "2023-03-26T18:20:49.186503Z"
    }
   },
   "outputs": [],
   "source": [
    "cols_drop =['regime_de_alimentacao', 'forma_de_reserva', 'reserva_com_observacoes', 'nacionalidade', 'tipo_do_quarto_reservado']\n",
    "df5 = df4.drop(cols_drop, axis=1)"
   ]
  },
  {
   "cell_type": "code",
   "execution_count": 48,
   "id": "9bb85855",
   "metadata": {
    "ExecuteTime": {
     "end_time": "2023-03-26T18:20:49.396371Z",
     "start_time": "2023-03-26T18:20:49.289911Z"
    }
   },
   "outputs": [],
   "source": [
    "# split dataset into features and target\n",
    "#X = df5.drop(['id', 'reserva_cancelada'], axis=1)\n",
    "X = df5.drop(['reserva_cancelada'], axis=1)\n",
    "y = df5['reserva_cancelada']"
   ]
  },
  {
   "cell_type": "code",
   "execution_count": 49,
   "id": "a2f86b46",
   "metadata": {
    "ExecuteTime": {
     "end_time": "2023-03-26T18:20:49.574396Z",
     "start_time": "2023-03-26T18:20:49.401128Z"
    }
   },
   "outputs": [],
   "source": [
    "# split dataset into train and test\n",
    "X_train, X_val, y_train, y_val = ms.train_test_split(X, y, test_size=0.2)"
   ]
  },
  {
   "cell_type": "markdown",
   "id": "ce01b1fc",
   "metadata": {},
   "source": [
    "## 1.5. Data Dtypes"
   ]
  },
  {
   "cell_type": "markdown",
   "id": "47cadf95",
   "metadata": {},
   "source": [
    "# 6.0. Machine Learning Model"
   ]
  },
  {
   "cell_type": "markdown",
   "id": "521815db",
   "metadata": {},
   "source": [
    "## 6.1. XGBoost"
   ]
  },
  {
   "cell_type": "code",
   "execution_count": 50,
   "id": "27aa76ae",
   "metadata": {
    "ExecuteTime": {
     "end_time": "2023-03-26T18:23:52.926995Z",
     "start_time": "2023-03-26T18:20:49.578345Z"
    }
   },
   "outputs": [],
   "source": [
    "# model definition\n",
    "xgb_model = XGBClassifier(n_estimators=1000, max_depth=10, min_child_weight=2 )\n",
    "#xgb_model = XGBClassifier()\n",
    "\n",
    "\n",
    "# model training\n",
    "xgb_model.fit(X_train,y_train.values.ravel())\n",
    "\n",
    "# model prediction\n",
    "#yhat = xgb_model.predict_proba(X_val)\n",
    "yhat_xgb = xgb_model.predict(X_val)"
   ]
  },
  {
   "cell_type": "code",
   "execution_count": 51,
   "id": "90be8e09",
   "metadata": {
    "ExecuteTime": {
     "end_time": "2023-03-26T18:23:52.935326Z",
     "start_time": "2023-03-26T18:23:52.931093Z"
    }
   },
   "outputs": [],
   "source": [
    "# treshold = 0.8\n",
    "# yhat = (yhat[:,1] >= treshold).astype(int)"
   ]
  },
  {
   "cell_type": "code",
   "execution_count": 52,
   "id": "8c5b695e",
   "metadata": {
    "ExecuteTime": {
     "end_time": "2023-03-26T18:23:53.044644Z",
     "start_time": "2023-03-26T18:23:52.939084Z"
    }
   },
   "outputs": [],
   "source": [
    "# yhat = yhat[:,1]\n",
    "\n",
    "# precision, recall, tresholds = mt.precision_recall_curve(y_val, yhat)\n",
    "\n",
    "# plt.plot(recall, precision, marker='.', label='Model')\n",
    "\n",
    "# plt.plot(tresholds, precision[:-1], 'b--', label='Precision')\n",
    "# plt.plot(tresholds, recall[:-1], 'g-', label='Recall')\n"
   ]
  },
  {
   "cell_type": "code",
   "execution_count": 53,
   "id": "cfeee750",
   "metadata": {
    "ExecuteTime": {
     "end_time": "2023-03-26T18:23:53.201043Z",
     "start_time": "2023-03-26T18:23:53.047807Z"
    }
   },
   "outputs": [],
   "source": [
    "pickle.dump(xgb_model, open('/home/felipe/repos/hackday/xgb_model.pkl', 'wb' ))"
   ]
  },
  {
   "cell_type": "markdown",
   "id": "1c0e6c6c",
   "metadata": {},
   "source": [
    "### 6.1.1. Performance"
   ]
  },
  {
   "cell_type": "code",
   "execution_count": 54,
   "id": "c1778da7",
   "metadata": {
    "ExecuteTime": {
     "end_time": "2023-03-26T18:23:53.299045Z",
     "start_time": "2023-03-26T18:23:53.205307Z"
    }
   },
   "outputs": [],
   "source": [
    "precision = mt.precision_score(y_val, yhat_xgb)\n",
    "recall = mt.recall_score(y_val, yhat_xgb)\n",
    "f1_score = mt.f1_score(y_val, yhat_xgb, average='macro')"
   ]
  },
  {
   "cell_type": "code",
   "execution_count": 55,
   "id": "cc3566ef",
   "metadata": {
    "ExecuteTime": {
     "end_time": "2023-03-26T18:23:53.378776Z",
     "start_time": "2023-03-26T18:23:53.303143Z"
    }
   },
   "outputs": [
    {
     "name": "stdout",
     "output_type": "stream",
     "text": [
      "Precision: 0.96282\n",
      "Recall: 0.96428\n",
      "F1 Score: 0.97104\n"
     ]
    }
   ],
   "source": [
    "print('Precision: {:.5f}'.format(precision))\n",
    "print('Recall: {:.5f}'.format(recall))\n",
    "print('F1 Score: {:.5f}'.format(f1_score))"
   ]
  },
  {
   "cell_type": "markdown",
   "id": "815d5b50",
   "metadata": {
    "heading_collapsed": true
   },
   "source": [
    "## 6.2. Logistic Regression"
   ]
  },
  {
   "cell_type": "code",
   "execution_count": 56,
   "id": "499a9402",
   "metadata": {
    "ExecuteTime": {
     "end_time": "2023-03-26T18:23:53.466973Z",
     "start_time": "2023-03-26T18:23:53.383735Z"
    },
    "hidden": true
   },
   "outputs": [],
   "source": [
    "# # model definition\n",
    "# lr_model = lm.LogisticRegression()\n",
    "\n",
    "# # model training\n",
    "# lr_model.fit(X_train, y_train)\n",
    "\n",
    "# # model prediction\n",
    "# yhat_lr = lr_model.predict(X_val)\n"
   ]
  },
  {
   "cell_type": "markdown",
   "id": "7edebdad",
   "metadata": {
    "hidden": true
   },
   "source": [
    "### 6.5.1. Performance"
   ]
  },
  {
   "cell_type": "code",
   "execution_count": 57,
   "id": "aec577fc",
   "metadata": {
    "ExecuteTime": {
     "end_time": "2023-03-26T18:23:53.555419Z",
     "start_time": "2023-03-26T18:23:53.469896Z"
    },
    "hidden": true
   },
   "outputs": [],
   "source": [
    "# precision = mt.precision_score(y_val, yhat_lr)\n",
    "# recall = mt.recall_score(y_val, yhat_lr)\n",
    "# f1_score = mt.f1_score(y_val, yhat_lr, average='macro')"
   ]
  },
  {
   "cell_type": "code",
   "execution_count": 58,
   "id": "322a64bb",
   "metadata": {
    "ExecuteTime": {
     "end_time": "2023-03-26T18:23:53.655153Z",
     "start_time": "2023-03-26T18:23:53.559877Z"
    },
    "hidden": true
   },
   "outputs": [],
   "source": [
    "# print('Precision: {:.5f}'.format(precision))\n",
    "# print('Recall: {:.5f}'.format(recall))\n",
    "# print('F1 Score: {:.5f}'.format(f1_score))"
   ]
  },
  {
   "cell_type": "markdown",
   "id": "1c9f704d",
   "metadata": {},
   "source": [
    "## 6.3. Gradiente Boosting"
   ]
  },
  {
   "cell_type": "code",
   "execution_count": 59,
   "id": "5596ff9c",
   "metadata": {
    "ExecuteTime": {
     "end_time": "2023-03-26T18:24:41.932380Z",
     "start_time": "2023-03-26T18:23:53.658528Z"
    }
   },
   "outputs": [],
   "source": [
    "## model definition\n",
    "gdr_model = en.GradientBoostingClassifier(n_estimators=500, random_state=42)\n",
    "\n",
    "# model training\n",
    "gdr_model.fit(X_train, y_train)\n",
    "\n",
    "# model prediction\n",
    "yhat_gb = gdr_model.predict(X_val)"
   ]
  },
  {
   "cell_type": "code",
   "execution_count": 60,
   "id": "2f913f19",
   "metadata": {
    "ExecuteTime": {
     "end_time": "2023-03-26T18:24:42.111284Z",
     "start_time": "2023-03-26T18:24:41.936911Z"
    }
   },
   "outputs": [],
   "source": [
    "pickle.dump(gdr_model, open('/home/felipe/repos/hackday/gdr_model.pkl', 'wb' ))"
   ]
  },
  {
   "cell_type": "markdown",
   "id": "1d2b55b0",
   "metadata": {},
   "source": [
    "### 6.5.1. Performance"
   ]
  },
  {
   "cell_type": "code",
   "execution_count": 61,
   "id": "f944d3f7",
   "metadata": {
    "ExecuteTime": {
     "end_time": "2023-03-26T18:24:42.157794Z",
     "start_time": "2023-03-26T18:24:42.114580Z"
    }
   },
   "outputs": [],
   "source": [
    "precision = mt.precision_score(y_val, yhat_gb)\n",
    "recall = mt.recall_score(y_val, yhat_gb)\n",
    "f1_score = mt.f1_score(y_val, yhat_gb, average='macro')"
   ]
  },
  {
   "cell_type": "code",
   "execution_count": 62,
   "id": "b16961ee",
   "metadata": {
    "ExecuteTime": {
     "end_time": "2023-03-26T18:24:42.237182Z",
     "start_time": "2023-03-26T18:24:42.168075Z"
    }
   },
   "outputs": [
    {
     "name": "stdout",
     "output_type": "stream",
     "text": [
      "Precision: 0.95327\n",
      "Recall: 0.95744\n",
      "F1 Score: 0.96450\n"
     ]
    }
   ],
   "source": [
    "print('Precision: {:.5f}'.format(precision))\n",
    "print('Recall: {:.5f}'.format(recall))\n",
    "print('F1 Score: {:.5f}'.format(f1_score))"
   ]
  },
  {
   "cell_type": "markdown",
   "id": "19ac4180",
   "metadata": {},
   "source": [
    "## 6.4. Random Forest"
   ]
  },
  {
   "cell_type": "code",
   "execution_count": 63,
   "id": "fe0e74b2",
   "metadata": {
    "ExecuteTime": {
     "end_time": "2023-03-26T18:25:25.925028Z",
     "start_time": "2023-03-26T18:24:42.241960Z"
    }
   },
   "outputs": [],
   "source": [
    "# model definition\n",
    "rf_model = en.RandomForestClassifier(n_estimators=1000, random_state=42, n_jobs=-1)\n",
    "\n",
    "# model training\n",
    "rf_model.fit(X_train, y_train)\n",
    "\n",
    "# model prediction\n",
    "yhat_rf = rf_model.predict(X_val)"
   ]
  },
  {
   "cell_type": "code",
   "execution_count": 64,
   "id": "bbebd841",
   "metadata": {
    "ExecuteTime": {
     "end_time": "2023-03-26T18:25:34.808624Z",
     "start_time": "2023-03-26T18:25:25.928922Z"
    }
   },
   "outputs": [],
   "source": [
    "pickle.dump(rf_model, open('/home/felipe/repos/hackday/rf_model.pkl', 'wb' ))"
   ]
  },
  {
   "cell_type": "markdown",
   "id": "30a62536",
   "metadata": {},
   "source": [
    "### 6.5.1. Performance"
   ]
  },
  {
   "cell_type": "code",
   "execution_count": 65,
   "id": "cead0a0e",
   "metadata": {
    "ExecuteTime": {
     "end_time": "2023-03-26T18:25:34.860074Z",
     "start_time": "2023-03-26T18:25:34.811073Z"
    }
   },
   "outputs": [],
   "source": [
    "precision = mt.precision_score(y_val, yhat_rf)\n",
    "recall = mt.recall_score(y_val, yhat_rf)\n",
    "f1_score = mt.f1_score(y_val, yhat_rf, average='macro')"
   ]
  },
  {
   "cell_type": "code",
   "execution_count": 66,
   "id": "1e1415d0",
   "metadata": {
    "ExecuteTime": {
     "end_time": "2023-03-26T18:25:36.397924Z",
     "start_time": "2023-03-26T18:25:34.862849Z"
    }
   },
   "outputs": [
    {
     "name": "stdout",
     "output_type": "stream",
     "text": [
      "Precision: 0.95840\n",
      "Recall: 0.96314\n",
      "F1 Score: 0.96880\n"
     ]
    }
   ],
   "source": [
    "print('Precision: {:.5f}'.format(precision))\n",
    "print('Recall: {:.5f}'.format(recall))\n",
    "print('F1 Score: {:.5f}'.format(f1_score))"
   ]
  },
  {
   "cell_type": "markdown",
   "id": "43228420",
   "metadata": {
    "heading_collapsed": true
   },
   "source": [
    "## 6.5. SVC"
   ]
  },
  {
   "cell_type": "code",
   "execution_count": 67,
   "id": "c0c6fffc",
   "metadata": {
    "ExecuteTime": {
     "end_time": "2023-03-26T18:25:36.863599Z",
     "start_time": "2023-03-26T18:25:36.401486Z"
    },
    "hidden": true
   },
   "outputs": [],
   "source": [
    "# # model definition\n",
    "# svc_model = svm.SVC()\n",
    "\n",
    "# # model training\n",
    "# svc_model.fit(X_train, y_train)\n",
    "\n",
    "# # model prediction\n",
    "# yhat_svc = svc_model.predict(X_val)"
   ]
  },
  {
   "cell_type": "code",
   "execution_count": 68,
   "id": "f04ffe1f",
   "metadata": {
    "ExecuteTime": {
     "end_time": "2023-03-26T18:25:36.975947Z",
     "start_time": "2023-03-26T18:25:36.866494Z"
    },
    "hidden": true
   },
   "outputs": [],
   "source": [
    "#pickle.dump(rf_model, open('/home/felipe/repos/hackday/rf_model.pkl', 'wb' ))"
   ]
  },
  {
   "cell_type": "markdown",
   "id": "4be40d38",
   "metadata": {
    "heading_collapsed": true,
    "hidden": true
   },
   "source": [
    "### 6.5.1. Performance"
   ]
  },
  {
   "cell_type": "code",
   "execution_count": 69,
   "id": "7348604b",
   "metadata": {
    "ExecuteTime": {
     "end_time": "2023-03-26T18:25:37.241999Z",
     "start_time": "2023-03-26T18:25:36.977958Z"
    },
    "hidden": true
   },
   "outputs": [],
   "source": [
    "# precision = mt.precision_score(y_val, yhat_svc)\n",
    "# recall = mt.recall_score(y_val, yhat_svc)\n",
    "# f1_score = mt.f1_score(y_val, yhat_svc, average='macro')"
   ]
  },
  {
   "cell_type": "code",
   "execution_count": 70,
   "id": "03f2b404",
   "metadata": {
    "ExecuteTime": {
     "end_time": "2023-03-26T18:25:37.375150Z",
     "start_time": "2023-03-26T18:25:37.244274Z"
    },
    "hidden": true
   },
   "outputs": [],
   "source": [
    "# print('Precision: {:.5f}'.format(precision))\n",
    "# print('Recall: {:.5f}'.format(recall))\n",
    "# print('F1 Score: {:.5f}'.format(f1_score))"
   ]
  },
  {
   "cell_type": "markdown",
   "id": "79576f2b",
   "metadata": {
    "ExecuteTime": {
     "end_time": "2023-03-25T15:27:20.978363Z",
     "start_time": "2023-03-25T15:27:20.975764Z"
    }
   },
   "source": [
    "# 8.0. Ensemble"
   ]
  },
  {
   "cell_type": "code",
   "execution_count": 71,
   "id": "97ed0e7e",
   "metadata": {
    "ExecuteTime": {
     "end_time": "2023-03-26T18:25:38.065390Z",
     "start_time": "2023-03-26T18:25:37.377893Z"
    }
   },
   "outputs": [],
   "source": [
    "#ensemble = pd.DataFrame([yhat_xgb, yhat_lr, yhat_gb, yhat_rf, yhat_svc]).T\n",
    "ensemble = pd.DataFrame([yhat_xgb, yhat_gb, yhat_rf]).T"
   ]
  },
  {
   "cell_type": "code",
   "execution_count": 72,
   "id": "9c5ad05a",
   "metadata": {
    "ExecuteTime": {
     "end_time": "2023-03-26T18:25:38.072964Z",
     "start_time": "2023-03-26T18:25:38.068281Z"
    }
   },
   "outputs": [],
   "source": [
    "#ensemble.columns = ['yhat_xgb', 'yhat_lr', 'yhat_gb', 'yhat_rf', 'yhat_svc']\n",
    "ensemble.columns = ['yhat_xgb', 'yhat_gb', 'yhat_rf']"
   ]
  },
  {
   "cell_type": "code",
   "execution_count": 73,
   "id": "d70c7150",
   "metadata": {
    "ExecuteTime": {
     "end_time": "2023-03-26T18:25:42.583895Z",
     "start_time": "2023-03-26T18:25:38.076937Z"
    }
   },
   "outputs": [],
   "source": [
    "moda = ensemble.mode(axis=1)[0] # Encontra a moda das colunas e cria uma nova Series\n",
    "ensemble['pred'] = moda # Adiciona a nova coluna ao DataFrame"
   ]
  },
  {
   "cell_type": "markdown",
   "id": "d6f32f40",
   "metadata": {},
   "source": [
    "### 6.5.1. Performance"
   ]
  },
  {
   "cell_type": "code",
   "execution_count": 74,
   "id": "fd4872b4",
   "metadata": {
    "ExecuteTime": {
     "end_time": "2023-03-26T18:25:42.593752Z",
     "start_time": "2023-03-26T18:25:42.586748Z"
    }
   },
   "outputs": [],
   "source": [
    "yhat_en = ensemble['pred']"
   ]
  },
  {
   "cell_type": "code",
   "execution_count": 75,
   "id": "3af89cfb",
   "metadata": {
    "ExecuteTime": {
     "end_time": "2023-03-26T18:25:42.746597Z",
     "start_time": "2023-03-26T18:25:42.597752Z"
    }
   },
   "outputs": [],
   "source": [
    "precision = mt.precision_score(y_val, yhat_en)\n",
    "recall = mt.recall_score(y_val, yhat_en)\n",
    "f1_score = mt.f1_score(y_val, yhat_en, average='macro')"
   ]
  },
  {
   "cell_type": "code",
   "execution_count": 76,
   "id": "e3d13f86",
   "metadata": {
    "ExecuteTime": {
     "end_time": "2023-03-26T18:25:42.919901Z",
     "start_time": "2023-03-26T18:25:42.749528Z"
    }
   },
   "outputs": [
    {
     "name": "stdout",
     "output_type": "stream",
     "text": [
      "Precision: 0.96473\n",
      "Recall: 0.96675\n",
      "F1 Score: 0.97278\n"
     ]
    }
   ],
   "source": [
    "print('Precision: {:.5f}'.format(precision))\n",
    "print('Recall: {:.5f}'.format(recall))\n",
    "print('F1 Score: {:.5f}'.format(f1_score))"
   ]
  },
  {
   "cell_type": "code",
   "execution_count": null,
   "id": "07555f96",
   "metadata": {},
   "outputs": [],
   "source": []
  }
 ],
 "metadata": {
  "kernelspec": {
   "display_name": "hackday",
   "language": "python",
   "name": "hackday"
  },
  "language_info": {
   "codemirror_mode": {
    "name": "ipython",
    "version": 3
   },
   "file_extension": ".py",
   "mimetype": "text/x-python",
   "name": "python",
   "nbconvert_exporter": "python",
   "pygments_lexer": "ipython3",
   "version": "3.11.2"
  }
 },
 "nbformat": 4,
 "nbformat_minor": 5
}
