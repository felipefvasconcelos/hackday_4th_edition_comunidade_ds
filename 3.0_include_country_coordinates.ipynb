{
 "cells": [
  {
   "cell_type": "markdown",
   "id": "be9b865f",
   "metadata": {},
   "source": [
    "# 0.0. Imports"
   ]
  },
  {
   "cell_type": "code",
   "execution_count": 1,
   "id": "c3e45637",
   "metadata": {
    "ExecuteTime": {
     "end_time": "2023-03-25T22:24:04.065992Z",
     "start_time": "2023-03-25T22:23:46.604253Z"
    }
   },
   "outputs": [
    {
     "name": "stderr",
     "output_type": "stream",
     "text": [
      "/home/felipe/repos/hackday/hackday/lib/python3.11/site-packages/tqdm/auto.py:22: TqdmWarning: IProgress not found. Please update jupyter and ipywidgets. See https://ipywidgets.readthedocs.io/en/stable/user_install.html\n",
      "  from .autonotebook import tqdm as notebook_tqdm\n"
     ]
    }
   ],
   "source": [
    "import pickle\n",
    "import inflection\n",
    "\n",
    "import numpy as np\n",
    "import pandas as pd\n",
    "import seaborn as sn\n",
    "\n",
    "from xgboost import XGBClassifier\n",
    "from ydata_profiling import ProfileReport\n",
    "\n",
    "from sklearn import metrics as mt\n",
    "from sklearn import ensemble as en\n",
    "from sklearn import model_selection as ms\n",
    "from sklearn import preprocessing   as pp\n",
    "\n",
    "from sklearn import linear_model as lm\n",
    "from sklearn import ensemble as en\n"
   ]
  },
  {
   "cell_type": "markdown",
   "id": "40f1f5cd",
   "metadata": {
    "ExecuteTime": {
     "end_time": "2023-03-25T01:45:10.964211Z",
     "start_time": "2023-03-25T01:45:10.431585Z"
    }
   },
   "source": [
    "# 1.0. Data Description"
   ]
  },
  {
   "cell_type": "markdown",
   "id": "a44e7938",
   "metadata": {},
   "source": [
    "## 1.1. Loading Data"
   ]
  },
  {
   "cell_type": "code",
   "execution_count": 2,
   "id": "9d3310b9",
   "metadata": {
    "ExecuteTime": {
     "end_time": "2023-03-25T22:24:04.604502Z",
     "start_time": "2023-03-25T22:24:04.070364Z"
    }
   },
   "outputs": [],
   "source": [
    "df_raw = pd.read_csv('data/train.csv')\n",
    "df_country = pd.read_csv('data/country_base_2.csv')"
   ]
  },
  {
   "cell_type": "code",
   "execution_count": 3,
   "id": "1a00cb07",
   "metadata": {
    "ExecuteTime": {
     "end_time": "2023-03-25T22:24:04.691488Z",
     "start_time": "2023-03-25T22:24:04.609075Z"
    }
   },
   "outputs": [],
   "source": [
    "df1 = pd.merge(df_raw, df_country, on='Nacionalidade', how='left')"
   ]
  },
  {
   "cell_type": "code",
   "execution_count": 4,
   "id": "703e4dd2",
   "metadata": {
    "ExecuteTime": {
     "end_time": "2023-03-25T22:24:04.806929Z",
     "start_time": "2023-03-25T22:24:04.695087Z"
    }
   },
   "outputs": [],
   "source": [
    "df1 = df1.drop('country', axis=1)"
   ]
  },
  {
   "cell_type": "markdown",
   "id": "fc0a7f9f",
   "metadata": {},
   "source": [
    "## 1.2. Rename Columns"
   ]
  },
  {
   "cell_type": "code",
   "execution_count": 5,
   "id": "c37cd130",
   "metadata": {
    "ExecuteTime": {
     "end_time": "2023-03-25T22:24:04.906582Z",
     "start_time": "2023-03-25T22:24:04.813375Z"
    }
   },
   "outputs": [],
   "source": [
    "cols_old = ['id', 'Classificacao_do_hotel', 'Meses_da_reserva_ate_o_check-in', 'Numero_de_pernoites_reservadas', \n",
    "            'Numero_de_hospedes', 'Regime_de_alimentacao', 'Nacionalidade', 'Forma_de_Reserva',\n",
    "            'Ja_se_hospedou_anterioremente', 'Tipo_do_quarto_reservado', 'Reserva_feita_por_agencia_de_turismo', \n",
    "            'Reserva_feita_por_empresa', 'Reserva_com_Estacionamento', 'Reserva_com_Observacoes', \n",
    "            'Reserva_Cancelada', 'latitude', 'longitude']\n",
    "\n",
    "snakecase = lambda x: inflection.underscore(x)\n",
    "cols_new = list(map(snakecase, cols_old))\n",
    "df1.columns = cols_new"
   ]
  },
  {
   "cell_type": "markdown",
   "id": "d4e724b0",
   "metadata": {},
   "source": [
    "## 1.3. Data Dimensions"
   ]
  },
  {
   "cell_type": "code",
   "execution_count": 6,
   "id": "8b135b2f",
   "metadata": {
    "ExecuteTime": {
     "end_time": "2023-03-25T22:24:05.006559Z",
     "start_time": "2023-03-25T22:24:04.909956Z"
    }
   },
   "outputs": [
    {
     "name": "stdout",
     "output_type": "stream",
     "text": [
      "Number of rows: 72159\n",
      "Number of cols: 17\n"
     ]
    }
   ],
   "source": [
    "print('Number of rows: {}'.format(df1.shape[0]))\n",
    "print('Number of cols: {}'.format(df1.shape[1]))"
   ]
  },
  {
   "cell_type": "markdown",
   "id": "292ec09b",
   "metadata": {},
   "source": [
    "## 1.4. Check NA"
   ]
  },
  {
   "cell_type": "code",
   "execution_count": 7,
   "id": "2cf7ddae",
   "metadata": {
    "ExecuteTime": {
     "end_time": "2023-03-25T22:24:05.400598Z",
     "start_time": "2023-03-25T22:24:05.010086Z"
    }
   },
   "outputs": [
    {
     "data": {
      "text/plain": [
       "id                                         0\n",
       "classificacao_do_hotel                     0\n",
       "meses_da_reserva_ate_o_check_in            0\n",
       "numero_de_pernoites_reservadas             0\n",
       "numero_de_hospedes                         3\n",
       "regime_de_alimentacao                      0\n",
       "nacionalidade                           1093\n",
       "forma_de_reserva                           0\n",
       "ja_se_hospedou_anterioremente              0\n",
       "tipo_do_quarto_reservado                   0\n",
       "reserva_feita_por_agencia_de_turismo       0\n",
       "reserva_feita_por_empresa                  0\n",
       "reserva_com_estacionamento                 0\n",
       "reserva_com_observacoes                    0\n",
       "reserva_cancelada                          0\n",
       "latitude                                1093\n",
       "longitude                               1093\n",
       "dtype: int64"
      ]
     },
     "execution_count": 7,
     "metadata": {},
     "output_type": "execute_result"
    }
   ],
   "source": [
    "df1.isna().sum()#/len(df1)"
   ]
  },
  {
   "cell_type": "markdown",
   "id": "9d4a1ffc",
   "metadata": {},
   "source": [
    "### 1.4.1. Replace NA"
   ]
  },
  {
   "cell_type": "code",
   "execution_count": 8,
   "id": "e84b84df",
   "metadata": {
    "ExecuteTime": {
     "end_time": "2023-03-25T22:24:05.626057Z",
     "start_time": "2023-03-25T22:24:05.404699Z"
    }
   },
   "outputs": [],
   "source": [
    "#df1['numero_de_hospedes'] = df1['numero_de_hospedes'].fillna(2)\n",
    "df1 = df1.dropna()"
   ]
  },
  {
   "cell_type": "code",
   "execution_count": 9,
   "id": "7d30976c",
   "metadata": {
    "ExecuteTime": {
     "end_time": "2023-03-25T22:24:05.640058Z",
     "start_time": "2023-03-25T22:24:05.634001Z"
    }
   },
   "outputs": [],
   "source": [
    "# import pandas as pd\n",
    "# from sklearn.linear_model import LinearRegression\n",
    "# from sklearn.impute import SimpleImputer\n",
    "\n",
    "# # carregar dados de exemplo com valores ausentes\n",
    "# df = pd.read_csv('exemplo.csv')\n",
    "\n",
    "# # separar os dados em variáveis independentes e dependentes\n",
    "# X = df.drop('Target', axis=1)\n",
    "# y = df['Target']\n",
    "\n",
    "# # criar um objeto SimpleImputer para imputar valores ausentes\n",
    "# imputer = SimpleImputer(strategy='mean')\n",
    "\n",
    "# # imputar os valores ausentes usando regressão linear\n",
    "# for column in X.columns:\n",
    "#     X_column = X[[column]]\n",
    "#     X_column_with_nulls = X_column[X_column[column].isnull()]\n",
    "#     X_column_without_nulls = X_column[X_column[column].notnull()]\n",
    "#     y_without_nulls = y[X_column[column].notnull()]\n",
    "#     model = LinearRegression()\n",
    "#     model.fit(X_column_without_nulls, y_without_nulls)\n",
    "#     y_pred = model.predict(X_column_with_nulls)\n",
    "#     X_column_with_nulls[column] = y_pred\n",
    "#     X[[column]] = pd.concat([X_column_with_nulls, X_column_without_nulls], axis=0)\n",
    "\n",
    "# # juntar as variáveis independentes e dependentes de volta em um dataframe\n",
    "# df_imputed = pd.concat([X, y], axis=1)\n",
    "\n",
    "# # exibir o dataframe resultante\n",
    "# print(df_imputed)"
   ]
  },
  {
   "cell_type": "markdown",
   "id": "4682fcd5",
   "metadata": {},
   "source": [
    "## 1.5. Data Dtypes"
   ]
  },
  {
   "cell_type": "code",
   "execution_count": 10,
   "id": "abdcd99b",
   "metadata": {
    "ExecuteTime": {
     "end_time": "2023-03-25T22:24:05.770487Z",
     "start_time": "2023-03-25T22:24:05.643022Z"
    }
   },
   "outputs": [
    {
     "data": {
      "text/plain": [
       "id                                        int64\n",
       "classificacao_do_hotel                   object\n",
       "meses_da_reserva_ate_o_check_in           int64\n",
       "numero_de_pernoites_reservadas            int64\n",
       "numero_de_hospedes                      float64\n",
       "regime_de_alimentacao                    object\n",
       "nacionalidade                            object\n",
       "forma_de_reserva                         object\n",
       "ja_se_hospedou_anterioremente            object\n",
       "tipo_do_quarto_reservado                 object\n",
       "reserva_feita_por_agencia_de_turismo     object\n",
       "reserva_feita_por_empresa                object\n",
       "reserva_com_estacionamento               object\n",
       "reserva_com_observacoes                  object\n",
       "reserva_cancelada                         int64\n",
       "latitude                                float64\n",
       "longitude                               float64\n",
       "dtype: object"
      ]
     },
     "execution_count": 10,
     "metadata": {},
     "output_type": "execute_result"
    }
   ],
   "source": [
    "df1.dtypes"
   ]
  },
  {
   "cell_type": "markdown",
   "id": "586a208c",
   "metadata": {},
   "source": [
    "### 1.5.1. Change Dtypes"
   ]
  },
  {
   "cell_type": "code",
   "execution_count": 11,
   "id": "7694973f",
   "metadata": {
    "ExecuteTime": {
     "end_time": "2023-03-25T22:24:05.880329Z",
     "start_time": "2023-03-25T22:24:05.773425Z"
    }
   },
   "outputs": [],
   "source": [
    "df1['numero_de_hospedes'] = df1['numero_de_hospedes'].astype('int')"
   ]
  },
  {
   "cell_type": "markdown",
   "id": "9729dd5a",
   "metadata": {},
   "source": [
    "## 1.6. Data Balancing"
   ]
  },
  {
   "cell_type": "code",
   "execution_count": 12,
   "id": "8f61ac3b",
   "metadata": {
    "ExecuteTime": {
     "end_time": "2023-03-25T22:24:05.989785Z",
     "start_time": "2023-03-25T22:24:05.885111Z"
    }
   },
   "outputs": [
    {
     "data": {
      "text/plain": [
       "0    0.62674\n",
       "1    0.37326\n",
       "Name: reserva_cancelada, dtype: float64"
      ]
     },
     "execution_count": 12,
     "metadata": {},
     "output_type": "execute_result"
    }
   ],
   "source": [
    "df1['reserva_cancelada'].value_counts(normalize=True)"
   ]
  },
  {
   "cell_type": "markdown",
   "id": "a4e60ff0",
   "metadata": {},
   "source": [
    "## 1.7. Pandas Profiling"
   ]
  },
  {
   "cell_type": "code",
   "execution_count": 13,
   "id": "1d1e4c82",
   "metadata": {
    "ExecuteTime": {
     "end_time": "2023-03-25T22:24:06.071859Z",
     "start_time": "2023-03-25T22:24:05.994104Z"
    }
   },
   "outputs": [],
   "source": [
    "# prof = ProfileReport(df_raw)\n",
    "# prof.to_file(output_file='output.html')"
   ]
  },
  {
   "cell_type": "markdown",
   "id": "b0a6e176",
   "metadata": {},
   "source": [
    "# 2.0. Feature Engineering"
   ]
  },
  {
   "cell_type": "code",
   "execution_count": 14,
   "id": "3ec87883",
   "metadata": {
    "ExecuteTime": {
     "end_time": "2023-03-25T22:24:06.193185Z",
     "start_time": "2023-03-25T22:24:06.075521Z"
    }
   },
   "outputs": [],
   "source": [
    "df2 = df1.copy()"
   ]
  },
  {
   "cell_type": "markdown",
   "id": "66cc9a58",
   "metadata": {},
   "source": [
    "# 3.0. Data Filtering"
   ]
  },
  {
   "cell_type": "code",
   "execution_count": 15,
   "id": "47c68e0f",
   "metadata": {
    "ExecuteTime": {
     "end_time": "2023-03-25T22:24:06.362273Z",
     "start_time": "2023-03-25T22:24:06.195856Z"
    }
   },
   "outputs": [],
   "source": [
    "df3 = df2.copy()"
   ]
  },
  {
   "cell_type": "code",
   "execution_count": 16,
   "id": "866f415e",
   "metadata": {
    "ExecuteTime": {
     "end_time": "2023-03-25T22:24:06.500582Z",
     "start_time": "2023-03-25T22:24:06.366013Z"
    }
   },
   "outputs": [],
   "source": [
    "# reserva_feita_por_agencia_de_turismo reserva_feita_por_empresa\n",
    "df3 = df3.drop(['reserva_feita_por_agencia_de_turismo', 'reserva_feita_por_empresa'], axis=1)"
   ]
  },
  {
   "cell_type": "markdown",
   "id": "55684f1c",
   "metadata": {},
   "source": [
    "# 4.0. Data Preparation "
   ]
  },
  {
   "cell_type": "code",
   "execution_count": 17,
   "id": "3ad9776c",
   "metadata": {
    "ExecuteTime": {
     "end_time": "2023-03-25T22:24:06.602934Z",
     "start_time": "2023-03-25T22:24:06.505453Z"
    }
   },
   "outputs": [],
   "source": [
    "#df4 = df3.drop('nacionalidade', axis=1).copy()\n",
    "df4 = df3.copy()"
   ]
  },
  {
   "cell_type": "code",
   "execution_count": 18,
   "id": "8e1d4856",
   "metadata": {
    "ExecuteTime": {
     "end_time": "2023-03-25T22:24:06.734579Z",
     "start_time": "2023-03-25T22:24:06.607975Z"
    }
   },
   "outputs": [],
   "source": [
    "#tipo_do_quarto_reservado\n",
    "# criar um dicionário de frequência de cada categoria\n",
    "freq_dict = df4['tipo_do_quarto_reservado'].value_counts(normalize=True).to_dict()\n",
    "# aplicar o encoder ao dataframe\n",
    "df4['tipo_do_quarto_reservado_encoded'] = df4['tipo_do_quarto_reservado'].map(freq_dict)"
   ]
  },
  {
   "cell_type": "code",
   "execution_count": 19,
   "id": "d460ccb8",
   "metadata": {
    "ExecuteTime": {
     "end_time": "2023-03-25T22:24:06.932246Z",
     "start_time": "2023-03-25T22:24:06.738193Z"
    }
   },
   "outputs": [
    {
     "data": {
      "text/html": [
       "<div>\n",
       "<style scoped>\n",
       "    .dataframe tbody tr th:only-of-type {\n",
       "        vertical-align: middle;\n",
       "    }\n",
       "\n",
       "    .dataframe tbody tr th {\n",
       "        vertical-align: top;\n",
       "    }\n",
       "\n",
       "    .dataframe thead th {\n",
       "        text-align: right;\n",
       "    }\n",
       "</style>\n",
       "<table border=\"1\" class=\"dataframe\">\n",
       "  <thead>\n",
       "    <tr style=\"text-align: right;\">\n",
       "      <th></th>\n",
       "      <th>id</th>\n",
       "      <th>classificacao_do_hotel</th>\n",
       "      <th>meses_da_reserva_ate_o_check_in</th>\n",
       "      <th>numero_de_pernoites_reservadas</th>\n",
       "      <th>numero_de_hospedes</th>\n",
       "      <th>regime_de_alimentacao</th>\n",
       "      <th>nacionalidade</th>\n",
       "      <th>forma_de_reserva</th>\n",
       "      <th>ja_se_hospedou_anterioremente</th>\n",
       "      <th>tipo_do_quarto_reservado</th>\n",
       "      <th>reserva_com_estacionamento</th>\n",
       "      <th>reserva_com_observacoes</th>\n",
       "      <th>reserva_cancelada</th>\n",
       "      <th>latitude</th>\n",
       "      <th>longitude</th>\n",
       "      <th>tipo_do_quarto_reservado_encoded</th>\n",
       "    </tr>\n",
       "  </thead>\n",
       "  <tbody>\n",
       "    <tr>\n",
       "      <th>0</th>\n",
       "      <td>33571</td>\n",
       "      <td>5 estrelas</td>\n",
       "      <td>5</td>\n",
       "      <td>5</td>\n",
       "      <td>2</td>\n",
       "      <td>Café da manha e jantar</td>\n",
       "      <td>France</td>\n",
       "      <td>Agência</td>\n",
       "      <td>Não</td>\n",
       "      <td>Amethyst</td>\n",
       "      <td>Sim</td>\n",
       "      <td>Nenhuma</td>\n",
       "      <td>0</td>\n",
       "      <td>46227638.0</td>\n",
       "      <td>2213749.0</td>\n",
       "      <td>0.718447</td>\n",
       "    </tr>\n",
       "    <tr>\n",
       "      <th>1</th>\n",
       "      <td>82458</td>\n",
       "      <td>4 estrelas</td>\n",
       "      <td>167</td>\n",
       "      <td>3</td>\n",
       "      <td>2</td>\n",
       "      <td>Café da manha</td>\n",
       "      <td>Spain</td>\n",
       "      <td>Agência</td>\n",
       "      <td>Não</td>\n",
       "      <td>Amethyst</td>\n",
       "      <td>Não</td>\n",
       "      <td>Nenhuma</td>\n",
       "      <td>1</td>\n",
       "      <td>40463667.0</td>\n",
       "      <td>-374922.0</td>\n",
       "      <td>0.718447</td>\n",
       "    </tr>\n",
       "    <tr>\n",
       "      <th>2</th>\n",
       "      <td>94061</td>\n",
       "      <td>4 estrelas</td>\n",
       "      <td>4</td>\n",
       "      <td>3</td>\n",
       "      <td>2</td>\n",
       "      <td>Café da manha</td>\n",
       "      <td>Belgium</td>\n",
       "      <td>Agência</td>\n",
       "      <td>Não</td>\n",
       "      <td>Amethyst</td>\n",
       "      <td>Não</td>\n",
       "      <td>1 a 3</td>\n",
       "      <td>0</td>\n",
       "      <td>50503887.0</td>\n",
       "      <td>4469936.0</td>\n",
       "      <td>0.718447</td>\n",
       "    </tr>\n",
       "    <tr>\n",
       "      <th>3</th>\n",
       "      <td>75196</td>\n",
       "      <td>4 estrelas</td>\n",
       "      <td>13</td>\n",
       "      <td>2</td>\n",
       "      <td>2</td>\n",
       "      <td>Café da manha</td>\n",
       "      <td>Spain</td>\n",
       "      <td>Agência</td>\n",
       "      <td>Não</td>\n",
       "      <td>Amethyst</td>\n",
       "      <td>Não</td>\n",
       "      <td>Nenhuma</td>\n",
       "      <td>1</td>\n",
       "      <td>40463667.0</td>\n",
       "      <td>-374922.0</td>\n",
       "      <td>0.718447</td>\n",
       "    </tr>\n",
       "    <tr>\n",
       "      <th>4</th>\n",
       "      <td>82940</td>\n",
       "      <td>4 estrelas</td>\n",
       "      <td>4</td>\n",
       "      <td>2</td>\n",
       "      <td>2</td>\n",
       "      <td>Café da manha</td>\n",
       "      <td>Spain</td>\n",
       "      <td>Agência</td>\n",
       "      <td>Não</td>\n",
       "      <td>Amethyst</td>\n",
       "      <td>Não</td>\n",
       "      <td>Nenhuma</td>\n",
       "      <td>1</td>\n",
       "      <td>40463667.0</td>\n",
       "      <td>-374922.0</td>\n",
       "      <td>0.718447</td>\n",
       "    </tr>\n",
       "  </tbody>\n",
       "</table>\n",
       "</div>"
      ],
      "text/plain": [
       "      id classificacao_do_hotel  meses_da_reserva_ate_o_check_in  \\\n",
       "0  33571             5 estrelas                                5   \n",
       "1  82458             4 estrelas                              167   \n",
       "2  94061             4 estrelas                                4   \n",
       "3  75196             4 estrelas                               13   \n",
       "4  82940             4 estrelas                                4   \n",
       "\n",
       "   numero_de_pernoites_reservadas  numero_de_hospedes   regime_de_alimentacao  \\\n",
       "0                               5                   2  Café da manha e jantar   \n",
       "1                               3                   2           Café da manha   \n",
       "2                               3                   2           Café da manha   \n",
       "3                               2                   2           Café da manha   \n",
       "4                               2                   2           Café da manha   \n",
       "\n",
       "  nacionalidade forma_de_reserva ja_se_hospedou_anterioremente  \\\n",
       "0        France          Agência                           Não   \n",
       "1         Spain          Agência                           Não   \n",
       "2       Belgium          Agência                           Não   \n",
       "3         Spain          Agência                           Não   \n",
       "4         Spain          Agência                           Não   \n",
       "\n",
       "  tipo_do_quarto_reservado reserva_com_estacionamento reserva_com_observacoes  \\\n",
       "0                 Amethyst                        Sim                 Nenhuma   \n",
       "1                 Amethyst                        Não                 Nenhuma   \n",
       "2                 Amethyst                        Não                   1 a 3   \n",
       "3                 Amethyst                        Não                 Nenhuma   \n",
       "4                 Amethyst                        Não                 Nenhuma   \n",
       "\n",
       "   reserva_cancelada    latitude  longitude  tipo_do_quarto_reservado_encoded  \n",
       "0                  0  46227638.0  2213749.0                          0.718447  \n",
       "1                  1  40463667.0  -374922.0                          0.718447  \n",
       "2                  0  50503887.0  4469936.0                          0.718447  \n",
       "3                  1  40463667.0  -374922.0                          0.718447  \n",
       "4                  1  40463667.0  -374922.0                          0.718447  "
      ]
     },
     "execution_count": 19,
     "metadata": {},
     "output_type": "execute_result"
    }
   ],
   "source": [
    "df4.head()"
   ]
  },
  {
   "cell_type": "code",
   "execution_count": 20,
   "id": "703f3c94",
   "metadata": {
    "ExecuteTime": {
     "end_time": "2023-03-25T22:24:07.083669Z",
     "start_time": "2023-03-25T22:24:06.938490Z"
    }
   },
   "outputs": [],
   "source": [
    "# dummy variables\n",
    "df4_dummy = pd.get_dummies(df4.drop(['id', 'meses_da_reserva_ate_o_check_in', 'numero_de_pernoites_reservadas',\n",
    "                                    'numero_de_hospedes', 'reserva_cancelada', 'tipo_do_quarto_reservado_encoded',\n",
    "                                    'latitude', 'longitude', 'tipo_do_quarto_reservado', 'nacionalidade'], axis=1))\n",
    "\n",
    "df4 = pd.concat([df4[['id', 'meses_da_reserva_ate_o_check_in', 'numero_de_pernoites_reservadas',\n",
    "                    'numero_de_hospedes', 'reserva_cancelada', 'tipo_do_quarto_reservado_encoded',\n",
    "                    'latitude', 'longitude']], df4_dummy], axis=1)\n",
    "\n",
    "# # numerical\n",
    "# col_num = df4.select_dtypes(include=['int64', 'float64']).columns.tolist()\n",
    "\n",
    "# # categorical\n",
    "# col_cat = df4.select_dtypes(exclude=['int64', 'float64', 'datetime64[ns]']).columns.tolist()\n",
    "\n",
    "# # encoding\n",
    "# df4_dummy = pd.DataFrame(ohe.fit_transform(df4[col_cat]).toarray(), index=df4.index)\n",
    "# pickle.dump(ohe, open('ohe.pkl', 'wb' ))\n",
    "\n",
    "# # join numerical and categorical\n",
    "# df42 = pd.concat([df4[col_num], df4_dummy], axis=1)\n",
    "# df42.columns = df42.columns.astype(str)\n",
    "\n",
    "# # one hot encoding\n",
    "# ohe_class_hotel = pp.OneHotEncoder()\n",
    "# ohe_aliment = pp.OneHotEncoder()\n",
    "# ohe_form_reserv = pp.OneHotEncoder()\n",
    "# ohe_hosp_anter = pp.OneHotEncoder()\n",
    "# ohe_reserv_estac = pp.OneHotEncoder()\n",
    "# ohe_reserva_observ = pp.OneHotEncoder()\n",
    "\n",
    "# # classificacao_do_hotel\n",
    "# ohe_class_hotel.fit(df4[['classificacao_do_hotel']])\n",
    "# pickle.dump(ohe_class_hotel, open('ohe_class_hotel.pkl', 'wb' ))\n",
    "# encoded = ohe_class_hotel.transform(df4[['classificacao_do_hotel']])\n",
    "# df_encoded = pd.DataFrame(encoded.toarray(), columns=ohe_class_hotel.get_feature_names_out(['classificacao_do_hotel']))\n",
    "# df4 = pd.concat([df4, df_encoded], axis=1)\n",
    "\n",
    "# # regime_de_alimentacao\n",
    "# ohe_aliment.fit(df4[['regime_de_alimentacao']])\n",
    "# pickle.dump(ohe_aliment, open('ohe_aliment.pkl', 'wb' ))\n",
    "# encoded = ohe_aliment.transform(df4[['regime_de_alimentacao']])\n",
    "# df_encoded = pd.DataFrame(encoded.toarray(), columns=ohe_aliment.get_feature_names_out(['regime_de_alimentacao']))\n",
    "# df4 = pd.concat([df4, df_encoded], axis=1)\n",
    "\n",
    "# # forma_de_reserva\n",
    "# ohe_form_reserv.fit(df4[['forma_de_reserva']])\n",
    "# pickle.dump(ohe_form_reserv, open('ohe_form_reserv.pkl', 'wb' ))\n",
    "# encoded = ohe_form_reserv.transform(df4[['forma_de_reserva']])\n",
    "# df_encoded = pd.DataFrame(encoded.toarray(), columns=ohe_form_reserv.get_feature_names_out(['forma_de_reserva']))\n",
    "# df4 = pd.concat([df4, df_encoded], axis=1)\n",
    "\n",
    "# # ja_se_hospedou_anterioremente\n",
    "# ohe_hosp_anter.fit(df4[['ja_se_hospedou_anterioremente']])\n",
    "# pickle.dump(ohe_hosp_anter, open('ohe_hosp_anter.pkl', 'wb' ))\n",
    "# encoded = ohe_hosp_anter.transform(df4[['ja_se_hospedou_anterioremente']])\n",
    "# df_encoded = pd.DataFrame(encoded.toarray(), columns=ohe_hosp_anter.get_feature_names_out(['ja_se_hospedou_anterioremente']))\n",
    "# df4 = pd.concat([df4, df_encoded], axis=1)\n",
    "\n",
    "# # reserva_com_estacionamento\n",
    "# ohe_reserv_estac.fit(df4[['reserva_com_estacionamento']])\n",
    "# pickle.dump(ohe_reserv_estac, open('ohe_reserv_estac.pkl', 'wb' ))\n",
    "# encoded = ohe_reserv_estac.transform(df4[['reserva_com_estacionamento']])\n",
    "# df_encoded = pd.DataFrame(encoded.toarray(), columns=ohe_reserv_estac.get_feature_names_out(['reserva_com_estacionamento']))\n",
    "# df4 = pd.concat([df4, df_encoded], axis=1)\n",
    "\n",
    "# #reserva_com_observacoes\n",
    "# ohe_reserva_observ.fit(df4[['reserva_com_observacoes']])\n",
    "# pickle.dump(ohe_reserva_observ, open('ohe_reserva_observ.pkl', 'wb' ))\n",
    "# encoded = ohe_reserva_observ.transform(df4[['reserva_com_observacoes']])\n",
    "# df_encoded = pd.DataFrame(encoded.toarray(), columns=ohe_reserva_observ.get_feature_names_out(['reserva_com_observacoes']))\n",
    "# df4 = pd.concat([df4, df_encoded], axis=1)"
   ]
  },
  {
   "cell_type": "code",
   "execution_count": 21,
   "id": "6d769747",
   "metadata": {
    "ExecuteTime": {
     "end_time": "2023-03-25T22:24:07.122074Z",
     "start_time": "2023-03-25T22:24:07.087268Z"
    }
   },
   "outputs": [],
   "source": [
    "# df4 = df4.drop(['tipo_do_quarto_reservado', 'classificacao_do_hotel', 'regime_de_alimentacao', 'forma_de_reserva',\n",
    "#          'ja_se_hospedou_anterioremente', 'reserva_com_estacionamento', 'reserva_com_observacoes'], axis=1)\n"
   ]
  },
  {
   "cell_type": "markdown",
   "id": "c8e990a1",
   "metadata": {},
   "source": [
    "# 5.0. Feature Selection "
   ]
  },
  {
   "cell_type": "code",
   "execution_count": 22,
   "id": "41d5f490",
   "metadata": {
    "ExecuteTime": {
     "end_time": "2023-03-25T22:24:07.294618Z",
     "start_time": "2023-03-25T22:24:07.125875Z"
    }
   },
   "outputs": [],
   "source": [
    "df5 = df4.copy()"
   ]
  },
  {
   "cell_type": "code",
   "execution_count": 23,
   "id": "9bb85855",
   "metadata": {
    "ExecuteTime": {
     "end_time": "2023-03-25T22:24:07.387658Z",
     "start_time": "2023-03-25T22:24:07.297735Z"
    }
   },
   "outputs": [],
   "source": [
    "# split dataset into features and target\n",
    "X = df5.drop(['id', 'reserva_cancelada'], axis=1)\n",
    "y = df5['reserva_cancelada']"
   ]
  },
  {
   "cell_type": "code",
   "execution_count": 24,
   "id": "a2f86b46",
   "metadata": {
    "ExecuteTime": {
     "end_time": "2023-03-25T22:24:07.514374Z",
     "start_time": "2023-03-25T22:24:07.393277Z"
    }
   },
   "outputs": [],
   "source": [
    "# split dataset into train and test\n",
    "X_train, X_val, y_train, y_val = ms.train_test_split(X, y, test_size=0.2)"
   ]
  },
  {
   "cell_type": "markdown",
   "id": "ce01b1fc",
   "metadata": {},
   "source": [
    "## 1.5. Data Dtypes"
   ]
  },
  {
   "cell_type": "markdown",
   "id": "47cadf95",
   "metadata": {},
   "source": [
    "# 6.0. Machine Learning Model"
   ]
  },
  {
   "cell_type": "markdown",
   "id": "521815db",
   "metadata": {},
   "source": [
    "## 6.1. XGBoost"
   ]
  },
  {
   "cell_type": "code",
   "execution_count": 25,
   "id": "27aa76ae",
   "metadata": {
    "ExecuteTime": {
     "end_time": "2023-03-25T22:24:07.597348Z",
     "start_time": "2023-03-25T22:24:07.517737Z"
    }
   },
   "outputs": [],
   "source": [
    "# # model definition\n",
    "# xgb_model = XGBClassifier()\n",
    "\n",
    "# # model training\n",
    "# xgb_model.fit(X_train,y_train.values.ravel())\n",
    "\n",
    "# # model prediction\n",
    "# yhat = xgb_model.predict(X_val)"
   ]
  },
  {
   "cell_type": "code",
   "execution_count": 26,
   "id": "cfeee750",
   "metadata": {
    "ExecuteTime": {
     "end_time": "2023-03-25T22:24:07.757591Z",
     "start_time": "2023-03-25T22:24:07.599508Z"
    }
   },
   "outputs": [],
   "source": [
    "# pickle.dump(xgb_model, open('/home/felipe/repos/hackday/gradient_boosting.pkl', 'wb' ))"
   ]
  },
  {
   "cell_type": "markdown",
   "id": "815d5b50",
   "metadata": {},
   "source": [
    "## 6.2. Logistic Regression"
   ]
  },
  {
   "cell_type": "code",
   "execution_count": 27,
   "id": "499a9402",
   "metadata": {
    "ExecuteTime": {
     "end_time": "2023-03-25T22:24:07.867279Z",
     "start_time": "2023-03-25T22:24:07.766870Z"
    }
   },
   "outputs": [],
   "source": [
    "# # model definition\n",
    "# lr_model = lm.LogisticRegression()\n",
    "\n",
    "# # model training\n",
    "# lr_model.fit(X_train, y_train)\n",
    "\n",
    "# # model prediction\n",
    "# yhat = lr_model.predict(X_val)\n"
   ]
  },
  {
   "cell_type": "markdown",
   "id": "1c9f704d",
   "metadata": {},
   "source": [
    "## 6.3. Gradiente Boosting"
   ]
  },
  {
   "cell_type": "code",
   "execution_count": 28,
   "id": "5596ff9c",
   "metadata": {
    "ExecuteTime": {
     "end_time": "2023-03-25T22:24:07.975341Z",
     "start_time": "2023-03-25T22:24:07.870327Z"
    }
   },
   "outputs": [],
   "source": [
    "# ## model definition\n",
    "# gdr_model = en.GradientBoostingClassifier(n_estimators=500, random_state=42)\n",
    "\n",
    "# # model training\n",
    "# gdr_model.fit(X_train, y_train)\n",
    "\n",
    "# # model prediction\n",
    "# yhat = gdr_model.predict(X_val)"
   ]
  },
  {
   "cell_type": "markdown",
   "id": "19ac4180",
   "metadata": {},
   "source": [
    "## 6.4. Random Forest"
   ]
  },
  {
   "cell_type": "code",
   "execution_count": 29,
   "id": "fe0e74b2",
   "metadata": {
    "ExecuteTime": {
     "end_time": "2023-03-25T22:24:28.770552Z",
     "start_time": "2023-03-25T22:24:07.978775Z"
    }
   },
   "outputs": [],
   "source": [
    "# model definition\n",
    "rf_model = en.RandomForestClassifier(n_estimators=500, random_state=42, n_jobs=-1)\n",
    "\n",
    "# model training\n",
    "rf_model.fit(X_train, y_train)\n",
    "\n",
    "# model prediction\n",
    "yhat = rf_model.predict(X_val)"
   ]
  },
  {
   "cell_type": "code",
   "execution_count": 30,
   "id": "f04ffe1f",
   "metadata": {
    "ExecuteTime": {
     "end_time": "2023-03-25T22:24:45.372421Z",
     "start_time": "2023-03-25T22:24:28.774541Z"
    }
   },
   "outputs": [],
   "source": [
    "pickle.dump(rf_model, open('/home/felipe/repos/hackday/rf_model.pkl', 'wb' ))"
   ]
  },
  {
   "cell_type": "markdown",
   "id": "4be40d38",
   "metadata": {},
   "source": [
    "# 7.0. Performance"
   ]
  },
  {
   "cell_type": "code",
   "execution_count": 31,
   "id": "7348604b",
   "metadata": {
    "ExecuteTime": {
     "end_time": "2023-03-25T22:24:45.623162Z",
     "start_time": "2023-03-25T22:24:45.595211Z"
    }
   },
   "outputs": [],
   "source": [
    "precision = mt.precision_score(y_val, yhat)\n",
    "recall = mt.recall_score(y_val, yhat)\n",
    "f1_score = mt.f1_score(y_val, yhat, average='macro')"
   ]
  },
  {
   "cell_type": "code",
   "execution_count": 32,
   "id": "03f2b404",
   "metadata": {
    "ExecuteTime": {
     "end_time": "2023-03-25T22:24:45.933763Z",
     "start_time": "2023-03-25T22:24:45.625588Z"
    }
   },
   "outputs": [
    {
     "name": "stdout",
     "output_type": "stream",
     "text": [
      "Precision Score: 0.75082\n",
      "Precision Recall: 0.68691\n",
      "Precision F1 Score: 0.77949\n"
     ]
    }
   ],
   "source": [
    "print('Precision Score: {:.5f}'.format(precision))\n",
    "print('Precision Recall: {:.5f}'.format(recall))\n",
    "print('Precision F1 Score: {:.5f}'.format(f1_score))"
   ]
  },
  {
   "cell_type": "markdown",
   "id": "79576f2b",
   "metadata": {
    "ExecuteTime": {
     "end_time": "2023-03-25T15:27:20.978363Z",
     "start_time": "2023-03-25T15:27:20.975764Z"
    }
   },
   "source": [
    "# 8.0. Model"
   ]
  },
  {
   "cell_type": "code",
   "execution_count": 33,
   "id": "97ed0e7e",
   "metadata": {
    "ExecuteTime": {
     "end_time": "2023-03-25T22:24:46.158864Z",
     "start_time": "2023-03-25T22:24:45.938062Z"
    }
   },
   "outputs": [
    {
     "data": {
      "text/html": [
       "<div>\n",
       "<style scoped>\n",
       "    .dataframe tbody tr th:only-of-type {\n",
       "        vertical-align: middle;\n",
       "    }\n",
       "\n",
       "    .dataframe tbody tr th {\n",
       "        vertical-align: top;\n",
       "    }\n",
       "\n",
       "    .dataframe thead th {\n",
       "        text-align: right;\n",
       "    }\n",
       "</style>\n",
       "<table border=\"1\" class=\"dataframe\">\n",
       "  <thead>\n",
       "    <tr style=\"text-align: right;\">\n",
       "      <th></th>\n",
       "      <th>id</th>\n",
       "      <th>classificacao_do_hotel</th>\n",
       "      <th>meses_da_reserva_ate_o_check_in</th>\n",
       "      <th>numero_de_pernoites_reservadas</th>\n",
       "      <th>numero_de_hospedes</th>\n",
       "      <th>regime_de_alimentacao</th>\n",
       "      <th>nacionalidade</th>\n",
       "      <th>forma_de_reserva</th>\n",
       "      <th>ja_se_hospedou_anterioremente</th>\n",
       "      <th>tipo_do_quarto_reservado</th>\n",
       "      <th>reserva_feita_por_agencia_de_turismo</th>\n",
       "      <th>reserva_feita_por_empresa</th>\n",
       "      <th>reserva_com_estacionamento</th>\n",
       "      <th>reserva_com_observacoes</th>\n",
       "      <th>reserva_cancelada</th>\n",
       "      <th>latitude</th>\n",
       "      <th>longitude</th>\n",
       "    </tr>\n",
       "  </thead>\n",
       "  <tbody>\n",
       "    <tr>\n",
       "      <th>1</th>\n",
       "      <td>82458</td>\n",
       "      <td>4 estrelas</td>\n",
       "      <td>167</td>\n",
       "      <td>3</td>\n",
       "      <td>2</td>\n",
       "      <td>Café da manha</td>\n",
       "      <td>Spain</td>\n",
       "      <td>Agência</td>\n",
       "      <td>Não</td>\n",
       "      <td>Amethyst</td>\n",
       "      <td>Sim</td>\n",
       "      <td>Não</td>\n",
       "      <td>Não</td>\n",
       "      <td>Nenhuma</td>\n",
       "      <td>1</td>\n",
       "      <td>40463667.0</td>\n",
       "      <td>-374922.0</td>\n",
       "    </tr>\n",
       "    <tr>\n",
       "      <th>3</th>\n",
       "      <td>75196</td>\n",
       "      <td>4 estrelas</td>\n",
       "      <td>13</td>\n",
       "      <td>2</td>\n",
       "      <td>2</td>\n",
       "      <td>Café da manha</td>\n",
       "      <td>Spain</td>\n",
       "      <td>Agência</td>\n",
       "      <td>Não</td>\n",
       "      <td>Amethyst</td>\n",
       "      <td>Sim</td>\n",
       "      <td>Não</td>\n",
       "      <td>Não</td>\n",
       "      <td>Nenhuma</td>\n",
       "      <td>1</td>\n",
       "      <td>40463667.0</td>\n",
       "      <td>-374922.0</td>\n",
       "    </tr>\n",
       "    <tr>\n",
       "      <th>4</th>\n",
       "      <td>82940</td>\n",
       "      <td>4 estrelas</td>\n",
       "      <td>4</td>\n",
       "      <td>2</td>\n",
       "      <td>2</td>\n",
       "      <td>Café da manha</td>\n",
       "      <td>Spain</td>\n",
       "      <td>Agência</td>\n",
       "      <td>Não</td>\n",
       "      <td>Amethyst</td>\n",
       "      <td>Sim</td>\n",
       "      <td>Não</td>\n",
       "      <td>Não</td>\n",
       "      <td>Nenhuma</td>\n",
       "      <td>1</td>\n",
       "      <td>40463667.0</td>\n",
       "      <td>-374922.0</td>\n",
       "    </tr>\n",
       "    <tr>\n",
       "      <th>7</th>\n",
       "      <td>85783</td>\n",
       "      <td>4 estrelas</td>\n",
       "      <td>2</td>\n",
       "      <td>2</td>\n",
       "      <td>1</td>\n",
       "      <td>Café da manha</td>\n",
       "      <td>Spain</td>\n",
       "      <td>B2B</td>\n",
       "      <td>Não</td>\n",
       "      <td>Pink Sapphire</td>\n",
       "      <td>Não</td>\n",
       "      <td>Sim</td>\n",
       "      <td>Não</td>\n",
       "      <td>1 a 3</td>\n",
       "      <td>0</td>\n",
       "      <td>40463667.0</td>\n",
       "      <td>-374922.0</td>\n",
       "    </tr>\n",
       "    <tr>\n",
       "      <th>10</th>\n",
       "      <td>109280</td>\n",
       "      <td>4 estrelas</td>\n",
       "      <td>4</td>\n",
       "      <td>5</td>\n",
       "      <td>2</td>\n",
       "      <td>Café da manha</td>\n",
       "      <td>Spain</td>\n",
       "      <td>Agência</td>\n",
       "      <td>Não</td>\n",
       "      <td>Amethyst</td>\n",
       "      <td>Sim</td>\n",
       "      <td>Não</td>\n",
       "      <td>Não</td>\n",
       "      <td>Nenhuma</td>\n",
       "      <td>0</td>\n",
       "      <td>40463667.0</td>\n",
       "      <td>-374922.0</td>\n",
       "    </tr>\n",
       "    <tr>\n",
       "      <th>...</th>\n",
       "      <td>...</td>\n",
       "      <td>...</td>\n",
       "      <td>...</td>\n",
       "      <td>...</td>\n",
       "      <td>...</td>\n",
       "      <td>...</td>\n",
       "      <td>...</td>\n",
       "      <td>...</td>\n",
       "      <td>...</td>\n",
       "      <td>...</td>\n",
       "      <td>...</td>\n",
       "      <td>...</td>\n",
       "      <td>...</td>\n",
       "      <td>...</td>\n",
       "      <td>...</td>\n",
       "      <td>...</td>\n",
       "      <td>...</td>\n",
       "    </tr>\n",
       "    <tr>\n",
       "      <th>72149</th>\n",
       "      <td>84974</td>\n",
       "      <td>4 estrelas</td>\n",
       "      <td>1</td>\n",
       "      <td>1</td>\n",
       "      <td>1</td>\n",
       "      <td>Café da manha</td>\n",
       "      <td>Spain</td>\n",
       "      <td>Agência</td>\n",
       "      <td>Não</td>\n",
       "      <td>Amethyst</td>\n",
       "      <td>Sim</td>\n",
       "      <td>Não</td>\n",
       "      <td>Não</td>\n",
       "      <td>1 a 3</td>\n",
       "      <td>0</td>\n",
       "      <td>40463667.0</td>\n",
       "      <td>-374922.0</td>\n",
       "    </tr>\n",
       "    <tr>\n",
       "      <th>72151</th>\n",
       "      <td>56825</td>\n",
       "      <td>4 estrelas</td>\n",
       "      <td>10</td>\n",
       "      <td>7</td>\n",
       "      <td>2</td>\n",
       "      <td>Café da manha</td>\n",
       "      <td>Spain</td>\n",
       "      <td>Agência</td>\n",
       "      <td>Não</td>\n",
       "      <td>Amethyst</td>\n",
       "      <td>Sim</td>\n",
       "      <td>Não</td>\n",
       "      <td>Não</td>\n",
       "      <td>Nenhuma</td>\n",
       "      <td>1</td>\n",
       "      <td>40463667.0</td>\n",
       "      <td>-374922.0</td>\n",
       "    </tr>\n",
       "    <tr>\n",
       "      <th>72156</th>\n",
       "      <td>4101</td>\n",
       "      <td>5 estrelas</td>\n",
       "      <td>5</td>\n",
       "      <td>2</td>\n",
       "      <td>2</td>\n",
       "      <td>Café da manha e jantar</td>\n",
       "      <td>Spain</td>\n",
       "      <td>Agência</td>\n",
       "      <td>Não</td>\n",
       "      <td>Amethyst</td>\n",
       "      <td>Não</td>\n",
       "      <td>Não</td>\n",
       "      <td>Não</td>\n",
       "      <td>Nenhuma</td>\n",
       "      <td>1</td>\n",
       "      <td>40463667.0</td>\n",
       "      <td>-374922.0</td>\n",
       "    </tr>\n",
       "    <tr>\n",
       "      <th>72157</th>\n",
       "      <td>15828</td>\n",
       "      <td>5 estrelas</td>\n",
       "      <td>1</td>\n",
       "      <td>8</td>\n",
       "      <td>2</td>\n",
       "      <td>Café da manha e jantar</td>\n",
       "      <td>Spain</td>\n",
       "      <td>Balcão</td>\n",
       "      <td>Não</td>\n",
       "      <td>Pink Sapphire</td>\n",
       "      <td>Sim</td>\n",
       "      <td>Não</td>\n",
       "      <td>Não</td>\n",
       "      <td>Nenhuma</td>\n",
       "      <td>0</td>\n",
       "      <td>40463667.0</td>\n",
       "      <td>-374922.0</td>\n",
       "    </tr>\n",
       "    <tr>\n",
       "      <th>72158</th>\n",
       "      <td>3164</td>\n",
       "      <td>5 estrelas</td>\n",
       "      <td>4</td>\n",
       "      <td>14</td>\n",
       "      <td>2</td>\n",
       "      <td>Café da manha e jantar</td>\n",
       "      <td>Spain</td>\n",
       "      <td>Agência</td>\n",
       "      <td>Não</td>\n",
       "      <td>Pink Sapphire</td>\n",
       "      <td>Sim</td>\n",
       "      <td>Não</td>\n",
       "      <td>Não</td>\n",
       "      <td>Nenhuma</td>\n",
       "      <td>1</td>\n",
       "      <td>40463667.0</td>\n",
       "      <td>-374922.0</td>\n",
       "    </tr>\n",
       "  </tbody>\n",
       "</table>\n",
       "<p>34209 rows × 17 columns</p>\n",
       "</div>"
      ],
      "text/plain": [
       "           id classificacao_do_hotel  meses_da_reserva_ate_o_check_in  \\\n",
       "1       82458             4 estrelas                              167   \n",
       "3       75196             4 estrelas                               13   \n",
       "4       82940             4 estrelas                                4   \n",
       "7       85783             4 estrelas                                2   \n",
       "10     109280             4 estrelas                                4   \n",
       "...       ...                    ...                              ...   \n",
       "72149   84974             4 estrelas                                1   \n",
       "72151   56825             4 estrelas                               10   \n",
       "72156    4101             5 estrelas                                5   \n",
       "72157   15828             5 estrelas                                1   \n",
       "72158    3164             5 estrelas                                4   \n",
       "\n",
       "       numero_de_pernoites_reservadas  numero_de_hospedes  \\\n",
       "1                                   3                   2   \n",
       "3                                   2                   2   \n",
       "4                                   2                   2   \n",
       "7                                   2                   1   \n",
       "10                                  5                   2   \n",
       "...                               ...                 ...   \n",
       "72149                               1                   1   \n",
       "72151                               7                   2   \n",
       "72156                               2                   2   \n",
       "72157                               8                   2   \n",
       "72158                              14                   2   \n",
       "\n",
       "        regime_de_alimentacao nacionalidade forma_de_reserva  \\\n",
       "1               Café da manha         Spain          Agência   \n",
       "3               Café da manha         Spain          Agência   \n",
       "4               Café da manha         Spain          Agência   \n",
       "7               Café da manha         Spain              B2B   \n",
       "10              Café da manha         Spain          Agência   \n",
       "...                       ...           ...              ...   \n",
       "72149           Café da manha         Spain          Agência   \n",
       "72151           Café da manha         Spain          Agência   \n",
       "72156  Café da manha e jantar         Spain          Agência   \n",
       "72157  Café da manha e jantar         Spain           Balcão   \n",
       "72158  Café da manha e jantar         Spain          Agência   \n",
       "\n",
       "      ja_se_hospedou_anterioremente tipo_do_quarto_reservado  \\\n",
       "1                               Não                 Amethyst   \n",
       "3                               Não                 Amethyst   \n",
       "4                               Não                 Amethyst   \n",
       "7                               Não            Pink Sapphire   \n",
       "10                              Não                 Amethyst   \n",
       "...                             ...                      ...   \n",
       "72149                           Não                 Amethyst   \n",
       "72151                           Não                 Amethyst   \n",
       "72156                           Não                 Amethyst   \n",
       "72157                           Não            Pink Sapphire   \n",
       "72158                           Não            Pink Sapphire   \n",
       "\n",
       "      reserva_feita_por_agencia_de_turismo reserva_feita_por_empresa  \\\n",
       "1                                      Sim                       Não   \n",
       "3                                      Sim                       Não   \n",
       "4                                      Sim                       Não   \n",
       "7                                      Não                       Sim   \n",
       "10                                     Sim                       Não   \n",
       "...                                    ...                       ...   \n",
       "72149                                  Sim                       Não   \n",
       "72151                                  Sim                       Não   \n",
       "72156                                  Não                       Não   \n",
       "72157                                  Sim                       Não   \n",
       "72158                                  Sim                       Não   \n",
       "\n",
       "      reserva_com_estacionamento reserva_com_observacoes  reserva_cancelada  \\\n",
       "1                            Não                 Nenhuma                  1   \n",
       "3                            Não                 Nenhuma                  1   \n",
       "4                            Não                 Nenhuma                  1   \n",
       "7                            Não                   1 a 3                  0   \n",
       "10                           Não                 Nenhuma                  0   \n",
       "...                          ...                     ...                ...   \n",
       "72149                        Não                   1 a 3                  0   \n",
       "72151                        Não                 Nenhuma                  1   \n",
       "72156                        Não                 Nenhuma                  1   \n",
       "72157                        Não                 Nenhuma                  0   \n",
       "72158                        Não                 Nenhuma                  1   \n",
       "\n",
       "         latitude  longitude  \n",
       "1      40463667.0  -374922.0  \n",
       "3      40463667.0  -374922.0  \n",
       "4      40463667.0  -374922.0  \n",
       "7      40463667.0  -374922.0  \n",
       "10     40463667.0  -374922.0  \n",
       "...           ...        ...  \n",
       "72149  40463667.0  -374922.0  \n",
       "72151  40463667.0  -374922.0  \n",
       "72156  40463667.0  -374922.0  \n",
       "72157  40463667.0  -374922.0  \n",
       "72158  40463667.0  -374922.0  \n",
       "\n",
       "[34209 rows x 17 columns]"
      ]
     },
     "execution_count": 33,
     "metadata": {},
     "output_type": "execute_result"
    }
   ],
   "source": [
    "df2[df2['nacionalidade']=='Spain']"
   ]
  },
  {
   "cell_type": "code",
   "execution_count": null,
   "id": "1ddec91d",
   "metadata": {},
   "outputs": [],
   "source": []
  }
 ],
 "metadata": {
  "kernelspec": {
   "display_name": "hackday",
   "language": "python",
   "name": "hackday"
  },
  "language_info": {
   "codemirror_mode": {
    "name": "ipython",
    "version": 3
   },
   "file_extension": ".py",
   "mimetype": "text/x-python",
   "name": "python",
   "nbconvert_exporter": "python",
   "pygments_lexer": "ipython3",
   "version": "3.11.2"
  }
 },
 "nbformat": 4,
 "nbformat_minor": 5
}
