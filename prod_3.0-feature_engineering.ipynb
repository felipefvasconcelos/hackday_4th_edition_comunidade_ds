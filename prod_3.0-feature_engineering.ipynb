{
 "cells": [
  {
   "cell_type": "markdown",
   "id": "be9b865f",
   "metadata": {},
   "source": [
    "# 0.0. Imports"
   ]
  },
  {
   "cell_type": "code",
   "execution_count": 37,
   "id": "c3e45637",
   "metadata": {
    "ExecuteTime": {
     "end_time": "2023-03-26T16:28:23.418397Z",
     "start_time": "2023-03-26T16:28:23.410148Z"
    }
   },
   "outputs": [],
   "source": [
    "import pickle\n",
    "import inflection\n",
    "\n",
    "import numpy as np\n",
    "import pandas as pd\n",
    "import seaborn as sn\n",
    "\n",
    "from xgboost import XGBClassifier\n",
    "from ydata_profiling import ProfileReport\n",
    "\n",
    "from sklearn import metrics as mt\n",
    "from sklearn import ensemble as en\n",
    "from sklearn import model_selection as ms\n",
    "from sklearn import preprocessing   as pp\n",
    "\n",
    "from sklearn import linear_model as lm\n",
    "from sklearn import ensemble as en\n"
   ]
  },
  {
   "cell_type": "markdown",
   "id": "40f1f5cd",
   "metadata": {
    "ExecuteTime": {
     "end_time": "2023-03-25T01:45:10.964211Z",
     "start_time": "2023-03-25T01:45:10.431585Z"
    }
   },
   "source": [
    "# 1.0. Data Description"
   ]
  },
  {
   "cell_type": "markdown",
   "id": "a44e7938",
   "metadata": {},
   "source": [
    "## 1.1. Loading Data"
   ]
  },
  {
   "cell_type": "code",
   "execution_count": 38,
   "id": "9d3310b9",
   "metadata": {
    "ExecuteTime": {
     "end_time": "2023-03-26T16:28:23.619092Z",
     "start_time": "2023-03-26T16:28:23.422361Z"
    }
   },
   "outputs": [],
   "source": [
    "df_raw = pd.read_csv('data/test.csv')\n",
    "df_country = pd.read_csv('data/country_base_2.csv')"
   ]
  },
  {
   "cell_type": "code",
   "execution_count": 39,
   "id": "1a00cb07",
   "metadata": {
    "ExecuteTime": {
     "end_time": "2023-03-26T16:28:23.649523Z",
     "start_time": "2023-03-26T16:28:23.622384Z"
    }
   },
   "outputs": [],
   "source": [
    "df1 = pd.merge(df_raw, df_country, on='Nacionalidade', how='left')"
   ]
  },
  {
   "cell_type": "code",
   "execution_count": 40,
   "id": "49fa778a",
   "metadata": {
    "ExecuteTime": {
     "end_time": "2023-03-26T16:28:23.717440Z",
     "start_time": "2023-03-26T16:28:23.654502Z"
    }
   },
   "outputs": [],
   "source": [
    "df1 = df1.drop('country', axis=1)"
   ]
  },
  {
   "cell_type": "markdown",
   "id": "fc0a7f9f",
   "metadata": {},
   "source": [
    "## 1.2. Rename Columns"
   ]
  },
  {
   "cell_type": "code",
   "execution_count": 41,
   "id": "c37cd130",
   "metadata": {
    "ExecuteTime": {
     "end_time": "2023-03-26T16:28:23.789429Z",
     "start_time": "2023-03-26T16:28:23.721071Z"
    }
   },
   "outputs": [],
   "source": [
    "cols_old = ['id', 'Classificacao_do_hotel', 'Meses_da_reserva_ate_o_check-in', 'Numero_de_pernoites_reservadas', \n",
    "            'Numero_de_hospedes', 'Regime_de_alimentacao', 'Nacionalidade', 'Forma_de_Reserva',\n",
    "            'Ja_se_hospedou_anterioremente', 'Tipo_do_quarto_reservado', 'Reserva_feita_por_agencia_de_turismo', \n",
    "            'Reserva_feita_por_empresa', 'Reserva_com_Estacionamento', 'Reserva_com_Observacoes', 'latitude', 'longitude']\n",
    "\n",
    "snakecase = lambda x: inflection.underscore(x)\n",
    "cols_new = list(map(snakecase, cols_old))\n",
    "df1.columns = cols_new"
   ]
  },
  {
   "cell_type": "markdown",
   "id": "d4e724b0",
   "metadata": {},
   "source": [
    "## 1.3. Data Dimensions"
   ]
  },
  {
   "cell_type": "code",
   "execution_count": 42,
   "id": "8b135b2f",
   "metadata": {
    "ExecuteTime": {
     "end_time": "2023-03-26T16:28:23.867665Z",
     "start_time": "2023-03-26T16:28:23.792329Z"
    }
   },
   "outputs": [
    {
     "name": "stdout",
     "output_type": "stream",
     "text": [
      "Number of rows: 48106\n",
      "Number of cols: 16\n"
     ]
    }
   ],
   "source": [
    "print('Number of rows: {}'.format(df1.shape[0]))\n",
    "print('Number of cols: {}'.format(df1.shape[1]))"
   ]
  },
  {
   "cell_type": "markdown",
   "id": "292ec09b",
   "metadata": {},
   "source": [
    "## 1.4. Check NA"
   ]
  },
  {
   "cell_type": "code",
   "execution_count": 43,
   "id": "2cf7ddae",
   "metadata": {
    "ExecuteTime": {
     "end_time": "2023-03-26T16:28:24.044598Z",
     "start_time": "2023-03-26T16:28:23.870973Z"
    }
   },
   "outputs": [
    {
     "data": {
      "text/plain": [
       "id                                        0\n",
       "classificacao_do_hotel                    0\n",
       "meses_da_reserva_ate_o_check_in           0\n",
       "numero_de_pernoites_reservadas            0\n",
       "numero_de_hospedes                        1\n",
       "regime_de_alimentacao                     0\n",
       "nacionalidade                           677\n",
       "forma_de_reserva                          0\n",
       "ja_se_hospedou_anterioremente             0\n",
       "tipo_do_quarto_reservado                  0\n",
       "reserva_feita_por_agencia_de_turismo      0\n",
       "reserva_feita_por_empresa                 0\n",
       "reserva_com_estacionamento                0\n",
       "reserva_com_observacoes                   0\n",
       "latitude                                677\n",
       "longitude                               677\n",
       "dtype: int64"
      ]
     },
     "execution_count": 43,
     "metadata": {},
     "output_type": "execute_result"
    }
   ],
   "source": [
    "df1.isna().sum()#/len(df1)"
   ]
  },
  {
   "cell_type": "markdown",
   "id": "9d4a1ffc",
   "metadata": {},
   "source": [
    "### 1.4.1. Replace NA"
   ]
  },
  {
   "cell_type": "code",
   "execution_count": 44,
   "id": "e84b84df",
   "metadata": {
    "ExecuteTime": {
     "end_time": "2023-03-26T16:28:24.124530Z",
     "start_time": "2023-03-26T16:28:24.047810Z"
    }
   },
   "outputs": [],
   "source": [
    "df1['numero_de_hospedes'] = df1['numero_de_hospedes'].fillna(2)\n",
    "df1['nacionalidade'] = df1['nacionalidade'].fillna('Spain')\n",
    "df1['latitude'] = df1['latitude'].fillna(40463667)\n",
    "df1['longitude'] = df1['longitude'].fillna(-374922)"
   ]
  },
  {
   "cell_type": "code",
   "execution_count": 45,
   "id": "7d30976c",
   "metadata": {
    "ExecuteTime": {
     "end_time": "2023-03-26T16:28:24.206289Z",
     "start_time": "2023-03-26T16:28:24.127190Z"
    }
   },
   "outputs": [],
   "source": [
    "# import pandas as pd\n",
    "# from sklearn.linear_model import LinearRegression\n",
    "# from sklearn.impute import SimpleImputer\n",
    "\n",
    "# # carregar dados de exemplo com valores ausentes\n",
    "# df = pd.read_csv('exemplo.csv')\n",
    "\n",
    "# # separar os dados em variáveis independentes e dependentes\n",
    "# X = df.drop('Target', axis=1)\n",
    "# y = df['Target']\n",
    "\n",
    "# # criar um objeto SimpleImputer para imputar valores ausentes\n",
    "# imputer = SimpleImputer(strategy='mean')\n",
    "\n",
    "# # imputar os valores ausentes usando regressão linear\n",
    "# for column in X.columns:\n",
    "#     X_column = X[[column]]\n",
    "#     X_column_with_nulls = X_column[X_column[column].isnull()]\n",
    "#     X_column_without_nulls = X_column[X_column[column].notnull()]\n",
    "#     y_without_nulls = y[X_column[column].notnull()]\n",
    "#     model = LinearRegression()\n",
    "#     model.fit(X_column_without_nulls, y_without_nulls)\n",
    "#     y_pred = model.predict(X_column_with_nulls)\n",
    "#     X_column_with_nulls[column] = y_pred\n",
    "#     X[[column]] = pd.concat([X_column_with_nulls, X_column_without_nulls], axis=0)\n",
    "\n",
    "# # juntar as variáveis independentes e dependentes de volta em um dataframe\n",
    "# df_imputed = pd.concat([X, y], axis=1)\n",
    "\n",
    "# # exibir o dataframe resultante\n",
    "# print(df_imputed)"
   ]
  },
  {
   "cell_type": "markdown",
   "id": "4682fcd5",
   "metadata": {},
   "source": [
    "## 1.5. Data Dtypes"
   ]
  },
  {
   "cell_type": "code",
   "execution_count": 46,
   "id": "abdcd99b",
   "metadata": {
    "ExecuteTime": {
     "end_time": "2023-03-26T16:28:24.286240Z",
     "start_time": "2023-03-26T16:28:24.212529Z"
    }
   },
   "outputs": [
    {
     "data": {
      "text/plain": [
       "id                                        int64\n",
       "classificacao_do_hotel                   object\n",
       "meses_da_reserva_ate_o_check_in           int64\n",
       "numero_de_pernoites_reservadas            int64\n",
       "numero_de_hospedes                      float64\n",
       "regime_de_alimentacao                    object\n",
       "nacionalidade                            object\n",
       "forma_de_reserva                         object\n",
       "ja_se_hospedou_anterioremente            object\n",
       "tipo_do_quarto_reservado                 object\n",
       "reserva_feita_por_agencia_de_turismo     object\n",
       "reserva_feita_por_empresa                object\n",
       "reserva_com_estacionamento               object\n",
       "reserva_com_observacoes                  object\n",
       "latitude                                float64\n",
       "longitude                               float64\n",
       "dtype: object"
      ]
     },
     "execution_count": 46,
     "metadata": {},
     "output_type": "execute_result"
    }
   ],
   "source": [
    "df1.dtypes"
   ]
  },
  {
   "cell_type": "markdown",
   "id": "586a208c",
   "metadata": {},
   "source": [
    "### 1.5.1. Change Dtypes"
   ]
  },
  {
   "cell_type": "code",
   "execution_count": 47,
   "id": "7694973f",
   "metadata": {
    "ExecuteTime": {
     "end_time": "2023-03-26T16:28:24.350413Z",
     "start_time": "2023-03-26T16:28:24.288203Z"
    }
   },
   "outputs": [],
   "source": [
    "df1['numero_de_hospedes'] = df1['numero_de_hospedes'].astype('int')"
   ]
  },
  {
   "cell_type": "markdown",
   "id": "9729dd5a",
   "metadata": {},
   "source": [
    "## 1.6. Data Balancing"
   ]
  },
  {
   "cell_type": "code",
   "execution_count": 48,
   "id": "8f61ac3b",
   "metadata": {
    "ExecuteTime": {
     "end_time": "2023-03-26T16:28:24.453857Z",
     "start_time": "2023-03-26T16:28:24.352934Z"
    }
   },
   "outputs": [],
   "source": [
    "#df1['reserva_cancelada'].value_counts(normalize=True)"
   ]
  },
  {
   "cell_type": "markdown",
   "id": "a4e60ff0",
   "metadata": {},
   "source": [
    "## 1.7. Pandas Profiling"
   ]
  },
  {
   "cell_type": "code",
   "execution_count": 49,
   "id": "1d1e4c82",
   "metadata": {
    "ExecuteTime": {
     "end_time": "2023-03-26T16:28:24.542799Z",
     "start_time": "2023-03-26T16:28:24.456830Z"
    }
   },
   "outputs": [],
   "source": [
    "# prof = ProfileReport(df_raw)\n",
    "# prof.to_file(output_file='output.html')"
   ]
  },
  {
   "cell_type": "markdown",
   "id": "b0a6e176",
   "metadata": {},
   "source": [
    "# 2.0. Feature Engineering"
   ]
  },
  {
   "cell_type": "code",
   "execution_count": 50,
   "id": "3ec87883",
   "metadata": {
    "ExecuteTime": {
     "end_time": "2023-03-26T16:28:24.628147Z",
     "start_time": "2023-03-26T16:28:24.545872Z"
    }
   },
   "outputs": [],
   "source": [
    "df2 = df1.copy()"
   ]
  },
  {
   "cell_type": "code",
   "execution_count": 51,
   "id": "d8dd306b",
   "metadata": {
    "ExecuteTime": {
     "end_time": "2023-03-26T16:28:24.716898Z",
     "start_time": "2023-03-26T16:28:24.631909Z"
    }
   },
   "outputs": [],
   "source": [
    "df2['classificacao_do_hotel'] = df2['classificacao_do_hotel'].apply(lambda x: x.replace(' estrelas', ''))"
   ]
  },
  {
   "cell_type": "code",
   "execution_count": 52,
   "id": "3235e985",
   "metadata": {
    "ExecuteTime": {
     "end_time": "2023-03-26T16:28:24.822686Z",
     "start_time": "2023-03-26T16:28:24.718940Z"
    }
   },
   "outputs": [],
   "source": [
    "df2['ja_se_hospedou_anterioremente'] = df2['ja_se_hospedou_anterioremente'].apply(lambda x: x.replace('Sim', '1'))\n",
    "df2['ja_se_hospedou_anterioremente'] = df2['ja_se_hospedou_anterioremente'].apply(lambda x: x.replace('Não', '0'))"
   ]
  },
  {
   "cell_type": "code",
   "execution_count": 53,
   "id": "05ed8106",
   "metadata": {
    "ExecuteTime": {
     "end_time": "2023-03-26T16:28:24.911406Z",
     "start_time": "2023-03-26T16:28:24.826075Z"
    }
   },
   "outputs": [],
   "source": [
    "df2['reserva_feita_por_agencia_de_turismo'] = df2['reserva_feita_por_agencia_de_turismo'].apply(lambda x: x.replace('Sim', '1'))\n",
    "df2['reserva_feita_por_agencia_de_turismo'] = df2['reserva_feita_por_agencia_de_turismo'].apply(lambda x: x.replace('Não', '0'))"
   ]
  },
  {
   "cell_type": "code",
   "execution_count": 54,
   "id": "d82752a0",
   "metadata": {
    "ExecuteTime": {
     "end_time": "2023-03-26T16:28:25.024429Z",
     "start_time": "2023-03-26T16:28:24.914280Z"
    }
   },
   "outputs": [],
   "source": [
    "df2['reserva_feita_por_empresa'] = df2['reserva_feita_por_empresa'].apply(lambda x: x.replace('Sim', '1'))\n",
    "df2['reserva_feita_por_empresa'] = df2['reserva_feita_por_empresa'].apply(lambda x: x.replace('Não', '0'))"
   ]
  },
  {
   "cell_type": "code",
   "execution_count": 55,
   "id": "7d42922c",
   "metadata": {
    "ExecuteTime": {
     "end_time": "2023-03-26T16:28:25.129545Z",
     "start_time": "2023-03-26T16:28:25.026935Z"
    }
   },
   "outputs": [],
   "source": [
    "df2['reserva_com_estacionamento'] = df2['reserva_com_estacionamento'].apply(lambda x: x.replace('Sim', '1'))\n",
    "df2['reserva_com_estacionamento'] = df2['reserva_com_estacionamento'].apply(lambda x: x.replace('Não', '0'))"
   ]
  },
  {
   "cell_type": "code",
   "execution_count": 56,
   "id": "ab5baf85",
   "metadata": {
    "ExecuteTime": {
     "end_time": "2023-03-26T16:28:25.229549Z",
     "start_time": "2023-03-26T16:28:25.132467Z"
    }
   },
   "outputs": [],
   "source": [
    "df2['classificacao_do_hotel'] = df2['classificacao_do_hotel'].astype('int')\n",
    "df2['ja_se_hospedou_anterioremente'] = df2['ja_se_hospedou_anterioremente'].astype('int')\n",
    "df2['reserva_feita_por_agencia_de_turismo'] = df2['reserva_feita_por_agencia_de_turismo'].astype('int')\n",
    "df2['reserva_feita_por_empresa'] = df2['reserva_feita_por_empresa'].astype('int')\n",
    "df2['reserva_com_estacionamento'] = df2['reserva_com_estacionamento'].astype('int')"
   ]
  },
  {
   "cell_type": "markdown",
   "id": "66cc9a58",
   "metadata": {},
   "source": [
    "# 3.0. Data Filtering"
   ]
  },
  {
   "cell_type": "code",
   "execution_count": 57,
   "id": "47c68e0f",
   "metadata": {
    "ExecuteTime": {
     "end_time": "2023-03-26T16:28:25.278320Z",
     "start_time": "2023-03-26T16:28:25.232495Z"
    }
   },
   "outputs": [],
   "source": [
    "df3 = df2.copy()"
   ]
  },
  {
   "cell_type": "code",
   "execution_count": 58,
   "id": "866f415e",
   "metadata": {
    "ExecuteTime": {
     "end_time": "2023-03-26T16:28:25.353527Z",
     "start_time": "2023-03-26T16:28:25.280765Z"
    }
   },
   "outputs": [],
   "source": [
    "# reserva_feita_por_agencia_de_turismo reserva_feita_por_empresa\n",
    "# df3 = df3.drop(['reserva_feita_por_agencia_de_turismo', 'reserva_feita_por_empresa'], axis=1)"
   ]
  },
  {
   "cell_type": "markdown",
   "id": "55684f1c",
   "metadata": {},
   "source": [
    "# 4.0. Data Preparation "
   ]
  },
  {
   "cell_type": "code",
   "execution_count": 59,
   "id": "3ad9776c",
   "metadata": {
    "ExecuteTime": {
     "end_time": "2023-03-26T16:28:25.432061Z",
     "start_time": "2023-03-26T16:28:25.356919Z"
    }
   },
   "outputs": [],
   "source": [
    "#df4 = df3.drop('nacionalidade', axis=1).copy()\n",
    "df4 = df3.copy()"
   ]
  },
  {
   "cell_type": "code",
   "execution_count": 60,
   "id": "8e1d4856",
   "metadata": {
    "ExecuteTime": {
     "end_time": "2023-03-26T16:28:25.514043Z",
     "start_time": "2023-03-26T16:28:25.435196Z"
    }
   },
   "outputs": [],
   "source": [
    "#tipo_do_quarto_reservado\n",
    "# criar um dicionário de frequência de cada categoria\n",
    "freq_dict = df4['tipo_do_quarto_reservado'].value_counts(normalize=True).to_dict()\n",
    "# aplicar o encoder ao dataframe\n",
    "df4['tipo_do_quarto_reservado_encoded'] = df4['tipo_do_quarto_reservado'].map(freq_dict)"
   ]
  },
  {
   "cell_type": "code",
   "execution_count": 61,
   "id": "8f97fc23",
   "metadata": {
    "ExecuteTime": {
     "end_time": "2023-03-26T16:28:25.599982Z",
     "start_time": "2023-03-26T16:28:25.517634Z"
    }
   },
   "outputs": [
    {
     "data": {
      "text/html": [
       "<div>\n",
       "<style scoped>\n",
       "    .dataframe tbody tr th:only-of-type {\n",
       "        vertical-align: middle;\n",
       "    }\n",
       "\n",
       "    .dataframe tbody tr th {\n",
       "        vertical-align: top;\n",
       "    }\n",
       "\n",
       "    .dataframe thead th {\n",
       "        text-align: right;\n",
       "    }\n",
       "</style>\n",
       "<table border=\"1\" class=\"dataframe\">\n",
       "  <thead>\n",
       "    <tr style=\"text-align: right;\">\n",
       "      <th></th>\n",
       "      <th>id</th>\n",
       "      <th>classificacao_do_hotel</th>\n",
       "      <th>meses_da_reserva_ate_o_check_in</th>\n",
       "      <th>numero_de_pernoites_reservadas</th>\n",
       "      <th>numero_de_hospedes</th>\n",
       "      <th>regime_de_alimentacao</th>\n",
       "      <th>nacionalidade</th>\n",
       "      <th>forma_de_reserva</th>\n",
       "      <th>ja_se_hospedou_anterioremente</th>\n",
       "      <th>tipo_do_quarto_reservado</th>\n",
       "      <th>reserva_feita_por_agencia_de_turismo</th>\n",
       "      <th>reserva_feita_por_empresa</th>\n",
       "      <th>reserva_com_estacionamento</th>\n",
       "      <th>reserva_com_observacoes</th>\n",
       "      <th>latitude</th>\n",
       "      <th>longitude</th>\n",
       "      <th>tipo_do_quarto_reservado_encoded</th>\n",
       "    </tr>\n",
       "  </thead>\n",
       "  <tbody>\n",
       "    <tr>\n",
       "      <th>0</th>\n",
       "      <td>118345</td>\n",
       "      <td>4</td>\n",
       "      <td>8</td>\n",
       "      <td>13</td>\n",
       "      <td>3</td>\n",
       "      <td>Café da manha</td>\n",
       "      <td>South Korea</td>\n",
       "      <td>Balcão</td>\n",
       "      <td>0</td>\n",
       "      <td>Green Emerald</td>\n",
       "      <td>1</td>\n",
       "      <td>0</td>\n",
       "      <td>0</td>\n",
       "      <td>Nenhuma</td>\n",
       "      <td>35907757.0</td>\n",
       "      <td>127766922.0</td>\n",
       "      <td>0.157964</td>\n",
       "    </tr>\n",
       "    <tr>\n",
       "      <th>1</th>\n",
       "      <td>9500</td>\n",
       "      <td>5</td>\n",
       "      <td>5</td>\n",
       "      <td>4</td>\n",
       "      <td>769</td>\n",
       "      <td>Café da manha</td>\n",
       "      <td>United States</td>\n",
       "      <td>Agência</td>\n",
       "      <td>0</td>\n",
       "      <td>Pink Sapphire</td>\n",
       "      <td>1</td>\n",
       "      <td>0</td>\n",
       "      <td>0</td>\n",
       "      <td>Nenhuma</td>\n",
       "      <td>3709024.0</td>\n",
       "      <td>-95712891.0</td>\n",
       "      <td>0.054920</td>\n",
       "    </tr>\n",
       "    <tr>\n",
       "      <th>2</th>\n",
       "      <td>34558</td>\n",
       "      <td>5</td>\n",
       "      <td>4</td>\n",
       "      <td>11</td>\n",
       "      <td>1</td>\n",
       "      <td>Café da manha e jantar</td>\n",
       "      <td>United Kingdom</td>\n",
       "      <td>Agência</td>\n",
       "      <td>0</td>\n",
       "      <td>Amethyst</td>\n",
       "      <td>0</td>\n",
       "      <td>0</td>\n",
       "      <td>0</td>\n",
       "      <td>Nenhuma</td>\n",
       "      <td>55378051.0</td>\n",
       "      <td>-3435973.0</td>\n",
       "      <td>0.723008</td>\n",
       "    </tr>\n",
       "    <tr>\n",
       "      <th>3</th>\n",
       "      <td>70816</td>\n",
       "      <td>4</td>\n",
       "      <td>7</td>\n",
       "      <td>4</td>\n",
       "      <td>2</td>\n",
       "      <td>Café da manha</td>\n",
       "      <td>Spain</td>\n",
       "      <td>Agência</td>\n",
       "      <td>0</td>\n",
       "      <td>Amethyst</td>\n",
       "      <td>0</td>\n",
       "      <td>0</td>\n",
       "      <td>0</td>\n",
       "      <td>Nenhuma</td>\n",
       "      <td>40463667.0</td>\n",
       "      <td>-374922.0</td>\n",
       "      <td>0.723008</td>\n",
       "    </tr>\n",
       "    <tr>\n",
       "      <th>4</th>\n",
       "      <td>105321</td>\n",
       "      <td>4</td>\n",
       "      <td>1</td>\n",
       "      <td>8</td>\n",
       "      <td>2</td>\n",
       "      <td>Café da manha</td>\n",
       "      <td>Italy</td>\n",
       "      <td>B2B</td>\n",
       "      <td>0</td>\n",
       "      <td>Amethyst</td>\n",
       "      <td>0</td>\n",
       "      <td>1</td>\n",
       "      <td>0</td>\n",
       "      <td>1 a 3</td>\n",
       "      <td>4187194.0</td>\n",
       "      <td>1256738.0</td>\n",
       "      <td>0.723008</td>\n",
       "    </tr>\n",
       "  </tbody>\n",
       "</table>\n",
       "</div>"
      ],
      "text/plain": [
       "       id  classificacao_do_hotel  meses_da_reserva_ate_o_check_in  \\\n",
       "0  118345                       4                                8   \n",
       "1    9500                       5                                5   \n",
       "2   34558                       5                                4   \n",
       "3   70816                       4                                7   \n",
       "4  105321                       4                                1   \n",
       "\n",
       "   numero_de_pernoites_reservadas  numero_de_hospedes   regime_de_alimentacao  \\\n",
       "0                              13                   3           Café da manha   \n",
       "1                               4                 769           Café da manha   \n",
       "2                              11                   1  Café da manha e jantar   \n",
       "3                               4                   2           Café da manha   \n",
       "4                               8                   2           Café da manha   \n",
       "\n",
       "    nacionalidade forma_de_reserva  ja_se_hospedou_anterioremente  \\\n",
       "0     South Korea           Balcão                              0   \n",
       "1   United States          Agência                              0   \n",
       "2  United Kingdom          Agência                              0   \n",
       "3           Spain          Agência                              0   \n",
       "4           Italy              B2B                              0   \n",
       "\n",
       "  tipo_do_quarto_reservado  reserva_feita_por_agencia_de_turismo  \\\n",
       "0            Green Emerald                                     1   \n",
       "1            Pink Sapphire                                     1   \n",
       "2                 Amethyst                                     0   \n",
       "3                 Amethyst                                     0   \n",
       "4                 Amethyst                                     0   \n",
       "\n",
       "   reserva_feita_por_empresa  reserva_com_estacionamento  \\\n",
       "0                          0                           0   \n",
       "1                          0                           0   \n",
       "2                          0                           0   \n",
       "3                          0                           0   \n",
       "4                          1                           0   \n",
       "\n",
       "  reserva_com_observacoes    latitude    longitude  \\\n",
       "0                 Nenhuma  35907757.0  127766922.0   \n",
       "1                 Nenhuma   3709024.0  -95712891.0   \n",
       "2                 Nenhuma  55378051.0   -3435973.0   \n",
       "3                 Nenhuma  40463667.0    -374922.0   \n",
       "4                   1 a 3   4187194.0    1256738.0   \n",
       "\n",
       "   tipo_do_quarto_reservado_encoded  \n",
       "0                          0.157964  \n",
       "1                          0.054920  \n",
       "2                          0.723008  \n",
       "3                          0.723008  \n",
       "4                          0.723008  "
      ]
     },
     "execution_count": 61,
     "metadata": {},
     "output_type": "execute_result"
    }
   ],
   "source": [
    "df4.head()"
   ]
  },
  {
   "cell_type": "code",
   "execution_count": 62,
   "id": "703f3c94",
   "metadata": {
    "ExecuteTime": {
     "end_time": "2023-03-26T16:28:25.702690Z",
     "start_time": "2023-03-26T16:28:25.603683Z"
    }
   },
   "outputs": [],
   "source": [
    "# dummy variables\n",
    "cols_dummy = ['regime_de_alimentacao', 'forma_de_reserva', 'reserva_com_observacoes']\n",
    "\n",
    "df4_dummy = pd.get_dummies(df4[cols_dummy])\n",
    "\n",
    "df4 = pd.concat([df4, df4_dummy], axis=1)\n",
    "\n",
    "# # numerical\n",
    "# col_num = df4.select_dtypes(include=['int64', 'float64']).columns.tolist()\n",
    "\n",
    "# # categorical\n",
    "# col_cat = df4.select_dtypes(exclude=['int64', 'float64', 'datetime64[ns]']).columns.tolist()\n",
    "\n",
    "# # encoding\n",
    "# df4_dummy = pd.DataFrame(ohe.fit_transform(df4[col_cat]).toarray(), index=df4.index)\n",
    "# pickle.dump(ohe, open('ohe.pkl', 'wb' ))\n",
    "\n",
    "# # join numerical and categorical\n",
    "# df42 = pd.concat([df4[col_num], df4_dummy], axis=1)\n",
    "# df42.columns = df42.columns.astype(str)\n",
    "\n",
    "# # one hot encoding\n",
    "# ohe_class_hotel = pp.OneHotEncoder()\n",
    "# ohe_aliment = pp.OneHotEncoder()\n",
    "# ohe_form_reserv = pp.OneHotEncoder()\n",
    "# ohe_hosp_anter = pp.OneHotEncoder()\n",
    "# ohe_reserv_estac = pp.OneHotEncoder()\n",
    "# ohe_reserva_observ = pp.OneHotEncoder()\n",
    "\n",
    "# # classificacao_do_hotel\n",
    "# ohe_class_hotel.fit(df4[['classificacao_do_hotel']])\n",
    "# pickle.dump(ohe_class_hotel, open('ohe_class_hotel.pkl', 'wb' ))\n",
    "# encoded = ohe_class_hotel.transform(df4[['classificacao_do_hotel']])\n",
    "# df_encoded = pd.DataFrame(encoded.toarray(), columns=ohe_class_hotel.get_feature_names_out(['classificacao_do_hotel']))\n",
    "# df4 = pd.concat([df4, df_encoded], axis=1)\n",
    "\n",
    "# # regime_de_alimentacao\n",
    "# ohe_aliment.fit(df4[['regime_de_alimentacao']])\n",
    "# pickle.dump(ohe_aliment, open('ohe_aliment.pkl', 'wb' ))\n",
    "# encoded = ohe_aliment.transform(df4[['regime_de_alimentacao']])\n",
    "# df_encoded = pd.DataFrame(encoded.toarray(), columns=ohe_aliment.get_feature_names_out(['regime_de_alimentacao']))\n",
    "# df4 = pd.concat([df4, df_encoded], axis=1)\n",
    "\n",
    "# # forma_de_reserva\n",
    "# ohe_form_reserv.fit(df4[['forma_de_reserva']])\n",
    "# pickle.dump(ohe_form_reserv, open('ohe_form_reserv.pkl', 'wb' ))\n",
    "# encoded = ohe_form_reserv.transform(df4[['forma_de_reserva']])\n",
    "# df_encoded = pd.DataFrame(encoded.toarray(), columns=ohe_form_reserv.get_feature_names_out(['forma_de_reserva']))\n",
    "# df4 = pd.concat([df4, df_encoded], axis=1)\n",
    "\n",
    "# # ja_se_hospedou_anterioremente\n",
    "# ohe_hosp_anter.fit(df4[['ja_se_hospedou_anterioremente']])\n",
    "# pickle.dump(ohe_hosp_anter, open('ohe_hosp_anter.pkl', 'wb' ))\n",
    "# encoded = ohe_hosp_anter.transform(df4[['ja_se_hospedou_anterioremente']])\n",
    "# df_encoded = pd.DataFrame(encoded.toarray(), columns=ohe_hosp_anter.get_feature_names_out(['ja_se_hospedou_anterioremente']))\n",
    "# df4 = pd.concat([df4, df_encoded], axis=1)\n",
    "\n",
    "# # reserva_com_estacionamento\n",
    "# ohe_reserv_estac.fit(df4[['reserva_com_estacionamento']])\n",
    "# pickle.dump(ohe_reserv_estac, open('ohe_reserv_estac.pkl', 'wb' ))\n",
    "# encoded = ohe_reserv_estac.transform(df4[['reserva_com_estacionamento']])\n",
    "# df_encoded = pd.DataFrame(encoded.toarray(), columns=ohe_reserv_estac.get_feature_names_out(['reserva_com_estacionamento']))\n",
    "# df4 = pd.concat([df4, df_encoded], axis=1)\n",
    "\n",
    "# #reserva_com_observacoes\n",
    "# ohe_reserva_observ.fit(df4[['reserva_com_observacoes']])\n",
    "# pickle.dump(ohe_reserva_observ, open('ohe_reserva_observ.pkl', 'wb' ))\n",
    "# encoded = ohe_reserva_observ.transform(df4[['reserva_com_observacoes']])\n",
    "# df_encoded = pd.DataFrame(encoded.toarray(), columns=ohe_reserva_observ.get_feature_names_out(['reserva_com_observacoes']))\n",
    "# df4 = pd.concat([df4, df_encoded], axis=1)"
   ]
  },
  {
   "cell_type": "code",
   "execution_count": 63,
   "id": "6d769747",
   "metadata": {
    "ExecuteTime": {
     "end_time": "2023-03-26T16:28:25.771941Z",
     "start_time": "2023-03-26T16:28:25.706004Z"
    }
   },
   "outputs": [],
   "source": [
    "# df4 = df4.drop(['tipo_do_quarto_reservado', 'classificacao_do_hotel', 'regime_de_alimentacao', 'forma_de_reserva',\n",
    "#          'ja_se_hospedou_anterioremente', 'reserva_com_estacionamento', 'reserva_com_observacoes'], axis=1)\n"
   ]
  },
  {
   "cell_type": "code",
   "execution_count": 64,
   "id": "4fc7f1ac",
   "metadata": {
    "ExecuteTime": {
     "end_time": "2023-03-26T16:28:25.994686Z",
     "start_time": "2023-03-26T16:28:25.778848Z"
    }
   },
   "outputs": [],
   "source": [
    "df4['latitude'] = df4['latitude'].apply(lambda x: np.radians(x/1000000))\n",
    "df4['longitude'] = df4['longitude'].apply(lambda x: np.radians(x/1000000))"
   ]
  },
  {
   "cell_type": "markdown",
   "id": "c8e990a1",
   "metadata": {},
   "source": [
    "# 5.0. Feature Selection "
   ]
  },
  {
   "cell_type": "code",
   "execution_count": 65,
   "id": "41d5f490",
   "metadata": {
    "ExecuteTime": {
     "end_time": "2023-03-26T16:28:26.013801Z",
     "start_time": "2023-03-26T16:28:25.997949Z"
    }
   },
   "outputs": [],
   "source": [
    "df5 = df4.copy()\n",
    "cols_drop =['regime_de_alimentacao', 'forma_de_reserva', 'reserva_com_observacoes', 'nacionalidade', 'tipo_do_quarto_reservado']\n",
    "df5 = df4.drop(cols_drop, axis=1)"
   ]
  },
  {
   "cell_type": "code",
   "execution_count": 66,
   "id": "9bb85855",
   "metadata": {
    "ExecuteTime": {
     "end_time": "2023-03-26T16:28:26.085202Z",
     "start_time": "2023-03-26T16:28:26.016450Z"
    }
   },
   "outputs": [],
   "source": [
    "# split dataset into features and target\n",
    "# df5 = df5.drop('id', axis=1)"
   ]
  },
  {
   "cell_type": "code",
   "execution_count": 67,
   "id": "a2f86b46",
   "metadata": {
    "ExecuteTime": {
     "end_time": "2023-03-26T16:28:26.174173Z",
     "start_time": "2023-03-26T16:28:26.088729Z"
    }
   },
   "outputs": [],
   "source": [
    "# # split dataset into train and test\n",
    "# X_train, X_val, y_train, y_val = ms.train_test_split(X, y, test_size=0.2)"
   ]
  },
  {
   "cell_type": "markdown",
   "id": "ce01b1fc",
   "metadata": {},
   "source": [
    "## 1.5. Data Dtypes"
   ]
  },
  {
   "cell_type": "markdown",
   "id": "47cadf95",
   "metadata": {},
   "source": [
    "# 6.0. Machine Learning Model"
   ]
  },
  {
   "cell_type": "code",
   "execution_count": 68,
   "id": "27aa76ae",
   "metadata": {
    "ExecuteTime": {
     "end_time": "2023-03-26T16:28:26.277011Z",
     "start_time": "2023-03-26T16:28:26.176775Z"
    }
   },
   "outputs": [],
   "source": [
    "model = pickle.load(open('gradient_boosting.pkl', 'rb'))\n",
    "#model = pickle.load(open('rf_model.pkl', 'rb'))"
   ]
  },
  {
   "cell_type": "code",
   "execution_count": 69,
   "id": "454e6e1f",
   "metadata": {
    "ExecuteTime": {
     "end_time": "2023-03-26T16:28:27.554529Z",
     "start_time": "2023-03-26T16:28:26.281379Z"
    }
   },
   "outputs": [],
   "source": [
    "yhat = model.predict(df5)"
   ]
  },
  {
   "cell_type": "markdown",
   "id": "79576f2b",
   "metadata": {
    "ExecuteTime": {
     "end_time": "2023-03-25T15:27:20.978363Z",
     "start_time": "2023-03-25T15:27:20.975764Z"
    }
   },
   "source": [
    "# 7.0. Export CSV"
   ]
  },
  {
   "cell_type": "code",
   "execution_count": 70,
   "id": "97ed0e7e",
   "metadata": {
    "ExecuteTime": {
     "end_time": "2023-03-26T16:28:27.563255Z",
     "start_time": "2023-03-26T16:28:27.557578Z"
    }
   },
   "outputs": [],
   "source": [
    "df2['Reserva Cancelada'] = yhat"
   ]
  },
  {
   "cell_type": "code",
   "execution_count": 71,
   "id": "f915c6e5",
   "metadata": {
    "ExecuteTime": {
     "end_time": "2023-03-26T16:28:28.690055Z",
     "start_time": "2023-03-26T16:28:27.567132Z"
    }
   },
   "outputs": [],
   "source": [
    "submission = df2[['id', 'Reserva Cancelada']].copy()"
   ]
  },
  {
   "cell_type": "code",
   "execution_count": 72,
   "id": "ab797b37",
   "metadata": {
    "ExecuteTime": {
     "end_time": "2023-03-26T16:28:28.839991Z",
     "start_time": "2023-03-26T16:28:28.692543Z"
    }
   },
   "outputs": [],
   "source": [
    "submission.to_csv('submission.csv', index=False)"
   ]
  },
  {
   "cell_type": "code",
   "execution_count": null,
   "id": "4027bce8",
   "metadata": {},
   "outputs": [],
   "source": []
  }
 ],
 "metadata": {
  "kernelspec": {
   "display_name": "hackday",
   "language": "python",
   "name": "hackday"
  },
  "language_info": {
   "codemirror_mode": {
    "name": "ipython",
    "version": 3
   },
   "file_extension": ".py",
   "mimetype": "text/x-python",
   "name": "python",
   "nbconvert_exporter": "python",
   "pygments_lexer": "ipython3",
   "version": "3.11.2"
  }
 },
 "nbformat": 4,
 "nbformat_minor": 5
}
