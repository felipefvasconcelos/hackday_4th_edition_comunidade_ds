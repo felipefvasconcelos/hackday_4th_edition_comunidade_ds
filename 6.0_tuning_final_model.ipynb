{
 "cells": [
  {
   "cell_type": "markdown",
   "id": "be9b865f",
   "metadata": {},
   "source": [
    "# 0.0. Imports"
   ]
  },
  {
   "cell_type": "code",
   "execution_count": 2,
   "id": "c3e45637",
   "metadata": {
    "ExecuteTime": {
     "end_time": "2023-03-28T00:10:10.260186Z",
     "start_time": "2023-03-28T00:09:50.067779Z"
    }
   },
   "outputs": [
    {
     "name": "stderr",
     "output_type": "stream",
     "text": [
      "/home/felipe/repos/hackday/hackday/lib/python3.11/site-packages/tqdm/auto.py:22: TqdmWarning: IProgress not found. Please update jupyter and ipywidgets. See https://ipywidgets.readthedocs.io/en/stable/user_install.html\n",
      "  from .autonotebook import tqdm as notebook_tqdm\n"
     ]
    }
   ],
   "source": [
    "import pickle\n",
    "import inflection\n",
    "\n",
    "import numpy   as np\n",
    "import pandas  as pd\n",
    "import seaborn as sn\n",
    "\n",
    "from sklearn         import svm\n",
    "from xgboost         import XGBClassifier\n",
    "from ydata_profiling import ProfileReport\n",
    "\n",
    "from sklearn    import metrics         as mt\n",
    "from sklearn    import ensemble        as en\n",
    "from sklearn    import linear_model    as lm\n",
    "from sklearn    import preprocessing   as pp\n",
    "from sklearn    import model_selection as ms\n",
    "\n",
    "from matplotlib import pyplot          as plt"
   ]
  },
  {
   "cell_type": "markdown",
   "id": "40f1f5cd",
   "metadata": {
    "ExecuteTime": {
     "end_time": "2023-03-25T01:45:10.964211Z",
     "start_time": "2023-03-25T01:45:10.431585Z"
    },
    "heading_collapsed": true
   },
   "source": [
    "# 1.0. Data Description"
   ]
  },
  {
   "cell_type": "markdown",
   "id": "a44e7938",
   "metadata": {
    "heading_collapsed": true,
    "hidden": true
   },
   "source": [
    "## 1.1. Loading Data"
   ]
  },
  {
   "cell_type": "code",
   "execution_count": 3,
   "id": "9d3310b9",
   "metadata": {
    "ExecuteTime": {
     "end_time": "2023-03-28T00:10:10.998302Z",
     "start_time": "2023-03-28T00:10:10.263534Z"
    },
    "hidden": true
   },
   "outputs": [],
   "source": [
    "# load datasets\n",
    "df_raw = pd.read_csv('data/train.csv')\n",
    "df_country = pd.read_csv('data/country_base_2.csv')\n",
    "\n",
    "# mergre county coordinates\n",
    "df1 = pd.merge(df_raw, df_country, on='Nacionalidade', how='left')\n",
    "\n",
    "# drop irrelevant columns\n",
    "df1 = df1.drop('country', axis=1)"
   ]
  },
  {
   "cell_type": "markdown",
   "id": "fc0a7f9f",
   "metadata": {
    "heading_collapsed": true,
    "hidden": true
   },
   "source": [
    "## 1.2. Rename Columns"
   ]
  },
  {
   "cell_type": "code",
   "execution_count": 4,
   "id": "c37cd130",
   "metadata": {
    "ExecuteTime": {
     "end_time": "2023-03-28T00:10:11.007778Z",
     "start_time": "2023-03-28T00:10:11.000672Z"
    },
    "hidden": true
   },
   "outputs": [],
   "source": [
    "# list columns names\n",
    "cols_old = ['id', 'Classificacao_do_hotel', 'Meses_da_reserva_ate_o_check-in', 'Numero_de_pernoites_reservadas', \n",
    "            'Numero_de_hospedes', 'Regime_de_alimentacao', 'Nacionalidade', 'Forma_de_Reserva',\n",
    "            'Ja_se_hospedou_anterioremente', 'Tipo_do_quarto_reservado', 'Reserva_feita_por_agencia_de_turismo', \n",
    "            'Reserva_feita_por_empresa', 'Reserva_com_Estacionamento', 'Reserva_com_Observacoes', \n",
    "            'Reserva_Cancelada', 'latitude', 'longitude']\n",
    "\n",
    "# rename columns\n",
    "snakecase = lambda x: inflection.underscore(x)\n",
    "cols_new = list(map(snakecase, cols_old))\n",
    "df1.columns = cols_new"
   ]
  },
  {
   "cell_type": "markdown",
   "id": "d4e724b0",
   "metadata": {
    "heading_collapsed": true,
    "hidden": true
   },
   "source": [
    "## 1.3. Data Dimensions"
   ]
  },
  {
   "cell_type": "code",
   "execution_count": 5,
   "id": "8b135b2f",
   "metadata": {
    "ExecuteTime": {
     "end_time": "2023-03-28T00:10:11.173751Z",
     "start_time": "2023-03-28T00:10:11.011737Z"
    },
    "hidden": true
   },
   "outputs": [
    {
     "name": "stdout",
     "output_type": "stream",
     "text": [
      "Number of rows: 72159\n",
      "Number of cols: 17\n"
     ]
    }
   ],
   "source": [
    "# check dimensions\n",
    "print('Number of rows: {}'.format(df1.shape[0]))\n",
    "print('Number of cols: {}'.format(df1.shape[1]))"
   ]
  },
  {
   "cell_type": "markdown",
   "id": "292ec09b",
   "metadata": {
    "heading_collapsed": true,
    "hidden": true
   },
   "source": [
    "## 1.4. Check NA"
   ]
  },
  {
   "cell_type": "code",
   "execution_count": 6,
   "id": "2cf7ddae",
   "metadata": {
    "ExecuteTime": {
     "end_time": "2023-03-28T00:10:11.535164Z",
     "start_time": "2023-03-28T00:10:11.178477Z"
    },
    "hidden": true
   },
   "outputs": [
    {
     "data": {
      "text/plain": [
       "id                                         0\n",
       "classificacao_do_hotel                     0\n",
       "meses_da_reserva_ate_o_check_in            0\n",
       "numero_de_pernoites_reservadas             0\n",
       "numero_de_hospedes                         3\n",
       "regime_de_alimentacao                      0\n",
       "nacionalidade                           1093\n",
       "forma_de_reserva                           0\n",
       "ja_se_hospedou_anterioremente              0\n",
       "tipo_do_quarto_reservado                   0\n",
       "reserva_feita_por_agencia_de_turismo       0\n",
       "reserva_feita_por_empresa                  0\n",
       "reserva_com_estacionamento                 0\n",
       "reserva_com_observacoes                    0\n",
       "reserva_cancelada                          0\n",
       "latitude                                1093\n",
       "longitude                               1093\n",
       "dtype: int64"
      ]
     },
     "execution_count": 6,
     "metadata": {},
     "output_type": "execute_result"
    }
   ],
   "source": [
    "# check NA values\n",
    "df1.isna().sum()#/len(df1)"
   ]
  },
  {
   "cell_type": "markdown",
   "id": "9d4a1ffc",
   "metadata": {
    "heading_collapsed": true,
    "hidden": true
   },
   "source": [
    "### 1.4.1. Replace NA"
   ]
  },
  {
   "cell_type": "code",
   "execution_count": 7,
   "id": "e84b84df",
   "metadata": {
    "ExecuteTime": {
     "end_time": "2023-03-28T00:10:11.716789Z",
     "start_time": "2023-03-28T00:10:11.541735Z"
    },
    "hidden": true
   },
   "outputs": [],
   "source": [
    "# drop NA\n",
    "#df1['numero_de_hospedes'] = df1['numero_de_hospedes'].fillna(2)\n",
    "df1 = df1.dropna()"
   ]
  },
  {
   "cell_type": "markdown",
   "id": "4682fcd5",
   "metadata": {
    "heading_collapsed": true,
    "hidden": true
   },
   "source": [
    "## 1.5. Data Dtypes"
   ]
  },
  {
   "cell_type": "code",
   "execution_count": 8,
   "id": "abdcd99b",
   "metadata": {
    "ExecuteTime": {
     "end_time": "2023-03-28T00:10:11.728071Z",
     "start_time": "2023-03-28T00:10:11.719854Z"
    },
    "hidden": true
   },
   "outputs": [
    {
     "data": {
      "text/plain": [
       "id                                        int64\n",
       "classificacao_do_hotel                   object\n",
       "meses_da_reserva_ate_o_check_in           int64\n",
       "numero_de_pernoites_reservadas            int64\n",
       "numero_de_hospedes                      float64\n",
       "regime_de_alimentacao                    object\n",
       "nacionalidade                            object\n",
       "forma_de_reserva                         object\n",
       "ja_se_hospedou_anterioremente            object\n",
       "tipo_do_quarto_reservado                 object\n",
       "reserva_feita_por_agencia_de_turismo     object\n",
       "reserva_feita_por_empresa                object\n",
       "reserva_com_estacionamento               object\n",
       "reserva_com_observacoes                  object\n",
       "reserva_cancelada                         int64\n",
       "latitude                                float64\n",
       "longitude                               float64\n",
       "dtype: object"
      ]
     },
     "execution_count": 8,
     "metadata": {},
     "output_type": "execute_result"
    }
   ],
   "source": [
    "# check dtypes\n",
    "df1.dtypes"
   ]
  },
  {
   "cell_type": "markdown",
   "id": "586a208c",
   "metadata": {
    "heading_collapsed": true,
    "hidden": true
   },
   "source": [
    "### 1.5.1. Change Dtypes"
   ]
  },
  {
   "cell_type": "code",
   "execution_count": 9,
   "id": "7694973f",
   "metadata": {
    "ExecuteTime": {
     "end_time": "2023-03-28T00:10:11.851311Z",
     "start_time": "2023-03-28T00:10:11.732363Z"
    },
    "hidden": true
   },
   "outputs": [],
   "source": [
    "df1['numero_de_hospedes'] = df1['numero_de_hospedes'].astype('int')"
   ]
  },
  {
   "cell_type": "markdown",
   "id": "9729dd5a",
   "metadata": {
    "heading_collapsed": true,
    "hidden": true
   },
   "source": [
    "## 1.6. Data Balancing"
   ]
  },
  {
   "cell_type": "code",
   "execution_count": 10,
   "id": "8f61ac3b",
   "metadata": {
    "ExecuteTime": {
     "end_time": "2023-03-28T00:10:11.950039Z",
     "start_time": "2023-03-28T00:10:11.854711Z"
    },
    "hidden": true
   },
   "outputs": [
    {
     "data": {
      "text/plain": [
       "0    0.62674\n",
       "1    0.37326\n",
       "Name: reserva_cancelada, dtype: float64"
      ]
     },
     "execution_count": 10,
     "metadata": {},
     "output_type": "execute_result"
    }
   ],
   "source": [
    "# check balancing of target variable\n",
    "df1['reserva_cancelada'].value_counts(normalize=True)"
   ]
  },
  {
   "cell_type": "markdown",
   "id": "a4e60ff0",
   "metadata": {
    "heading_collapsed": true,
    "hidden": true
   },
   "source": [
    "## 1.7. Pandas Profiling"
   ]
  },
  {
   "cell_type": "code",
   "execution_count": 11,
   "id": "1d1e4c82",
   "metadata": {
    "ExecuteTime": {
     "end_time": "2023-03-28T00:10:12.041487Z",
     "start_time": "2023-03-28T00:10:11.966150Z"
    },
    "hidden": true
   },
   "outputs": [],
   "source": [
    "# prof = ProfileReport(df1)\n",
    "# prof.to_file(output_file='output.html')"
   ]
  },
  {
   "cell_type": "markdown",
   "id": "2fa76fab",
   "metadata": {
    "heading_collapsed": true,
    "hidden": true
   },
   "source": [
    "### 1.7.1. Investigate meses_da_reserva_ate_o_check_in"
   ]
  },
  {
   "cell_type": "code",
   "execution_count": 12,
   "id": "30f9b6f1",
   "metadata": {
    "ExecuteTime": {
     "end_time": "2023-03-28T00:10:12.258948Z",
     "start_time": "2023-03-28T00:10:12.047515Z"
    },
    "hidden": true
   },
   "outputs": [
    {
     "data": {
      "text/html": [
       "<div>\n",
       "<style scoped>\n",
       "    .dataframe tbody tr th:only-of-type {\n",
       "        vertical-align: middle;\n",
       "    }\n",
       "\n",
       "    .dataframe tbody tr th {\n",
       "        vertical-align: top;\n",
       "    }\n",
       "\n",
       "    .dataframe thead th {\n",
       "        text-align: right;\n",
       "    }\n",
       "</style>\n",
       "<table border=\"1\" class=\"dataframe\">\n",
       "  <thead>\n",
       "    <tr style=\"text-align: right;\">\n",
       "      <th></th>\n",
       "      <th>id</th>\n",
       "      <th>classificacao_do_hotel</th>\n",
       "      <th>meses_da_reserva_ate_o_check_in</th>\n",
       "      <th>numero_de_pernoites_reservadas</th>\n",
       "      <th>numero_de_hospedes</th>\n",
       "      <th>regime_de_alimentacao</th>\n",
       "      <th>nacionalidade</th>\n",
       "      <th>forma_de_reserva</th>\n",
       "      <th>ja_se_hospedou_anterioremente</th>\n",
       "      <th>tipo_do_quarto_reservado</th>\n",
       "      <th>reserva_feita_por_agencia_de_turismo</th>\n",
       "      <th>reserva_feita_por_empresa</th>\n",
       "      <th>reserva_com_estacionamento</th>\n",
       "      <th>reserva_com_observacoes</th>\n",
       "      <th>reserva_cancelada</th>\n",
       "      <th>latitude</th>\n",
       "      <th>longitude</th>\n",
       "    </tr>\n",
       "  </thead>\n",
       "  <tbody>\n",
       "    <tr>\n",
       "      <th>7158</th>\n",
       "      <td>60279</td>\n",
       "      <td>4 estrelas</td>\n",
       "      <td>244</td>\n",
       "      <td>3</td>\n",
       "      <td>2</td>\n",
       "      <td>Café da manha</td>\n",
       "      <td>Spain</td>\n",
       "      <td>Agência</td>\n",
       "      <td>Não</td>\n",
       "      <td>Amethyst</td>\n",
       "      <td>Sim</td>\n",
       "      <td>Não</td>\n",
       "      <td>Não</td>\n",
       "      <td>Nenhuma</td>\n",
       "      <td>1</td>\n",
       "      <td>40463667.0</td>\n",
       "      <td>-374922.0</td>\n",
       "    </tr>\n",
       "    <tr>\n",
       "      <th>35763</th>\n",
       "      <td>68741</td>\n",
       "      <td>4 estrelas</td>\n",
       "      <td>184</td>\n",
       "      <td>3</td>\n",
       "      <td>1</td>\n",
       "      <td>Café da manha</td>\n",
       "      <td>Spain</td>\n",
       "      <td>Agência</td>\n",
       "      <td>Não</td>\n",
       "      <td>Amethyst</td>\n",
       "      <td>Não</td>\n",
       "      <td>Não</td>\n",
       "      <td>Não</td>\n",
       "      <td>Nenhuma</td>\n",
       "      <td>1</td>\n",
       "      <td>40463667.0</td>\n",
       "      <td>-374922.0</td>\n",
       "    </tr>\n",
       "    <tr>\n",
       "      <th>42622</th>\n",
       "      <td>39607</td>\n",
       "      <td>5 estrelas</td>\n",
       "      <td>87</td>\n",
       "      <td>10</td>\n",
       "      <td>2</td>\n",
       "      <td>Café da manha e jantar</td>\n",
       "      <td>United Kingdom</td>\n",
       "      <td>Agência</td>\n",
       "      <td>Não</td>\n",
       "      <td>Green Emerald</td>\n",
       "      <td>Sim</td>\n",
       "      <td>Não</td>\n",
       "      <td>Não</td>\n",
       "      <td>1 a 3</td>\n",
       "      <td>0</td>\n",
       "      <td>55378051.0</td>\n",
       "      <td>-3435973.0</td>\n",
       "    </tr>\n",
       "    <tr>\n",
       "      <th>31427</th>\n",
       "      <td>66482</td>\n",
       "      <td>4 estrelas</td>\n",
       "      <td>88</td>\n",
       "      <td>6</td>\n",
       "      <td>2</td>\n",
       "      <td>Café da manha</td>\n",
       "      <td>Sweden</td>\n",
       "      <td>Agência</td>\n",
       "      <td>Não</td>\n",
       "      <td>Amethyst</td>\n",
       "      <td>Sim</td>\n",
       "      <td>Não</td>\n",
       "      <td>Não</td>\n",
       "      <td>1 a 3</td>\n",
       "      <td>1</td>\n",
       "      <td>60128161.0</td>\n",
       "      <td>18643501.0</td>\n",
       "    </tr>\n",
       "    <tr>\n",
       "      <th>25920</th>\n",
       "      <td>116530</td>\n",
       "      <td>4 estrelas</td>\n",
       "      <td>96</td>\n",
       "      <td>683</td>\n",
       "      <td>2</td>\n",
       "      <td>Café da manha</td>\n",
       "      <td>Brazil</td>\n",
       "      <td>Balcão</td>\n",
       "      <td>Não</td>\n",
       "      <td>Amethyst</td>\n",
       "      <td>Sim</td>\n",
       "      <td>Não</td>\n",
       "      <td>Não</td>\n",
       "      <td>Nenhuma</td>\n",
       "      <td>0</td>\n",
       "      <td>-14235004.0</td>\n",
       "      <td>-5192528.0</td>\n",
       "    </tr>\n",
       "    <tr>\n",
       "      <th>43846</th>\n",
       "      <td>117812</td>\n",
       "      <td>4 estrelas</td>\n",
       "      <td>170</td>\n",
       "      <td>2</td>\n",
       "      <td>4</td>\n",
       "      <td>Café da manha</td>\n",
       "      <td>Switzerland</td>\n",
       "      <td>Agência</td>\n",
       "      <td>Não</td>\n",
       "      <td>Tanzanite</td>\n",
       "      <td>Sim</td>\n",
       "      <td>Não</td>\n",
       "      <td>Não</td>\n",
       "      <td>1 a 3</td>\n",
       "      <td>0</td>\n",
       "      <td>46818188.0</td>\n",
       "      <td>8227512.0</td>\n",
       "    </tr>\n",
       "    <tr>\n",
       "      <th>47146</th>\n",
       "      <td>96649</td>\n",
       "      <td>4 estrelas</td>\n",
       "      <td>310</td>\n",
       "      <td>3</td>\n",
       "      <td>2</td>\n",
       "      <td>Café da manha</td>\n",
       "      <td>Sweden</td>\n",
       "      <td>Agência</td>\n",
       "      <td>Não</td>\n",
       "      <td>Amethyst</td>\n",
       "      <td>Sim</td>\n",
       "      <td>Não</td>\n",
       "      <td>Não</td>\n",
       "      <td>Nenhuma</td>\n",
       "      <td>0</td>\n",
       "      <td>60128161.0</td>\n",
       "      <td>18643501.0</td>\n",
       "    </tr>\n",
       "    <tr>\n",
       "      <th>58318</th>\n",
       "      <td>5613</td>\n",
       "      <td>5 estrelas</td>\n",
       "      <td>115</td>\n",
       "      <td>7</td>\n",
       "      <td>2</td>\n",
       "      <td>Café da manha</td>\n",
       "      <td>Spain</td>\n",
       "      <td>Agência</td>\n",
       "      <td>Não</td>\n",
       "      <td>Green Emerald</td>\n",
       "      <td>Sim</td>\n",
       "      <td>Não</td>\n",
       "      <td>Não</td>\n",
       "      <td>1 a 3</td>\n",
       "      <td>1</td>\n",
       "      <td>40463667.0</td>\n",
       "      <td>-374922.0</td>\n",
       "    </tr>\n",
       "    <tr>\n",
       "      <th>53810</th>\n",
       "      <td>59464</td>\n",
       "      <td>4 estrelas</td>\n",
       "      <td>153</td>\n",
       "      <td>5</td>\n",
       "      <td>3</td>\n",
       "      <td>Café da manha</td>\n",
       "      <td>France</td>\n",
       "      <td>Agência</td>\n",
       "      <td>Não</td>\n",
       "      <td>Amethyst</td>\n",
       "      <td>Sim</td>\n",
       "      <td>Não</td>\n",
       "      <td>Não</td>\n",
       "      <td>1 a 3</td>\n",
       "      <td>1</td>\n",
       "      <td>46227638.0</td>\n",
       "      <td>2213749.0</td>\n",
       "    </tr>\n",
       "    <tr>\n",
       "      <th>12998</th>\n",
       "      <td>91915</td>\n",
       "      <td>4 estrelas</td>\n",
       "      <td>309</td>\n",
       "      <td>2</td>\n",
       "      <td>2</td>\n",
       "      <td>Café da manha</td>\n",
       "      <td>Germany</td>\n",
       "      <td>Agência</td>\n",
       "      <td>Não</td>\n",
       "      <td>Amethyst</td>\n",
       "      <td>Sim</td>\n",
       "      <td>Não</td>\n",
       "      <td>Não</td>\n",
       "      <td>Nenhuma</td>\n",
       "      <td>0</td>\n",
       "      <td>51165691.0</td>\n",
       "      <td>10451526.0</td>\n",
       "    </tr>\n",
       "  </tbody>\n",
       "</table>\n",
       "</div>"
      ],
      "text/plain": [
       "           id classificacao_do_hotel  meses_da_reserva_ate_o_check_in  \\\n",
       "7158    60279             4 estrelas                              244   \n",
       "35763   68741             4 estrelas                              184   \n",
       "42622   39607             5 estrelas                               87   \n",
       "31427   66482             4 estrelas                               88   \n",
       "25920  116530             4 estrelas                               96   \n",
       "43846  117812             4 estrelas                              170   \n",
       "47146   96649             4 estrelas                              310   \n",
       "58318    5613             5 estrelas                              115   \n",
       "53810   59464             4 estrelas                              153   \n",
       "12998   91915             4 estrelas                              309   \n",
       "\n",
       "       numero_de_pernoites_reservadas  numero_de_hospedes  \\\n",
       "7158                                3                   2   \n",
       "35763                               3                   1   \n",
       "42622                              10                   2   \n",
       "31427                               6                   2   \n",
       "25920                             683                   2   \n",
       "43846                               2                   4   \n",
       "47146                               3                   2   \n",
       "58318                               7                   2   \n",
       "53810                               5                   3   \n",
       "12998                               2                   2   \n",
       "\n",
       "        regime_de_alimentacao   nacionalidade forma_de_reserva  \\\n",
       "7158            Café da manha           Spain          Agência   \n",
       "35763           Café da manha           Spain          Agência   \n",
       "42622  Café da manha e jantar  United Kingdom          Agência   \n",
       "31427           Café da manha          Sweden          Agência   \n",
       "25920           Café da manha          Brazil           Balcão   \n",
       "43846           Café da manha     Switzerland          Agência   \n",
       "47146           Café da manha          Sweden          Agência   \n",
       "58318           Café da manha           Spain          Agência   \n",
       "53810           Café da manha          France          Agência   \n",
       "12998           Café da manha         Germany          Agência   \n",
       "\n",
       "      ja_se_hospedou_anterioremente tipo_do_quarto_reservado  \\\n",
       "7158                            Não                 Amethyst   \n",
       "35763                           Não                 Amethyst   \n",
       "42622                           Não            Green Emerald   \n",
       "31427                           Não                 Amethyst   \n",
       "25920                           Não                 Amethyst   \n",
       "43846                           Não                Tanzanite   \n",
       "47146                           Não                 Amethyst   \n",
       "58318                           Não            Green Emerald   \n",
       "53810                           Não                 Amethyst   \n",
       "12998                           Não                 Amethyst   \n",
       "\n",
       "      reserva_feita_por_agencia_de_turismo reserva_feita_por_empresa  \\\n",
       "7158                                   Sim                       Não   \n",
       "35763                                  Não                       Não   \n",
       "42622                                  Sim                       Não   \n",
       "31427                                  Sim                       Não   \n",
       "25920                                  Sim                       Não   \n",
       "43846                                  Sim                       Não   \n",
       "47146                                  Sim                       Não   \n",
       "58318                                  Sim                       Não   \n",
       "53810                                  Sim                       Não   \n",
       "12998                                  Sim                       Não   \n",
       "\n",
       "      reserva_com_estacionamento reserva_com_observacoes  reserva_cancelada  \\\n",
       "7158                         Não                 Nenhuma                  1   \n",
       "35763                        Não                 Nenhuma                  1   \n",
       "42622                        Não                   1 a 3                  0   \n",
       "31427                        Não                   1 a 3                  1   \n",
       "25920                        Não                 Nenhuma                  0   \n",
       "43846                        Não                   1 a 3                  0   \n",
       "47146                        Não                 Nenhuma                  0   \n",
       "58318                        Não                   1 a 3                  1   \n",
       "53810                        Não                   1 a 3                  1   \n",
       "12998                        Não                 Nenhuma                  0   \n",
       "\n",
       "         latitude   longitude  \n",
       "7158   40463667.0   -374922.0  \n",
       "35763  40463667.0   -374922.0  \n",
       "42622  55378051.0  -3435973.0  \n",
       "31427  60128161.0  18643501.0  \n",
       "25920 -14235004.0  -5192528.0  \n",
       "43846  46818188.0   8227512.0  \n",
       "47146  60128161.0  18643501.0  \n",
       "58318  40463667.0   -374922.0  \n",
       "53810  46227638.0   2213749.0  \n",
       "12998  51165691.0  10451526.0  "
      ]
     },
     "execution_count": 12,
     "metadata": {},
     "output_type": "execute_result"
    }
   ],
   "source": [
    "df1[df1['meses_da_reserva_ate_o_check_in']>24].sample(10)"
   ]
  },
  {
   "cell_type": "code",
   "execution_count": 13,
   "id": "2b3a2dcd",
   "metadata": {
    "ExecuteTime": {
     "end_time": "2023-03-28T00:10:12.303113Z",
     "start_time": "2023-03-28T00:10:12.267460Z"
    },
    "hidden": true
   },
   "outputs": [
    {
     "data": {
      "text/html": [
       "<div>\n",
       "<style scoped>\n",
       "    .dataframe tbody tr th:only-of-type {\n",
       "        vertical-align: middle;\n",
       "    }\n",
       "\n",
       "    .dataframe tbody tr th {\n",
       "        vertical-align: top;\n",
       "    }\n",
       "\n",
       "    .dataframe thead th {\n",
       "        text-align: right;\n",
       "    }\n",
       "</style>\n",
       "<table border=\"1\" class=\"dataframe\">\n",
       "  <thead>\n",
       "    <tr style=\"text-align: right;\">\n",
       "      <th></th>\n",
       "      <th>reserva_cancelada</th>\n",
       "      <th>id</th>\n",
       "    </tr>\n",
       "  </thead>\n",
       "  <tbody>\n",
       "    <tr>\n",
       "      <th>0</th>\n",
       "      <td>0</td>\n",
       "      <td>757</td>\n",
       "    </tr>\n",
       "    <tr>\n",
       "      <th>1</th>\n",
       "      <td>1</td>\n",
       "      <td>437</td>\n",
       "    </tr>\n",
       "  </tbody>\n",
       "</table>\n",
       "</div>"
      ],
      "text/plain": [
       "   reserva_cancelada   id\n",
       "0                  0  757\n",
       "1                  1  437"
      ]
     },
     "execution_count": 13,
     "metadata": {},
     "output_type": "execute_result"
    }
   ],
   "source": [
    "df1[df1['meses_da_reserva_ate_o_check_in']>60][['id','reserva_cancelada']].groupby('reserva_cancelada').count().reset_index()"
   ]
  },
  {
   "cell_type": "markdown",
   "id": "752d883d",
   "metadata": {
    "heading_collapsed": true,
    "hidden": true
   },
   "source": [
    "### 1.7.2. Investigate numero_de_pernoites_reservadas"
   ]
  },
  {
   "cell_type": "code",
   "execution_count": 14,
   "id": "c4a30685",
   "metadata": {
    "ExecuteTime": {
     "end_time": "2023-03-28T00:10:12.461477Z",
     "start_time": "2023-03-28T00:10:12.308183Z"
    },
    "hidden": true
   },
   "outputs": [
    {
     "data": {
      "text/html": [
       "<div>\n",
       "<style scoped>\n",
       "    .dataframe tbody tr th:only-of-type {\n",
       "        vertical-align: middle;\n",
       "    }\n",
       "\n",
       "    .dataframe tbody tr th {\n",
       "        vertical-align: top;\n",
       "    }\n",
       "\n",
       "    .dataframe thead th {\n",
       "        text-align: right;\n",
       "    }\n",
       "</style>\n",
       "<table border=\"1\" class=\"dataframe\">\n",
       "  <thead>\n",
       "    <tr style=\"text-align: right;\">\n",
       "      <th></th>\n",
       "      <th>id</th>\n",
       "      <th>classificacao_do_hotel</th>\n",
       "      <th>meses_da_reserva_ate_o_check_in</th>\n",
       "      <th>numero_de_pernoites_reservadas</th>\n",
       "      <th>numero_de_hospedes</th>\n",
       "      <th>regime_de_alimentacao</th>\n",
       "      <th>nacionalidade</th>\n",
       "      <th>forma_de_reserva</th>\n",
       "      <th>ja_se_hospedou_anterioremente</th>\n",
       "      <th>tipo_do_quarto_reservado</th>\n",
       "      <th>reserva_feita_por_agencia_de_turismo</th>\n",
       "      <th>reserva_feita_por_empresa</th>\n",
       "      <th>reserva_com_estacionamento</th>\n",
       "      <th>reserva_com_observacoes</th>\n",
       "      <th>reserva_cancelada</th>\n",
       "      <th>latitude</th>\n",
       "      <th>longitude</th>\n",
       "    </tr>\n",
       "  </thead>\n",
       "  <tbody>\n",
       "    <tr>\n",
       "      <th>28373</th>\n",
       "      <td>13578</td>\n",
       "      <td>5 estrelas</td>\n",
       "      <td>9</td>\n",
       "      <td>869</td>\n",
       "      <td>2</td>\n",
       "      <td>Café da manha e jantar</td>\n",
       "      <td>Spain</td>\n",
       "      <td>Agência</td>\n",
       "      <td>Não</td>\n",
       "      <td>Amethyst</td>\n",
       "      <td>Sim</td>\n",
       "      <td>Não</td>\n",
       "      <td>Não</td>\n",
       "      <td>Nenhuma</td>\n",
       "      <td>1</td>\n",
       "      <td>40463667.0</td>\n",
       "      <td>-374922.0</td>\n",
       "    </tr>\n",
       "    <tr>\n",
       "      <th>28376</th>\n",
       "      <td>432</td>\n",
       "      <td>5 estrelas</td>\n",
       "      <td>2</td>\n",
       "      <td>1131</td>\n",
       "      <td>2</td>\n",
       "      <td>Café da manha, almoco e jantar</td>\n",
       "      <td>Spain</td>\n",
       "      <td>Balcão</td>\n",
       "      <td>Não</td>\n",
       "      <td>Amethyst</td>\n",
       "      <td>Sim</td>\n",
       "      <td>Não</td>\n",
       "      <td>Não</td>\n",
       "      <td>Nenhuma</td>\n",
       "      <td>0</td>\n",
       "      <td>40463667.0</td>\n",
       "      <td>-374922.0</td>\n",
       "    </tr>\n",
       "    <tr>\n",
       "      <th>37031</th>\n",
       "      <td>68463</td>\n",
       "      <td>4 estrelas</td>\n",
       "      <td>11</td>\n",
       "      <td>816</td>\n",
       "      <td>2</td>\n",
       "      <td>Café da manha</td>\n",
       "      <td>Spain</td>\n",
       "      <td>Agência</td>\n",
       "      <td>Não</td>\n",
       "      <td>Green Emerald</td>\n",
       "      <td>Sim</td>\n",
       "      <td>Não</td>\n",
       "      <td>Não</td>\n",
       "      <td>1 a 3</td>\n",
       "      <td>1</td>\n",
       "      <td>40463667.0</td>\n",
       "      <td>-374922.0</td>\n",
       "    </tr>\n",
       "    <tr>\n",
       "      <th>51266</th>\n",
       "      <td>32228</td>\n",
       "      <td>5 estrelas</td>\n",
       "      <td>2</td>\n",
       "      <td>615</td>\n",
       "      <td>2</td>\n",
       "      <td>Café da manha</td>\n",
       "      <td>Spain</td>\n",
       "      <td>Balcão</td>\n",
       "      <td>Não</td>\n",
       "      <td>Amethyst</td>\n",
       "      <td>Sim</td>\n",
       "      <td>Não</td>\n",
       "      <td>Não</td>\n",
       "      <td>Nenhuma</td>\n",
       "      <td>0</td>\n",
       "      <td>40463667.0</td>\n",
       "      <td>-374922.0</td>\n",
       "    </tr>\n",
       "    <tr>\n",
       "      <th>7558</th>\n",
       "      <td>22096</td>\n",
       "      <td>5 estrelas</td>\n",
       "      <td>1</td>\n",
       "      <td>1141</td>\n",
       "      <td>2</td>\n",
       "      <td>Café da manha</td>\n",
       "      <td>Spain</td>\n",
       "      <td>Agência</td>\n",
       "      <td>Não</td>\n",
       "      <td>Amethyst</td>\n",
       "      <td>Sim</td>\n",
       "      <td>Não</td>\n",
       "      <td>Não</td>\n",
       "      <td>Nenhuma</td>\n",
       "      <td>0</td>\n",
       "      <td>40463667.0</td>\n",
       "      <td>-374922.0</td>\n",
       "    </tr>\n",
       "    <tr>\n",
       "      <th>15259</th>\n",
       "      <td>62979</td>\n",
       "      <td>4 estrelas</td>\n",
       "      <td>2</td>\n",
       "      <td>787</td>\n",
       "      <td>1</td>\n",
       "      <td>Café da manha</td>\n",
       "      <td>Spain</td>\n",
       "      <td>B2B</td>\n",
       "      <td>Não</td>\n",
       "      <td>Amethyst</td>\n",
       "      <td>Não</td>\n",
       "      <td>Sim</td>\n",
       "      <td>Não</td>\n",
       "      <td>Nenhuma</td>\n",
       "      <td>1</td>\n",
       "      <td>40463667.0</td>\n",
       "      <td>-374922.0</td>\n",
       "    </tr>\n",
       "    <tr>\n",
       "      <th>55242</th>\n",
       "      <td>15750</td>\n",
       "      <td>5 estrelas</td>\n",
       "      <td>16</td>\n",
       "      <td>659</td>\n",
       "      <td>2</td>\n",
       "      <td>Café da manha e jantar</td>\n",
       "      <td>Spain</td>\n",
       "      <td>Agência</td>\n",
       "      <td>Não</td>\n",
       "      <td>Amethyst</td>\n",
       "      <td>Sim</td>\n",
       "      <td>Não</td>\n",
       "      <td>Não</td>\n",
       "      <td>Nenhuma</td>\n",
       "      <td>1</td>\n",
       "      <td>40463667.0</td>\n",
       "      <td>-374922.0</td>\n",
       "    </tr>\n",
       "    <tr>\n",
       "      <th>30588</th>\n",
       "      <td>31214</td>\n",
       "      <td>5 estrelas</td>\n",
       "      <td>2</td>\n",
       "      <td>733</td>\n",
       "      <td>1</td>\n",
       "      <td>Café da manha e jantar</td>\n",
       "      <td>Brazil</td>\n",
       "      <td>Agência</td>\n",
       "      <td>Não</td>\n",
       "      <td>Pink Sapphire</td>\n",
       "      <td>Sim</td>\n",
       "      <td>Não</td>\n",
       "      <td>Não</td>\n",
       "      <td>Nenhuma</td>\n",
       "      <td>0</td>\n",
       "      <td>-14235004.0</td>\n",
       "      <td>-5192528.0</td>\n",
       "    </tr>\n",
       "    <tr>\n",
       "      <th>21634</th>\n",
       "      <td>8119</td>\n",
       "      <td>5 estrelas</td>\n",
       "      <td>2</td>\n",
       "      <td>389</td>\n",
       "      <td>2</td>\n",
       "      <td>Café da manha</td>\n",
       "      <td>Spain</td>\n",
       "      <td>Agência</td>\n",
       "      <td>Não</td>\n",
       "      <td>Amethyst</td>\n",
       "      <td>Sim</td>\n",
       "      <td>Não</td>\n",
       "      <td>Não</td>\n",
       "      <td>Nenhuma</td>\n",
       "      <td>1</td>\n",
       "      <td>40463667.0</td>\n",
       "      <td>-374922.0</td>\n",
       "    </tr>\n",
       "    <tr>\n",
       "      <th>69039</th>\n",
       "      <td>10035</td>\n",
       "      <td>5 estrelas</td>\n",
       "      <td>2</td>\n",
       "      <td>543</td>\n",
       "      <td>2</td>\n",
       "      <td>Café da manha</td>\n",
       "      <td>Brazil</td>\n",
       "      <td>Agência</td>\n",
       "      <td>Não</td>\n",
       "      <td>Amethyst</td>\n",
       "      <td>Sim</td>\n",
       "      <td>Não</td>\n",
       "      <td>Não</td>\n",
       "      <td>Nenhuma</td>\n",
       "      <td>1</td>\n",
       "      <td>-14235004.0</td>\n",
       "      <td>-5192528.0</td>\n",
       "    </tr>\n",
       "  </tbody>\n",
       "</table>\n",
       "</div>"
      ],
      "text/plain": [
       "          id classificacao_do_hotel  meses_da_reserva_ate_o_check_in  \\\n",
       "28373  13578             5 estrelas                                9   \n",
       "28376    432             5 estrelas                                2   \n",
       "37031  68463             4 estrelas                               11   \n",
       "51266  32228             5 estrelas                                2   \n",
       "7558   22096             5 estrelas                                1   \n",
       "15259  62979             4 estrelas                                2   \n",
       "55242  15750             5 estrelas                               16   \n",
       "30588  31214             5 estrelas                                2   \n",
       "21634   8119             5 estrelas                                2   \n",
       "69039  10035             5 estrelas                                2   \n",
       "\n",
       "       numero_de_pernoites_reservadas  numero_de_hospedes  \\\n",
       "28373                             869                   2   \n",
       "28376                            1131                   2   \n",
       "37031                             816                   2   \n",
       "51266                             615                   2   \n",
       "7558                             1141                   2   \n",
       "15259                             787                   1   \n",
       "55242                             659                   2   \n",
       "30588                             733                   1   \n",
       "21634                             389                   2   \n",
       "69039                             543                   2   \n",
       "\n",
       "                regime_de_alimentacao nacionalidade forma_de_reserva  \\\n",
       "28373          Café da manha e jantar         Spain          Agência   \n",
       "28376  Café da manha, almoco e jantar         Spain           Balcão   \n",
       "37031                   Café da manha         Spain          Agência   \n",
       "51266                   Café da manha         Spain           Balcão   \n",
       "7558                    Café da manha         Spain          Agência   \n",
       "15259                   Café da manha         Spain              B2B   \n",
       "55242          Café da manha e jantar         Spain          Agência   \n",
       "30588          Café da manha e jantar        Brazil          Agência   \n",
       "21634                   Café da manha         Spain          Agência   \n",
       "69039                   Café da manha        Brazil          Agência   \n",
       "\n",
       "      ja_se_hospedou_anterioremente tipo_do_quarto_reservado  \\\n",
       "28373                           Não                 Amethyst   \n",
       "28376                           Não                 Amethyst   \n",
       "37031                           Não            Green Emerald   \n",
       "51266                           Não                 Amethyst   \n",
       "7558                            Não                 Amethyst   \n",
       "15259                           Não                 Amethyst   \n",
       "55242                           Não                 Amethyst   \n",
       "30588                           Não            Pink Sapphire   \n",
       "21634                           Não                 Amethyst   \n",
       "69039                           Não                 Amethyst   \n",
       "\n",
       "      reserva_feita_por_agencia_de_turismo reserva_feita_por_empresa  \\\n",
       "28373                                  Sim                       Não   \n",
       "28376                                  Sim                       Não   \n",
       "37031                                  Sim                       Não   \n",
       "51266                                  Sim                       Não   \n",
       "7558                                   Sim                       Não   \n",
       "15259                                  Não                       Sim   \n",
       "55242                                  Sim                       Não   \n",
       "30588                                  Sim                       Não   \n",
       "21634                                  Sim                       Não   \n",
       "69039                                  Sim                       Não   \n",
       "\n",
       "      reserva_com_estacionamento reserva_com_observacoes  reserva_cancelada  \\\n",
       "28373                        Não                 Nenhuma                  1   \n",
       "28376                        Não                 Nenhuma                  0   \n",
       "37031                        Não                   1 a 3                  1   \n",
       "51266                        Não                 Nenhuma                  0   \n",
       "7558                         Não                 Nenhuma                  0   \n",
       "15259                        Não                 Nenhuma                  1   \n",
       "55242                        Não                 Nenhuma                  1   \n",
       "30588                        Não                 Nenhuma                  0   \n",
       "21634                        Não                 Nenhuma                  1   \n",
       "69039                        Não                 Nenhuma                  1   \n",
       "\n",
       "         latitude  longitude  \n",
       "28373  40463667.0  -374922.0  \n",
       "28376  40463667.0  -374922.0  \n",
       "37031  40463667.0  -374922.0  \n",
       "51266  40463667.0  -374922.0  \n",
       "7558   40463667.0  -374922.0  \n",
       "15259  40463667.0  -374922.0  \n",
       "55242  40463667.0  -374922.0  \n",
       "30588 -14235004.0 -5192528.0  \n",
       "21634  40463667.0  -374922.0  \n",
       "69039 -14235004.0 -5192528.0  "
      ]
     },
     "execution_count": 14,
     "metadata": {},
     "output_type": "execute_result"
    }
   ],
   "source": [
    "df1[df1['numero_de_pernoites_reservadas']>365].sample(10)"
   ]
  },
  {
   "cell_type": "code",
   "execution_count": 15,
   "id": "1f2dc0c2",
   "metadata": {
    "ExecuteTime": {
     "end_time": "2023-03-28T00:10:12.490559Z",
     "start_time": "2023-03-28T00:10:12.468435Z"
    },
    "hidden": true
   },
   "outputs": [
    {
     "data": {
      "text/html": [
       "<div>\n",
       "<style scoped>\n",
       "    .dataframe tbody tr th:only-of-type {\n",
       "        vertical-align: middle;\n",
       "    }\n",
       "\n",
       "    .dataframe tbody tr th {\n",
       "        vertical-align: top;\n",
       "    }\n",
       "\n",
       "    .dataframe thead th {\n",
       "        text-align: right;\n",
       "    }\n",
       "</style>\n",
       "<table border=\"1\" class=\"dataframe\">\n",
       "  <thead>\n",
       "    <tr style=\"text-align: right;\">\n",
       "      <th></th>\n",
       "      <th>reserva_cancelada</th>\n",
       "      <th>id</th>\n",
       "    </tr>\n",
       "  </thead>\n",
       "  <tbody>\n",
       "    <tr>\n",
       "      <th>0</th>\n",
       "      <td>0</td>\n",
       "      <td>660</td>\n",
       "    </tr>\n",
       "    <tr>\n",
       "      <th>1</th>\n",
       "      <td>1</td>\n",
       "      <td>375</td>\n",
       "    </tr>\n",
       "  </tbody>\n",
       "</table>\n",
       "</div>"
      ],
      "text/plain": [
       "   reserva_cancelada   id\n",
       "0                  0  660\n",
       "1                  1  375"
      ]
     },
     "execution_count": 15,
     "metadata": {},
     "output_type": "execute_result"
    }
   ],
   "source": [
    "df1[df1['numero_de_pernoites_reservadas']>365][['id','reserva_cancelada']].groupby('reserva_cancelada').count().reset_index()"
   ]
  },
  {
   "cell_type": "code",
   "execution_count": 16,
   "id": "2276d3df",
   "metadata": {
    "ExecuteTime": {
     "end_time": "2023-03-28T00:10:12.567132Z",
     "start_time": "2023-03-28T00:10:12.494282Z"
    },
    "hidden": true
   },
   "outputs": [
    {
     "data": {
      "text/html": [
       "<div>\n",
       "<style scoped>\n",
       "    .dataframe tbody tr th:only-of-type {\n",
       "        vertical-align: middle;\n",
       "    }\n",
       "\n",
       "    .dataframe tbody tr th {\n",
       "        vertical-align: top;\n",
       "    }\n",
       "\n",
       "    .dataframe thead th {\n",
       "        text-align: right;\n",
       "    }\n",
       "</style>\n",
       "<table border=\"1\" class=\"dataframe\">\n",
       "  <thead>\n",
       "    <tr style=\"text-align: right;\">\n",
       "      <th></th>\n",
       "      <th>reserva_cancelada</th>\n",
       "      <th>id</th>\n",
       "    </tr>\n",
       "  </thead>\n",
       "  <tbody>\n",
       "    <tr>\n",
       "      <th>0</th>\n",
       "      <td>0</td>\n",
       "      <td>391</td>\n",
       "    </tr>\n",
       "    <tr>\n",
       "      <th>1</th>\n",
       "      <td>1</td>\n",
       "      <td>12</td>\n",
       "    </tr>\n",
       "  </tbody>\n",
       "</table>\n",
       "</div>"
      ],
      "text/plain": [
       "   reserva_cancelada   id\n",
       "0                  0  391\n",
       "1                  1   12"
      ]
     },
     "execution_count": 16,
     "metadata": {},
     "output_type": "execute_result"
    }
   ],
   "source": [
    "df1[df1['numero_de_pernoites_reservadas']==0][['id','reserva_cancelada']].groupby('reserva_cancelada').count().reset_index()"
   ]
  },
  {
   "cell_type": "markdown",
   "id": "8fe08941",
   "metadata": {
    "heading_collapsed": true,
    "hidden": true
   },
   "source": [
    "### 1.7.3. Investigate numero_de_hospedes"
   ]
  },
  {
   "cell_type": "code",
   "execution_count": 17,
   "id": "257905ad",
   "metadata": {
    "ExecuteTime": {
     "end_time": "2023-03-28T00:10:12.671480Z",
     "start_time": "2023-03-28T00:10:12.569447Z"
    },
    "hidden": true
   },
   "outputs": [
    {
     "data": {
      "text/html": [
       "<div>\n",
       "<style scoped>\n",
       "    .dataframe tbody tr th:only-of-type {\n",
       "        vertical-align: middle;\n",
       "    }\n",
       "\n",
       "    .dataframe tbody tr th {\n",
       "        vertical-align: top;\n",
       "    }\n",
       "\n",
       "    .dataframe thead th {\n",
       "        text-align: right;\n",
       "    }\n",
       "</style>\n",
       "<table border=\"1\" class=\"dataframe\">\n",
       "  <thead>\n",
       "    <tr style=\"text-align: right;\">\n",
       "      <th></th>\n",
       "      <th>id</th>\n",
       "      <th>classificacao_do_hotel</th>\n",
       "      <th>meses_da_reserva_ate_o_check_in</th>\n",
       "      <th>numero_de_pernoites_reservadas</th>\n",
       "      <th>numero_de_hospedes</th>\n",
       "      <th>regime_de_alimentacao</th>\n",
       "      <th>nacionalidade</th>\n",
       "      <th>forma_de_reserva</th>\n",
       "      <th>ja_se_hospedou_anterioremente</th>\n",
       "      <th>tipo_do_quarto_reservado</th>\n",
       "      <th>reserva_feita_por_agencia_de_turismo</th>\n",
       "      <th>reserva_feita_por_empresa</th>\n",
       "      <th>reserva_com_estacionamento</th>\n",
       "      <th>reserva_com_observacoes</th>\n",
       "      <th>reserva_cancelada</th>\n",
       "      <th>latitude</th>\n",
       "      <th>longitude</th>\n",
       "    </tr>\n",
       "  </thead>\n",
       "  <tbody>\n",
       "    <tr>\n",
       "      <th>75</th>\n",
       "      <td>15778</td>\n",
       "      <td>5 estrelas</td>\n",
       "      <td>3</td>\n",
       "      <td>5</td>\n",
       "      <td>1020</td>\n",
       "      <td>Café da manha</td>\n",
       "      <td>Spain</td>\n",
       "      <td>Agência</td>\n",
       "      <td>Não</td>\n",
       "      <td>Amethyst</td>\n",
       "      <td>Sim</td>\n",
       "      <td>Não</td>\n",
       "      <td>Não</td>\n",
       "      <td>1 a 3</td>\n",
       "      <td>0</td>\n",
       "      <td>40463667.0</td>\n",
       "      <td>-374922.0</td>\n",
       "    </tr>\n",
       "    <tr>\n",
       "      <th>102</th>\n",
       "      <td>2436</td>\n",
       "      <td>5 estrelas</td>\n",
       "      <td>11</td>\n",
       "      <td>7</td>\n",
       "      <td>20</td>\n",
       "      <td>Café da manha</td>\n",
       "      <td>Spain</td>\n",
       "      <td>Balcão</td>\n",
       "      <td>Não</td>\n",
       "      <td>Green Emerald</td>\n",
       "      <td>Não</td>\n",
       "      <td>Não</td>\n",
       "      <td>Não</td>\n",
       "      <td>Nenhuma</td>\n",
       "      <td>1</td>\n",
       "      <td>40463667.0</td>\n",
       "      <td>-374922.0</td>\n",
       "    </tr>\n",
       "    <tr>\n",
       "      <th>179</th>\n",
       "      <td>73042</td>\n",
       "      <td>4 estrelas</td>\n",
       "      <td>75</td>\n",
       "      <td>6</td>\n",
       "      <td>758</td>\n",
       "      <td>Café da manha</td>\n",
       "      <td>Poland</td>\n",
       "      <td>Agência</td>\n",
       "      <td>Não</td>\n",
       "      <td>Green Emerald</td>\n",
       "      <td>Sim</td>\n",
       "      <td>Não</td>\n",
       "      <td>Não</td>\n",
       "      <td>Nenhuma</td>\n",
       "      <td>1</td>\n",
       "      <td>51919438.0</td>\n",
       "      <td>19145136.0</td>\n",
       "    </tr>\n",
       "    <tr>\n",
       "      <th>187</th>\n",
       "      <td>81884</td>\n",
       "      <td>4 estrelas</td>\n",
       "      <td>2</td>\n",
       "      <td>3</td>\n",
       "      <td>470</td>\n",
       "      <td>Café da manha</td>\n",
       "      <td>Spain</td>\n",
       "      <td>Agência</td>\n",
       "      <td>Não</td>\n",
       "      <td>Amethyst</td>\n",
       "      <td>Sim</td>\n",
       "      <td>Não</td>\n",
       "      <td>Não</td>\n",
       "      <td>Nenhuma</td>\n",
       "      <td>0</td>\n",
       "      <td>40463667.0</td>\n",
       "      <td>-374922.0</td>\n",
       "    </tr>\n",
       "    <tr>\n",
       "      <th>251</th>\n",
       "      <td>83293</td>\n",
       "      <td>4 estrelas</td>\n",
       "      <td>1</td>\n",
       "      <td>2</td>\n",
       "      <td>381</td>\n",
       "      <td>Café da manha</td>\n",
       "      <td>Spain</td>\n",
       "      <td>B2B</td>\n",
       "      <td>Sim</td>\n",
       "      <td>Amethyst</td>\n",
       "      <td>Não</td>\n",
       "      <td>Sim</td>\n",
       "      <td>Não</td>\n",
       "      <td>1 a 3</td>\n",
       "      <td>0</td>\n",
       "      <td>40463667.0</td>\n",
       "      <td>-374922.0</td>\n",
       "    </tr>\n",
       "    <tr>\n",
       "      <th>...</th>\n",
       "      <td>...</td>\n",
       "      <td>...</td>\n",
       "      <td>...</td>\n",
       "      <td>...</td>\n",
       "      <td>...</td>\n",
       "      <td>...</td>\n",
       "      <td>...</td>\n",
       "      <td>...</td>\n",
       "      <td>...</td>\n",
       "      <td>...</td>\n",
       "      <td>...</td>\n",
       "      <td>...</td>\n",
       "      <td>...</td>\n",
       "      <td>...</td>\n",
       "      <td>...</td>\n",
       "      <td>...</td>\n",
       "      <td>...</td>\n",
       "    </tr>\n",
       "    <tr>\n",
       "      <th>71702</th>\n",
       "      <td>52893</td>\n",
       "      <td>4 estrelas</td>\n",
       "      <td>1</td>\n",
       "      <td>1</td>\n",
       "      <td>269</td>\n",
       "      <td>Café da manha</td>\n",
       "      <td>Spain</td>\n",
       "      <td>B2B</td>\n",
       "      <td>Não</td>\n",
       "      <td>Amethyst</td>\n",
       "      <td>Sim</td>\n",
       "      <td>Não</td>\n",
       "      <td>Não</td>\n",
       "      <td>Nenhuma</td>\n",
       "      <td>1</td>\n",
       "      <td>40463667.0</td>\n",
       "      <td>-374922.0</td>\n",
       "    </tr>\n",
       "    <tr>\n",
       "      <th>71711</th>\n",
       "      <td>8940</td>\n",
       "      <td>5 estrelas</td>\n",
       "      <td>5</td>\n",
       "      <td>2</td>\n",
       "      <td>502</td>\n",
       "      <td>Café da manha</td>\n",
       "      <td>United Kingdom</td>\n",
       "      <td>Agência</td>\n",
       "      <td>Não</td>\n",
       "      <td>Green Emerald</td>\n",
       "      <td>Sim</td>\n",
       "      <td>Não</td>\n",
       "      <td>Não</td>\n",
       "      <td>1 a 3</td>\n",
       "      <td>1</td>\n",
       "      <td>55378051.0</td>\n",
       "      <td>-3435973.0</td>\n",
       "    </tr>\n",
       "    <tr>\n",
       "      <th>71848</th>\n",
       "      <td>20468</td>\n",
       "      <td>5 estrelas</td>\n",
       "      <td>1</td>\n",
       "      <td>1</td>\n",
       "      <td>166</td>\n",
       "      <td>Café da manha</td>\n",
       "      <td>Spain</td>\n",
       "      <td>Agência</td>\n",
       "      <td>Sim</td>\n",
       "      <td>Amethyst</td>\n",
       "      <td>Não</td>\n",
       "      <td>Sim</td>\n",
       "      <td>Sim</td>\n",
       "      <td>1 a 3</td>\n",
       "      <td>0</td>\n",
       "      <td>40463667.0</td>\n",
       "      <td>-374922.0</td>\n",
       "    </tr>\n",
       "    <tr>\n",
       "      <th>71975</th>\n",
       "      <td>43193</td>\n",
       "      <td>4 estrelas</td>\n",
       "      <td>2</td>\n",
       "      <td>1</td>\n",
       "      <td>780</td>\n",
       "      <td>Café da manha e jantar</td>\n",
       "      <td>Spain</td>\n",
       "      <td>Agência</td>\n",
       "      <td>Não</td>\n",
       "      <td>Amethyst</td>\n",
       "      <td>Sim</td>\n",
       "      <td>Não</td>\n",
       "      <td>Não</td>\n",
       "      <td>Nenhuma</td>\n",
       "      <td>0</td>\n",
       "      <td>40463667.0</td>\n",
       "      <td>-374922.0</td>\n",
       "    </tr>\n",
       "    <tr>\n",
       "      <th>72056</th>\n",
       "      <td>8786</td>\n",
       "      <td>5 estrelas</td>\n",
       "      <td>9</td>\n",
       "      <td>4</td>\n",
       "      <td>1108</td>\n",
       "      <td>Café da manha</td>\n",
       "      <td>Spain</td>\n",
       "      <td>Agência</td>\n",
       "      <td>Não</td>\n",
       "      <td>Amethyst</td>\n",
       "      <td>Sim</td>\n",
       "      <td>Não</td>\n",
       "      <td>Não</td>\n",
       "      <td>Nenhuma</td>\n",
       "      <td>1</td>\n",
       "      <td>40463667.0</td>\n",
       "      <td>-374922.0</td>\n",
       "    </tr>\n",
       "  </tbody>\n",
       "</table>\n",
       "<p>1442 rows × 17 columns</p>\n",
       "</div>"
      ],
      "text/plain": [
       "          id classificacao_do_hotel  meses_da_reserva_ate_o_check_in  \\\n",
       "75     15778             5 estrelas                                3   \n",
       "102     2436             5 estrelas                               11   \n",
       "179    73042             4 estrelas                               75   \n",
       "187    81884             4 estrelas                                2   \n",
       "251    83293             4 estrelas                                1   \n",
       "...      ...                    ...                              ...   \n",
       "71702  52893             4 estrelas                                1   \n",
       "71711   8940             5 estrelas                                5   \n",
       "71848  20468             5 estrelas                                1   \n",
       "71975  43193             4 estrelas                                2   \n",
       "72056   8786             5 estrelas                                9   \n",
       "\n",
       "       numero_de_pernoites_reservadas  numero_de_hospedes  \\\n",
       "75                                  5                1020   \n",
       "102                                 7                  20   \n",
       "179                                 6                 758   \n",
       "187                                 3                 470   \n",
       "251                                 2                 381   \n",
       "...                               ...                 ...   \n",
       "71702                               1                 269   \n",
       "71711                               2                 502   \n",
       "71848                               1                 166   \n",
       "71975                               1                 780   \n",
       "72056                               4                1108   \n",
       "\n",
       "        regime_de_alimentacao   nacionalidade forma_de_reserva  \\\n",
       "75              Café da manha           Spain          Agência   \n",
       "102             Café da manha           Spain           Balcão   \n",
       "179             Café da manha          Poland          Agência   \n",
       "187             Café da manha           Spain          Agência   \n",
       "251             Café da manha           Spain              B2B   \n",
       "...                       ...             ...              ...   \n",
       "71702           Café da manha           Spain              B2B   \n",
       "71711           Café da manha  United Kingdom          Agência   \n",
       "71848           Café da manha           Spain          Agência   \n",
       "71975  Café da manha e jantar           Spain          Agência   \n",
       "72056           Café da manha           Spain          Agência   \n",
       "\n",
       "      ja_se_hospedou_anterioremente tipo_do_quarto_reservado  \\\n",
       "75                              Não                 Amethyst   \n",
       "102                             Não            Green Emerald   \n",
       "179                             Não            Green Emerald   \n",
       "187                             Não                 Amethyst   \n",
       "251                             Sim                 Amethyst   \n",
       "...                             ...                      ...   \n",
       "71702                           Não                 Amethyst   \n",
       "71711                           Não            Green Emerald   \n",
       "71848                           Sim                 Amethyst   \n",
       "71975                           Não                 Amethyst   \n",
       "72056                           Não                 Amethyst   \n",
       "\n",
       "      reserva_feita_por_agencia_de_turismo reserva_feita_por_empresa  \\\n",
       "75                                     Sim                       Não   \n",
       "102                                    Não                       Não   \n",
       "179                                    Sim                       Não   \n",
       "187                                    Sim                       Não   \n",
       "251                                    Não                       Sim   \n",
       "...                                    ...                       ...   \n",
       "71702                                  Sim                       Não   \n",
       "71711                                  Sim                       Não   \n",
       "71848                                  Não                       Sim   \n",
       "71975                                  Sim                       Não   \n",
       "72056                                  Sim                       Não   \n",
       "\n",
       "      reserva_com_estacionamento reserva_com_observacoes  reserva_cancelada  \\\n",
       "75                           Não                   1 a 3                  0   \n",
       "102                          Não                 Nenhuma                  1   \n",
       "179                          Não                 Nenhuma                  1   \n",
       "187                          Não                 Nenhuma                  0   \n",
       "251                          Não                   1 a 3                  0   \n",
       "...                          ...                     ...                ...   \n",
       "71702                        Não                 Nenhuma                  1   \n",
       "71711                        Não                   1 a 3                  1   \n",
       "71848                        Sim                   1 a 3                  0   \n",
       "71975                        Não                 Nenhuma                  0   \n",
       "72056                        Não                 Nenhuma                  1   \n",
       "\n",
       "         latitude   longitude  \n",
       "75     40463667.0   -374922.0  \n",
       "102    40463667.0   -374922.0  \n",
       "179    51919438.0  19145136.0  \n",
       "187    40463667.0   -374922.0  \n",
       "251    40463667.0   -374922.0  \n",
       "...           ...         ...  \n",
       "71702  40463667.0   -374922.0  \n",
       "71711  55378051.0  -3435973.0  \n",
       "71848  40463667.0   -374922.0  \n",
       "71975  40463667.0   -374922.0  \n",
       "72056  40463667.0   -374922.0  \n",
       "\n",
       "[1442 rows x 17 columns]"
      ]
     },
     "execution_count": 17,
     "metadata": {},
     "output_type": "execute_result"
    }
   ],
   "source": [
    "df1[df1['numero_de_hospedes']>10]"
   ]
  },
  {
   "cell_type": "code",
   "execution_count": 18,
   "id": "a73093d4",
   "metadata": {
    "ExecuteTime": {
     "end_time": "2023-03-28T00:10:12.801262Z",
     "start_time": "2023-03-28T00:10:12.674053Z"
    },
    "hidden": true
   },
   "outputs": [
    {
     "data": {
      "text/html": [
       "<div>\n",
       "<style scoped>\n",
       "    .dataframe tbody tr th:only-of-type {\n",
       "        vertical-align: middle;\n",
       "    }\n",
       "\n",
       "    .dataframe tbody tr th {\n",
       "        vertical-align: top;\n",
       "    }\n",
       "\n",
       "    .dataframe thead th {\n",
       "        text-align: right;\n",
       "    }\n",
       "</style>\n",
       "<table border=\"1\" class=\"dataframe\">\n",
       "  <thead>\n",
       "    <tr style=\"text-align: right;\">\n",
       "      <th></th>\n",
       "      <th>reserva_feita_por_empresa</th>\n",
       "      <th>id</th>\n",
       "    </tr>\n",
       "  </thead>\n",
       "  <tbody>\n",
       "    <tr>\n",
       "      <th>0</th>\n",
       "      <td>Não</td>\n",
       "      <td>1359</td>\n",
       "    </tr>\n",
       "    <tr>\n",
       "      <th>1</th>\n",
       "      <td>Sim</td>\n",
       "      <td>83</td>\n",
       "    </tr>\n",
       "  </tbody>\n",
       "</table>\n",
       "</div>"
      ],
      "text/plain": [
       "  reserva_feita_por_empresa    id\n",
       "0                       Não  1359\n",
       "1                       Sim    83"
      ]
     },
     "execution_count": 18,
     "metadata": {},
     "output_type": "execute_result"
    }
   ],
   "source": [
    "df1[df1['numero_de_hospedes']>10][['id', 'reserva_feita_por_empresa']].groupby('reserva_feita_por_empresa').count().reset_index()\n"
   ]
  },
  {
   "cell_type": "code",
   "execution_count": 19,
   "id": "fa22fcb7",
   "metadata": {
    "ExecuteTime": {
     "end_time": "2023-03-28T00:10:12.896773Z",
     "start_time": "2023-03-28T00:10:12.804363Z"
    },
    "hidden": true
   },
   "outputs": [
    {
     "data": {
      "text/html": [
       "<div>\n",
       "<style scoped>\n",
       "    .dataframe tbody tr th:only-of-type {\n",
       "        vertical-align: middle;\n",
       "    }\n",
       "\n",
       "    .dataframe tbody tr th {\n",
       "        vertical-align: top;\n",
       "    }\n",
       "\n",
       "    .dataframe thead th {\n",
       "        text-align: right;\n",
       "    }\n",
       "</style>\n",
       "<table border=\"1\" class=\"dataframe\">\n",
       "  <thead>\n",
       "    <tr style=\"text-align: right;\">\n",
       "      <th></th>\n",
       "      <th>reserva_feita_por_agencia_de_turismo</th>\n",
       "      <th>id</th>\n",
       "    </tr>\n",
       "  </thead>\n",
       "  <tbody>\n",
       "    <tr>\n",
       "      <th>0</th>\n",
       "      <td>Não</td>\n",
       "      <td>33</td>\n",
       "    </tr>\n",
       "    <tr>\n",
       "      <th>1</th>\n",
       "      <td>Sim</td>\n",
       "      <td>68</td>\n",
       "    </tr>\n",
       "  </tbody>\n",
       "</table>\n",
       "</div>"
      ],
      "text/plain": [
       "  reserva_feita_por_agencia_de_turismo  id\n",
       "0                                  Não  33\n",
       "1                                  Sim  68"
      ]
     },
     "execution_count": 19,
     "metadata": {},
     "output_type": "execute_result"
    }
   ],
   "source": [
    "df1[df1['numero_de_hospedes']==0][['id', 'reserva_feita_por_agencia_de_turismo']].groupby('reserva_feita_por_agencia_de_turismo').count().reset_index()\n"
   ]
  },
  {
   "cell_type": "markdown",
   "id": "b0a6e176",
   "metadata": {
    "heading_collapsed": true
   },
   "source": [
    "# 2.0. Feature Engineering"
   ]
  },
  {
   "cell_type": "code",
   "execution_count": 20,
   "id": "3ec87883",
   "metadata": {
    "ExecuteTime": {
     "end_time": "2023-03-28T00:10:13.036318Z",
     "start_time": "2023-03-28T00:10:12.900404Z"
    },
    "hidden": true
   },
   "outputs": [],
   "source": [
    "df2 = df1#.copy()"
   ]
  },
  {
   "cell_type": "code",
   "execution_count": 21,
   "id": "5eba3f5b",
   "metadata": {
    "ExecuteTime": {
     "end_time": "2023-03-28T00:10:13.435768Z",
     "start_time": "2023-03-28T00:10:13.038892Z"
    },
    "hidden": true
   },
   "outputs": [],
   "source": [
    "# classificacao_do_hotel\n",
    "df2['classificacao_do_hotel'] = df2['classificacao_do_hotel'].apply(lambda x: x.replace(' estrelas', ''))\n",
    "\n",
    "# ja_se_hospedou_anterioremente\n",
    "df2['ja_se_hospedou_anterioremente'] = df2['ja_se_hospedou_anterioremente'].apply(lambda x: x.replace('Sim', '1'))\n",
    "df2['ja_se_hospedou_anterioremente'] = df2['ja_se_hospedou_anterioremente'].apply(lambda x: x.replace('Não', '0'))\n",
    "\n",
    "# reserva_feita_por_agencia_de_turismo\n",
    "df2['reserva_feita_por_agencia_de_turismo'] = df2['reserva_feita_por_agencia_de_turismo'].apply(lambda x: x.replace('Sim', '1'))\n",
    "df2['reserva_feita_por_agencia_de_turismo'] = df2['reserva_feita_por_agencia_de_turismo'].apply(lambda x: x.replace('Não', '0'))\n",
    "\n",
    "# reserva_feita_por_empresa\n",
    "df2['reserva_feita_por_empresa'] = df2['reserva_feita_por_empresa'].apply(lambda x: x.replace('Sim', '1'))\n",
    "df2['reserva_feita_por_empresa'] = df2['reserva_feita_por_empresa'].apply(lambda x: x.replace('Não', '0'))\n",
    "\n",
    "# reserva_com_estacionamento\n",
    "df2['reserva_com_estacionamento'] = df2['reserva_com_estacionamento'].apply(lambda x: x.replace('Sim', '1'))\n",
    "df2['reserva_com_estacionamento'] = df2['reserva_com_estacionamento'].apply(lambda x: x.replace('Não', '0'))"
   ]
  },
  {
   "cell_type": "markdown",
   "id": "ea0d2296",
   "metadata": {
    "ExecuteTime": {
     "end_time": "2023-03-27T23:58:44.235546Z",
     "start_time": "2023-03-27T23:58:44.206348Z"
    },
    "heading_collapsed": true,
    "hidden": true
   },
   "source": [
    "## 2.1. Check Dtypes After Data Transformation"
   ]
  },
  {
   "cell_type": "code",
   "execution_count": 22,
   "id": "b9ad0507",
   "metadata": {
    "ExecuteTime": {
     "end_time": "2023-03-28T00:10:13.447795Z",
     "start_time": "2023-03-28T00:10:13.439134Z"
    },
    "hidden": true
   },
   "outputs": [
    {
     "data": {
      "text/plain": [
       "id                                        int64\n",
       "classificacao_do_hotel                   object\n",
       "meses_da_reserva_ate_o_check_in           int64\n",
       "numero_de_pernoites_reservadas            int64\n",
       "numero_de_hospedes                        int64\n",
       "regime_de_alimentacao                    object\n",
       "nacionalidade                            object\n",
       "forma_de_reserva                         object\n",
       "ja_se_hospedou_anterioremente            object\n",
       "tipo_do_quarto_reservado                 object\n",
       "reserva_feita_por_agencia_de_turismo     object\n",
       "reserva_feita_por_empresa                object\n",
       "reserva_com_estacionamento               object\n",
       "reserva_com_observacoes                  object\n",
       "reserva_cancelada                         int64\n",
       "latitude                                float64\n",
       "longitude                               float64\n",
       "dtype: object"
      ]
     },
     "execution_count": 22,
     "metadata": {},
     "output_type": "execute_result"
    }
   ],
   "source": [
    "df2.dtypes"
   ]
  },
  {
   "cell_type": "code",
   "execution_count": 23,
   "id": "c2373d98",
   "metadata": {
    "ExecuteTime": {
     "end_time": "2023-03-28T00:10:13.586237Z",
     "start_time": "2023-03-28T00:10:13.451691Z"
    },
    "hidden": true
   },
   "outputs": [],
   "source": [
    "# transform into int\n",
    "df2['classificacao_do_hotel'] = df2['classificacao_do_hotel'].astype('int')\n",
    "df2['ja_se_hospedou_anterioremente'] = df2['ja_se_hospedou_anterioremente'].astype('int')\n",
    "df2['reserva_feita_por_agencia_de_turismo'] = df2['reserva_feita_por_agencia_de_turismo'].astype('int')\n",
    "df2['reserva_feita_por_empresa'] = df2['reserva_feita_por_empresa'].astype('int')\n",
    "df2['reserva_com_estacionamento'] = df2['reserva_com_estacionamento'].astype('int')"
   ]
  },
  {
   "cell_type": "markdown",
   "id": "66cc9a58",
   "metadata": {
    "heading_collapsed": true
   },
   "source": [
    "# 3.0. Data Filtering"
   ]
  },
  {
   "cell_type": "code",
   "execution_count": 24,
   "id": "47c68e0f",
   "metadata": {
    "ExecuteTime": {
     "end_time": "2023-03-28T00:10:13.636838Z",
     "start_time": "2023-03-28T00:10:13.588779Z"
    },
    "hidden": true
   },
   "outputs": [],
   "source": [
    "df3 = df2#.copy()"
   ]
  },
  {
   "cell_type": "code",
   "execution_count": 25,
   "id": "866f415e",
   "metadata": {
    "ExecuteTime": {
     "end_time": "2023-03-28T00:10:13.826004Z",
     "start_time": "2023-03-28T00:10:13.639672Z"
    },
    "hidden": true
   },
   "outputs": [],
   "source": [
    "# reserva_feita_por_agencia_de_turismo reserva_feita_por_empresa\n",
    "#df3 = df3.drop(['reserva_feita_por_agencia_de_turismo', 'reserva_feita_por_empresa'], axis=1)"
   ]
  },
  {
   "cell_type": "markdown",
   "id": "55684f1c",
   "metadata": {
    "heading_collapsed": true
   },
   "source": [
    "# 4.0. Data Preparation "
   ]
  },
  {
   "cell_type": "code",
   "execution_count": 26,
   "id": "3ad9776c",
   "metadata": {
    "ExecuteTime": {
     "end_time": "2023-03-28T00:10:13.933627Z",
     "start_time": "2023-03-28T00:10:13.829784Z"
    },
    "hidden": true
   },
   "outputs": [],
   "source": [
    "df4 = df3#.copy()"
   ]
  },
  {
   "cell_type": "code",
   "execution_count": 27,
   "id": "8e1d4856",
   "metadata": {
    "ExecuteTime": {
     "end_time": "2023-03-28T00:10:14.104474Z",
     "start_time": "2023-03-28T00:10:13.939846Z"
    },
    "hidden": true
   },
   "outputs": [],
   "source": [
    "## frequency encoder\n",
    "#tipo_do_quarto_reservado\n",
    "freq_dict = df4['tipo_do_quarto_reservado'].value_counts(normalize=True).to_dict()\n",
    "df4['tipo_do_quarto_reservado_encoded'] = df4['tipo_do_quarto_reservado'].map(freq_dict)\n",
    "\n",
    "# nacionalidade\n",
    "freq_dict = df4['nacionalidade'].value_counts(normalize=True).to_dict()\n",
    "df4['nacionalidade'] = df4['nacionalidade'].map(freq_dict)"
   ]
  },
  {
   "cell_type": "code",
   "execution_count": 28,
   "id": "703f3c94",
   "metadata": {
    "ExecuteTime": {
     "end_time": "2023-03-28T00:10:14.248459Z",
     "start_time": "2023-03-28T00:10:14.109371Z"
    },
    "hidden": true
   },
   "outputs": [],
   "source": [
    "# dummy variables\n",
    "cols_dummy = ['regime_de_alimentacao', 'forma_de_reserva', 'reserva_com_observacoes']\n",
    "\n",
    "df4_dummy = pd.get_dummies(df4[cols_dummy])\n",
    "\n",
    "df4 = pd.concat([df4, df4_dummy], axis=1)"
   ]
  },
  {
   "cell_type": "code",
   "execution_count": 29,
   "id": "b639a819",
   "metadata": {
    "ExecuteTime": {
     "end_time": "2023-03-28T00:10:14.540821Z",
     "start_time": "2023-03-28T00:10:14.259748Z"
    },
    "hidden": true
   },
   "outputs": [],
   "source": [
    "# transform lat long into radians\n",
    "df4['latitude'] = df4['latitude'].apply(lambda x: np.radians(x/1000000))\n",
    "df4['longitude'] = df4['longitude'].apply(lambda x: np.radians(x/1000000))"
   ]
  },
  {
   "cell_type": "markdown",
   "id": "c8e990a1",
   "metadata": {
    "heading_collapsed": true
   },
   "source": [
    "# 5.0. Feature Selection "
   ]
  },
  {
   "cell_type": "code",
   "execution_count": 30,
   "id": "41d5f490",
   "metadata": {
    "ExecuteTime": {
     "end_time": "2023-03-28T00:10:14.579973Z",
     "start_time": "2023-03-28T00:10:14.543793Z"
    },
    "hidden": true
   },
   "outputs": [],
   "source": [
    "df5 = df4#.copy()"
   ]
  },
  {
   "cell_type": "code",
   "execution_count": 31,
   "id": "b7d3b67a",
   "metadata": {
    "ExecuteTime": {
     "end_time": "2023-03-28T00:10:14.662281Z",
     "start_time": "2023-03-28T00:10:14.583597Z"
    },
    "hidden": true
   },
   "outputs": [],
   "source": [
    "# drop columns\n",
    "cols_drop =['regime_de_alimentacao', 'forma_de_reserva', 'reserva_com_observacoes', 'tipo_do_quarto_reservado']\n",
    "df5 = df4.drop(cols_drop, axis=1)"
   ]
  },
  {
   "cell_type": "code",
   "execution_count": 32,
   "id": "9bb85855",
   "metadata": {
    "ExecuteTime": {
     "end_time": "2023-03-28T00:10:14.741256Z",
     "start_time": "2023-03-28T00:10:14.664815Z"
    },
    "hidden": true
   },
   "outputs": [],
   "source": [
    "# split dataset into features and target\n",
    "X = df5.drop(['reserva_cancelada'], axis=1)\n",
    "y = df5['reserva_cancelada']"
   ]
  },
  {
   "cell_type": "code",
   "execution_count": 33,
   "id": "a2f86b46",
   "metadata": {
    "ExecuteTime": {
     "end_time": "2023-03-28T00:10:14.844040Z",
     "start_time": "2023-03-28T00:10:14.745054Z"
    },
    "hidden": true
   },
   "outputs": [],
   "source": [
    "# split dataset into train and test\n",
    "X_train, X_val, y_train, y_val = ms.train_test_split(X, y, test_size=0.2)"
   ]
  },
  {
   "cell_type": "markdown",
   "id": "47cadf95",
   "metadata": {
    "heading_collapsed": true
   },
   "source": [
    "# 6.0. Machine Learning Models"
   ]
  },
  {
   "cell_type": "markdown",
   "id": "521815db",
   "metadata": {
    "heading_collapsed": true,
    "hidden": true
   },
   "source": [
    "## 6.1. XGBoost"
   ]
  },
  {
   "cell_type": "code",
   "execution_count": 34,
   "id": "27aa76ae",
   "metadata": {
    "ExecuteTime": {
     "end_time": "2023-03-28T00:12:14.507629Z",
     "start_time": "2023-03-28T00:10:14.847011Z"
    },
    "hidden": true
   },
   "outputs": [],
   "source": [
    "# model definition\n",
    "xgb_model = XGBClassifier(n_estimators=1000, max_depth=20, min_child_weight=1)\n",
    "\n",
    "# model training\n",
    "xgb_model.fit(X_train,y_train.values.ravel())\n",
    "\n",
    "# model prediction\n",
    "yhat_xgb = xgb_model.predict(X_val)"
   ]
  },
  {
   "cell_type": "code",
   "execution_count": 35,
   "id": "cfeee750",
   "metadata": {
    "ExecuteTime": {
     "end_time": "2023-03-28T00:12:14.544728Z",
     "start_time": "2023-03-28T00:12:14.509676Z"
    },
    "hidden": true
   },
   "outputs": [],
   "source": [
    "pickle.dump(xgb_model, open('/home/felipe/repos/hackday/xgb_model.pkl', 'wb' ))"
   ]
  },
  {
   "cell_type": "markdown",
   "id": "1c0e6c6c",
   "metadata": {
    "heading_collapsed": true,
    "hidden": true
   },
   "source": [
    "### 6.1.1. XGBoost Performance"
   ]
  },
  {
   "cell_type": "code",
   "execution_count": 36,
   "id": "c1778da7",
   "metadata": {
    "ExecuteTime": {
     "end_time": "2023-03-28T00:12:15.152796Z",
     "start_time": "2023-03-28T00:12:14.547634Z"
    },
    "hidden": true
   },
   "outputs": [],
   "source": [
    "precision = mt.precision_score(y_val, yhat_xgb)\n",
    "recall = mt.recall_score(y_val, yhat_xgb)\n",
    "f1_score = mt.f1_score(y_val, yhat_xgb, average='macro')"
   ]
  },
  {
   "cell_type": "code",
   "execution_count": 37,
   "id": "cc3566ef",
   "metadata": {
    "ExecuteTime": {
     "end_time": "2023-03-28T00:12:15.203599Z",
     "start_time": "2023-03-28T00:12:15.155954Z"
    },
    "hidden": true
   },
   "outputs": [
    {
     "name": "stdout",
     "output_type": "stream",
     "text": [
      "Precision: 0.96060\n",
      "Recall: 0.96442\n",
      "F1 Score: 0.97013\n"
     ]
    }
   ],
   "source": [
    "print('Precision: {:.5f}'.format(precision))\n",
    "print('Recall: {:.5f}'.format(recall))\n",
    "print('F1 Score: {:.5f}'.format(f1_score))"
   ]
  },
  {
   "cell_type": "markdown",
   "id": "815d5b50",
   "metadata": {
    "heading_collapsed": true,
    "hidden": true
   },
   "source": [
    "## 6.2. Logistic Regression"
   ]
  },
  {
   "cell_type": "code",
   "execution_count": 38,
   "id": "499a9402",
   "metadata": {
    "ExecuteTime": {
     "end_time": "2023-03-28T00:12:15.312403Z",
     "start_time": "2023-03-28T00:12:15.210657Z"
    },
    "hidden": true
   },
   "outputs": [],
   "source": [
    "# # model definition\n",
    "# knn_model = nh.KNeighborsClassifier(n_neighbors=7)\n",
    "\n",
    "# # model training\n",
    "# knn_model.fit(x_train, y_train)\n",
    "\n",
    "# # model prediction - poder de GENERALIZACAO\n",
    "# yhat_knn = knn_model.predict_proba(x_val)"
   ]
  },
  {
   "cell_type": "markdown",
   "id": "7edebdad",
   "metadata": {
    "heading_collapsed": true,
    "hidden": true
   },
   "source": [
    "### 6.2.1. Logistic Regression Performance"
   ]
  },
  {
   "cell_type": "code",
   "execution_count": 39,
   "id": "aec577fc",
   "metadata": {
    "ExecuteTime": {
     "end_time": "2023-03-28T00:12:15.436198Z",
     "start_time": "2023-03-28T00:12:15.318106Z"
    },
    "hidden": true
   },
   "outputs": [],
   "source": [
    "# precision = mt.precision_score(y_val, yhat_knn)\n",
    "# recall = mt.recall_score(y_val, yhat_knn)\n",
    "# f1_score = mt.f1_score(y_val, yhat_knn, average='macro')"
   ]
  },
  {
   "cell_type": "code",
   "execution_count": 40,
   "id": "322a64bb",
   "metadata": {
    "ExecuteTime": {
     "end_time": "2023-03-28T00:12:15.567817Z",
     "start_time": "2023-03-28T00:12:15.444320Z"
    },
    "hidden": true
   },
   "outputs": [],
   "source": [
    "# print('Precision: {:.5f}'.format(precision))\n",
    "# print('Recall: {:.5f}'.format(recall))\n",
    "# print('F1 Score: {:.5f}'.format(f1_score))"
   ]
  },
  {
   "cell_type": "markdown",
   "id": "1c9f704d",
   "metadata": {
    "heading_collapsed": true,
    "hidden": true
   },
   "source": [
    "## 6.3. Gradient Boosting"
   ]
  },
  {
   "cell_type": "code",
   "execution_count": 41,
   "id": "5596ff9c",
   "metadata": {
    "ExecuteTime": {
     "end_time": "2023-03-28T00:15:18.699066Z",
     "start_time": "2023-03-28T00:12:15.570945Z"
    },
    "hidden": true
   },
   "outputs": [],
   "source": [
    "## model definition\n",
    "gdr_model = en.GradientBoostingClassifier(n_estimators=500, random_state=42, max_depth=15)\n",
    "\n",
    "# model training\n",
    "gdr_model.fit(X_train, y_train)\n",
    "\n",
    "# model prediction\n",
    "yhat_gb = gdr_model.predict(X_val)"
   ]
  },
  {
   "cell_type": "code",
   "execution_count": 42,
   "id": "2f913f19",
   "metadata": {
    "ExecuteTime": {
     "end_time": "2023-03-28T00:15:19.793847Z",
     "start_time": "2023-03-28T00:15:18.702694Z"
    },
    "hidden": true
   },
   "outputs": [],
   "source": [
    "pickle.dump(gdr_model, open('/home/felipe/repos/hackday/gdr_model.pkl', 'wb' ))"
   ]
  },
  {
   "cell_type": "markdown",
   "id": "1d2b55b0",
   "metadata": {
    "heading_collapsed": true,
    "hidden": true
   },
   "source": [
    "### 6.3.1. Gradient Boosting Performance"
   ]
  },
  {
   "cell_type": "code",
   "execution_count": 43,
   "id": "f944d3f7",
   "metadata": {
    "ExecuteTime": {
     "end_time": "2023-03-28T00:15:19.825464Z",
     "start_time": "2023-03-28T00:15:19.803642Z"
    },
    "hidden": true
   },
   "outputs": [],
   "source": [
    "precision = mt.precision_score(y_val, yhat_gb)\n",
    "recall = mt.recall_score(y_val, yhat_gb)\n",
    "f1_score = mt.f1_score(y_val, yhat_gb, average='macro')"
   ]
  },
  {
   "cell_type": "code",
   "execution_count": 44,
   "id": "b16961ee",
   "metadata": {
    "ExecuteTime": {
     "end_time": "2023-03-28T00:15:20.548375Z",
     "start_time": "2023-03-28T00:15:19.829271Z"
    },
    "hidden": true
   },
   "outputs": [
    {
     "name": "stdout",
     "output_type": "stream",
     "text": [
      "Precision: 0.96150\n",
      "Recall: 0.96423\n",
      "F1 Score: 0.97042\n"
     ]
    }
   ],
   "source": [
    "print('Precision: {:.5f}'.format(precision))\n",
    "print('Recall: {:.5f}'.format(recall))\n",
    "print('F1 Score: {:.5f}'.format(f1_score))"
   ]
  },
  {
   "cell_type": "markdown",
   "id": "19ac4180",
   "metadata": {
    "heading_collapsed": true,
    "hidden": true
   },
   "source": [
    "## 6.4. Random Forest"
   ]
  },
  {
   "cell_type": "code",
   "execution_count": 45,
   "id": "fe0e74b2",
   "metadata": {
    "ExecuteTime": {
     "end_time": "2023-03-28T00:15:46.421794Z",
     "start_time": "2023-03-28T00:15:20.555828Z"
    },
    "hidden": true
   },
   "outputs": [],
   "source": [
    "# model definition\n",
    "rf_model = en.RandomForestClassifier(n_estimators=1000,\n",
    "                                     criterion='gini', \n",
    "                                     random_state=42, \n",
    "                                     n_jobs=-1, \n",
    "                                     max_depth=25)\n",
    "\n",
    "# model training\n",
    "rf_model.fit(X_train, y_train)\n",
    "\n",
    "# model prediction\n",
    "yhat_rf = rf_model.predict(X_val)"
   ]
  },
  {
   "cell_type": "code",
   "execution_count": 46,
   "id": "bbebd841",
   "metadata": {
    "ExecuteTime": {
     "end_time": "2023-03-28T00:15:56.199819Z",
     "start_time": "2023-03-28T00:15:46.425244Z"
    },
    "hidden": true
   },
   "outputs": [],
   "source": [
    "pickle.dump(rf_model, open('/home/felipe/repos/hackday/rf_model.pkl', 'wb' ))"
   ]
  },
  {
   "cell_type": "markdown",
   "id": "30a62536",
   "metadata": {
    "heading_collapsed": true,
    "hidden": true
   },
   "source": [
    "### 6.4.1. Random Forest Performance"
   ]
  },
  {
   "cell_type": "code",
   "execution_count": 47,
   "id": "cead0a0e",
   "metadata": {
    "ExecuteTime": {
     "end_time": "2023-03-28T00:15:56.224259Z",
     "start_time": "2023-03-28T00:15:56.202801Z"
    },
    "hidden": true
   },
   "outputs": [],
   "source": [
    "precision = mt.precision_score(y_val, yhat_rf)\n",
    "recall = mt.recall_score(y_val, yhat_rf)\n",
    "f1_score = mt.f1_score(y_val, yhat_rf, average='macro')"
   ]
  },
  {
   "cell_type": "code",
   "execution_count": 48,
   "id": "1e1415d0",
   "metadata": {
    "ExecuteTime": {
     "end_time": "2023-03-28T00:15:56.463731Z",
     "start_time": "2023-03-28T00:15:56.226450Z"
    },
    "hidden": true
   },
   "outputs": [
    {
     "name": "stdout",
     "output_type": "stream",
     "text": [
      "Precision: 0.95884\n",
      "Recall: 0.96556\n",
      "F1 Score: 0.96984\n"
     ]
    }
   ],
   "source": [
    "print('Precision: {:.5f}'.format(precision))\n",
    "print('Recall: {:.5f}'.format(recall))\n",
    "print('F1 Score: {:.5f}'.format(f1_score))"
   ]
  },
  {
   "cell_type": "markdown",
   "id": "43228420",
   "metadata": {
    "heading_collapsed": true,
    "hidden": true
   },
   "source": [
    "## 6.5. SVC"
   ]
  },
  {
   "cell_type": "code",
   "execution_count": 49,
   "id": "c0c6fffc",
   "metadata": {
    "ExecuteTime": {
     "end_time": "2023-03-28T00:15:56.645282Z",
     "start_time": "2023-03-28T00:15:56.467677Z"
    },
    "hidden": true
   },
   "outputs": [],
   "source": [
    "# # model definition\n",
    "# svc_model = svm.SVC()\n",
    "\n",
    "# # model training\n",
    "# svc_model.fit(X_train, y_train)\n",
    "\n",
    "# # model prediction\n",
    "# yhat_svc = svc_model.predict(X_val)"
   ]
  },
  {
   "cell_type": "code",
   "execution_count": 50,
   "id": "f04ffe1f",
   "metadata": {
    "ExecuteTime": {
     "end_time": "2023-03-28T00:15:56.902409Z",
     "start_time": "2023-03-28T00:15:56.651243Z"
    },
    "hidden": true
   },
   "outputs": [],
   "source": [
    "#pickle.dump(rf_model, open('/home/felipe/repos/hackday/rf_model.pkl', 'wb' ))"
   ]
  },
  {
   "cell_type": "markdown",
   "id": "4be40d38",
   "metadata": {
    "heading_collapsed": true,
    "hidden": true
   },
   "source": [
    "### 6.5.1. SCV Performance"
   ]
  },
  {
   "cell_type": "code",
   "execution_count": 51,
   "id": "7348604b",
   "metadata": {
    "ExecuteTime": {
     "end_time": "2023-03-28T00:15:57.089377Z",
     "start_time": "2023-03-28T00:15:56.907774Z"
    },
    "hidden": true
   },
   "outputs": [],
   "source": [
    "# precision = mt.precision_score(y_val, yhat_svc)\n",
    "# recall = mt.recall_score(y_val, yhat_svc)\n",
    "# f1_score = mt.f1_score(y_val, yhat_svc, average='macro')"
   ]
  },
  {
   "cell_type": "code",
   "execution_count": 52,
   "id": "03f2b404",
   "metadata": {
    "ExecuteTime": {
     "end_time": "2023-03-28T00:15:57.232664Z",
     "start_time": "2023-03-28T00:15:57.096503Z"
    },
    "hidden": true
   },
   "outputs": [],
   "source": [
    "# print('Precision: {:.5f}'.format(precision))\n",
    "# print('Recall: {:.5f}'.format(recall))\n",
    "# print('F1 Score: {:.5f}'.format(f1_score))"
   ]
  },
  {
   "cell_type": "markdown",
   "id": "79576f2b",
   "metadata": {
    "ExecuteTime": {
     "end_time": "2023-03-25T15:27:20.978363Z",
     "start_time": "2023-03-25T15:27:20.975764Z"
    }
   },
   "source": [
    "# 7.0. Ensemble"
   ]
  },
  {
   "cell_type": "code",
   "execution_count": 53,
   "id": "97ed0e7e",
   "metadata": {
    "ExecuteTime": {
     "end_time": "2023-03-28T00:16:02.408927Z",
     "start_time": "2023-03-28T00:15:57.237861Z"
    }
   },
   "outputs": [],
   "source": [
    "# get models predicion and create a dataframe\n",
    "ensemble = pd.DataFrame([yhat_xgb, yhat_gb, yhat_rf]).T\n",
    "\n",
    "# rename columns\n",
    "ensemble.columns = ['yhat_xgb', 'yhat_gb', 'yhat_rf']\n",
    "\n",
    "# voting system - find mode and assing it to a new column\n",
    "moda = ensemble.mode(axis=1)[0]\n",
    "ensemble['pred'] = moda"
   ]
  },
  {
   "cell_type": "markdown",
   "id": "d6f32f40",
   "metadata": {},
   "source": [
    "## 7.1. Ensenmble Performance"
   ]
  },
  {
   "cell_type": "code",
   "execution_count": 54,
   "id": "fd4872b4",
   "metadata": {
    "ExecuteTime": {
     "end_time": "2023-03-28T00:16:02.453970Z",
     "start_time": "2023-03-28T00:16:02.411590Z"
    }
   },
   "outputs": [
    {
     "name": "stdout",
     "output_type": "stream",
     "text": [
      "Precision: 0.96321\n",
      "Recall: 0.96631\n",
      "F1 Score: 0.97193\n"
     ]
    }
   ],
   "source": [
    "# prections of ensemble model\n",
    "yhat_en = ensemble['pred']\n",
    "\n",
    "# calculate metrics\n",
    "precision = mt.precision_score(y_val, yhat_en)\n",
    "recall = mt.recall_score(y_val, yhat_en)\n",
    "f1_score = mt.f1_score(y_val, yhat_en, average='macro')\n",
    "\n",
    "# print results\n",
    "print('Precision: {:.5f}'.format(precision))\n",
    "print('Recall: {:.5f}'.format(recall))\n",
    "print('F1 Score: {:.5f}'.format(f1_score))"
   ]
  }
 ],
 "metadata": {
  "kernelspec": {
   "display_name": "hackday",
   "language": "python",
   "name": "hackday"
  },
  "language_info": {
   "codemirror_mode": {
    "name": "ipython",
    "version": 3
   },
   "file_extension": ".py",
   "mimetype": "text/x-python",
   "name": "python",
   "nbconvert_exporter": "python",
   "pygments_lexer": "ipython3",
   "version": "3.11.2"
  }
 },
 "nbformat": 4,
 "nbformat_minor": 5
}
