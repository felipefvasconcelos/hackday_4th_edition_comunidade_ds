{
 "cells": [
  {
   "cell_type": "markdown",
   "id": "be9b865f",
   "metadata": {},
   "source": [
    "# 0.0. Imports"
   ]
  },
  {
   "cell_type": "code",
   "execution_count": 1,
   "id": "c3e45637",
   "metadata": {
    "ExecuteTime": {
     "end_time": "2023-03-28T00:28:46.005187Z",
     "start_time": "2023-03-28T00:28:31.174920Z"
    }
   },
   "outputs": [
    {
     "name": "stderr",
     "output_type": "stream",
     "text": [
      "/home/felipe/repos/hackday/hackday/lib/python3.11/site-packages/tqdm/auto.py:22: TqdmWarning: IProgress not found. Please update jupyter and ipywidgets. See https://ipywidgets.readthedocs.io/en/stable/user_install.html\n",
      "  from .autonotebook import tqdm as notebook_tqdm\n"
     ]
    }
   ],
   "source": [
    "import pickle\n",
    "import inflection\n",
    "\n",
    "import numpy as np\n",
    "import pandas as pd\n",
    "import seaborn as sn\n",
    "\n",
    "from xgboost import XGBClassifier\n",
    "from ydata_profiling import ProfileReport\n",
    "\n",
    "from sklearn import metrics as mt\n",
    "from sklearn import ensemble as en\n",
    "from sklearn import model_selection as ms\n",
    "from sklearn import preprocessing   as pp\n",
    "\n",
    "from sklearn import linear_model as lm\n",
    "from sklearn import ensemble as en\n"
   ]
  },
  {
   "cell_type": "markdown",
   "id": "40f1f5cd",
   "metadata": {
    "ExecuteTime": {
     "end_time": "2023-03-25T01:45:10.964211Z",
     "start_time": "2023-03-25T01:45:10.431585Z"
    }
   },
   "source": [
    "# 1.0. Data Description"
   ]
  },
  {
   "cell_type": "markdown",
   "id": "a44e7938",
   "metadata": {},
   "source": [
    "## 1.1. Loading Data"
   ]
  },
  {
   "cell_type": "code",
   "execution_count": 2,
   "id": "9d3310b9",
   "metadata": {
    "ExecuteTime": {
     "end_time": "2023-03-28T00:28:46.384194Z",
     "start_time": "2023-03-28T00:28:46.013459Z"
    }
   },
   "outputs": [],
   "source": [
    "# load datasets\n",
    "df_raw = pd.read_csv('data/test.csv')\n",
    "df_country = pd.read_csv('data/country_base_2.csv')\n",
    "\n",
    "# mergre county coordinates\n",
    "df1 = pd.merge(df_raw, df_country, on='Nacionalidade', how='left')\n",
    "\n",
    "# drop irrelevant columns\n",
    "df1 = df1.drop('country', axis=1)"
   ]
  },
  {
   "cell_type": "markdown",
   "id": "fc0a7f9f",
   "metadata": {},
   "source": [
    "## 1.2. Rename Columns"
   ]
  },
  {
   "cell_type": "code",
   "execution_count": 3,
   "id": "c37cd130",
   "metadata": {
    "ExecuteTime": {
     "end_time": "2023-03-28T00:28:46.394859Z",
     "start_time": "2023-03-28T00:28:46.387841Z"
    }
   },
   "outputs": [],
   "source": [
    "# list columns names\n",
    "cols_old = ['id', 'Classificacao_do_hotel', 'Meses_da_reserva_ate_o_check-in', 'Numero_de_pernoites_reservadas', \n",
    "            'Numero_de_hospedes', 'Regime_de_alimentacao', 'Nacionalidade', 'Forma_de_Reserva',\n",
    "            'Ja_se_hospedou_anterioremente', 'Tipo_do_quarto_reservado', 'Reserva_feita_por_agencia_de_turismo', \n",
    "            'Reserva_feita_por_empresa', 'Reserva_com_Estacionamento', 'Reserva_com_Observacoes', 'latitude', 'longitude']\n",
    "\n",
    "# rename columns\n",
    "snakecase = lambda x: inflection.underscore(x)\n",
    "cols_new = list(map(snakecase, cols_old))\n",
    "df1.columns = cols_new"
   ]
  },
  {
   "cell_type": "markdown",
   "id": "9d4a1ffc",
   "metadata": {},
   "source": [
    "### 1.4.1. Replace NA"
   ]
  },
  {
   "cell_type": "code",
   "execution_count": 4,
   "id": "e84b84df",
   "metadata": {
    "ExecuteTime": {
     "end_time": "2023-03-28T00:28:46.519874Z",
     "start_time": "2023-03-28T00:28:46.399347Z"
    }
   },
   "outputs": [],
   "source": [
    "# replace with mode\n",
    "df1['numero_de_hospedes'] = df1['numero_de_hospedes'].fillna(2)\n",
    "df1['nacionalidade'] = df1['nacionalidade'].fillna('Spain')\n",
    "df1['latitude'] = df1['latitude'].fillna(40463667)\n",
    "df1['longitude'] = df1['longitude'].fillna(-374922)"
   ]
  },
  {
   "cell_type": "markdown",
   "id": "586a208c",
   "metadata": {},
   "source": [
    "### 1.5.1. Change Dtypes"
   ]
  },
  {
   "cell_type": "code",
   "execution_count": 5,
   "id": "7694973f",
   "metadata": {
    "ExecuteTime": {
     "end_time": "2023-03-28T00:28:46.591604Z",
     "start_time": "2023-03-28T00:28:46.523656Z"
    }
   },
   "outputs": [],
   "source": [
    "df1['numero_de_hospedes'] = df1['numero_de_hospedes'].astype('int')"
   ]
  },
  {
   "cell_type": "markdown",
   "id": "b0a6e176",
   "metadata": {},
   "source": [
    "# 2.0. Feature Engineering"
   ]
  },
  {
   "cell_type": "code",
   "execution_count": 6,
   "id": "3ec87883",
   "metadata": {
    "ExecuteTime": {
     "end_time": "2023-03-28T00:28:46.683757Z",
     "start_time": "2023-03-28T00:28:46.596168Z"
    }
   },
   "outputs": [],
   "source": [
    "df2 = df1#.copy()"
   ]
  },
  {
   "cell_type": "code",
   "execution_count": 7,
   "id": "d8dd306b",
   "metadata": {
    "ExecuteTime": {
     "end_time": "2023-03-28T00:28:46.934626Z",
     "start_time": "2023-03-28T00:28:46.691601Z"
    }
   },
   "outputs": [],
   "source": [
    "# classificacao_do_hotel\n",
    "df2['classificacao_do_hotel'] = df2['classificacao_do_hotel'].apply(lambda x: x.replace(' estrelas', ''))\n",
    "\n",
    "# ja_se_hospedou_anterioremente\n",
    "df2['ja_se_hospedou_anterioremente'] = df2['ja_se_hospedou_anterioremente'].apply(lambda x: x.replace('Sim', '1'))\n",
    "df2['ja_se_hospedou_anterioremente'] = df2['ja_se_hospedou_anterioremente'].apply(lambda x: x.replace('Não', '0'))\n",
    "\n",
    "# reserva_feita_por_agencia_de_turismo\n",
    "df2['reserva_feita_por_agencia_de_turismo'] = df2['reserva_feita_por_agencia_de_turismo'].apply(lambda x: x.replace('Sim', '1'))\n",
    "df2['reserva_feita_por_agencia_de_turismo'] = df2['reserva_feita_por_agencia_de_turismo'].apply(lambda x: x.replace('Não', '0'))\n",
    "\n",
    "# reserva_feita_por_empresa\n",
    "df2['reserva_feita_por_empresa'] = df2['reserva_feita_por_empresa'].apply(lambda x: x.replace('Sim', '1'))\n",
    "df2['reserva_feita_por_empresa'] = df2['reserva_feita_por_empresa'].apply(lambda x: x.replace('Não', '0'))\n",
    "\n",
    "# reserva_com_estacionamento\n",
    "df2['reserva_com_estacionamento'] = df2['reserva_com_estacionamento'].apply(lambda x: x.replace('Sim', '1'))\n",
    "df2['reserva_com_estacionamento'] = df2['reserva_com_estacionamento'].apply(lambda x: x.replace('Não', '0'))"
   ]
  },
  {
   "cell_type": "code",
   "execution_count": 8,
   "id": "ab5baf85",
   "metadata": {
    "ExecuteTime": {
     "end_time": "2023-03-28T00:28:46.978923Z",
     "start_time": "2023-03-28T00:28:46.938748Z"
    }
   },
   "outputs": [],
   "source": [
    "# transform into int\n",
    "df2['classificacao_do_hotel'] = df2['classificacao_do_hotel'].astype('int')\n",
    "df2['ja_se_hospedou_anterioremente'] = df2['ja_se_hospedou_anterioremente'].astype('int')\n",
    "df2['reserva_feita_por_agencia_de_turismo'] = df2['reserva_feita_por_agencia_de_turismo'].astype('int')\n",
    "df2['reserva_feita_por_empresa'] = df2['reserva_feita_por_empresa'].astype('int')\n",
    "df2['reserva_com_estacionamento'] = df2['reserva_com_estacionamento'].astype('int')"
   ]
  },
  {
   "cell_type": "markdown",
   "id": "66cc9a58",
   "metadata": {},
   "source": [
    "# 3.0. Data Filtering"
   ]
  },
  {
   "cell_type": "code",
   "execution_count": 9,
   "id": "47c68e0f",
   "metadata": {
    "ExecuteTime": {
     "end_time": "2023-03-28T00:28:47.032889Z",
     "start_time": "2023-03-28T00:28:46.981959Z"
    }
   },
   "outputs": [],
   "source": [
    "df3 = df2#.copy()"
   ]
  },
  {
   "cell_type": "code",
   "execution_count": 10,
   "id": "866f415e",
   "metadata": {
    "ExecuteTime": {
     "end_time": "2023-03-28T00:28:47.111096Z",
     "start_time": "2023-03-28T00:28:47.037777Z"
    }
   },
   "outputs": [],
   "source": [
    "# reserva_feita_por_agencia_de_turismo reserva_feita_por_empresa\n",
    "# df3 = df3.drop(['reserva_feita_por_agencia_de_turismo', 'reserva_feita_por_empresa'], axis=1)"
   ]
  },
  {
   "cell_type": "markdown",
   "id": "55684f1c",
   "metadata": {},
   "source": [
    "# 4.0. Data Preparation "
   ]
  },
  {
   "cell_type": "code",
   "execution_count": 11,
   "id": "3ad9776c",
   "metadata": {
    "ExecuteTime": {
     "end_time": "2023-03-28T00:28:47.190809Z",
     "start_time": "2023-03-28T00:28:47.113851Z"
    }
   },
   "outputs": [],
   "source": [
    "df4 = df3#.copy()"
   ]
  },
  {
   "cell_type": "code",
   "execution_count": 12,
   "id": "8e1d4856",
   "metadata": {
    "ExecuteTime": {
     "end_time": "2023-03-28T00:28:47.324361Z",
     "start_time": "2023-03-28T00:28:47.197273Z"
    }
   },
   "outputs": [],
   "source": [
    "## frequency encoder\n",
    "#tipo_do_quarto_reservado\n",
    "freq_dict = df4['tipo_do_quarto_reservado'].value_counts(normalize=True).to_dict()\n",
    "df4['tipo_do_quarto_reservado_encoded'] = df4['tipo_do_quarto_reservado'].map(freq_dict)\n",
    "\n",
    "# nacionalidade\n",
    "freq_dict = df4['nacionalidade'].value_counts(normalize=True).to_dict()\n",
    "df4['nacionalidade'] = df4['nacionalidade'].map(freq_dict)"
   ]
  },
  {
   "cell_type": "code",
   "execution_count": 13,
   "id": "703f3c94",
   "metadata": {
    "ExecuteTime": {
     "end_time": "2023-03-28T00:28:47.547733Z",
     "start_time": "2023-03-28T00:28:47.331601Z"
    }
   },
   "outputs": [],
   "source": [
    "# dummy variables\n",
    "cols_dummy = ['regime_de_alimentacao', 'forma_de_reserva', 'reserva_com_observacoes']\n",
    "df4_dummy = pd.get_dummies(df4[cols_dummy])\n",
    "df4 = pd.concat([df4, df4_dummy], axis=1)"
   ]
  },
  {
   "cell_type": "code",
   "execution_count": 14,
   "id": "4fc7f1ac",
   "metadata": {
    "ExecuteTime": {
     "end_time": "2023-03-28T00:28:47.715220Z",
     "start_time": "2023-03-28T00:28:47.552359Z"
    }
   },
   "outputs": [],
   "source": [
    "# transform lat long into radians\n",
    "df4['latitude'] = df4['latitude'].apply(lambda x: np.radians(x/1000000))\n",
    "df4['longitude'] = df4['longitude'].apply(lambda x: np.radians(x/1000000))"
   ]
  },
  {
   "cell_type": "markdown",
   "id": "c8e990a1",
   "metadata": {},
   "source": [
    "# 5.0. Feature Selection "
   ]
  },
  {
   "cell_type": "code",
   "execution_count": 15,
   "id": "41d5f490",
   "metadata": {
    "ExecuteTime": {
     "end_time": "2023-03-28T00:28:47.722883Z",
     "start_time": "2023-03-28T00:28:47.718231Z"
    }
   },
   "outputs": [],
   "source": [
    "df5 = df4#.copy()"
   ]
  },
  {
   "cell_type": "code",
   "execution_count": 16,
   "id": "9bb85855",
   "metadata": {
    "ExecuteTime": {
     "end_time": "2023-03-28T00:28:47.812915Z",
     "start_time": "2023-03-28T00:28:47.727596Z"
    }
   },
   "outputs": [],
   "source": [
    "# drop columns\n",
    "cols_drop =['regime_de_alimentacao', 'forma_de_reserva', 'reserva_com_observacoes', 'tipo_do_quarto_reservado']\n",
    "df5 = df4.drop(cols_drop, axis=1)"
   ]
  },
  {
   "cell_type": "markdown",
   "id": "47cadf95",
   "metadata": {},
   "source": [
    "# 6.0. Machine Learning Model"
   ]
  },
  {
   "cell_type": "markdown",
   "id": "ad5ce206",
   "metadata": {},
   "source": [
    "## 6.1. XGBoost"
   ]
  },
  {
   "cell_type": "code",
   "execution_count": 17,
   "id": "27aa76ae",
   "metadata": {
    "ExecuteTime": {
     "end_time": "2023-03-28T00:28:49.877598Z",
     "start_time": "2023-03-28T00:28:47.815893Z"
    }
   },
   "outputs": [],
   "source": [
    "# load trained xgb_model\n",
    "xgb_model = pickle.load(open('xgb_model.pkl', 'rb'))\n",
    "\n",
    "# predict\n",
    "yhat_xgb = xgb_model.predict(df5)"
   ]
  },
  {
   "cell_type": "markdown",
   "id": "133af59f",
   "metadata": {},
   "source": [
    "## 6.1. Gradient Boost"
   ]
  },
  {
   "cell_type": "code",
   "execution_count": 18,
   "id": "75edceef",
   "metadata": {
    "ExecuteTime": {
     "end_time": "2023-03-28T00:28:52.862972Z",
     "start_time": "2023-03-28T00:28:49.880878Z"
    }
   },
   "outputs": [],
   "source": [
    "# load gradient boosting model\n",
    "gdr_model = pickle.load(open('gdr_model.pkl', 'rb'))\n",
    "\n",
    "# predict\n",
    "yhat_gb = gdr_model.predict(df5)"
   ]
  },
  {
   "cell_type": "markdown",
   "id": "0612bd91",
   "metadata": {},
   "source": [
    "## 6.1. Random Forest"
   ]
  },
  {
   "cell_type": "code",
   "execution_count": 19,
   "id": "53107f02",
   "metadata": {
    "ExecuteTime": {
     "end_time": "2023-03-28T00:29:00.271856Z",
     "start_time": "2023-03-28T00:28:52.865999Z"
    }
   },
   "outputs": [],
   "source": [
    "# load random forest model\n",
    "rf_model = pickle.load(open('rf_model.pkl', 'rb'))\n",
    "\n",
    "# predict\n",
    "yhat_rf = rf_model.predict(df5)"
   ]
  },
  {
   "cell_type": "markdown",
   "id": "1cbcf3b9",
   "metadata": {},
   "source": [
    "## 6.1. Ensemble"
   ]
  },
  {
   "cell_type": "code",
   "execution_count": 20,
   "id": "768da1a2",
   "metadata": {
    "ExecuteTime": {
     "end_time": "2023-03-28T00:29:11.870886Z",
     "start_time": "2023-03-28T00:29:00.274428Z"
    }
   },
   "outputs": [],
   "source": [
    "# get models predicion and create a dataframe\n",
    "ensemble = pd.DataFrame([yhat_xgb, yhat_gb, yhat_rf]).T\n",
    "\n",
    "# rename columns\n",
    "ensemble.columns = ['yhat_xgb', 'yhat_gb', 'yhat_rf']\n",
    "\n",
    "# voting system - find mode and assing it to a new column\n",
    "moda = ensemble.mode(axis=1)[0]\n",
    "ensemble['pred'] = moda\n",
    "\n",
    "# get final prediction\n",
    "yhat_en = ensemble['pred']"
   ]
  },
  {
   "cell_type": "markdown",
   "id": "79576f2b",
   "metadata": {
    "ExecuteTime": {
     "end_time": "2023-03-25T15:27:20.978363Z",
     "start_time": "2023-03-25T15:27:20.975764Z"
    }
   },
   "source": [
    "# 7.0. Export CSV"
   ]
  },
  {
   "cell_type": "code",
   "execution_count": 21,
   "id": "97ed0e7e",
   "metadata": {
    "ExecuteTime": {
     "end_time": "2023-03-28T00:29:11.993316Z",
     "start_time": "2023-03-28T00:29:11.873846Z"
    }
   },
   "outputs": [],
   "source": [
    "# add prediciont to original dataset\n",
    "df2['Reserva Cancelada'] = yhat_en\n",
    "\n",
    "# select columns required in kaggle competition\n",
    "submission = df2[['id', 'Reserva Cancelada']].copy()\n",
    "\n",
    "# export csv\n",
    "submission.to_csv('submission.csv', index=False)"
   ]
  }
 ],
 "metadata": {
  "kernelspec": {
   "display_name": "hackday",
   "language": "python",
   "name": "hackday"
  },
  "language_info": {
   "codemirror_mode": {
    "name": "ipython",
    "version": 3
   },
   "file_extension": ".py",
   "mimetype": "text/x-python",
   "name": "python",
   "nbconvert_exporter": "python",
   "pygments_lexer": "ipython3",
   "version": "3.11.2"
  }
 },
 "nbformat": 4,
 "nbformat_minor": 5
}
