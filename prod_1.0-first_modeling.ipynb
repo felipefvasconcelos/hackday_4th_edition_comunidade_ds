{
 "cells": [
  {
   "cell_type": "markdown",
   "id": "5e6460c8",
   "metadata": {},
   "source": [
    "# 0.0. Imports"
   ]
  },
  {
   "cell_type": "code",
   "execution_count": 1,
   "id": "c3e45637",
   "metadata": {
    "ExecuteTime": {
     "end_time": "2023-03-25T18:22:26.350349Z",
     "start_time": "2023-03-25T18:22:24.135973Z"
    }
   },
   "outputs": [],
   "source": [
    "import pickle\n",
    "import inflection\n",
    "\n",
    "import numpy as np\n",
    "import pandas as pd\n",
    "import seaborn as sn\n",
    "\n",
    "\n",
    "from xgboost import XGBClassifier\n",
    "\n",
    "from sklearn import metrics as mt\n",
    "from sklearn import ensemble as en\n",
    "from sklearn import model_selection as ms\n",
    "from sklearn import preprocessing   as pp"
   ]
  },
  {
   "cell_type": "markdown",
   "id": "d5318573",
   "metadata": {
    "ExecuteTime": {
     "end_time": "2023-03-25T01:45:10.964211Z",
     "start_time": "2023-03-25T01:45:10.431585Z"
    }
   },
   "source": [
    "# 1.0. Data Description"
   ]
  },
  {
   "cell_type": "markdown",
   "id": "d2bdbb85",
   "metadata": {},
   "source": [
    "## 1.1. Loading Data"
   ]
  },
  {
   "cell_type": "code",
   "execution_count": 28,
   "id": "d9446a3c",
   "metadata": {
    "ExecuteTime": {
     "end_time": "2023-03-25T19:31:07.780261Z",
     "start_time": "2023-03-25T19:31:07.636171Z"
    }
   },
   "outputs": [],
   "source": [
    "df_raw = pd.read_csv('data/test.csv')\n",
    "df_country = pd.read_csv('data/country_base.csv')"
   ]
  },
  {
   "cell_type": "code",
   "execution_count": 29,
   "id": "93d55aba",
   "metadata": {
    "ExecuteTime": {
     "end_time": "2023-03-25T19:31:07.865387Z",
     "start_time": "2023-03-25T19:31:07.828402Z"
    }
   },
   "outputs": [],
   "source": [
    "df1 = pd.merge(df_raw, df_country, on='Nacionalidade', how='left')"
   ]
  },
  {
   "cell_type": "markdown",
   "id": "5d9fcb13",
   "metadata": {},
   "source": [
    "## 1.2. Rename Columns"
   ]
  },
  {
   "cell_type": "code",
   "execution_count": 30,
   "id": "e32a064b",
   "metadata": {
    "ExecuteTime": {
     "end_time": "2023-03-25T19:31:09.319154Z",
     "start_time": "2023-03-25T19:31:08.166206Z"
    }
   },
   "outputs": [
    {
     "ename": "ValueError",
     "evalue": "Length mismatch: Expected axis has 17 elements, new values have 14 elements",
     "output_type": "error",
     "traceback": [
      "\u001b[0;31m---------------------------------------------------------------------------\u001b[0m",
      "\u001b[0;31mValueError\u001b[0m                                Traceback (most recent call last)",
      "Cell \u001b[0;32mIn[30], line 8\u001b[0m\n\u001b[1;32m      6\u001b[0m snakecase \u001b[38;5;241m=\u001b[39m \u001b[38;5;28;01mlambda\u001b[39;00m x: inflection\u001b[38;5;241m.\u001b[39munderscore(x)\n\u001b[1;32m      7\u001b[0m cols_new \u001b[38;5;241m=\u001b[39m \u001b[38;5;28mlist\u001b[39m(\u001b[38;5;28mmap\u001b[39m(snakecase, cols_old))\n\u001b[0;32m----> 8\u001b[0m \u001b[43mdf1\u001b[49m\u001b[38;5;241;43m.\u001b[39;49m\u001b[43mcolumns\u001b[49m \u001b[38;5;241m=\u001b[39m cols_new\n",
      "File \u001b[0;32m~/repos/hackday/hackday/lib/python3.11/site-packages/pandas/core/generic.py:5915\u001b[0m, in \u001b[0;36mNDFrame.__setattr__\u001b[0;34m(self, name, value)\u001b[0m\n\u001b[1;32m   5913\u001b[0m \u001b[38;5;28;01mtry\u001b[39;00m:\n\u001b[1;32m   5914\u001b[0m     \u001b[38;5;28mobject\u001b[39m\u001b[38;5;241m.\u001b[39m\u001b[38;5;21m__getattribute__\u001b[39m(\u001b[38;5;28mself\u001b[39m, name)\n\u001b[0;32m-> 5915\u001b[0m     \u001b[38;5;28;01mreturn\u001b[39;00m \u001b[38;5;28;43mobject\u001b[39;49m\u001b[38;5;241;43m.\u001b[39;49m\u001b[38;5;21;43m__setattr__\u001b[39;49m\u001b[43m(\u001b[49m\u001b[38;5;28;43mself\u001b[39;49m\u001b[43m,\u001b[49m\u001b[43m \u001b[49m\u001b[43mname\u001b[49m\u001b[43m,\u001b[49m\u001b[43m \u001b[49m\u001b[43mvalue\u001b[49m\u001b[43m)\u001b[49m\n\u001b[1;32m   5916\u001b[0m \u001b[38;5;28;01mexcept\u001b[39;00m \u001b[38;5;167;01mAttributeError\u001b[39;00m:\n\u001b[1;32m   5917\u001b[0m     \u001b[38;5;28;01mpass\u001b[39;00m\n",
      "File \u001b[0;32m~/repos/hackday/hackday/lib/python3.11/site-packages/pandas/_libs/properties.pyx:69\u001b[0m, in \u001b[0;36mpandas._libs.properties.AxisProperty.__set__\u001b[0;34m()\u001b[0m\n",
      "File \u001b[0;32m~/repos/hackday/hackday/lib/python3.11/site-packages/pandas/core/generic.py:823\u001b[0m, in \u001b[0;36mNDFrame._set_axis\u001b[0;34m(self, axis, labels)\u001b[0m\n\u001b[1;32m    821\u001b[0m \u001b[38;5;28;01mdef\u001b[39;00m \u001b[38;5;21m_set_axis\u001b[39m(\u001b[38;5;28mself\u001b[39m, axis: \u001b[38;5;28mint\u001b[39m, labels: AnyArrayLike \u001b[38;5;241m|\u001b[39m \u001b[38;5;28mlist\u001b[39m) \u001b[38;5;241m-\u001b[39m\u001b[38;5;241m>\u001b[39m \u001b[38;5;28;01mNone\u001b[39;00m:\n\u001b[1;32m    822\u001b[0m     labels \u001b[38;5;241m=\u001b[39m ensure_index(labels)\n\u001b[0;32m--> 823\u001b[0m     \u001b[38;5;28;43mself\u001b[39;49m\u001b[38;5;241;43m.\u001b[39;49m\u001b[43m_mgr\u001b[49m\u001b[38;5;241;43m.\u001b[39;49m\u001b[43mset_axis\u001b[49m\u001b[43m(\u001b[49m\u001b[43maxis\u001b[49m\u001b[43m,\u001b[49m\u001b[43m \u001b[49m\u001b[43mlabels\u001b[49m\u001b[43m)\u001b[49m\n\u001b[1;32m    824\u001b[0m     \u001b[38;5;28mself\u001b[39m\u001b[38;5;241m.\u001b[39m_clear_item_cache()\n",
      "File \u001b[0;32m~/repos/hackday/hackday/lib/python3.11/site-packages/pandas/core/internals/managers.py:230\u001b[0m, in \u001b[0;36mBaseBlockManager.set_axis\u001b[0;34m(self, axis, new_labels)\u001b[0m\n\u001b[1;32m    228\u001b[0m \u001b[38;5;28;01mdef\u001b[39;00m \u001b[38;5;21mset_axis\u001b[39m(\u001b[38;5;28mself\u001b[39m, axis: \u001b[38;5;28mint\u001b[39m, new_labels: Index) \u001b[38;5;241m-\u001b[39m\u001b[38;5;241m>\u001b[39m \u001b[38;5;28;01mNone\u001b[39;00m:\n\u001b[1;32m    229\u001b[0m     \u001b[38;5;66;03m# Caller is responsible for ensuring we have an Index object.\u001b[39;00m\n\u001b[0;32m--> 230\u001b[0m     \u001b[38;5;28;43mself\u001b[39;49m\u001b[38;5;241;43m.\u001b[39;49m\u001b[43m_validate_set_axis\u001b[49m\u001b[43m(\u001b[49m\u001b[43maxis\u001b[49m\u001b[43m,\u001b[49m\u001b[43m \u001b[49m\u001b[43mnew_labels\u001b[49m\u001b[43m)\u001b[49m\n\u001b[1;32m    231\u001b[0m     \u001b[38;5;28mself\u001b[39m\u001b[38;5;241m.\u001b[39maxes[axis] \u001b[38;5;241m=\u001b[39m new_labels\n",
      "File \u001b[0;32m~/repos/hackday/hackday/lib/python3.11/site-packages/pandas/core/internals/base.py:70\u001b[0m, in \u001b[0;36mDataManager._validate_set_axis\u001b[0;34m(self, axis, new_labels)\u001b[0m\n\u001b[1;32m     67\u001b[0m     \u001b[38;5;28;01mpass\u001b[39;00m\n\u001b[1;32m     69\u001b[0m \u001b[38;5;28;01melif\u001b[39;00m new_len \u001b[38;5;241m!=\u001b[39m old_len:\n\u001b[0;32m---> 70\u001b[0m     \u001b[38;5;28;01mraise\u001b[39;00m \u001b[38;5;167;01mValueError\u001b[39;00m(\n\u001b[1;32m     71\u001b[0m         \u001b[38;5;124mf\u001b[39m\u001b[38;5;124m\"\u001b[39m\u001b[38;5;124mLength mismatch: Expected axis has \u001b[39m\u001b[38;5;132;01m{\u001b[39;00mold_len\u001b[38;5;132;01m}\u001b[39;00m\u001b[38;5;124m elements, new \u001b[39m\u001b[38;5;124m\"\u001b[39m\n\u001b[1;32m     72\u001b[0m         \u001b[38;5;124mf\u001b[39m\u001b[38;5;124m\"\u001b[39m\u001b[38;5;124mvalues have \u001b[39m\u001b[38;5;132;01m{\u001b[39;00mnew_len\u001b[38;5;132;01m}\u001b[39;00m\u001b[38;5;124m elements\u001b[39m\u001b[38;5;124m\"\u001b[39m\n\u001b[1;32m     73\u001b[0m     )\n",
      "\u001b[0;31mValueError\u001b[0m: Length mismatch: Expected axis has 17 elements, new values have 14 elements"
     ]
    }
   ],
   "source": [
    "cols_old = ['id', 'Classificacao_do_hotel', 'Meses_da_reserva_ate_o_check-in', 'Numero_de_pernoites_reservadas', \n",
    "            'Numero_de_hospedes', 'Regime_de_alimentacao', 'Nacionalidade', 'Forma_de_Reserva',\n",
    "            'Ja_se_hospedou_anterioremente', 'Tipo_do_quarto_reservado', 'Reserva_feita_por_agencia_de_turismo', \n",
    "            'Reserva_feita_por_empresa', 'Reserva_com_Estacionamento', 'Reserva_com_Observacoes']\n",
    "\n",
    "snakecase = lambda x: inflection.underscore(x)\n",
    "cols_new = list(map(snakecase, cols_old))\n",
    "df1.columns = cols_new"
   ]
  },
  {
   "cell_type": "markdown",
   "id": "1f0b3e03",
   "metadata": {},
   "source": [
    "## 1.3. Data Dimensions"
   ]
  },
  {
   "cell_type": "code",
   "execution_count": null,
   "id": "0dd47339",
   "metadata": {
    "ExecuteTime": {
     "end_time": "2023-03-25T19:31:09.322714Z",
     "start_time": "2023-03-25T19:31:09.322685Z"
    }
   },
   "outputs": [],
   "source": [
    "print('Number of rows: {}'.format(df_raw.shape[0]))\n",
    "print('Number of cols: {}'.format(df_raw.shape[1]))"
   ]
  },
  {
   "cell_type": "markdown",
   "id": "034caca6",
   "metadata": {},
   "source": [
    "## 1.4. Check NA"
   ]
  },
  {
   "cell_type": "code",
   "execution_count": 35,
   "id": "9e1f3c0a",
   "metadata": {
    "ExecuteTime": {
     "end_time": "2023-03-25T19:32:03.034406Z",
     "start_time": "2023-03-25T19:32:02.826877Z"
    }
   },
   "outputs": [
    {
     "data": {
      "text/plain": [
       "id                                         0\n",
       "Classificação do hotel                     0\n",
       "Meses da reserva até o check-in            0\n",
       "Número de pernoites reservadas             0\n",
       "Número de hospedes                         1\n",
       "Regime de alimentação                      0\n",
       "Nacionalidade                            677\n",
       "Forma de Reserva                           0\n",
       "Já se hospedou anterioremente              0\n",
       "Tipo do quarto reservado                   0\n",
       "Reserva feita por agência de turismo       0\n",
       "Reserva feita por empresa                  0\n",
       "Reserva com Estacionamento                 0\n",
       "Reserva com Observações                    0\n",
       "country                                 1074\n",
       "latitude                                1074\n",
       "longitude                               1074\n",
       "dtype: int64"
      ]
     },
     "execution_count": 35,
     "metadata": {},
     "output_type": "execute_result"
    }
   ],
   "source": [
    "df1.isna().sum()"
   ]
  },
  {
   "cell_type": "markdown",
   "id": "7e3ca7ab",
   "metadata": {},
   "source": [
    "### 1.4.1. Replace NA"
   ]
  },
  {
   "cell_type": "code",
   "execution_count": 34,
   "id": "30916d45",
   "metadata": {
    "ExecuteTime": {
     "end_time": "2023-03-25T19:31:57.984972Z",
     "start_time": "2023-03-25T19:31:57.966279Z"
    }
   },
   "outputs": [],
   "source": []
  },
  {
   "cell_type": "code",
   "execution_count": null,
   "id": "6db453ea",
   "metadata": {},
   "outputs": [],
   "source": []
  },
  {
   "cell_type": "markdown",
   "id": "37a138fe",
   "metadata": {},
   "source": [
    "## 1.5. Data Dtypes"
   ]
  },
  {
   "cell_type": "code",
   "execution_count": 7,
   "id": "2ed2fbc3",
   "metadata": {
    "ExecuteTime": {
     "end_time": "2023-03-25T18:22:26.953206Z",
     "start_time": "2023-03-25T18:22:26.829019Z"
    }
   },
   "outputs": [
    {
     "data": {
      "text/plain": [
       "id                                        int64\n",
       "classificacao_do_hotel                   object\n",
       "meses_da_reserva_ate_o_check_in           int64\n",
       "numero_de_pernoites_reservadas            int64\n",
       "numero_de_hospedes                      float64\n",
       "regime_de_alimentacao                    object\n",
       "nacionalidade                            object\n",
       "forma_de_reserva                         object\n",
       "ja_se_hospedou_anterioremente            object\n",
       "tipo_do_quarto_reservado                 object\n",
       "reserva_feita_por_agencia_de_turismo     object\n",
       "reserva_feita_por_empresa                object\n",
       "reserva_com_estacionamento               object\n",
       "reserva_com_observacoes                  object\n",
       "dtype: object"
      ]
     },
     "execution_count": 7,
     "metadata": {},
     "output_type": "execute_result"
    }
   ],
   "source": [
    "df_raw.dtypes"
   ]
  },
  {
   "cell_type": "markdown",
   "id": "b9f5440b",
   "metadata": {},
   "source": [
    "### 1.5.1. Change Dtypes"
   ]
  },
  {
   "cell_type": "code",
   "execution_count": 8,
   "id": "44ee62b0",
   "metadata": {
    "ExecuteTime": {
     "end_time": "2023-03-25T18:22:27.038385Z",
     "start_time": "2023-03-25T18:22:26.957066Z"
    }
   },
   "outputs": [],
   "source": [
    "df_raw['numero_de_hospedes'] = df_raw['numero_de_hospedes'].astype('int')"
   ]
  },
  {
   "cell_type": "markdown",
   "id": "98b55c7e",
   "metadata": {},
   "source": [
    "## 1.6. Data Balancing"
   ]
  },
  {
   "cell_type": "code",
   "execution_count": 9,
   "id": "ce11e9dc",
   "metadata": {
    "ExecuteTime": {
     "end_time": "2023-03-25T18:22:27.115429Z",
     "start_time": "2023-03-25T18:22:27.041822Z"
    }
   },
   "outputs": [],
   "source": [
    "#df_raw['reserva_cancelada'].value_counts(normalize=True)"
   ]
  },
  {
   "cell_type": "markdown",
   "id": "3584850f",
   "metadata": {},
   "source": [
    "# 2.0. Feature Engineering"
   ]
  },
  {
   "cell_type": "code",
   "execution_count": 10,
   "id": "f7caf299",
   "metadata": {
    "ExecuteTime": {
     "end_time": "2023-03-25T18:22:27.200876Z",
     "start_time": "2023-03-25T18:22:27.118518Z"
    }
   },
   "outputs": [],
   "source": [
    "df2 = df_raw.copy()"
   ]
  },
  {
   "cell_type": "markdown",
   "id": "702c5875",
   "metadata": {},
   "source": [
    "# 3.0. Data Filtering"
   ]
  },
  {
   "cell_type": "code",
   "execution_count": 11,
   "id": "9f386c4b",
   "metadata": {
    "ExecuteTime": {
     "end_time": "2023-03-25T18:22:27.286418Z",
     "start_time": "2023-03-25T18:22:27.203239Z"
    }
   },
   "outputs": [],
   "source": [
    "df3 = df2.copy()"
   ]
  },
  {
   "cell_type": "markdown",
   "id": "57335500",
   "metadata": {},
   "source": [
    "# 4.0. Data Preparation "
   ]
  },
  {
   "cell_type": "code",
   "execution_count": 12,
   "id": "23e5c0b6",
   "metadata": {
    "ExecuteTime": {
     "end_time": "2023-03-25T18:22:27.364709Z",
     "start_time": "2023-03-25T18:22:27.290166Z"
    }
   },
   "outputs": [],
   "source": [
    "#df4 = df3.drop('nacionalidade', axis=1).copy()\n",
    "df4 = df3.copy()"
   ]
  },
  {
   "cell_type": "code",
   "execution_count": 13,
   "id": "f8fcd282",
   "metadata": {
    "ExecuteTime": {
     "end_time": "2023-03-25T18:22:27.932998Z",
     "start_time": "2023-03-25T18:22:27.372962Z"
    }
   },
   "outputs": [],
   "source": [
    "# # dummy variables\n",
    "# df4_dummy = pd.get_dummies(df4.drop(['id', 'meses_da_reserva_ate_o_check_in', 'numero_de_pernoites_reservadas',\n",
    "#                                     'numero_de_hospedes'], axis=1))\n",
    "\n",
    "# df4 = pd.concat([df4[['id', 'meses_da_reserva_ate_o_check_in', 'numero_de_pernoites_reservadas',\n",
    "#                       'numero_de_hospedes']], df4_dummy], axis=1)\n",
    "\n",
    "ohe = pickle.load(open('ohe.pkl', 'rb'))\n",
    "\n",
    "# numerical\n",
    "col_num = df4.select_dtypes(include=['int64', 'float64']).columns.tolist()\n",
    "\n",
    "# categorical\n",
    "col_cat = df4.select_dtypes(exclude=['int64', 'float64', 'datetime64[ns]']).columns.tolist()\n",
    "\n",
    "# encoding\n",
    "df4_dummy = pd.DataFrame(ohe.fit_transform(df4[col_cat]).toarray(), index=df4.index)\n",
    "\n",
    "# join numerical and categorical\n",
    "df42 = pd.concat([df4[col_num], df4_dummy], axis=1)\n",
    "df42.columns = df42.columns.astype(str)\n"
   ]
  },
  {
   "cell_type": "markdown",
   "id": "3cb0d11d",
   "metadata": {},
   "source": [
    "# 5.0. Feature Selection "
   ]
  },
  {
   "cell_type": "code",
   "execution_count": 14,
   "id": "d7c5a439",
   "metadata": {
    "ExecuteTime": {
     "end_time": "2023-03-25T18:22:28.138929Z",
     "start_time": "2023-03-25T18:22:27.937515Z"
    }
   },
   "outputs": [],
   "source": [
    "df5 = df42.drop('id', axis=1).copy()"
   ]
  },
  {
   "cell_type": "code",
   "execution_count": 15,
   "id": "58d18553",
   "metadata": {
    "ExecuteTime": {
     "end_time": "2023-03-25T18:22:28.202514Z",
     "start_time": "2023-03-25T18:22:28.145560Z"
    }
   },
   "outputs": [],
   "source": [
    "# # split dataset into features and target\n",
    "# X = df5.drop('reserva_cancelada', axis=1)\n",
    "# y = df5['reserva_cancelada']"
   ]
  },
  {
   "cell_type": "code",
   "execution_count": 16,
   "id": "d213a9f1",
   "metadata": {
    "ExecuteTime": {
     "end_time": "2023-03-25T18:22:28.302771Z",
     "start_time": "2023-03-25T18:22:28.205646Z"
    }
   },
   "outputs": [],
   "source": [
    "# # split dataset into train and test\n",
    "# X_train, X_val, y_train, y_val = ms.train_test_split(X, y, test_size=0.2)"
   ]
  },
  {
   "cell_type": "markdown",
   "id": "cf83006c",
   "metadata": {},
   "source": [
    "## 1.5. Data Dtypes"
   ]
  },
  {
   "cell_type": "markdown",
   "id": "5d50830a",
   "metadata": {},
   "source": [
    "# 6.0. Machine Learning Model"
   ]
  },
  {
   "cell_type": "code",
   "execution_count": 17,
   "id": "a76f0e84",
   "metadata": {
    "ExecuteTime": {
     "end_time": "2023-03-25T18:22:28.389794Z",
     "start_time": "2023-03-25T18:22:28.305760Z"
    }
   },
   "outputs": [],
   "source": [
    "model = pickle.load(open('gradient_boosting.pkl', 'rb'))"
   ]
  },
  {
   "cell_type": "code",
   "execution_count": 18,
   "id": "ac2b026f",
   "metadata": {
    "ExecuteTime": {
     "end_time": "2023-03-25T18:22:29.505605Z",
     "start_time": "2023-03-25T18:22:28.393687Z"
    }
   },
   "outputs": [
    {
     "ename": "ValueError",
     "evalue": "Feature shape mismatch, expected: 202, got 189",
     "output_type": "error",
     "traceback": [
      "\u001b[0;31m---------------------------------------------------------------------------\u001b[0m",
      "\u001b[0;31mValueError\u001b[0m                                Traceback (most recent call last)",
      "Cell \u001b[0;32mIn[18], line 1\u001b[0m\n\u001b[0;32m----> 1\u001b[0m yhat \u001b[38;5;241m=\u001b[39m \u001b[43mmodel\u001b[49m\u001b[38;5;241;43m.\u001b[39;49m\u001b[43mpredict\u001b[49m\u001b[43m(\u001b[49m\u001b[43mdf5\u001b[49m\u001b[43m)\u001b[49m\n",
      "File \u001b[0;32m~/repos/hackday/hackday/lib/python3.11/site-packages/xgboost/sklearn.py:1525\u001b[0m, in \u001b[0;36mXGBClassifier.predict\u001b[0;34m(self, X, output_margin, ntree_limit, validate_features, base_margin, iteration_range)\u001b[0m\n\u001b[1;32m   1515\u001b[0m \u001b[38;5;28;01mdef\u001b[39;00m \u001b[38;5;21mpredict\u001b[39m(\n\u001b[1;32m   1516\u001b[0m     \u001b[38;5;28mself\u001b[39m,\n\u001b[1;32m   1517\u001b[0m     X: ArrayLike,\n\u001b[0;32m   (...)\u001b[0m\n\u001b[1;32m   1522\u001b[0m     iteration_range: Optional[Tuple[\u001b[38;5;28mint\u001b[39m, \u001b[38;5;28mint\u001b[39m]] \u001b[38;5;241m=\u001b[39m \u001b[38;5;28;01mNone\u001b[39;00m,\n\u001b[1;32m   1523\u001b[0m ) \u001b[38;5;241m-\u001b[39m\u001b[38;5;241m>\u001b[39m np\u001b[38;5;241m.\u001b[39mndarray:\n\u001b[1;32m   1524\u001b[0m     \u001b[38;5;28;01mwith\u001b[39;00m config_context(verbosity\u001b[38;5;241m=\u001b[39m\u001b[38;5;28mself\u001b[39m\u001b[38;5;241m.\u001b[39mverbosity):\n\u001b[0;32m-> 1525\u001b[0m         class_probs \u001b[38;5;241m=\u001b[39m \u001b[38;5;28;43msuper\u001b[39;49m\u001b[43m(\u001b[49m\u001b[43m)\u001b[49m\u001b[38;5;241;43m.\u001b[39;49m\u001b[43mpredict\u001b[49m\u001b[43m(\u001b[49m\n\u001b[1;32m   1526\u001b[0m \u001b[43m            \u001b[49m\u001b[43mX\u001b[49m\u001b[38;5;241;43m=\u001b[39;49m\u001b[43mX\u001b[49m\u001b[43m,\u001b[49m\n\u001b[1;32m   1527\u001b[0m \u001b[43m            \u001b[49m\u001b[43moutput_margin\u001b[49m\u001b[38;5;241;43m=\u001b[39;49m\u001b[43moutput_margin\u001b[49m\u001b[43m,\u001b[49m\n\u001b[1;32m   1528\u001b[0m \u001b[43m            \u001b[49m\u001b[43mntree_limit\u001b[49m\u001b[38;5;241;43m=\u001b[39;49m\u001b[43mntree_limit\u001b[49m\u001b[43m,\u001b[49m\n\u001b[1;32m   1529\u001b[0m \u001b[43m            \u001b[49m\u001b[43mvalidate_features\u001b[49m\u001b[38;5;241;43m=\u001b[39;49m\u001b[43mvalidate_features\u001b[49m\u001b[43m,\u001b[49m\n\u001b[1;32m   1530\u001b[0m \u001b[43m            \u001b[49m\u001b[43mbase_margin\u001b[49m\u001b[38;5;241;43m=\u001b[39;49m\u001b[43mbase_margin\u001b[49m\u001b[43m,\u001b[49m\n\u001b[1;32m   1531\u001b[0m \u001b[43m            \u001b[49m\u001b[43miteration_range\u001b[49m\u001b[38;5;241;43m=\u001b[39;49m\u001b[43miteration_range\u001b[49m\u001b[43m,\u001b[49m\n\u001b[1;32m   1532\u001b[0m \u001b[43m        \u001b[49m\u001b[43m)\u001b[49m\n\u001b[1;32m   1533\u001b[0m         \u001b[38;5;28;01mif\u001b[39;00m output_margin:\n\u001b[1;32m   1534\u001b[0m             \u001b[38;5;66;03m# If output_margin is active, simply return the scores\u001b[39;00m\n\u001b[1;32m   1535\u001b[0m             \u001b[38;5;28;01mreturn\u001b[39;00m class_probs\n",
      "File \u001b[0;32m~/repos/hackday/hackday/lib/python3.11/site-packages/xgboost/sklearn.py:1114\u001b[0m, in \u001b[0;36mXGBModel.predict\u001b[0;34m(self, X, output_margin, ntree_limit, validate_features, base_margin, iteration_range)\u001b[0m\n\u001b[1;32m   1112\u001b[0m \u001b[38;5;28;01mif\u001b[39;00m \u001b[38;5;28mself\u001b[39m\u001b[38;5;241m.\u001b[39m_can_use_inplace_predict():\n\u001b[1;32m   1113\u001b[0m     \u001b[38;5;28;01mtry\u001b[39;00m:\n\u001b[0;32m-> 1114\u001b[0m         predts \u001b[38;5;241m=\u001b[39m \u001b[38;5;28;43mself\u001b[39;49m\u001b[38;5;241;43m.\u001b[39;49m\u001b[43mget_booster\u001b[49m\u001b[43m(\u001b[49m\u001b[43m)\u001b[49m\u001b[38;5;241;43m.\u001b[39;49m\u001b[43minplace_predict\u001b[49m\u001b[43m(\u001b[49m\n\u001b[1;32m   1115\u001b[0m \u001b[43m            \u001b[49m\u001b[43mdata\u001b[49m\u001b[38;5;241;43m=\u001b[39;49m\u001b[43mX\u001b[49m\u001b[43m,\u001b[49m\n\u001b[1;32m   1116\u001b[0m \u001b[43m            \u001b[49m\u001b[43miteration_range\u001b[49m\u001b[38;5;241;43m=\u001b[39;49m\u001b[43miteration_range\u001b[49m\u001b[43m,\u001b[49m\n\u001b[1;32m   1117\u001b[0m \u001b[43m            \u001b[49m\u001b[43mpredict_type\u001b[49m\u001b[38;5;241;43m=\u001b[39;49m\u001b[38;5;124;43m\"\u001b[39;49m\u001b[38;5;124;43mmargin\u001b[39;49m\u001b[38;5;124;43m\"\u001b[39;49m\u001b[43m \u001b[49m\u001b[38;5;28;43;01mif\u001b[39;49;00m\u001b[43m \u001b[49m\u001b[43moutput_margin\u001b[49m\u001b[43m \u001b[49m\u001b[38;5;28;43;01melse\u001b[39;49;00m\u001b[43m \u001b[49m\u001b[38;5;124;43m\"\u001b[39;49m\u001b[38;5;124;43mvalue\u001b[39;49m\u001b[38;5;124;43m\"\u001b[39;49m\u001b[43m,\u001b[49m\n\u001b[1;32m   1118\u001b[0m \u001b[43m            \u001b[49m\u001b[43mmissing\u001b[49m\u001b[38;5;241;43m=\u001b[39;49m\u001b[38;5;28;43mself\u001b[39;49m\u001b[38;5;241;43m.\u001b[39;49m\u001b[43mmissing\u001b[49m\u001b[43m,\u001b[49m\n\u001b[1;32m   1119\u001b[0m \u001b[43m            \u001b[49m\u001b[43mbase_margin\u001b[49m\u001b[38;5;241;43m=\u001b[39;49m\u001b[43mbase_margin\u001b[49m\u001b[43m,\u001b[49m\n\u001b[1;32m   1120\u001b[0m \u001b[43m            \u001b[49m\u001b[43mvalidate_features\u001b[49m\u001b[38;5;241;43m=\u001b[39;49m\u001b[43mvalidate_features\u001b[49m\u001b[43m,\u001b[49m\n\u001b[1;32m   1121\u001b[0m \u001b[43m        \u001b[49m\u001b[43m)\u001b[49m\n\u001b[1;32m   1122\u001b[0m         \u001b[38;5;28;01mif\u001b[39;00m _is_cupy_array(predts):\n\u001b[1;32m   1123\u001b[0m             \u001b[38;5;28;01mimport\u001b[39;00m \u001b[38;5;21;01mcupy\u001b[39;00m  \u001b[38;5;66;03m# pylint: disable=import-error\u001b[39;00m\n",
      "File \u001b[0;32m~/repos/hackday/hackday/lib/python3.11/site-packages/xgboost/core.py:2269\u001b[0m, in \u001b[0;36mBooster.inplace_predict\u001b[0;34m(self, data, iteration_range, predict_type, missing, validate_features, base_margin, strict_shape)\u001b[0m\n\u001b[1;32m   2265\u001b[0m         \u001b[38;5;28;01mraise\u001b[39;00m \u001b[38;5;167;01mTypeError\u001b[39;00m(\n\u001b[1;32m   2266\u001b[0m             \u001b[38;5;124m\"\u001b[39m\u001b[38;5;124m`shape` attribute is required when `validate_features` is True.\u001b[39m\u001b[38;5;124m\"\u001b[39m\n\u001b[1;32m   2267\u001b[0m         )\n\u001b[1;32m   2268\u001b[0m     \u001b[38;5;28;01mif\u001b[39;00m \u001b[38;5;28mlen\u001b[39m(data\u001b[38;5;241m.\u001b[39mshape) \u001b[38;5;241m!=\u001b[39m \u001b[38;5;241m1\u001b[39m \u001b[38;5;129;01mand\u001b[39;00m \u001b[38;5;28mself\u001b[39m\u001b[38;5;241m.\u001b[39mnum_features() \u001b[38;5;241m!=\u001b[39m data\u001b[38;5;241m.\u001b[39mshape[\u001b[38;5;241m1\u001b[39m]:\n\u001b[0;32m-> 2269\u001b[0m         \u001b[38;5;28;01mraise\u001b[39;00m \u001b[38;5;167;01mValueError\u001b[39;00m(\n\u001b[1;32m   2270\u001b[0m             \u001b[38;5;124mf\u001b[39m\u001b[38;5;124m\"\u001b[39m\u001b[38;5;124mFeature shape mismatch, expected: \u001b[39m\u001b[38;5;132;01m{\u001b[39;00m\u001b[38;5;28mself\u001b[39m\u001b[38;5;241m.\u001b[39mnum_features()\u001b[38;5;132;01m}\u001b[39;00m\u001b[38;5;124m, \u001b[39m\u001b[38;5;124m\"\u001b[39m\n\u001b[1;32m   2271\u001b[0m             \u001b[38;5;124mf\u001b[39m\u001b[38;5;124m\"\u001b[39m\u001b[38;5;124mgot \u001b[39m\u001b[38;5;132;01m{\u001b[39;00mdata\u001b[38;5;241m.\u001b[39mshape[\u001b[38;5;241m1\u001b[39m]\u001b[38;5;132;01m}\u001b[39;00m\u001b[38;5;124m\"\u001b[39m\n\u001b[1;32m   2272\u001b[0m         )\n\u001b[1;32m   2274\u001b[0m \u001b[38;5;28;01mfrom\u001b[39;00m \u001b[38;5;21;01m.\u001b[39;00m\u001b[38;5;21;01mdata\u001b[39;00m \u001b[38;5;28;01mimport\u001b[39;00m (\n\u001b[1;32m   2275\u001b[0m     _array_interface,\n\u001b[1;32m   2276\u001b[0m     _is_cudf_df,\n\u001b[0;32m   (...)\u001b[0m\n\u001b[1;32m   2279\u001b[0m     _transform_pandas_df,\n\u001b[1;32m   2280\u001b[0m )\n\u001b[1;32m   2282\u001b[0m enable_categorical \u001b[38;5;241m=\u001b[39m _has_categorical(\u001b[38;5;28mself\u001b[39m, data)\n",
      "\u001b[0;31mValueError\u001b[0m: Feature shape mismatch, expected: 202, got 189"
     ]
    }
   ],
   "source": [
    "yhat = model.predict(df5)"
   ]
  },
  {
   "cell_type": "markdown",
   "id": "1b7f1f22",
   "metadata": {},
   "source": [
    "# 7.0. Export CSV"
   ]
  },
  {
   "cell_type": "code",
   "execution_count": null,
   "id": "b1254a3e",
   "metadata": {
    "ExecuteTime": {
     "end_time": "2023-03-25T18:22:29.509080Z",
     "start_time": "2023-03-25T18:22:29.509054Z"
    }
   },
   "outputs": [],
   "source": [
    "df2['Reserva Cancelada'] = yhat"
   ]
  },
  {
   "cell_type": "code",
   "execution_count": null,
   "id": "d964e632",
   "metadata": {
    "ExecuteTime": {
     "end_time": "2023-03-25T18:22:29.510928Z",
     "start_time": "2023-03-25T18:22:29.510904Z"
    }
   },
   "outputs": [],
   "source": [
    "submission = df2[['id', 'Reserva Cancelada']].copy()"
   ]
  },
  {
   "cell_type": "code",
   "execution_count": null,
   "id": "a2fd959b",
   "metadata": {
    "ExecuteTime": {
     "end_time": "2023-03-25T18:22:29.512957Z",
     "start_time": "2023-03-25T18:22:29.512927Z"
    }
   },
   "outputs": [],
   "source": [
    "submission.to_csv('submission.csv', index=False)"
   ]
  },
  {
   "cell_type": "markdown",
   "id": "328ed953",
   "metadata": {
    "ExecuteTime": {
     "end_time": "2023-03-25T15:27:20.978363Z",
     "start_time": "2023-03-25T15:27:20.975764Z"
    }
   },
   "source": [
    "# 8.0. Model"
   ]
  },
  {
   "cell_type": "code",
   "execution_count": null,
   "id": "202f6dfc",
   "metadata": {},
   "outputs": [],
   "source": []
  }
 ],
 "metadata": {
  "kernelspec": {
   "display_name": "hackday",
   "language": "python",
   "name": "hackday"
  },
  "language_info": {
   "codemirror_mode": {
    "name": "ipython",
    "version": 3
   },
   "file_extension": ".py",
   "mimetype": "text/x-python",
   "name": "python",
   "nbconvert_exporter": "python",
   "pygments_lexer": "ipython3",
   "version": "3.11.2"
  }
 },
 "nbformat": 4,
 "nbformat_minor": 5
}
