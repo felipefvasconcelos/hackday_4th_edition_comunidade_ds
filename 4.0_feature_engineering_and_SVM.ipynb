{
 "cells": [
  {
   "cell_type": "markdown",
   "id": "be9b865f",
   "metadata": {},
   "source": [
    "# 0.0. Imports"
   ]
  },
  {
   "cell_type": "code",
   "execution_count": 1,
   "id": "c3e45637",
   "metadata": {
    "ExecuteTime": {
     "end_time": "2023-03-26T16:26:38.443509Z",
     "start_time": "2023-03-26T16:26:34.577427Z"
    }
   },
   "outputs": [
    {
     "name": "stderr",
     "output_type": "stream",
     "text": [
      "/home/felipe/repos/hackday/hackday/lib/python3.11/site-packages/tqdm/auto.py:22: TqdmWarning: IProgress not found. Please update jupyter and ipywidgets. See https://ipywidgets.readthedocs.io/en/stable/user_install.html\n",
      "  from .autonotebook import tqdm as notebook_tqdm\n"
     ]
    }
   ],
   "source": [
    "import pickle\n",
    "import inflection\n",
    "\n",
    "import numpy as np\n",
    "import pandas as pd\n",
    "import seaborn as sn\n",
    "\n",
    "from sklearn import svm\n",
    "from xgboost import XGBClassifier\n",
    "from ydata_profiling import ProfileReport\n",
    "\n",
    "from matplotlib import pyplot as plt\n",
    "\n",
    "from sklearn import metrics as mt\n",
    "from sklearn import ensemble as en\n",
    "from sklearn import model_selection as ms\n",
    "from sklearn import preprocessing   as pp\n",
    "\n",
    "from sklearn import linear_model as lm\n",
    "from sklearn import ensemble as en\n"
   ]
  },
  {
   "cell_type": "markdown",
   "id": "40f1f5cd",
   "metadata": {
    "ExecuteTime": {
     "end_time": "2023-03-25T01:45:10.964211Z",
     "start_time": "2023-03-25T01:45:10.431585Z"
    }
   },
   "source": [
    "# 1.0. Data Description"
   ]
  },
  {
   "cell_type": "markdown",
   "id": "a44e7938",
   "metadata": {},
   "source": [
    "## 1.1. Loading Data"
   ]
  },
  {
   "cell_type": "code",
   "execution_count": 2,
   "id": "9d3310b9",
   "metadata": {
    "ExecuteTime": {
     "end_time": "2023-03-26T16:26:38.598850Z",
     "start_time": "2023-03-26T16:26:38.448013Z"
    }
   },
   "outputs": [],
   "source": [
    "df_raw = pd.read_csv('data/train.csv')\n",
    "df_country = pd.read_csv('data/country_base_2.csv')"
   ]
  },
  {
   "cell_type": "code",
   "execution_count": 3,
   "id": "1a00cb07",
   "metadata": {
    "ExecuteTime": {
     "end_time": "2023-03-26T16:26:38.643476Z",
     "start_time": "2023-03-26T16:26:38.602461Z"
    }
   },
   "outputs": [],
   "source": [
    "df1 = pd.merge(df_raw, df_country, on='Nacionalidade', how='left')"
   ]
  },
  {
   "cell_type": "code",
   "execution_count": 4,
   "id": "703e4dd2",
   "metadata": {
    "ExecuteTime": {
     "end_time": "2023-03-26T16:26:38.705459Z",
     "start_time": "2023-03-26T16:26:38.648848Z"
    }
   },
   "outputs": [],
   "source": [
    "df1 = df1.drop('country', axis=1)"
   ]
  },
  {
   "cell_type": "markdown",
   "id": "fc0a7f9f",
   "metadata": {},
   "source": [
    "## 1.2. Rename Columns"
   ]
  },
  {
   "cell_type": "code",
   "execution_count": 5,
   "id": "c37cd130",
   "metadata": {
    "ExecuteTime": {
     "end_time": "2023-03-26T16:26:38.785492Z",
     "start_time": "2023-03-26T16:26:38.708357Z"
    }
   },
   "outputs": [],
   "source": [
    "cols_old = ['id', 'Classificacao_do_hotel', 'Meses_da_reserva_ate_o_check-in', 'Numero_de_pernoites_reservadas', \n",
    "            'Numero_de_hospedes', 'Regime_de_alimentacao', 'Nacionalidade', 'Forma_de_Reserva',\n",
    "            'Ja_se_hospedou_anterioremente', 'Tipo_do_quarto_reservado', 'Reserva_feita_por_agencia_de_turismo', \n",
    "            'Reserva_feita_por_empresa', 'Reserva_com_Estacionamento', 'Reserva_com_Observacoes', \n",
    "            'Reserva_Cancelada', 'latitude', 'longitude']\n",
    "\n",
    "snakecase = lambda x: inflection.underscore(x)\n",
    "cols_new = list(map(snakecase, cols_old))\n",
    "df1.columns = cols_new"
   ]
  },
  {
   "cell_type": "markdown",
   "id": "d4e724b0",
   "metadata": {},
   "source": [
    "## 1.3. Data Dimensions"
   ]
  },
  {
   "cell_type": "code",
   "execution_count": 6,
   "id": "8b135b2f",
   "metadata": {
    "ExecuteTime": {
     "end_time": "2023-03-26T16:26:38.884700Z",
     "start_time": "2023-03-26T16:26:38.788288Z"
    }
   },
   "outputs": [
    {
     "name": "stdout",
     "output_type": "stream",
     "text": [
      "Number of rows: 72159\n",
      "Number of cols: 17\n"
     ]
    }
   ],
   "source": [
    "print('Number of rows: {}'.format(df1.shape[0]))\n",
    "print('Number of cols: {}'.format(df1.shape[1]))"
   ]
  },
  {
   "cell_type": "markdown",
   "id": "292ec09b",
   "metadata": {},
   "source": [
    "## 1.4. Check NA"
   ]
  },
  {
   "cell_type": "code",
   "execution_count": 7,
   "id": "2cf7ddae",
   "metadata": {
    "ExecuteTime": {
     "end_time": "2023-03-26T16:26:39.084383Z",
     "start_time": "2023-03-26T16:26:38.887656Z"
    }
   },
   "outputs": [
    {
     "data": {
      "text/plain": [
       "id                                         0\n",
       "classificacao_do_hotel                     0\n",
       "meses_da_reserva_ate_o_check_in            0\n",
       "numero_de_pernoites_reservadas             0\n",
       "numero_de_hospedes                         3\n",
       "regime_de_alimentacao                      0\n",
       "nacionalidade                           1093\n",
       "forma_de_reserva                           0\n",
       "ja_se_hospedou_anterioremente              0\n",
       "tipo_do_quarto_reservado                   0\n",
       "reserva_feita_por_agencia_de_turismo       0\n",
       "reserva_feita_por_empresa                  0\n",
       "reserva_com_estacionamento                 0\n",
       "reserva_com_observacoes                    0\n",
       "reserva_cancelada                          0\n",
       "latitude                                1093\n",
       "longitude                               1093\n",
       "dtype: int64"
      ]
     },
     "execution_count": 7,
     "metadata": {},
     "output_type": "execute_result"
    }
   ],
   "source": [
    "df1.isna().sum()#/len(df1)"
   ]
  },
  {
   "cell_type": "markdown",
   "id": "9d4a1ffc",
   "metadata": {},
   "source": [
    "### 1.4.1. Replace NA"
   ]
  },
  {
   "cell_type": "code",
   "execution_count": 8,
   "id": "e84b84df",
   "metadata": {
    "ExecuteTime": {
     "end_time": "2023-03-26T16:26:39.241126Z",
     "start_time": "2023-03-26T16:26:39.086810Z"
    }
   },
   "outputs": [],
   "source": [
    "#df1['numero_de_hospedes'] = df1['numero_de_hospedes'].fillna(2)\n",
    "df1 = df1.dropna()"
   ]
  },
  {
   "cell_type": "code",
   "execution_count": 9,
   "id": "7d30976c",
   "metadata": {
    "ExecuteTime": {
     "end_time": "2023-03-26T16:26:39.249773Z",
     "start_time": "2023-03-26T16:26:39.244483Z"
    }
   },
   "outputs": [],
   "source": [
    "# import pandas as pd\n",
    "# from sklearn.linear_model import LinearRegression\n",
    "# from sklearn.impute import SimpleImputer\n",
    "\n",
    "# # carregar dados de exemplo com valores ausentes\n",
    "# df = pd.read_csv('exemplo.csv')\n",
    "\n",
    "# # separar os dados em variáveis independentes e dependentes\n",
    "# X = df.drop('Target', axis=1)\n",
    "# y = df['Target']\n",
    "\n",
    "# # criar um objeto SimpleImputer para imputar valores ausentes\n",
    "# imputer = SimpleImputer(strategy='mean')\n",
    "\n",
    "# # imputar os valores ausentes usando regressão linear\n",
    "# for column in X.columns:\n",
    "#     X_column = X[[column]]\n",
    "#     X_column_with_nulls = X_column[X_column[column].isnull()]\n",
    "#     X_column_without_nulls = X_column[X_column[column].notnull()]\n",
    "#     y_without_nulls = y[X_column[column].notnull()]\n",
    "#     model = LinearRegression()\n",
    "#     model.fit(X_column_without_nulls, y_without_nulls)\n",
    "#     y_pred = model.predict(X_column_with_nulls)\n",
    "#     X_column_with_nulls[column] = y_pred\n",
    "#     X[[column]] = pd.concat([X_column_with_nulls, X_column_without_nulls], axis=0)\n",
    "\n",
    "# # juntar as variáveis independentes e dependentes de volta em um dataframe\n",
    "# df_imputed = pd.concat([X, y], axis=1)\n",
    "\n",
    "# # exibir o dataframe resultante\n",
    "# print(df_imputed)"
   ]
  },
  {
   "cell_type": "markdown",
   "id": "4682fcd5",
   "metadata": {},
   "source": [
    "## 1.5. Data Dtypes"
   ]
  },
  {
   "cell_type": "code",
   "execution_count": 10,
   "id": "abdcd99b",
   "metadata": {
    "ExecuteTime": {
     "end_time": "2023-03-26T16:26:39.342818Z",
     "start_time": "2023-03-26T16:26:39.256614Z"
    }
   },
   "outputs": [
    {
     "data": {
      "text/plain": [
       "id                                        int64\n",
       "classificacao_do_hotel                   object\n",
       "meses_da_reserva_ate_o_check_in           int64\n",
       "numero_de_pernoites_reservadas            int64\n",
       "numero_de_hospedes                      float64\n",
       "regime_de_alimentacao                    object\n",
       "nacionalidade                            object\n",
       "forma_de_reserva                         object\n",
       "ja_se_hospedou_anterioremente            object\n",
       "tipo_do_quarto_reservado                 object\n",
       "reserva_feita_por_agencia_de_turismo     object\n",
       "reserva_feita_por_empresa                object\n",
       "reserva_com_estacionamento               object\n",
       "reserva_com_observacoes                  object\n",
       "reserva_cancelada                         int64\n",
       "latitude                                float64\n",
       "longitude                               float64\n",
       "dtype: object"
      ]
     },
     "execution_count": 10,
     "metadata": {},
     "output_type": "execute_result"
    }
   ],
   "source": [
    "df1.dtypes"
   ]
  },
  {
   "cell_type": "markdown",
   "id": "586a208c",
   "metadata": {},
   "source": [
    "### 1.5.1. Change Dtypes"
   ]
  },
  {
   "cell_type": "code",
   "execution_count": 11,
   "id": "7694973f",
   "metadata": {
    "ExecuteTime": {
     "end_time": "2023-03-26T16:26:39.406531Z",
     "start_time": "2023-03-26T16:26:39.345655Z"
    }
   },
   "outputs": [],
   "source": [
    "df1['numero_de_hospedes'] = df1['numero_de_hospedes'].astype('int')"
   ]
  },
  {
   "cell_type": "markdown",
   "id": "9729dd5a",
   "metadata": {},
   "source": [
    "## 1.6. Data Balancing"
   ]
  },
  {
   "cell_type": "code",
   "execution_count": 12,
   "id": "8f61ac3b",
   "metadata": {
    "ExecuteTime": {
     "end_time": "2023-03-26T16:26:39.487307Z",
     "start_time": "2023-03-26T16:26:39.409156Z"
    }
   },
   "outputs": [
    {
     "data": {
      "text/plain": [
       "0    0.62674\n",
       "1    0.37326\n",
       "Name: reserva_cancelada, dtype: float64"
      ]
     },
     "execution_count": 12,
     "metadata": {},
     "output_type": "execute_result"
    }
   ],
   "source": [
    "df1['reserva_cancelada'].value_counts(normalize=True)"
   ]
  },
  {
   "cell_type": "markdown",
   "id": "a4e60ff0",
   "metadata": {},
   "source": [
    "## 1.7. Pandas Profiling"
   ]
  },
  {
   "cell_type": "code",
   "execution_count": 13,
   "id": "1d1e4c82",
   "metadata": {
    "ExecuteTime": {
     "end_time": "2023-03-26T16:26:39.549650Z",
     "start_time": "2023-03-26T16:26:39.490392Z"
    }
   },
   "outputs": [],
   "source": [
    "# prof = ProfileReport(df1)\n",
    "# prof.to_file(output_file='output.html')\n",
    "# # regime_de_alimentacao -> desbalanceado\n",
    "# # nacionalidade -> desbalanceado\n",
    "# # forma_de_reserva -> desbalanceado\n",
    "# # ja_se_hospedou_anterioremente -> desbalanceado\n",
    "# # tipo_do_quarto_reservado -> desbalanceado\n",
    "# # reserva_feita_por_agencia_de_turismo -> desbalanceado\n",
    "# # reserva_com_estacionamento -> desbalanceado"
   ]
  },
  {
   "cell_type": "markdown",
   "id": "2fa76fab",
   "metadata": {},
   "source": [
    "### 1.7.1. Meses da reserva até o check-in"
   ]
  },
  {
   "cell_type": "code",
   "execution_count": 14,
   "id": "30f9b6f1",
   "metadata": {
    "ExecuteTime": {
     "end_time": "2023-03-26T16:26:39.634697Z",
     "start_time": "2023-03-26T16:26:39.552163Z"
    }
   },
   "outputs": [
    {
     "data": {
      "text/html": [
       "<div>\n",
       "<style scoped>\n",
       "    .dataframe tbody tr th:only-of-type {\n",
       "        vertical-align: middle;\n",
       "    }\n",
       "\n",
       "    .dataframe tbody tr th {\n",
       "        vertical-align: top;\n",
       "    }\n",
       "\n",
       "    .dataframe thead th {\n",
       "        text-align: right;\n",
       "    }\n",
       "</style>\n",
       "<table border=\"1\" class=\"dataframe\">\n",
       "  <thead>\n",
       "    <tr style=\"text-align: right;\">\n",
       "      <th></th>\n",
       "      <th>id</th>\n",
       "      <th>classificacao_do_hotel</th>\n",
       "      <th>meses_da_reserva_ate_o_check_in</th>\n",
       "      <th>numero_de_pernoites_reservadas</th>\n",
       "      <th>numero_de_hospedes</th>\n",
       "      <th>regime_de_alimentacao</th>\n",
       "      <th>nacionalidade</th>\n",
       "      <th>forma_de_reserva</th>\n",
       "      <th>ja_se_hospedou_anterioremente</th>\n",
       "      <th>tipo_do_quarto_reservado</th>\n",
       "      <th>reserva_feita_por_agencia_de_turismo</th>\n",
       "      <th>reserva_feita_por_empresa</th>\n",
       "      <th>reserva_com_estacionamento</th>\n",
       "      <th>reserva_com_observacoes</th>\n",
       "      <th>reserva_cancelada</th>\n",
       "      <th>latitude</th>\n",
       "      <th>longitude</th>\n",
       "    </tr>\n",
       "  </thead>\n",
       "  <tbody>\n",
       "    <tr>\n",
       "      <th>18488</th>\n",
       "      <td>95082</td>\n",
       "      <td>4 estrelas</td>\n",
       "      <td>97</td>\n",
       "      <td>3</td>\n",
       "      <td>2</td>\n",
       "      <td>Sem refeicao</td>\n",
       "      <td>Spain</td>\n",
       "      <td>Agência</td>\n",
       "      <td>Não</td>\n",
       "      <td>Amethyst</td>\n",
       "      <td>Sim</td>\n",
       "      <td>Não</td>\n",
       "      <td>Sim</td>\n",
       "      <td>1 a 3</td>\n",
       "      <td>0</td>\n",
       "      <td>40463667.0</td>\n",
       "      <td>-374922.0</td>\n",
       "    </tr>\n",
       "    <tr>\n",
       "      <th>50270</th>\n",
       "      <td>99797</td>\n",
       "      <td>4 estrelas</td>\n",
       "      <td>101</td>\n",
       "      <td>1109</td>\n",
       "      <td>2</td>\n",
       "      <td>Café da manha</td>\n",
       "      <td>Austria</td>\n",
       "      <td>Agência</td>\n",
       "      <td>Não</td>\n",
       "      <td>Green Emerald</td>\n",
       "      <td>Sim</td>\n",
       "      <td>Não</td>\n",
       "      <td>Não</td>\n",
       "      <td>1 a 3</td>\n",
       "      <td>0</td>\n",
       "      <td>47516231.0</td>\n",
       "      <td>14550072.0</td>\n",
       "    </tr>\n",
       "    <tr>\n",
       "      <th>35991</th>\n",
       "      <td>83726</td>\n",
       "      <td>4 estrelas</td>\n",
       "      <td>179</td>\n",
       "      <td>1</td>\n",
       "      <td>2</td>\n",
       "      <td>Café da manha</td>\n",
       "      <td>Spain</td>\n",
       "      <td>Balcão</td>\n",
       "      <td>Não</td>\n",
       "      <td>Amethyst</td>\n",
       "      <td>Sim</td>\n",
       "      <td>Não</td>\n",
       "      <td>Não</td>\n",
       "      <td>1 a 3</td>\n",
       "      <td>0</td>\n",
       "      <td>40463667.0</td>\n",
       "      <td>-374922.0</td>\n",
       "    </tr>\n",
       "    <tr>\n",
       "      <th>16894</th>\n",
       "      <td>6389</td>\n",
       "      <td>5 estrelas</td>\n",
       "      <td>280</td>\n",
       "      <td>7</td>\n",
       "      <td>2</td>\n",
       "      <td>Café da manha</td>\n",
       "      <td>Spain</td>\n",
       "      <td>Agência</td>\n",
       "      <td>Não</td>\n",
       "      <td>Green Emerald</td>\n",
       "      <td>Sim</td>\n",
       "      <td>Não</td>\n",
       "      <td>Não</td>\n",
       "      <td>1 a 3</td>\n",
       "      <td>1</td>\n",
       "      <td>40463667.0</td>\n",
       "      <td>-374922.0</td>\n",
       "    </tr>\n",
       "    <tr>\n",
       "      <th>38905</th>\n",
       "      <td>90536</td>\n",
       "      <td>4 estrelas</td>\n",
       "      <td>239</td>\n",
       "      <td>1</td>\n",
       "      <td>2</td>\n",
       "      <td>Café da manha</td>\n",
       "      <td>Spain</td>\n",
       "      <td>Agência</td>\n",
       "      <td>Não</td>\n",
       "      <td>Amethyst</td>\n",
       "      <td>Sim</td>\n",
       "      <td>Não</td>\n",
       "      <td>Não</td>\n",
       "      <td>1 a 3</td>\n",
       "      <td>0</td>\n",
       "      <td>40463667.0</td>\n",
       "      <td>-374922.0</td>\n",
       "    </tr>\n",
       "    <tr>\n",
       "      <th>56749</th>\n",
       "      <td>70849</td>\n",
       "      <td>4 estrelas</td>\n",
       "      <td>221</td>\n",
       "      <td>3</td>\n",
       "      <td>2</td>\n",
       "      <td>Sem refeicao</td>\n",
       "      <td>Spain</td>\n",
       "      <td>Agência</td>\n",
       "      <td>Não</td>\n",
       "      <td>Amethyst</td>\n",
       "      <td>Sim</td>\n",
       "      <td>Não</td>\n",
       "      <td>Não</td>\n",
       "      <td>1 a 3</td>\n",
       "      <td>1</td>\n",
       "      <td>40463667.0</td>\n",
       "      <td>-374922.0</td>\n",
       "    </tr>\n",
       "    <tr>\n",
       "      <th>35691</th>\n",
       "      <td>96767</td>\n",
       "      <td>4 estrelas</td>\n",
       "      <td>285</td>\n",
       "      <td>3</td>\n",
       "      <td>2</td>\n",
       "      <td>Sem refeicao</td>\n",
       "      <td>Spain</td>\n",
       "      <td>Agência</td>\n",
       "      <td>Não</td>\n",
       "      <td>Amethyst</td>\n",
       "      <td>Sim</td>\n",
       "      <td>Não</td>\n",
       "      <td>Não</td>\n",
       "      <td>1 a 3</td>\n",
       "      <td>0</td>\n",
       "      <td>40463667.0</td>\n",
       "      <td>-374922.0</td>\n",
       "    </tr>\n",
       "    <tr>\n",
       "      <th>12238</th>\n",
       "      <td>42507</td>\n",
       "      <td>4 estrelas</td>\n",
       "      <td>75</td>\n",
       "      <td>6</td>\n",
       "      <td>2</td>\n",
       "      <td>Café da manha</td>\n",
       "      <td>France</td>\n",
       "      <td>Agência</td>\n",
       "      <td>Não</td>\n",
       "      <td>Amethyst</td>\n",
       "      <td>Sim</td>\n",
       "      <td>Não</td>\n",
       "      <td>Não</td>\n",
       "      <td>1 a 3</td>\n",
       "      <td>0</td>\n",
       "      <td>46227638.0</td>\n",
       "      <td>2213749.0</td>\n",
       "    </tr>\n",
       "    <tr>\n",
       "      <th>38740</th>\n",
       "      <td>6038</td>\n",
       "      <td>5 estrelas</td>\n",
       "      <td>245</td>\n",
       "      <td>8</td>\n",
       "      <td>2</td>\n",
       "      <td>Café da manha</td>\n",
       "      <td>Ireland</td>\n",
       "      <td>Agência</td>\n",
       "      <td>Não</td>\n",
       "      <td>Amethyst</td>\n",
       "      <td>Sim</td>\n",
       "      <td>Não</td>\n",
       "      <td>Não</td>\n",
       "      <td>1 a 3</td>\n",
       "      <td>0</td>\n",
       "      <td>5341291.0</td>\n",
       "      <td>-824389.0</td>\n",
       "    </tr>\n",
       "    <tr>\n",
       "      <th>71864</th>\n",
       "      <td>33931</td>\n",
       "      <td>5 estrelas</td>\n",
       "      <td>37</td>\n",
       "      <td>7</td>\n",
       "      <td>2</td>\n",
       "      <td>Café da manha</td>\n",
       "      <td>Finland</td>\n",
       "      <td>Agência</td>\n",
       "      <td>Não</td>\n",
       "      <td>Pink Sapphire</td>\n",
       "      <td>Sim</td>\n",
       "      <td>Não</td>\n",
       "      <td>Não</td>\n",
       "      <td>1 a 3</td>\n",
       "      <td>0</td>\n",
       "      <td>6192411.0</td>\n",
       "      <td>25748151.0</td>\n",
       "    </tr>\n",
       "  </tbody>\n",
       "</table>\n",
       "</div>"
      ],
      "text/plain": [
       "          id classificacao_do_hotel  meses_da_reserva_ate_o_check_in  \\\n",
       "18488  95082             4 estrelas                               97   \n",
       "50270  99797             4 estrelas                              101   \n",
       "35991  83726             4 estrelas                              179   \n",
       "16894   6389             5 estrelas                              280   \n",
       "38905  90536             4 estrelas                              239   \n",
       "56749  70849             4 estrelas                              221   \n",
       "35691  96767             4 estrelas                              285   \n",
       "12238  42507             4 estrelas                               75   \n",
       "38740   6038             5 estrelas                              245   \n",
       "71864  33931             5 estrelas                               37   \n",
       "\n",
       "       numero_de_pernoites_reservadas  numero_de_hospedes  \\\n",
       "18488                               3                   2   \n",
       "50270                            1109                   2   \n",
       "35991                               1                   2   \n",
       "16894                               7                   2   \n",
       "38905                               1                   2   \n",
       "56749                               3                   2   \n",
       "35691                               3                   2   \n",
       "12238                               6                   2   \n",
       "38740                               8                   2   \n",
       "71864                               7                   2   \n",
       "\n",
       "      regime_de_alimentacao nacionalidade forma_de_reserva  \\\n",
       "18488          Sem refeicao         Spain          Agência   \n",
       "50270         Café da manha       Austria          Agência   \n",
       "35991         Café da manha         Spain           Balcão   \n",
       "16894         Café da manha         Spain          Agência   \n",
       "38905         Café da manha         Spain          Agência   \n",
       "56749          Sem refeicao         Spain          Agência   \n",
       "35691          Sem refeicao         Spain          Agência   \n",
       "12238         Café da manha        France          Agência   \n",
       "38740         Café da manha       Ireland          Agência   \n",
       "71864         Café da manha       Finland          Agência   \n",
       "\n",
       "      ja_se_hospedou_anterioremente tipo_do_quarto_reservado  \\\n",
       "18488                           Não                 Amethyst   \n",
       "50270                           Não            Green Emerald   \n",
       "35991                           Não                 Amethyst   \n",
       "16894                           Não            Green Emerald   \n",
       "38905                           Não                 Amethyst   \n",
       "56749                           Não                 Amethyst   \n",
       "35691                           Não                 Amethyst   \n",
       "12238                           Não                 Amethyst   \n",
       "38740                           Não                 Amethyst   \n",
       "71864                           Não            Pink Sapphire   \n",
       "\n",
       "      reserva_feita_por_agencia_de_turismo reserva_feita_por_empresa  \\\n",
       "18488                                  Sim                       Não   \n",
       "50270                                  Sim                       Não   \n",
       "35991                                  Sim                       Não   \n",
       "16894                                  Sim                       Não   \n",
       "38905                                  Sim                       Não   \n",
       "56749                                  Sim                       Não   \n",
       "35691                                  Sim                       Não   \n",
       "12238                                  Sim                       Não   \n",
       "38740                                  Sim                       Não   \n",
       "71864                                  Sim                       Não   \n",
       "\n",
       "      reserva_com_estacionamento reserva_com_observacoes  reserva_cancelada  \\\n",
       "18488                        Sim                   1 a 3                  0   \n",
       "50270                        Não                   1 a 3                  0   \n",
       "35991                        Não                   1 a 3                  0   \n",
       "16894                        Não                   1 a 3                  1   \n",
       "38905                        Não                   1 a 3                  0   \n",
       "56749                        Não                   1 a 3                  1   \n",
       "35691                        Não                   1 a 3                  0   \n",
       "12238                        Não                   1 a 3                  0   \n",
       "38740                        Não                   1 a 3                  0   \n",
       "71864                        Não                   1 a 3                  0   \n",
       "\n",
       "         latitude   longitude  \n",
       "18488  40463667.0   -374922.0  \n",
       "50270  47516231.0  14550072.0  \n",
       "35991  40463667.0   -374922.0  \n",
       "16894  40463667.0   -374922.0  \n",
       "38905  40463667.0   -374922.0  \n",
       "56749  40463667.0   -374922.0  \n",
       "35691  40463667.0   -374922.0  \n",
       "12238  46227638.0   2213749.0  \n",
       "38740   5341291.0   -824389.0  \n",
       "71864   6192411.0  25748151.0  "
      ]
     },
     "execution_count": 14,
     "metadata": {},
     "output_type": "execute_result"
    }
   ],
   "source": [
    "df1[df1['meses_da_reserva_ate_o_check_in']>24].sample(10)"
   ]
  },
  {
   "cell_type": "code",
   "execution_count": 15,
   "id": "2b3a2dcd",
   "metadata": {
    "ExecuteTime": {
     "end_time": "2023-03-26T16:26:39.712141Z",
     "start_time": "2023-03-26T16:26:39.636921Z"
    }
   },
   "outputs": [
    {
     "data": {
      "text/html": [
       "<div>\n",
       "<style scoped>\n",
       "    .dataframe tbody tr th:only-of-type {\n",
       "        vertical-align: middle;\n",
       "    }\n",
       "\n",
       "    .dataframe tbody tr th {\n",
       "        vertical-align: top;\n",
       "    }\n",
       "\n",
       "    .dataframe thead th {\n",
       "        text-align: right;\n",
       "    }\n",
       "</style>\n",
       "<table border=\"1\" class=\"dataframe\">\n",
       "  <thead>\n",
       "    <tr style=\"text-align: right;\">\n",
       "      <th></th>\n",
       "      <th>reserva_cancelada</th>\n",
       "      <th>id</th>\n",
       "    </tr>\n",
       "  </thead>\n",
       "  <tbody>\n",
       "    <tr>\n",
       "      <th>0</th>\n",
       "      <td>0</td>\n",
       "      <td>757</td>\n",
       "    </tr>\n",
       "    <tr>\n",
       "      <th>1</th>\n",
       "      <td>1</td>\n",
       "      <td>437</td>\n",
       "    </tr>\n",
       "  </tbody>\n",
       "</table>\n",
       "</div>"
      ],
      "text/plain": [
       "   reserva_cancelada   id\n",
       "0                  0  757\n",
       "1                  1  437"
      ]
     },
     "execution_count": 15,
     "metadata": {},
     "output_type": "execute_result"
    }
   ],
   "source": [
    "df1[df1['meses_da_reserva_ate_o_check_in']>60][['id','reserva_cancelada']].groupby('reserva_cancelada').count().reset_index()"
   ]
  },
  {
   "cell_type": "markdown",
   "id": "752d883d",
   "metadata": {},
   "source": [
    "### 1.7.2. numero_de_pernoites_reservadas"
   ]
  },
  {
   "cell_type": "code",
   "execution_count": 16,
   "id": "c4a30685",
   "metadata": {
    "ExecuteTime": {
     "end_time": "2023-03-26T16:26:39.810808Z",
     "start_time": "2023-03-26T16:26:39.715681Z"
    }
   },
   "outputs": [
    {
     "data": {
      "text/html": [
       "<div>\n",
       "<style scoped>\n",
       "    .dataframe tbody tr th:only-of-type {\n",
       "        vertical-align: middle;\n",
       "    }\n",
       "\n",
       "    .dataframe tbody tr th {\n",
       "        vertical-align: top;\n",
       "    }\n",
       "\n",
       "    .dataframe thead th {\n",
       "        text-align: right;\n",
       "    }\n",
       "</style>\n",
       "<table border=\"1\" class=\"dataframe\">\n",
       "  <thead>\n",
       "    <tr style=\"text-align: right;\">\n",
       "      <th></th>\n",
       "      <th>id</th>\n",
       "      <th>classificacao_do_hotel</th>\n",
       "      <th>meses_da_reserva_ate_o_check_in</th>\n",
       "      <th>numero_de_pernoites_reservadas</th>\n",
       "      <th>numero_de_hospedes</th>\n",
       "      <th>regime_de_alimentacao</th>\n",
       "      <th>nacionalidade</th>\n",
       "      <th>forma_de_reserva</th>\n",
       "      <th>ja_se_hospedou_anterioremente</th>\n",
       "      <th>tipo_do_quarto_reservado</th>\n",
       "      <th>reserva_feita_por_agencia_de_turismo</th>\n",
       "      <th>reserva_feita_por_empresa</th>\n",
       "      <th>reserva_com_estacionamento</th>\n",
       "      <th>reserva_com_observacoes</th>\n",
       "      <th>reserva_cancelada</th>\n",
       "      <th>latitude</th>\n",
       "      <th>longitude</th>\n",
       "    </tr>\n",
       "  </thead>\n",
       "  <tbody>\n",
       "    <tr>\n",
       "      <th>63713</th>\n",
       "      <td>119194</td>\n",
       "      <td>4 estrelas</td>\n",
       "      <td>4</td>\n",
       "      <td>1002</td>\n",
       "      <td>3</td>\n",
       "      <td>Café da manha</td>\n",
       "      <td>Spain</td>\n",
       "      <td>Agência</td>\n",
       "      <td>Não</td>\n",
       "      <td>Amethyst</td>\n",
       "      <td>Sim</td>\n",
       "      <td>Não</td>\n",
       "      <td>Não</td>\n",
       "      <td>1 a 3</td>\n",
       "      <td>0</td>\n",
       "      <td>40463667.0</td>\n",
       "      <td>-374922.0</td>\n",
       "    </tr>\n",
       "    <tr>\n",
       "      <th>8118</th>\n",
       "      <td>89397</td>\n",
       "      <td>4 estrelas</td>\n",
       "      <td>1</td>\n",
       "      <td>1034</td>\n",
       "      <td>1</td>\n",
       "      <td>Café da manha</td>\n",
       "      <td>Spain</td>\n",
       "      <td>B2B</td>\n",
       "      <td>Sim</td>\n",
       "      <td>Green Emerald</td>\n",
       "      <td>Não</td>\n",
       "      <td>Sim</td>\n",
       "      <td>Sim</td>\n",
       "      <td>1 a 3</td>\n",
       "      <td>0</td>\n",
       "      <td>40463667.0</td>\n",
       "      <td>-374922.0</td>\n",
       "    </tr>\n",
       "    <tr>\n",
       "      <th>27756</th>\n",
       "      <td>24292</td>\n",
       "      <td>5 estrelas</td>\n",
       "      <td>2</td>\n",
       "      <td>922</td>\n",
       "      <td>2</td>\n",
       "      <td>Café da manha</td>\n",
       "      <td>Spain</td>\n",
       "      <td>B2B</td>\n",
       "      <td>Não</td>\n",
       "      <td>Amethyst</td>\n",
       "      <td>Não</td>\n",
       "      <td>Não</td>\n",
       "      <td>Não</td>\n",
       "      <td>1 a 3</td>\n",
       "      <td>0</td>\n",
       "      <td>40463667.0</td>\n",
       "      <td>-374922.0</td>\n",
       "    </tr>\n",
       "    <tr>\n",
       "      <th>67805</th>\n",
       "      <td>111791</td>\n",
       "      <td>4 estrelas</td>\n",
       "      <td>3</td>\n",
       "      <td>492</td>\n",
       "      <td>2</td>\n",
       "      <td>Café da manha</td>\n",
       "      <td>France</td>\n",
       "      <td>Agência</td>\n",
       "      <td>Não</td>\n",
       "      <td>Amethyst</td>\n",
       "      <td>Sim</td>\n",
       "      <td>Não</td>\n",
       "      <td>Não</td>\n",
       "      <td>Nenhuma</td>\n",
       "      <td>0</td>\n",
       "      <td>46227638.0</td>\n",
       "      <td>2213749.0</td>\n",
       "    </tr>\n",
       "    <tr>\n",
       "      <th>44250</th>\n",
       "      <td>37331</td>\n",
       "      <td>5 estrelas</td>\n",
       "      <td>5</td>\n",
       "      <td>371</td>\n",
       "      <td>2</td>\n",
       "      <td>Café da manha e jantar</td>\n",
       "      <td>Spain</td>\n",
       "      <td>Agência</td>\n",
       "      <td>Não</td>\n",
       "      <td>Green Emerald</td>\n",
       "      <td>Sim</td>\n",
       "      <td>Não</td>\n",
       "      <td>Não</td>\n",
       "      <td>Nenhuma</td>\n",
       "      <td>0</td>\n",
       "      <td>40463667.0</td>\n",
       "      <td>-374922.0</td>\n",
       "    </tr>\n",
       "    <tr>\n",
       "      <th>66747</th>\n",
       "      <td>81980</td>\n",
       "      <td>4 estrelas</td>\n",
       "      <td>1</td>\n",
       "      <td>575</td>\n",
       "      <td>1</td>\n",
       "      <td>Café da manha</td>\n",
       "      <td>Spain</td>\n",
       "      <td>B2B</td>\n",
       "      <td>Não</td>\n",
       "      <td>Amethyst</td>\n",
       "      <td>Não</td>\n",
       "      <td>Sim</td>\n",
       "      <td>Não</td>\n",
       "      <td>Nenhuma</td>\n",
       "      <td>0</td>\n",
       "      <td>40463667.0</td>\n",
       "      <td>-374922.0</td>\n",
       "    </tr>\n",
       "    <tr>\n",
       "      <th>16765</th>\n",
       "      <td>13564</td>\n",
       "      <td>5 estrelas</td>\n",
       "      <td>1</td>\n",
       "      <td>816</td>\n",
       "      <td>1</td>\n",
       "      <td>Café da manha</td>\n",
       "      <td>Spain</td>\n",
       "      <td>B2B</td>\n",
       "      <td>Não</td>\n",
       "      <td>Amethyst</td>\n",
       "      <td>Não</td>\n",
       "      <td>Sim</td>\n",
       "      <td>Não</td>\n",
       "      <td>Nenhuma</td>\n",
       "      <td>0</td>\n",
       "      <td>40463667.0</td>\n",
       "      <td>-374922.0</td>\n",
       "    </tr>\n",
       "    <tr>\n",
       "      <th>13005</th>\n",
       "      <td>10382</td>\n",
       "      <td>5 estrelas</td>\n",
       "      <td>2</td>\n",
       "      <td>1064</td>\n",
       "      <td>2</td>\n",
       "      <td>Café da manha</td>\n",
       "      <td>Spain</td>\n",
       "      <td>Agência</td>\n",
       "      <td>Não</td>\n",
       "      <td>Amethyst</td>\n",
       "      <td>Sim</td>\n",
       "      <td>Não</td>\n",
       "      <td>Não</td>\n",
       "      <td>Nenhuma</td>\n",
       "      <td>1</td>\n",
       "      <td>40463667.0</td>\n",
       "      <td>-374922.0</td>\n",
       "    </tr>\n",
       "    <tr>\n",
       "      <th>57719</th>\n",
       "      <td>77291</td>\n",
       "      <td>4 estrelas</td>\n",
       "      <td>1</td>\n",
       "      <td>833</td>\n",
       "      <td>2</td>\n",
       "      <td>Sem refeicao</td>\n",
       "      <td>Spain</td>\n",
       "      <td>Agência</td>\n",
       "      <td>Não</td>\n",
       "      <td>Amethyst</td>\n",
       "      <td>Sim</td>\n",
       "      <td>Não</td>\n",
       "      <td>Não</td>\n",
       "      <td>Nenhuma</td>\n",
       "      <td>0</td>\n",
       "      <td>40463667.0</td>\n",
       "      <td>-374922.0</td>\n",
       "    </tr>\n",
       "    <tr>\n",
       "      <th>42419</th>\n",
       "      <td>4086</td>\n",
       "      <td>5 estrelas</td>\n",
       "      <td>5</td>\n",
       "      <td>1130</td>\n",
       "      <td>2</td>\n",
       "      <td>Café da manha e jantar</td>\n",
       "      <td>Spain</td>\n",
       "      <td>Agência</td>\n",
       "      <td>Não</td>\n",
       "      <td>Amethyst</td>\n",
       "      <td>Não</td>\n",
       "      <td>Não</td>\n",
       "      <td>Não</td>\n",
       "      <td>Nenhuma</td>\n",
       "      <td>1</td>\n",
       "      <td>40463667.0</td>\n",
       "      <td>-374922.0</td>\n",
       "    </tr>\n",
       "  </tbody>\n",
       "</table>\n",
       "</div>"
      ],
      "text/plain": [
       "           id classificacao_do_hotel  meses_da_reserva_ate_o_check_in  \\\n",
       "63713  119194             4 estrelas                                4   \n",
       "8118    89397             4 estrelas                                1   \n",
       "27756   24292             5 estrelas                                2   \n",
       "67805  111791             4 estrelas                                3   \n",
       "44250   37331             5 estrelas                                5   \n",
       "66747   81980             4 estrelas                                1   \n",
       "16765   13564             5 estrelas                                1   \n",
       "13005   10382             5 estrelas                                2   \n",
       "57719   77291             4 estrelas                                1   \n",
       "42419    4086             5 estrelas                                5   \n",
       "\n",
       "       numero_de_pernoites_reservadas  numero_de_hospedes  \\\n",
       "63713                            1002                   3   \n",
       "8118                             1034                   1   \n",
       "27756                             922                   2   \n",
       "67805                             492                   2   \n",
       "44250                             371                   2   \n",
       "66747                             575                   1   \n",
       "16765                             816                   1   \n",
       "13005                            1064                   2   \n",
       "57719                             833                   2   \n",
       "42419                            1130                   2   \n",
       "\n",
       "        regime_de_alimentacao nacionalidade forma_de_reserva  \\\n",
       "63713           Café da manha         Spain          Agência   \n",
       "8118            Café da manha         Spain              B2B   \n",
       "27756           Café da manha         Spain              B2B   \n",
       "67805           Café da manha        France          Agência   \n",
       "44250  Café da manha e jantar         Spain          Agência   \n",
       "66747           Café da manha         Spain              B2B   \n",
       "16765           Café da manha         Spain              B2B   \n",
       "13005           Café da manha         Spain          Agência   \n",
       "57719            Sem refeicao         Spain          Agência   \n",
       "42419  Café da manha e jantar         Spain          Agência   \n",
       "\n",
       "      ja_se_hospedou_anterioremente tipo_do_quarto_reservado  \\\n",
       "63713                           Não                 Amethyst   \n",
       "8118                            Sim            Green Emerald   \n",
       "27756                           Não                 Amethyst   \n",
       "67805                           Não                 Amethyst   \n",
       "44250                           Não            Green Emerald   \n",
       "66747                           Não                 Amethyst   \n",
       "16765                           Não                 Amethyst   \n",
       "13005                           Não                 Amethyst   \n",
       "57719                           Não                 Amethyst   \n",
       "42419                           Não                 Amethyst   \n",
       "\n",
       "      reserva_feita_por_agencia_de_turismo reserva_feita_por_empresa  \\\n",
       "63713                                  Sim                       Não   \n",
       "8118                                   Não                       Sim   \n",
       "27756                                  Não                       Não   \n",
       "67805                                  Sim                       Não   \n",
       "44250                                  Sim                       Não   \n",
       "66747                                  Não                       Sim   \n",
       "16765                                  Não                       Sim   \n",
       "13005                                  Sim                       Não   \n",
       "57719                                  Sim                       Não   \n",
       "42419                                  Não                       Não   \n",
       "\n",
       "      reserva_com_estacionamento reserva_com_observacoes  reserva_cancelada  \\\n",
       "63713                        Não                   1 a 3                  0   \n",
       "8118                         Sim                   1 a 3                  0   \n",
       "27756                        Não                   1 a 3                  0   \n",
       "67805                        Não                 Nenhuma                  0   \n",
       "44250                        Não                 Nenhuma                  0   \n",
       "66747                        Não                 Nenhuma                  0   \n",
       "16765                        Não                 Nenhuma                  0   \n",
       "13005                        Não                 Nenhuma                  1   \n",
       "57719                        Não                 Nenhuma                  0   \n",
       "42419                        Não                 Nenhuma                  1   \n",
       "\n",
       "         latitude  longitude  \n",
       "63713  40463667.0  -374922.0  \n",
       "8118   40463667.0  -374922.0  \n",
       "27756  40463667.0  -374922.0  \n",
       "67805  46227638.0  2213749.0  \n",
       "44250  40463667.0  -374922.0  \n",
       "66747  40463667.0  -374922.0  \n",
       "16765  40463667.0  -374922.0  \n",
       "13005  40463667.0  -374922.0  \n",
       "57719  40463667.0  -374922.0  \n",
       "42419  40463667.0  -374922.0  "
      ]
     },
     "execution_count": 16,
     "metadata": {},
     "output_type": "execute_result"
    }
   ],
   "source": [
    "df1[df1['numero_de_pernoites_reservadas']>365].sample(10)"
   ]
  },
  {
   "cell_type": "code",
   "execution_count": 17,
   "id": "1f2dc0c2",
   "metadata": {
    "ExecuteTime": {
     "end_time": "2023-03-26T16:26:39.879029Z",
     "start_time": "2023-03-26T16:26:39.813571Z"
    }
   },
   "outputs": [
    {
     "data": {
      "text/html": [
       "<div>\n",
       "<style scoped>\n",
       "    .dataframe tbody tr th:only-of-type {\n",
       "        vertical-align: middle;\n",
       "    }\n",
       "\n",
       "    .dataframe tbody tr th {\n",
       "        vertical-align: top;\n",
       "    }\n",
       "\n",
       "    .dataframe thead th {\n",
       "        text-align: right;\n",
       "    }\n",
       "</style>\n",
       "<table border=\"1\" class=\"dataframe\">\n",
       "  <thead>\n",
       "    <tr style=\"text-align: right;\">\n",
       "      <th></th>\n",
       "      <th>reserva_cancelada</th>\n",
       "      <th>id</th>\n",
       "    </tr>\n",
       "  </thead>\n",
       "  <tbody>\n",
       "    <tr>\n",
       "      <th>0</th>\n",
       "      <td>0</td>\n",
       "      <td>660</td>\n",
       "    </tr>\n",
       "    <tr>\n",
       "      <th>1</th>\n",
       "      <td>1</td>\n",
       "      <td>375</td>\n",
       "    </tr>\n",
       "  </tbody>\n",
       "</table>\n",
       "</div>"
      ],
      "text/plain": [
       "   reserva_cancelada   id\n",
       "0                  0  660\n",
       "1                  1  375"
      ]
     },
     "execution_count": 17,
     "metadata": {},
     "output_type": "execute_result"
    }
   ],
   "source": [
    "df1[df1['numero_de_pernoites_reservadas']>365][['id','reserva_cancelada']].groupby('reserva_cancelada').count().reset_index()"
   ]
  },
  {
   "cell_type": "code",
   "execution_count": 18,
   "id": "2276d3df",
   "metadata": {
    "ExecuteTime": {
     "end_time": "2023-03-26T16:26:39.975082Z",
     "start_time": "2023-03-26T16:26:39.881941Z"
    }
   },
   "outputs": [
    {
     "data": {
      "text/html": [
       "<div>\n",
       "<style scoped>\n",
       "    .dataframe tbody tr th:only-of-type {\n",
       "        vertical-align: middle;\n",
       "    }\n",
       "\n",
       "    .dataframe tbody tr th {\n",
       "        vertical-align: top;\n",
       "    }\n",
       "\n",
       "    .dataframe thead th {\n",
       "        text-align: right;\n",
       "    }\n",
       "</style>\n",
       "<table border=\"1\" class=\"dataframe\">\n",
       "  <thead>\n",
       "    <tr style=\"text-align: right;\">\n",
       "      <th></th>\n",
       "      <th>reserva_cancelada</th>\n",
       "      <th>id</th>\n",
       "    </tr>\n",
       "  </thead>\n",
       "  <tbody>\n",
       "    <tr>\n",
       "      <th>0</th>\n",
       "      <td>0</td>\n",
       "      <td>391</td>\n",
       "    </tr>\n",
       "    <tr>\n",
       "      <th>1</th>\n",
       "      <td>1</td>\n",
       "      <td>12</td>\n",
       "    </tr>\n",
       "  </tbody>\n",
       "</table>\n",
       "</div>"
      ],
      "text/plain": [
       "   reserva_cancelada   id\n",
       "0                  0  391\n",
       "1                  1   12"
      ]
     },
     "execution_count": 18,
     "metadata": {},
     "output_type": "execute_result"
    }
   ],
   "source": [
    "df1[df1['numero_de_pernoites_reservadas']==0][['id','reserva_cancelada']].groupby('reserva_cancelada').count().reset_index()"
   ]
  },
  {
   "cell_type": "markdown",
   "id": "8fe08941",
   "metadata": {},
   "source": [
    "### 1.7.3. numero_de_hospedes"
   ]
  },
  {
   "cell_type": "code",
   "execution_count": 19,
   "id": "257905ad",
   "metadata": {
    "ExecuteTime": {
     "end_time": "2023-03-26T16:26:40.079118Z",
     "start_time": "2023-03-26T16:26:39.977453Z"
    }
   },
   "outputs": [
    {
     "data": {
      "text/html": [
       "<div>\n",
       "<style scoped>\n",
       "    .dataframe tbody tr th:only-of-type {\n",
       "        vertical-align: middle;\n",
       "    }\n",
       "\n",
       "    .dataframe tbody tr th {\n",
       "        vertical-align: top;\n",
       "    }\n",
       "\n",
       "    .dataframe thead th {\n",
       "        text-align: right;\n",
       "    }\n",
       "</style>\n",
       "<table border=\"1\" class=\"dataframe\">\n",
       "  <thead>\n",
       "    <tr style=\"text-align: right;\">\n",
       "      <th></th>\n",
       "      <th>id</th>\n",
       "      <th>classificacao_do_hotel</th>\n",
       "      <th>meses_da_reserva_ate_o_check_in</th>\n",
       "      <th>numero_de_pernoites_reservadas</th>\n",
       "      <th>numero_de_hospedes</th>\n",
       "      <th>regime_de_alimentacao</th>\n",
       "      <th>nacionalidade</th>\n",
       "      <th>forma_de_reserva</th>\n",
       "      <th>ja_se_hospedou_anterioremente</th>\n",
       "      <th>tipo_do_quarto_reservado</th>\n",
       "      <th>reserva_feita_por_agencia_de_turismo</th>\n",
       "      <th>reserva_feita_por_empresa</th>\n",
       "      <th>reserva_com_estacionamento</th>\n",
       "      <th>reserva_com_observacoes</th>\n",
       "      <th>reserva_cancelada</th>\n",
       "      <th>latitude</th>\n",
       "      <th>longitude</th>\n",
       "    </tr>\n",
       "  </thead>\n",
       "  <tbody>\n",
       "    <tr>\n",
       "      <th>75</th>\n",
       "      <td>15778</td>\n",
       "      <td>5 estrelas</td>\n",
       "      <td>3</td>\n",
       "      <td>5</td>\n",
       "      <td>1020</td>\n",
       "      <td>Café da manha</td>\n",
       "      <td>Spain</td>\n",
       "      <td>Agência</td>\n",
       "      <td>Não</td>\n",
       "      <td>Amethyst</td>\n",
       "      <td>Sim</td>\n",
       "      <td>Não</td>\n",
       "      <td>Não</td>\n",
       "      <td>1 a 3</td>\n",
       "      <td>0</td>\n",
       "      <td>40463667.0</td>\n",
       "      <td>-374922.0</td>\n",
       "    </tr>\n",
       "    <tr>\n",
       "      <th>102</th>\n",
       "      <td>2436</td>\n",
       "      <td>5 estrelas</td>\n",
       "      <td>11</td>\n",
       "      <td>7</td>\n",
       "      <td>20</td>\n",
       "      <td>Café da manha</td>\n",
       "      <td>Spain</td>\n",
       "      <td>Balcão</td>\n",
       "      <td>Não</td>\n",
       "      <td>Green Emerald</td>\n",
       "      <td>Não</td>\n",
       "      <td>Não</td>\n",
       "      <td>Não</td>\n",
       "      <td>Nenhuma</td>\n",
       "      <td>1</td>\n",
       "      <td>40463667.0</td>\n",
       "      <td>-374922.0</td>\n",
       "    </tr>\n",
       "    <tr>\n",
       "      <th>179</th>\n",
       "      <td>73042</td>\n",
       "      <td>4 estrelas</td>\n",
       "      <td>75</td>\n",
       "      <td>6</td>\n",
       "      <td>758</td>\n",
       "      <td>Café da manha</td>\n",
       "      <td>Poland</td>\n",
       "      <td>Agência</td>\n",
       "      <td>Não</td>\n",
       "      <td>Green Emerald</td>\n",
       "      <td>Sim</td>\n",
       "      <td>Não</td>\n",
       "      <td>Não</td>\n",
       "      <td>Nenhuma</td>\n",
       "      <td>1</td>\n",
       "      <td>51919438.0</td>\n",
       "      <td>19145136.0</td>\n",
       "    </tr>\n",
       "    <tr>\n",
       "      <th>187</th>\n",
       "      <td>81884</td>\n",
       "      <td>4 estrelas</td>\n",
       "      <td>2</td>\n",
       "      <td>3</td>\n",
       "      <td>470</td>\n",
       "      <td>Café da manha</td>\n",
       "      <td>Spain</td>\n",
       "      <td>Agência</td>\n",
       "      <td>Não</td>\n",
       "      <td>Amethyst</td>\n",
       "      <td>Sim</td>\n",
       "      <td>Não</td>\n",
       "      <td>Não</td>\n",
       "      <td>Nenhuma</td>\n",
       "      <td>0</td>\n",
       "      <td>40463667.0</td>\n",
       "      <td>-374922.0</td>\n",
       "    </tr>\n",
       "    <tr>\n",
       "      <th>251</th>\n",
       "      <td>83293</td>\n",
       "      <td>4 estrelas</td>\n",
       "      <td>1</td>\n",
       "      <td>2</td>\n",
       "      <td>381</td>\n",
       "      <td>Café da manha</td>\n",
       "      <td>Spain</td>\n",
       "      <td>B2B</td>\n",
       "      <td>Sim</td>\n",
       "      <td>Amethyst</td>\n",
       "      <td>Não</td>\n",
       "      <td>Sim</td>\n",
       "      <td>Não</td>\n",
       "      <td>1 a 3</td>\n",
       "      <td>0</td>\n",
       "      <td>40463667.0</td>\n",
       "      <td>-374922.0</td>\n",
       "    </tr>\n",
       "    <tr>\n",
       "      <th>...</th>\n",
       "      <td>...</td>\n",
       "      <td>...</td>\n",
       "      <td>...</td>\n",
       "      <td>...</td>\n",
       "      <td>...</td>\n",
       "      <td>...</td>\n",
       "      <td>...</td>\n",
       "      <td>...</td>\n",
       "      <td>...</td>\n",
       "      <td>...</td>\n",
       "      <td>...</td>\n",
       "      <td>...</td>\n",
       "      <td>...</td>\n",
       "      <td>...</td>\n",
       "      <td>...</td>\n",
       "      <td>...</td>\n",
       "      <td>...</td>\n",
       "    </tr>\n",
       "    <tr>\n",
       "      <th>71702</th>\n",
       "      <td>52893</td>\n",
       "      <td>4 estrelas</td>\n",
       "      <td>1</td>\n",
       "      <td>1</td>\n",
       "      <td>269</td>\n",
       "      <td>Café da manha</td>\n",
       "      <td>Spain</td>\n",
       "      <td>B2B</td>\n",
       "      <td>Não</td>\n",
       "      <td>Amethyst</td>\n",
       "      <td>Sim</td>\n",
       "      <td>Não</td>\n",
       "      <td>Não</td>\n",
       "      <td>Nenhuma</td>\n",
       "      <td>1</td>\n",
       "      <td>40463667.0</td>\n",
       "      <td>-374922.0</td>\n",
       "    </tr>\n",
       "    <tr>\n",
       "      <th>71711</th>\n",
       "      <td>8940</td>\n",
       "      <td>5 estrelas</td>\n",
       "      <td>5</td>\n",
       "      <td>2</td>\n",
       "      <td>502</td>\n",
       "      <td>Café da manha</td>\n",
       "      <td>United Kingdom</td>\n",
       "      <td>Agência</td>\n",
       "      <td>Não</td>\n",
       "      <td>Green Emerald</td>\n",
       "      <td>Sim</td>\n",
       "      <td>Não</td>\n",
       "      <td>Não</td>\n",
       "      <td>1 a 3</td>\n",
       "      <td>1</td>\n",
       "      <td>55378051.0</td>\n",
       "      <td>-3435973.0</td>\n",
       "    </tr>\n",
       "    <tr>\n",
       "      <th>71848</th>\n",
       "      <td>20468</td>\n",
       "      <td>5 estrelas</td>\n",
       "      <td>1</td>\n",
       "      <td>1</td>\n",
       "      <td>166</td>\n",
       "      <td>Café da manha</td>\n",
       "      <td>Spain</td>\n",
       "      <td>Agência</td>\n",
       "      <td>Sim</td>\n",
       "      <td>Amethyst</td>\n",
       "      <td>Não</td>\n",
       "      <td>Sim</td>\n",
       "      <td>Sim</td>\n",
       "      <td>1 a 3</td>\n",
       "      <td>0</td>\n",
       "      <td>40463667.0</td>\n",
       "      <td>-374922.0</td>\n",
       "    </tr>\n",
       "    <tr>\n",
       "      <th>71975</th>\n",
       "      <td>43193</td>\n",
       "      <td>4 estrelas</td>\n",
       "      <td>2</td>\n",
       "      <td>1</td>\n",
       "      <td>780</td>\n",
       "      <td>Café da manha e jantar</td>\n",
       "      <td>Spain</td>\n",
       "      <td>Agência</td>\n",
       "      <td>Não</td>\n",
       "      <td>Amethyst</td>\n",
       "      <td>Sim</td>\n",
       "      <td>Não</td>\n",
       "      <td>Não</td>\n",
       "      <td>Nenhuma</td>\n",
       "      <td>0</td>\n",
       "      <td>40463667.0</td>\n",
       "      <td>-374922.0</td>\n",
       "    </tr>\n",
       "    <tr>\n",
       "      <th>72056</th>\n",
       "      <td>8786</td>\n",
       "      <td>5 estrelas</td>\n",
       "      <td>9</td>\n",
       "      <td>4</td>\n",
       "      <td>1108</td>\n",
       "      <td>Café da manha</td>\n",
       "      <td>Spain</td>\n",
       "      <td>Agência</td>\n",
       "      <td>Não</td>\n",
       "      <td>Amethyst</td>\n",
       "      <td>Sim</td>\n",
       "      <td>Não</td>\n",
       "      <td>Não</td>\n",
       "      <td>Nenhuma</td>\n",
       "      <td>1</td>\n",
       "      <td>40463667.0</td>\n",
       "      <td>-374922.0</td>\n",
       "    </tr>\n",
       "  </tbody>\n",
       "</table>\n",
       "<p>1442 rows × 17 columns</p>\n",
       "</div>"
      ],
      "text/plain": [
       "          id classificacao_do_hotel  meses_da_reserva_ate_o_check_in  \\\n",
       "75     15778             5 estrelas                                3   \n",
       "102     2436             5 estrelas                               11   \n",
       "179    73042             4 estrelas                               75   \n",
       "187    81884             4 estrelas                                2   \n",
       "251    83293             4 estrelas                                1   \n",
       "...      ...                    ...                              ...   \n",
       "71702  52893             4 estrelas                                1   \n",
       "71711   8940             5 estrelas                                5   \n",
       "71848  20468             5 estrelas                                1   \n",
       "71975  43193             4 estrelas                                2   \n",
       "72056   8786             5 estrelas                                9   \n",
       "\n",
       "       numero_de_pernoites_reservadas  numero_de_hospedes  \\\n",
       "75                                  5                1020   \n",
       "102                                 7                  20   \n",
       "179                                 6                 758   \n",
       "187                                 3                 470   \n",
       "251                                 2                 381   \n",
       "...                               ...                 ...   \n",
       "71702                               1                 269   \n",
       "71711                               2                 502   \n",
       "71848                               1                 166   \n",
       "71975                               1                 780   \n",
       "72056                               4                1108   \n",
       "\n",
       "        regime_de_alimentacao   nacionalidade forma_de_reserva  \\\n",
       "75              Café da manha           Spain          Agência   \n",
       "102             Café da manha           Spain           Balcão   \n",
       "179             Café da manha          Poland          Agência   \n",
       "187             Café da manha           Spain          Agência   \n",
       "251             Café da manha           Spain              B2B   \n",
       "...                       ...             ...              ...   \n",
       "71702           Café da manha           Spain              B2B   \n",
       "71711           Café da manha  United Kingdom          Agência   \n",
       "71848           Café da manha           Spain          Agência   \n",
       "71975  Café da manha e jantar           Spain          Agência   \n",
       "72056           Café da manha           Spain          Agência   \n",
       "\n",
       "      ja_se_hospedou_anterioremente tipo_do_quarto_reservado  \\\n",
       "75                              Não                 Amethyst   \n",
       "102                             Não            Green Emerald   \n",
       "179                             Não            Green Emerald   \n",
       "187                             Não                 Amethyst   \n",
       "251                             Sim                 Amethyst   \n",
       "...                             ...                      ...   \n",
       "71702                           Não                 Amethyst   \n",
       "71711                           Não            Green Emerald   \n",
       "71848                           Sim                 Amethyst   \n",
       "71975                           Não                 Amethyst   \n",
       "72056                           Não                 Amethyst   \n",
       "\n",
       "      reserva_feita_por_agencia_de_turismo reserva_feita_por_empresa  \\\n",
       "75                                     Sim                       Não   \n",
       "102                                    Não                       Não   \n",
       "179                                    Sim                       Não   \n",
       "187                                    Sim                       Não   \n",
       "251                                    Não                       Sim   \n",
       "...                                    ...                       ...   \n",
       "71702                                  Sim                       Não   \n",
       "71711                                  Sim                       Não   \n",
       "71848                                  Não                       Sim   \n",
       "71975                                  Sim                       Não   \n",
       "72056                                  Sim                       Não   \n",
       "\n",
       "      reserva_com_estacionamento reserva_com_observacoes  reserva_cancelada  \\\n",
       "75                           Não                   1 a 3                  0   \n",
       "102                          Não                 Nenhuma                  1   \n",
       "179                          Não                 Nenhuma                  1   \n",
       "187                          Não                 Nenhuma                  0   \n",
       "251                          Não                   1 a 3                  0   \n",
       "...                          ...                     ...                ...   \n",
       "71702                        Não                 Nenhuma                  1   \n",
       "71711                        Não                   1 a 3                  1   \n",
       "71848                        Sim                   1 a 3                  0   \n",
       "71975                        Não                 Nenhuma                  0   \n",
       "72056                        Não                 Nenhuma                  1   \n",
       "\n",
       "         latitude   longitude  \n",
       "75     40463667.0   -374922.0  \n",
       "102    40463667.0   -374922.0  \n",
       "179    51919438.0  19145136.0  \n",
       "187    40463667.0   -374922.0  \n",
       "251    40463667.0   -374922.0  \n",
       "...           ...         ...  \n",
       "71702  40463667.0   -374922.0  \n",
       "71711  55378051.0  -3435973.0  \n",
       "71848  40463667.0   -374922.0  \n",
       "71975  40463667.0   -374922.0  \n",
       "72056  40463667.0   -374922.0  \n",
       "\n",
       "[1442 rows x 17 columns]"
      ]
     },
     "execution_count": 19,
     "metadata": {},
     "output_type": "execute_result"
    }
   ],
   "source": [
    "df1[df1['numero_de_hospedes']>10]"
   ]
  },
  {
   "cell_type": "code",
   "execution_count": 20,
   "id": "a73093d4",
   "metadata": {
    "ExecuteTime": {
     "end_time": "2023-03-26T16:26:40.135446Z",
     "start_time": "2023-03-26T16:26:40.081857Z"
    }
   },
   "outputs": [
    {
     "data": {
      "text/html": [
       "<div>\n",
       "<style scoped>\n",
       "    .dataframe tbody tr th:only-of-type {\n",
       "        vertical-align: middle;\n",
       "    }\n",
       "\n",
       "    .dataframe tbody tr th {\n",
       "        vertical-align: top;\n",
       "    }\n",
       "\n",
       "    .dataframe thead th {\n",
       "        text-align: right;\n",
       "    }\n",
       "</style>\n",
       "<table border=\"1\" class=\"dataframe\">\n",
       "  <thead>\n",
       "    <tr style=\"text-align: right;\">\n",
       "      <th></th>\n",
       "      <th>reserva_feita_por_empresa</th>\n",
       "      <th>id</th>\n",
       "    </tr>\n",
       "  </thead>\n",
       "  <tbody>\n",
       "    <tr>\n",
       "      <th>0</th>\n",
       "      <td>Não</td>\n",
       "      <td>1359</td>\n",
       "    </tr>\n",
       "    <tr>\n",
       "      <th>1</th>\n",
       "      <td>Sim</td>\n",
       "      <td>83</td>\n",
       "    </tr>\n",
       "  </tbody>\n",
       "</table>\n",
       "</div>"
      ],
      "text/plain": [
       "  reserva_feita_por_empresa    id\n",
       "0                       Não  1359\n",
       "1                       Sim    83"
      ]
     },
     "execution_count": 20,
     "metadata": {},
     "output_type": "execute_result"
    }
   ],
   "source": [
    "df1[df1['numero_de_hospedes']>10][['id', 'reserva_feita_por_empresa']].groupby('reserva_feita_por_empresa').count().reset_index()\n"
   ]
  },
  {
   "cell_type": "code",
   "execution_count": 21,
   "id": "fa22fcb7",
   "metadata": {
    "ExecuteTime": {
     "end_time": "2023-03-26T16:26:40.200734Z",
     "start_time": "2023-03-26T16:26:40.138245Z"
    }
   },
   "outputs": [
    {
     "data": {
      "text/html": [
       "<div>\n",
       "<style scoped>\n",
       "    .dataframe tbody tr th:only-of-type {\n",
       "        vertical-align: middle;\n",
       "    }\n",
       "\n",
       "    .dataframe tbody tr th {\n",
       "        vertical-align: top;\n",
       "    }\n",
       "\n",
       "    .dataframe thead th {\n",
       "        text-align: right;\n",
       "    }\n",
       "</style>\n",
       "<table border=\"1\" class=\"dataframe\">\n",
       "  <thead>\n",
       "    <tr style=\"text-align: right;\">\n",
       "      <th></th>\n",
       "      <th>reserva_feita_por_agencia_de_turismo</th>\n",
       "      <th>id</th>\n",
       "    </tr>\n",
       "  </thead>\n",
       "  <tbody>\n",
       "    <tr>\n",
       "      <th>0</th>\n",
       "      <td>Não</td>\n",
       "      <td>33</td>\n",
       "    </tr>\n",
       "    <tr>\n",
       "      <th>1</th>\n",
       "      <td>Sim</td>\n",
       "      <td>68</td>\n",
       "    </tr>\n",
       "  </tbody>\n",
       "</table>\n",
       "</div>"
      ],
      "text/plain": [
       "  reserva_feita_por_agencia_de_turismo  id\n",
       "0                                  Não  33\n",
       "1                                  Sim  68"
      ]
     },
     "execution_count": 21,
     "metadata": {},
     "output_type": "execute_result"
    }
   ],
   "source": [
    "df1[df1['numero_de_hospedes']==0][['id', 'reserva_feita_por_agencia_de_turismo']].groupby('reserva_feita_por_agencia_de_turismo').count().reset_index()\n"
   ]
  },
  {
   "cell_type": "markdown",
   "id": "b0a6e176",
   "metadata": {},
   "source": [
    "# 2.0. Feature Engineering"
   ]
  },
  {
   "cell_type": "code",
   "execution_count": 22,
   "id": "3ec87883",
   "metadata": {
    "ExecuteTime": {
     "end_time": "2023-03-26T16:26:40.269403Z",
     "start_time": "2023-03-26T16:26:40.203425Z"
    }
   },
   "outputs": [],
   "source": [
    "df2 = df1.copy()"
   ]
  },
  {
   "cell_type": "code",
   "execution_count": 23,
   "id": "5eba3f5b",
   "metadata": {
    "ExecuteTime": {
     "end_time": "2023-03-26T16:26:40.362579Z",
     "start_time": "2023-03-26T16:26:40.272354Z"
    }
   },
   "outputs": [],
   "source": [
    "df2['classificacao_do_hotel'] = df2['classificacao_do_hotel'].apply(lambda x: x.replace(' estrelas', ''))"
   ]
  },
  {
   "cell_type": "code",
   "execution_count": 24,
   "id": "ad3c6da7",
   "metadata": {
    "ExecuteTime": {
     "end_time": "2023-03-26T16:26:40.472293Z",
     "start_time": "2023-03-26T16:26:40.365458Z"
    }
   },
   "outputs": [],
   "source": [
    "df2['ja_se_hospedou_anterioremente'] = df2['ja_se_hospedou_anterioremente'].apply(lambda x: x.replace('Sim', '1'))\n",
    "df2['ja_se_hospedou_anterioremente'] = df2['ja_se_hospedou_anterioremente'].apply(lambda x: x.replace('Não', '0'))\n"
   ]
  },
  {
   "cell_type": "code",
   "execution_count": 25,
   "id": "7dc84379",
   "metadata": {
    "ExecuteTime": {
     "end_time": "2023-03-26T16:26:40.542323Z",
     "start_time": "2023-03-26T16:26:40.475261Z"
    }
   },
   "outputs": [],
   "source": [
    "df2['reserva_feita_por_agencia_de_turismo'] = df2['reserva_feita_por_agencia_de_turismo'].apply(lambda x: x.replace('Sim', '1'))\n",
    "df2['reserva_feita_por_agencia_de_turismo'] = df2['reserva_feita_por_agencia_de_turismo'].apply(lambda x: x.replace('Não', '0'))"
   ]
  },
  {
   "cell_type": "code",
   "execution_count": 26,
   "id": "592ac569",
   "metadata": {
    "ExecuteTime": {
     "end_time": "2023-03-26T16:26:40.630916Z",
     "start_time": "2023-03-26T16:26:40.545034Z"
    }
   },
   "outputs": [],
   "source": [
    "df2['reserva_feita_por_empresa'] = df2['reserva_feita_por_empresa'].apply(lambda x: x.replace('Sim', '1'))\n",
    "df2['reserva_feita_por_empresa'] = df2['reserva_feita_por_empresa'].apply(lambda x: x.replace('Não', '0'))"
   ]
  },
  {
   "cell_type": "code",
   "execution_count": 27,
   "id": "03980fa1",
   "metadata": {
    "ExecuteTime": {
     "end_time": "2023-03-26T16:26:40.690998Z",
     "start_time": "2023-03-26T16:26:40.633740Z"
    }
   },
   "outputs": [],
   "source": [
    "df2['reserva_com_estacionamento'] = df2['reserva_com_estacionamento'].apply(lambda x: x.replace('Sim', '1'))\n",
    "df2['reserva_com_estacionamento'] = df2['reserva_com_estacionamento'].apply(lambda x: x.replace('Não', '0'))"
   ]
  },
  {
   "cell_type": "code",
   "execution_count": 28,
   "id": "f9c2fa7a",
   "metadata": {
    "ExecuteTime": {
     "end_time": "2023-03-26T16:26:40.747761Z",
     "start_time": "2023-03-26T16:26:40.699510Z"
    }
   },
   "outputs": [],
   "source": [
    "# df2['regime_de_alimentacao'] = df2['regime_de_alimentacao'].apply(lambda x: x.replace('Café da manha e jantar', '1'))\n",
    "# df2['regime_de_alimentacao'] = df2['regime_de_alimentacao'].apply(lambda x: x.replace('Café da manha, almoco e jantar', '4'))\n",
    "# df2['regime_de_alimentacao'] = df2['regime_de_alimentacao'].apply(lambda x: x.replace('Café da manha', '2'))\n",
    "# df2['regime_de_alimentacao'] = df2['regime_de_alimentacao'].apply(lambda x: x.replace('Sem refeicao', '3'))\n",
    "\n"
   ]
  },
  {
   "cell_type": "code",
   "execution_count": 29,
   "id": "833574e5",
   "metadata": {
    "ExecuteTime": {
     "end_time": "2023-03-26T16:26:40.852515Z",
     "start_time": "2023-03-26T16:26:40.750987Z"
    }
   },
   "outputs": [],
   "source": [
    "# df2['forma_de_reserva'] = df2['forma_de_reserva'].apply(lambda x: x.replace('Agência', '1'))\n",
    "# df2['forma_de_reserva'] = df2['forma_de_reserva'].apply(lambda x: x.replace('Balcão', '2'))\n",
    "# df2['forma_de_reserva'] = df2['forma_de_reserva'].apply(lambda x: x.replace('B2B', '3'))\n"
   ]
  },
  {
   "cell_type": "code",
   "execution_count": 30,
   "id": "1d09cbbb",
   "metadata": {
    "ExecuteTime": {
     "end_time": "2023-03-26T16:26:40.970768Z",
     "start_time": "2023-03-26T16:26:40.856423Z"
    }
   },
   "outputs": [],
   "source": [
    "# df2['reserva_com_observacoes'] = df2['reserva_com_observacoes'].apply(lambda x: x.replace('Nenhuma', '1'))\n",
    "# df2['reserva_com_observacoes'] = df2['reserva_com_observacoes'].apply(lambda x: x.replace('1 a 3', '2'))\n",
    "# df2['reserva_com_observacoes'] = df2['reserva_com_observacoes'].apply(lambda x: x.replace('Mais de 3', '3'))\n"
   ]
  },
  {
   "cell_type": "code",
   "execution_count": 31,
   "id": "6bfceb26",
   "metadata": {
    "ExecuteTime": {
     "end_time": "2023-03-26T16:26:41.074678Z",
     "start_time": "2023-03-26T16:26:40.974534Z"
    }
   },
   "outputs": [
    {
     "data": {
      "text/html": [
       "<div>\n",
       "<style scoped>\n",
       "    .dataframe tbody tr th:only-of-type {\n",
       "        vertical-align: middle;\n",
       "    }\n",
       "\n",
       "    .dataframe tbody tr th {\n",
       "        vertical-align: top;\n",
       "    }\n",
       "\n",
       "    .dataframe thead th {\n",
       "        text-align: right;\n",
       "    }\n",
       "</style>\n",
       "<table border=\"1\" class=\"dataframe\">\n",
       "  <thead>\n",
       "    <tr style=\"text-align: right;\">\n",
       "      <th></th>\n",
       "      <th>id</th>\n",
       "      <th>classificacao_do_hotel</th>\n",
       "      <th>meses_da_reserva_ate_o_check_in</th>\n",
       "      <th>numero_de_pernoites_reservadas</th>\n",
       "      <th>numero_de_hospedes</th>\n",
       "      <th>regime_de_alimentacao</th>\n",
       "      <th>nacionalidade</th>\n",
       "      <th>forma_de_reserva</th>\n",
       "      <th>ja_se_hospedou_anterioremente</th>\n",
       "      <th>tipo_do_quarto_reservado</th>\n",
       "      <th>reserva_feita_por_agencia_de_turismo</th>\n",
       "      <th>reserva_feita_por_empresa</th>\n",
       "      <th>reserva_com_estacionamento</th>\n",
       "      <th>reserva_com_observacoes</th>\n",
       "      <th>reserva_cancelada</th>\n",
       "      <th>latitude</th>\n",
       "      <th>longitude</th>\n",
       "    </tr>\n",
       "  </thead>\n",
       "  <tbody>\n",
       "    <tr>\n",
       "      <th>0</th>\n",
       "      <td>33571</td>\n",
       "      <td>5</td>\n",
       "      <td>5</td>\n",
       "      <td>5</td>\n",
       "      <td>2</td>\n",
       "      <td>Café da manha e jantar</td>\n",
       "      <td>France</td>\n",
       "      <td>Agência</td>\n",
       "      <td>0</td>\n",
       "      <td>Amethyst</td>\n",
       "      <td>1</td>\n",
       "      <td>0</td>\n",
       "      <td>1</td>\n",
       "      <td>Nenhuma</td>\n",
       "      <td>0</td>\n",
       "      <td>46227638.0</td>\n",
       "      <td>2213749.0</td>\n",
       "    </tr>\n",
       "    <tr>\n",
       "      <th>1</th>\n",
       "      <td>82458</td>\n",
       "      <td>4</td>\n",
       "      <td>167</td>\n",
       "      <td>3</td>\n",
       "      <td>2</td>\n",
       "      <td>Café da manha</td>\n",
       "      <td>Spain</td>\n",
       "      <td>Agência</td>\n",
       "      <td>0</td>\n",
       "      <td>Amethyst</td>\n",
       "      <td>1</td>\n",
       "      <td>0</td>\n",
       "      <td>0</td>\n",
       "      <td>Nenhuma</td>\n",
       "      <td>1</td>\n",
       "      <td>40463667.0</td>\n",
       "      <td>-374922.0</td>\n",
       "    </tr>\n",
       "    <tr>\n",
       "      <th>2</th>\n",
       "      <td>94061</td>\n",
       "      <td>4</td>\n",
       "      <td>4</td>\n",
       "      <td>3</td>\n",
       "      <td>2</td>\n",
       "      <td>Café da manha</td>\n",
       "      <td>Belgium</td>\n",
       "      <td>Agência</td>\n",
       "      <td>0</td>\n",
       "      <td>Amethyst</td>\n",
       "      <td>1</td>\n",
       "      <td>0</td>\n",
       "      <td>0</td>\n",
       "      <td>1 a 3</td>\n",
       "      <td>0</td>\n",
       "      <td>50503887.0</td>\n",
       "      <td>4469936.0</td>\n",
       "    </tr>\n",
       "    <tr>\n",
       "      <th>3</th>\n",
       "      <td>75196</td>\n",
       "      <td>4</td>\n",
       "      <td>13</td>\n",
       "      <td>2</td>\n",
       "      <td>2</td>\n",
       "      <td>Café da manha</td>\n",
       "      <td>Spain</td>\n",
       "      <td>Agência</td>\n",
       "      <td>0</td>\n",
       "      <td>Amethyst</td>\n",
       "      <td>1</td>\n",
       "      <td>0</td>\n",
       "      <td>0</td>\n",
       "      <td>Nenhuma</td>\n",
       "      <td>1</td>\n",
       "      <td>40463667.0</td>\n",
       "      <td>-374922.0</td>\n",
       "    </tr>\n",
       "    <tr>\n",
       "      <th>4</th>\n",
       "      <td>82940</td>\n",
       "      <td>4</td>\n",
       "      <td>4</td>\n",
       "      <td>2</td>\n",
       "      <td>2</td>\n",
       "      <td>Café da manha</td>\n",
       "      <td>Spain</td>\n",
       "      <td>Agência</td>\n",
       "      <td>0</td>\n",
       "      <td>Amethyst</td>\n",
       "      <td>1</td>\n",
       "      <td>0</td>\n",
       "      <td>0</td>\n",
       "      <td>Nenhuma</td>\n",
       "      <td>1</td>\n",
       "      <td>40463667.0</td>\n",
       "      <td>-374922.0</td>\n",
       "    </tr>\n",
       "  </tbody>\n",
       "</table>\n",
       "</div>"
      ],
      "text/plain": [
       "      id classificacao_do_hotel  meses_da_reserva_ate_o_check_in  \\\n",
       "0  33571                      5                                5   \n",
       "1  82458                      4                              167   \n",
       "2  94061                      4                                4   \n",
       "3  75196                      4                               13   \n",
       "4  82940                      4                                4   \n",
       "\n",
       "   numero_de_pernoites_reservadas  numero_de_hospedes   regime_de_alimentacao  \\\n",
       "0                               5                   2  Café da manha e jantar   \n",
       "1                               3                   2           Café da manha   \n",
       "2                               3                   2           Café da manha   \n",
       "3                               2                   2           Café da manha   \n",
       "4                               2                   2           Café da manha   \n",
       "\n",
       "  nacionalidade forma_de_reserva ja_se_hospedou_anterioremente  \\\n",
       "0        France          Agência                             0   \n",
       "1         Spain          Agência                             0   \n",
       "2       Belgium          Agência                             0   \n",
       "3         Spain          Agência                             0   \n",
       "4         Spain          Agência                             0   \n",
       "\n",
       "  tipo_do_quarto_reservado reserva_feita_por_agencia_de_turismo  \\\n",
       "0                 Amethyst                                    1   \n",
       "1                 Amethyst                                    1   \n",
       "2                 Amethyst                                    1   \n",
       "3                 Amethyst                                    1   \n",
       "4                 Amethyst                                    1   \n",
       "\n",
       "  reserva_feita_por_empresa reserva_com_estacionamento  \\\n",
       "0                         0                          1   \n",
       "1                         0                          0   \n",
       "2                         0                          0   \n",
       "3                         0                          0   \n",
       "4                         0                          0   \n",
       "\n",
       "  reserva_com_observacoes  reserva_cancelada    latitude  longitude  \n",
       "0                 Nenhuma                  0  46227638.0  2213749.0  \n",
       "1                 Nenhuma                  1  40463667.0  -374922.0  \n",
       "2                   1 a 3                  0  50503887.0  4469936.0  \n",
       "3                 Nenhuma                  1  40463667.0  -374922.0  \n",
       "4                 Nenhuma                  1  40463667.0  -374922.0  "
      ]
     },
     "execution_count": 31,
     "metadata": {},
     "output_type": "execute_result"
    }
   ],
   "source": [
    "df2.head()"
   ]
  },
  {
   "cell_type": "code",
   "execution_count": 32,
   "id": "b9ad0507",
   "metadata": {
    "ExecuteTime": {
     "end_time": "2023-03-26T16:26:41.161857Z",
     "start_time": "2023-03-26T16:26:41.077310Z"
    }
   },
   "outputs": [
    {
     "data": {
      "text/plain": [
       "id                                        int64\n",
       "classificacao_do_hotel                   object\n",
       "meses_da_reserva_ate_o_check_in           int64\n",
       "numero_de_pernoites_reservadas            int64\n",
       "numero_de_hospedes                        int64\n",
       "regime_de_alimentacao                    object\n",
       "nacionalidade                            object\n",
       "forma_de_reserva                         object\n",
       "ja_se_hospedou_anterioremente            object\n",
       "tipo_do_quarto_reservado                 object\n",
       "reserva_feita_por_agencia_de_turismo     object\n",
       "reserva_feita_por_empresa                object\n",
       "reserva_com_estacionamento               object\n",
       "reserva_com_observacoes                  object\n",
       "reserva_cancelada                         int64\n",
       "latitude                                float64\n",
       "longitude                               float64\n",
       "dtype: object"
      ]
     },
     "execution_count": 32,
     "metadata": {},
     "output_type": "execute_result"
    }
   ],
   "source": [
    "df2.dtypes"
   ]
  },
  {
   "cell_type": "code",
   "execution_count": 33,
   "id": "c2373d98",
   "metadata": {
    "ExecuteTime": {
     "end_time": "2023-03-26T16:26:41.277404Z",
     "start_time": "2023-03-26T16:26:41.164872Z"
    }
   },
   "outputs": [],
   "source": [
    "df2['classificacao_do_hotel'] = df2['classificacao_do_hotel'].astype('int')\n",
    "df2['ja_se_hospedou_anterioremente'] = df2['ja_se_hospedou_anterioremente'].astype('int')\n",
    "df2['reserva_feita_por_agencia_de_turismo'] = df2['reserva_feita_por_agencia_de_turismo'].astype('int')\n",
    "df2['reserva_feita_por_empresa'] = df2['reserva_feita_por_empresa'].astype('int')\n",
    "df2['reserva_com_estacionamento'] = df2['reserva_com_estacionamento'].astype('int')\n",
    "\n",
    "# df2['regime_de_alimentacao'] = df2['regime_de_alimentacao'].astype('int')\n",
    "# df2['forma_de_reserva'] = df2['forma_de_reserva'].astype('int')\n",
    "# df2['reserva_com_observacoes'] = df2['reserva_com_observacoes'].astype('int')\n"
   ]
  },
  {
   "cell_type": "code",
   "execution_count": 34,
   "id": "990ba2bf",
   "metadata": {
    "ExecuteTime": {
     "end_time": "2023-03-26T16:26:41.346341Z",
     "start_time": "2023-03-26T16:26:41.280024Z"
    }
   },
   "outputs": [
    {
     "data": {
      "text/plain": [
       "array(['Café da manha e jantar', 'Café da manha', 'Sem refeicao',\n",
       "       'Café da manha, almoco e jantar'], dtype=object)"
      ]
     },
     "execution_count": 34,
     "metadata": {},
     "output_type": "execute_result"
    }
   ],
   "source": [
    "df2['regime_de_alimentacao'].unique()"
   ]
  },
  {
   "cell_type": "markdown",
   "id": "66cc9a58",
   "metadata": {},
   "source": [
    "# 3.0. Data Filtering"
   ]
  },
  {
   "cell_type": "code",
   "execution_count": 35,
   "id": "47c68e0f",
   "metadata": {
    "ExecuteTime": {
     "end_time": "2023-03-26T16:26:41.454047Z",
     "start_time": "2023-03-26T16:26:41.348470Z"
    }
   },
   "outputs": [],
   "source": [
    "df3 = df2.copy()"
   ]
  },
  {
   "cell_type": "code",
   "execution_count": 36,
   "id": "866f415e",
   "metadata": {
    "ExecuteTime": {
     "end_time": "2023-03-26T16:26:41.509302Z",
     "start_time": "2023-03-26T16:26:41.458582Z"
    }
   },
   "outputs": [],
   "source": [
    "# reserva_feita_por_agencia_de_turismo reserva_feita_por_empresa\n",
    "#df3 = df3.drop(['reserva_feita_por_agencia_de_turismo', 'reserva_feita_por_empresa'], axis=1)"
   ]
  },
  {
   "cell_type": "markdown",
   "id": "55684f1c",
   "metadata": {},
   "source": [
    "# 4.0. Data Preparation "
   ]
  },
  {
   "cell_type": "code",
   "execution_count": 37,
   "id": "3ad9776c",
   "metadata": {
    "ExecuteTime": {
     "end_time": "2023-03-26T16:26:41.583819Z",
     "start_time": "2023-03-26T16:26:41.511535Z"
    }
   },
   "outputs": [],
   "source": [
    "#df4 = df3.drop('nacionalidade', axis=1).copy()\n",
    "df4 = df3.copy()"
   ]
  },
  {
   "cell_type": "code",
   "execution_count": 38,
   "id": "8e1d4856",
   "metadata": {
    "ExecuteTime": {
     "end_time": "2023-03-26T16:26:41.746689Z",
     "start_time": "2023-03-26T16:26:41.586258Z"
    }
   },
   "outputs": [],
   "source": [
    "#tipo_do_quarto_reservado\n",
    "# criar um dicionário de frequência de cada categoria\n",
    "freq_dict = df4['tipo_do_quarto_reservado'].value_counts(normalize=True).to_dict()\n",
    "# aplicar o encoder ao dataframe\n",
    "df4['tipo_do_quarto_reservado_encoded'] = df4['tipo_do_quarto_reservado'].map(freq_dict)"
   ]
  },
  {
   "cell_type": "code",
   "execution_count": 39,
   "id": "d460ccb8",
   "metadata": {
    "ExecuteTime": {
     "end_time": "2023-03-26T16:26:41.859753Z",
     "start_time": "2023-03-26T16:26:41.750075Z"
    }
   },
   "outputs": [
    {
     "data": {
      "text/html": [
       "<div>\n",
       "<style scoped>\n",
       "    .dataframe tbody tr th:only-of-type {\n",
       "        vertical-align: middle;\n",
       "    }\n",
       "\n",
       "    .dataframe tbody tr th {\n",
       "        vertical-align: top;\n",
       "    }\n",
       "\n",
       "    .dataframe thead th {\n",
       "        text-align: right;\n",
       "    }\n",
       "</style>\n",
       "<table border=\"1\" class=\"dataframe\">\n",
       "  <thead>\n",
       "    <tr style=\"text-align: right;\">\n",
       "      <th></th>\n",
       "      <th>id</th>\n",
       "      <th>classificacao_do_hotel</th>\n",
       "      <th>meses_da_reserva_ate_o_check_in</th>\n",
       "      <th>numero_de_pernoites_reservadas</th>\n",
       "      <th>numero_de_hospedes</th>\n",
       "      <th>regime_de_alimentacao</th>\n",
       "      <th>nacionalidade</th>\n",
       "      <th>forma_de_reserva</th>\n",
       "      <th>ja_se_hospedou_anterioremente</th>\n",
       "      <th>tipo_do_quarto_reservado</th>\n",
       "      <th>reserva_feita_por_agencia_de_turismo</th>\n",
       "      <th>reserva_feita_por_empresa</th>\n",
       "      <th>reserva_com_estacionamento</th>\n",
       "      <th>reserva_com_observacoes</th>\n",
       "      <th>reserva_cancelada</th>\n",
       "      <th>latitude</th>\n",
       "      <th>longitude</th>\n",
       "      <th>tipo_do_quarto_reservado_encoded</th>\n",
       "    </tr>\n",
       "  </thead>\n",
       "  <tbody>\n",
       "    <tr>\n",
       "      <th>0</th>\n",
       "      <td>33571</td>\n",
       "      <td>5</td>\n",
       "      <td>5</td>\n",
       "      <td>5</td>\n",
       "      <td>2</td>\n",
       "      <td>Café da manha e jantar</td>\n",
       "      <td>France</td>\n",
       "      <td>Agência</td>\n",
       "      <td>0</td>\n",
       "      <td>Amethyst</td>\n",
       "      <td>1</td>\n",
       "      <td>0</td>\n",
       "      <td>1</td>\n",
       "      <td>Nenhuma</td>\n",
       "      <td>0</td>\n",
       "      <td>46227638.0</td>\n",
       "      <td>2213749.0</td>\n",
       "      <td>0.718447</td>\n",
       "    </tr>\n",
       "    <tr>\n",
       "      <th>1</th>\n",
       "      <td>82458</td>\n",
       "      <td>4</td>\n",
       "      <td>167</td>\n",
       "      <td>3</td>\n",
       "      <td>2</td>\n",
       "      <td>Café da manha</td>\n",
       "      <td>Spain</td>\n",
       "      <td>Agência</td>\n",
       "      <td>0</td>\n",
       "      <td>Amethyst</td>\n",
       "      <td>1</td>\n",
       "      <td>0</td>\n",
       "      <td>0</td>\n",
       "      <td>Nenhuma</td>\n",
       "      <td>1</td>\n",
       "      <td>40463667.0</td>\n",
       "      <td>-374922.0</td>\n",
       "      <td>0.718447</td>\n",
       "    </tr>\n",
       "    <tr>\n",
       "      <th>2</th>\n",
       "      <td>94061</td>\n",
       "      <td>4</td>\n",
       "      <td>4</td>\n",
       "      <td>3</td>\n",
       "      <td>2</td>\n",
       "      <td>Café da manha</td>\n",
       "      <td>Belgium</td>\n",
       "      <td>Agência</td>\n",
       "      <td>0</td>\n",
       "      <td>Amethyst</td>\n",
       "      <td>1</td>\n",
       "      <td>0</td>\n",
       "      <td>0</td>\n",
       "      <td>1 a 3</td>\n",
       "      <td>0</td>\n",
       "      <td>50503887.0</td>\n",
       "      <td>4469936.0</td>\n",
       "      <td>0.718447</td>\n",
       "    </tr>\n",
       "    <tr>\n",
       "      <th>3</th>\n",
       "      <td>75196</td>\n",
       "      <td>4</td>\n",
       "      <td>13</td>\n",
       "      <td>2</td>\n",
       "      <td>2</td>\n",
       "      <td>Café da manha</td>\n",
       "      <td>Spain</td>\n",
       "      <td>Agência</td>\n",
       "      <td>0</td>\n",
       "      <td>Amethyst</td>\n",
       "      <td>1</td>\n",
       "      <td>0</td>\n",
       "      <td>0</td>\n",
       "      <td>Nenhuma</td>\n",
       "      <td>1</td>\n",
       "      <td>40463667.0</td>\n",
       "      <td>-374922.0</td>\n",
       "      <td>0.718447</td>\n",
       "    </tr>\n",
       "    <tr>\n",
       "      <th>4</th>\n",
       "      <td>82940</td>\n",
       "      <td>4</td>\n",
       "      <td>4</td>\n",
       "      <td>2</td>\n",
       "      <td>2</td>\n",
       "      <td>Café da manha</td>\n",
       "      <td>Spain</td>\n",
       "      <td>Agência</td>\n",
       "      <td>0</td>\n",
       "      <td>Amethyst</td>\n",
       "      <td>1</td>\n",
       "      <td>0</td>\n",
       "      <td>0</td>\n",
       "      <td>Nenhuma</td>\n",
       "      <td>1</td>\n",
       "      <td>40463667.0</td>\n",
       "      <td>-374922.0</td>\n",
       "      <td>0.718447</td>\n",
       "    </tr>\n",
       "  </tbody>\n",
       "</table>\n",
       "</div>"
      ],
      "text/plain": [
       "      id  classificacao_do_hotel  meses_da_reserva_ate_o_check_in  \\\n",
       "0  33571                       5                                5   \n",
       "1  82458                       4                              167   \n",
       "2  94061                       4                                4   \n",
       "3  75196                       4                               13   \n",
       "4  82940                       4                                4   \n",
       "\n",
       "   numero_de_pernoites_reservadas  numero_de_hospedes   regime_de_alimentacao  \\\n",
       "0                               5                   2  Café da manha e jantar   \n",
       "1                               3                   2           Café da manha   \n",
       "2                               3                   2           Café da manha   \n",
       "3                               2                   2           Café da manha   \n",
       "4                               2                   2           Café da manha   \n",
       "\n",
       "  nacionalidade forma_de_reserva  ja_se_hospedou_anterioremente  \\\n",
       "0        France          Agência                              0   \n",
       "1         Spain          Agência                              0   \n",
       "2       Belgium          Agência                              0   \n",
       "3         Spain          Agência                              0   \n",
       "4         Spain          Agência                              0   \n",
       "\n",
       "  tipo_do_quarto_reservado  reserva_feita_por_agencia_de_turismo  \\\n",
       "0                 Amethyst                                     1   \n",
       "1                 Amethyst                                     1   \n",
       "2                 Amethyst                                     1   \n",
       "3                 Amethyst                                     1   \n",
       "4                 Amethyst                                     1   \n",
       "\n",
       "   reserva_feita_por_empresa  reserva_com_estacionamento  \\\n",
       "0                          0                           1   \n",
       "1                          0                           0   \n",
       "2                          0                           0   \n",
       "3                          0                           0   \n",
       "4                          0                           0   \n",
       "\n",
       "  reserva_com_observacoes  reserva_cancelada    latitude  longitude  \\\n",
       "0                 Nenhuma                  0  46227638.0  2213749.0   \n",
       "1                 Nenhuma                  1  40463667.0  -374922.0   \n",
       "2                   1 a 3                  0  50503887.0  4469936.0   \n",
       "3                 Nenhuma                  1  40463667.0  -374922.0   \n",
       "4                 Nenhuma                  1  40463667.0  -374922.0   \n",
       "\n",
       "   tipo_do_quarto_reservado_encoded  \n",
       "0                          0.718447  \n",
       "1                          0.718447  \n",
       "2                          0.718447  \n",
       "3                          0.718447  \n",
       "4                          0.718447  "
      ]
     },
     "execution_count": 39,
     "metadata": {},
     "output_type": "execute_result"
    }
   ],
   "source": [
    "df4.head()"
   ]
  },
  {
   "cell_type": "code",
   "execution_count": 40,
   "id": "703f3c94",
   "metadata": {
    "ExecuteTime": {
     "end_time": "2023-03-26T16:26:41.999873Z",
     "start_time": "2023-03-26T16:26:41.862719Z"
    }
   },
   "outputs": [],
   "source": [
    "# dummy variables\n",
    "cols_dummy = ['regime_de_alimentacao', 'forma_de_reserva', 'reserva_com_observacoes']\n",
    "\n",
    "df4_dummy = pd.get_dummies(df4[cols_dummy])\n",
    "\n",
    "df4 = pd.concat([df4, df4_dummy], axis=1)\n",
    "\n",
    "# # numerical\n",
    "# col_num = df4.select_dtypes(include=['int64', 'float64']).columns.tolist()\n",
    "\n",
    "# # categorical\n",
    "# col_cat = df4.select_dtypes(exclude=['int64', 'float64', 'datetime64[ns]']).columns.tolist()\n",
    "\n",
    "# # encoding\n",
    "# df4_dummy = pd.DataFrame(ohe.fit_transform(df4[col_cat]).toarray(), index=df4.index)\n",
    "# pickle.dump(ohe, open('ohe.pkl', 'wb' ))\n",
    "\n",
    "# # join numerical and categorical\n",
    "# df42 = pd.concat([df4[col_num], df4_dummy], axis=1)\n",
    "# df42.columns = df42.columns.astype(str)\n",
    "\n",
    "# # one hot encoding\n",
    "# ohe_class_hotel = pp.OneHotEncoder()\n",
    "# ohe_aliment = pp.OneHotEncoder()\n",
    "# ohe_form_reserv = pp.OneHotEncoder()\n",
    "# ohe_hosp_anter = pp.OneHotEncoder()\n",
    "# ohe_reserv_estac = pp.OneHotEncoder()\n",
    "# ohe_reserva_observ = pp.OneHotEncoder()\n",
    "\n",
    "# # classificacao_do_hotel\n",
    "# ohe_class_hotel.fit(df4[['classificacao_do_hotel']])\n",
    "# pickle.dump(ohe_class_hotel, open('ohe_class_hotel.pkl', 'wb' ))\n",
    "# encoded = ohe_class_hotel.transform(df4[['classificacao_do_hotel']])\n",
    "# df_encoded = pd.DataFrame(encoded.toarray(), columns=ohe_class_hotel.get_feature_names_out(['classificacao_do_hotel']))\n",
    "# df4 = pd.concat([df4, df_encoded], axis=1)\n",
    "\n",
    "# # regime_de_alimentacao\n",
    "# ohe_aliment.fit(df4[['regime_de_alimentacao']])\n",
    "# pickle.dump(ohe_aliment, open('ohe_aliment.pkl', 'wb' ))\n",
    "# encoded = ohe_aliment.transform(df4[['regime_de_alimentacao']])\n",
    "# df_encoded = pd.DataFrame(encoded.toarray(), columns=ohe_aliment.get_feature_names_out(['regime_de_alimentacao']))\n",
    "# df4 = pd.concat([df4, df_encoded], axis=1)\n",
    "\n",
    "# # forma_de_reserva\n",
    "# ohe_form_reserv.fit(df4[['forma_de_reserva']])\n",
    "# pickle.dump(ohe_form_reserv, open('ohe_form_reserv.pkl', 'wb' ))\n",
    "# encoded = ohe_form_reserv.transform(df4[['forma_de_reserva']])\n",
    "# df_encoded = pd.DataFrame(encoded.toarray(), columns=ohe_form_reserv.get_feature_names_out(['forma_de_reserva']))\n",
    "# df4 = pd.concat([df4, df_encoded], axis=1)\n",
    "\n",
    "# # ja_se_hospedou_anterioremente\n",
    "# ohe_hosp_anter.fit(df4[['ja_se_hospedou_anterioremente']])\n",
    "# pickle.dump(ohe_hosp_anter, open('ohe_hosp_anter.pkl', 'wb' ))\n",
    "# encoded = ohe_hosp_anter.transform(df4[['ja_se_hospedou_anterioremente']])\n",
    "# df_encoded = pd.DataFrame(encoded.toarray(), columns=ohe_hosp_anter.get_feature_names_out(['ja_se_hospedou_anterioremente']))\n",
    "# df4 = pd.concat([df4, df_encoded], axis=1)\n",
    "\n",
    "# # reserva_com_estacionamento\n",
    "# ohe_reserv_estac.fit(df4[['reserva_com_estacionamento']])\n",
    "# pickle.dump(ohe_reserv_estac, open('ohe_reserv_estac.pkl', 'wb' ))\n",
    "# encoded = ohe_reserv_estac.transform(df4[['reserva_com_estacionamento']])\n",
    "# df_encoded = pd.DataFrame(encoded.toarray(), columns=ohe_reserv_estac.get_feature_names_out(['reserva_com_estacionamento']))\n",
    "# df4 = pd.concat([df4, df_encoded], axis=1)\n",
    "\n",
    "# #reserva_com_observacoes\n",
    "# ohe_reserva_observ.fit(df4[['reserva_com_observacoes']])\n",
    "# pickle.dump(ohe_reserva_observ, open('ohe_reserva_observ.pkl', 'wb' ))\n",
    "# encoded = ohe_reserva_observ.transform(df4[['reserva_com_observacoes']])\n",
    "# df_encoded = pd.DataFrame(encoded.toarray(), columns=ohe_reserva_observ.get_feature_names_out(['reserva_com_observacoes']))\n",
    "# df4 = pd.concat([df4, df_encoded], axis=1)"
   ]
  },
  {
   "cell_type": "code",
   "execution_count": 41,
   "id": "6d769747",
   "metadata": {
    "ExecuteTime": {
     "end_time": "2023-03-26T16:26:42.072115Z",
     "start_time": "2023-03-26T16:26:42.002513Z"
    }
   },
   "outputs": [],
   "source": [
    "# df4 = df4.drop(['tipo_do_quarto_reservado', 'classificacao_do_hotel', 'regime_de_alimentacao', 'forma_de_reserva',\n",
    "#          'ja_se_hospedou_anterioremente', 'reserva_com_estacionamento', 'reserva_com_observacoes'], axis=1)\n"
   ]
  },
  {
   "cell_type": "code",
   "execution_count": 42,
   "id": "b639a819",
   "metadata": {
    "ExecuteTime": {
     "end_time": "2023-03-26T16:26:42.371692Z",
     "start_time": "2023-03-26T16:26:42.075554Z"
    }
   },
   "outputs": [],
   "source": [
    "df4['latitude'] = df4['latitude'].apply(lambda x: np.radians(x/1000000))\n",
    "df4['longitude'] = df4['longitude'].apply(lambda x: np.radians(x/1000000))"
   ]
  },
  {
   "cell_type": "code",
   "execution_count": 43,
   "id": "2ad07dc1",
   "metadata": {
    "ExecuteTime": {
     "end_time": "2023-03-26T16:26:42.401818Z",
     "start_time": "2023-03-26T16:26:42.376948Z"
    }
   },
   "outputs": [
    {
     "data": {
      "text/html": [
       "<div>\n",
       "<style scoped>\n",
       "    .dataframe tbody tr th:only-of-type {\n",
       "        vertical-align: middle;\n",
       "    }\n",
       "\n",
       "    .dataframe tbody tr th {\n",
       "        vertical-align: top;\n",
       "    }\n",
       "\n",
       "    .dataframe thead th {\n",
       "        text-align: right;\n",
       "    }\n",
       "</style>\n",
       "<table border=\"1\" class=\"dataframe\">\n",
       "  <thead>\n",
       "    <tr style=\"text-align: right;\">\n",
       "      <th></th>\n",
       "      <th>latitude</th>\n",
       "      <th>longitude</th>\n",
       "    </tr>\n",
       "  </thead>\n",
       "  <tbody>\n",
       "    <tr>\n",
       "      <th>10411</th>\n",
       "      <td>0.893010</td>\n",
       "      <td>0.182414</td>\n",
       "    </tr>\n",
       "    <tr>\n",
       "      <th>29125</th>\n",
       "      <td>0.706224</td>\n",
       "      <td>-0.006544</td>\n",
       "    </tr>\n",
       "    <tr>\n",
       "      <th>21030</th>\n",
       "      <td>-0.248448</td>\n",
       "      <td>-0.090627</td>\n",
       "    </tr>\n",
       "    <tr>\n",
       "      <th>56252</th>\n",
       "      <td>0.706224</td>\n",
       "      <td>-0.006544</td>\n",
       "    </tr>\n",
       "    <tr>\n",
       "      <th>5609</th>\n",
       "      <td>0.064735</td>\n",
       "      <td>-1.670505</td>\n",
       "    </tr>\n",
       "    <tr>\n",
       "      <th>62204</th>\n",
       "      <td>0.073080</td>\n",
       "      <td>0.021934</td>\n",
       "    </tr>\n",
       "    <tr>\n",
       "      <th>59424</th>\n",
       "      <td>0.706224</td>\n",
       "      <td>-0.006544</td>\n",
       "    </tr>\n",
       "    <tr>\n",
       "      <th>70214</th>\n",
       "      <td>0.706224</td>\n",
       "      <td>-0.006544</td>\n",
       "    </tr>\n",
       "    <tr>\n",
       "      <th>20553</th>\n",
       "      <td>0.966529</td>\n",
       "      <td>-0.059969</td>\n",
       "    </tr>\n",
       "    <tr>\n",
       "      <th>2523</th>\n",
       "      <td>-0.533364</td>\n",
       "      <td>0.400335</td>\n",
       "    </tr>\n",
       "  </tbody>\n",
       "</table>\n",
       "</div>"
      ],
      "text/plain": [
       "       latitude  longitude\n",
       "10411  0.893010   0.182414\n",
       "29125  0.706224  -0.006544\n",
       "21030 -0.248448  -0.090627\n",
       "56252  0.706224  -0.006544\n",
       "5609   0.064735  -1.670505\n",
       "62204  0.073080   0.021934\n",
       "59424  0.706224  -0.006544\n",
       "70214  0.706224  -0.006544\n",
       "20553  0.966529  -0.059969\n",
       "2523  -0.533364   0.400335"
      ]
     },
     "execution_count": 43,
     "metadata": {},
     "output_type": "execute_result"
    }
   ],
   "source": [
    "df4[['latitude', 'longitude']].sample(10)"
   ]
  },
  {
   "cell_type": "markdown",
   "id": "c8e990a1",
   "metadata": {},
   "source": [
    "# 5.0. Feature Selection "
   ]
  },
  {
   "cell_type": "code",
   "execution_count": 44,
   "id": "41d5f490",
   "metadata": {
    "ExecuteTime": {
     "end_time": "2023-03-26T16:26:42.499651Z",
     "start_time": "2023-03-26T16:26:42.404167Z"
    }
   },
   "outputs": [],
   "source": [
    "df5 = df4.copy()"
   ]
  },
  {
   "cell_type": "code",
   "execution_count": 45,
   "id": "b7d3b67a",
   "metadata": {
    "ExecuteTime": {
     "end_time": "2023-03-26T16:26:42.589763Z",
     "start_time": "2023-03-26T16:26:42.502294Z"
    }
   },
   "outputs": [],
   "source": [
    "cols_drop =['regime_de_alimentacao', 'forma_de_reserva', 'reserva_com_observacoes', 'nacionalidade', 'tipo_do_quarto_reservado']\n",
    "df5 = df4.drop(cols_drop, axis=1)"
   ]
  },
  {
   "cell_type": "code",
   "execution_count": 46,
   "id": "9bb85855",
   "metadata": {
    "ExecuteTime": {
     "end_time": "2023-03-26T16:26:42.692810Z",
     "start_time": "2023-03-26T16:26:42.592834Z"
    }
   },
   "outputs": [],
   "source": [
    "# split dataset into features and target\n",
    "#X = df5.drop(['id', 'reserva_cancelada'], axis=1)\n",
    "X = df5.drop(['reserva_cancelada'], axis=1)\n",
    "y = df5['reserva_cancelada']"
   ]
  },
  {
   "cell_type": "code",
   "execution_count": 47,
   "id": "a2f86b46",
   "metadata": {
    "ExecuteTime": {
     "end_time": "2023-03-26T16:26:42.783713Z",
     "start_time": "2023-03-26T16:26:42.695347Z"
    }
   },
   "outputs": [],
   "source": [
    "# split dataset into train and test\n",
    "X_train, X_val, y_train, y_val = ms.train_test_split(X, y, test_size=0.2)"
   ]
  },
  {
   "cell_type": "markdown",
   "id": "ce01b1fc",
   "metadata": {},
   "source": [
    "## 1.5. Data Dtypes"
   ]
  },
  {
   "cell_type": "markdown",
   "id": "47cadf95",
   "metadata": {},
   "source": [
    "# 6.0. Machine Learning Model"
   ]
  },
  {
   "cell_type": "markdown",
   "id": "521815db",
   "metadata": {},
   "source": [
    "## 6.1. XGBoost"
   ]
  },
  {
   "cell_type": "code",
   "execution_count": 48,
   "id": "27aa76ae",
   "metadata": {
    "ExecuteTime": {
     "end_time": "2023-03-26T16:27:52.640746Z",
     "start_time": "2023-03-26T16:26:42.786601Z"
    }
   },
   "outputs": [],
   "source": [
    "# model definition\n",
    "xgb_model = XGBClassifier(n_estimators=1000, max_depth=10, min_child_weight=2 )\n",
    "#xgb_model = XGBClassifier()\n",
    "\n",
    "\n",
    "# model training\n",
    "xgb_model.fit(X_train,y_train.values.ravel())\n",
    "\n",
    "# model prediction\n",
    "#yhat = xgb_model.predict_proba(X_val)\n",
    "yhat = xgb_model.predict(X_val)"
   ]
  },
  {
   "cell_type": "code",
   "execution_count": 49,
   "id": "90be8e09",
   "metadata": {
    "ExecuteTime": {
     "end_time": "2023-03-26T16:27:52.646516Z",
     "start_time": "2023-03-26T16:27:52.642825Z"
    }
   },
   "outputs": [],
   "source": [
    "# treshold = 0.8\n",
    "# yhat = (yhat[:,1] >= treshold).astype(int)"
   ]
  },
  {
   "cell_type": "code",
   "execution_count": 50,
   "id": "8c5b695e",
   "metadata": {
    "ExecuteTime": {
     "end_time": "2023-03-26T16:27:52.809292Z",
     "start_time": "2023-03-26T16:27:52.649367Z"
    }
   },
   "outputs": [],
   "source": [
    "# yhat = yhat[:,1]\n",
    "\n",
    "# precision, recall, tresholds = mt.precision_recall_curve(y_val, yhat)\n",
    "\n",
    "# plt.plot(recall, precision, marker='.', label='Model')\n",
    "\n",
    "# plt.plot(tresholds, precision[:-1], 'b--', label='Precision')\n",
    "# plt.plot(tresholds, recall[:-1], 'g-', label='Recall')\n"
   ]
  },
  {
   "cell_type": "code",
   "execution_count": 51,
   "id": "cfeee750",
   "metadata": {
    "ExecuteTime": {
     "end_time": "2023-03-26T16:27:52.921219Z",
     "start_time": "2023-03-26T16:27:52.811756Z"
    }
   },
   "outputs": [],
   "source": [
    "pickle.dump(xgb_model, open('/home/felipe/repos/hackday/gradient_boosting.pkl', 'wb' ))"
   ]
  },
  {
   "cell_type": "markdown",
   "id": "815d5b50",
   "metadata": {
    "heading_collapsed": true
   },
   "source": [
    "## 6.2. Logistic Regression"
   ]
  },
  {
   "cell_type": "code",
   "execution_count": 52,
   "id": "499a9402",
   "metadata": {
    "ExecuteTime": {
     "end_time": "2023-03-26T16:27:53.079749Z",
     "start_time": "2023-03-26T16:27:52.924308Z"
    },
    "hidden": true
   },
   "outputs": [],
   "source": [
    "# # model definition\n",
    "# lr_model = lm.LogisticRegression()\n",
    "\n",
    "# # model training\n",
    "# lr_model.fit(X_train, y_train)\n",
    "\n",
    "# # model prediction\n",
    "# yhat = lr_model.predict(X_val)\n"
   ]
  },
  {
   "cell_type": "markdown",
   "id": "1c9f704d",
   "metadata": {},
   "source": [
    "## 6.3. Gradiente Boosting"
   ]
  },
  {
   "cell_type": "code",
   "execution_count": 53,
   "id": "5596ff9c",
   "metadata": {
    "ExecuteTime": {
     "end_time": "2023-03-26T16:27:53.158674Z",
     "start_time": "2023-03-26T16:27:53.082891Z"
    }
   },
   "outputs": [],
   "source": [
    "# ## model definition\n",
    "# gdr_model = en.GradientBoostingClassifier(n_estimators=500, random_state=42)\n",
    "\n",
    "# # model training\n",
    "# gdr_model.fit(X_train, y_train)\n",
    "\n",
    "# # model prediction\n",
    "# yhat = gdr_model.predict(X_val)"
   ]
  },
  {
   "cell_type": "markdown",
   "id": "19ac4180",
   "metadata": {},
   "source": [
    "## 6.4. Random Forest"
   ]
  },
  {
   "cell_type": "code",
   "execution_count": 54,
   "id": "fe0e74b2",
   "metadata": {
    "ExecuteTime": {
     "end_time": "2023-03-26T16:27:53.252759Z",
     "start_time": "2023-03-26T16:27:53.162490Z"
    }
   },
   "outputs": [],
   "source": [
    "# # model definition\n",
    "# rf_model = en.RandomForestClassifier(n_estimators=1000, random_state=42, n_jobs=-1)\n",
    "\n",
    "# # model training\n",
    "# rf_model.fit(X_train, y_train)\n",
    "\n",
    "# # model prediction\n",
    "# yhat = rf_model.predict(X_val)"
   ]
  },
  {
   "cell_type": "code",
   "execution_count": 55,
   "id": "bbebd841",
   "metadata": {
    "ExecuteTime": {
     "end_time": "2023-03-26T16:27:53.324736Z",
     "start_time": "2023-03-26T16:27:53.255173Z"
    }
   },
   "outputs": [],
   "source": [
    "#pickle.dump(rf_model, open('/home/felipe/repos/hackday/rf_model.pkl', 'wb' ))"
   ]
  },
  {
   "cell_type": "markdown",
   "id": "43228420",
   "metadata": {
    "heading_collapsed": true
   },
   "source": [
    "## 6.5. SVC"
   ]
  },
  {
   "cell_type": "code",
   "execution_count": 56,
   "id": "c0c6fffc",
   "metadata": {
    "ExecuteTime": {
     "end_time": "2023-03-26T16:27:53.402421Z",
     "start_time": "2023-03-26T16:27:53.327476Z"
    },
    "hidden": true
   },
   "outputs": [],
   "source": [
    "# # model definition\n",
    "# svc_model = svm.SVC()\n",
    "\n",
    "# # model training\n",
    "# svc_model.fit(X_train, y_train)\n",
    "\n",
    "# # model prediction\n",
    "# yhat = svc_model.predict(X_val)"
   ]
  },
  {
   "cell_type": "code",
   "execution_count": 57,
   "id": "f04ffe1f",
   "metadata": {
    "ExecuteTime": {
     "end_time": "2023-03-26T16:27:53.532914Z",
     "start_time": "2023-03-26T16:27:53.405928Z"
    },
    "hidden": true
   },
   "outputs": [],
   "source": [
    "#pickle.dump(rf_model, open('/home/felipe/repos/hackday/rf_model.pkl', 'wb' ))"
   ]
  },
  {
   "cell_type": "markdown",
   "id": "4be40d38",
   "metadata": {},
   "source": [
    "# 7.0. Performance"
   ]
  },
  {
   "cell_type": "code",
   "execution_count": 58,
   "id": "7348604b",
   "metadata": {
    "ExecuteTime": {
     "end_time": "2023-03-26T16:27:53.661482Z",
     "start_time": "2023-03-26T16:27:53.535617Z"
    }
   },
   "outputs": [],
   "source": [
    "precision = mt.precision_score(y_val, yhat)\n",
    "recall = mt.recall_score(y_val, yhat)\n",
    "f1_score = mt.f1_score(y_val, yhat, average='macro')"
   ]
  },
  {
   "cell_type": "code",
   "execution_count": 59,
   "id": "03f2b404",
   "metadata": {
    "ExecuteTime": {
     "end_time": "2023-03-26T16:27:53.726748Z",
     "start_time": "2023-03-26T16:27:53.664400Z"
    }
   },
   "outputs": [
    {
     "name": "stdout",
     "output_type": "stream",
     "text": [
      "Precision Score: 0.96937\n",
      "Precision Recall: 0.96429\n",
      "Precision F1 Score: 0.97344\n"
     ]
    }
   ],
   "source": [
    "print('Precision Score: {:.5f}'.format(precision))\n",
    "print('Precision Recall: {:.5f}'.format(recall))\n",
    "print('Precision F1 Score: {:.5f}'.format(f1_score))"
   ]
  },
  {
   "cell_type": "markdown",
   "id": "79576f2b",
   "metadata": {
    "ExecuteTime": {
     "end_time": "2023-03-25T15:27:20.978363Z",
     "start_time": "2023-03-25T15:27:20.975764Z"
    }
   },
   "source": [
    "# 8.0. Model"
   ]
  },
  {
   "cell_type": "code",
   "execution_count": 60,
   "id": "97ed0e7e",
   "metadata": {
    "ExecuteTime": {
     "end_time": "2023-03-26T16:27:53.831936Z",
     "start_time": "2023-03-26T16:27:53.729468Z"
    }
   },
   "outputs": [
    {
     "data": {
      "text/html": [
       "<div>\n",
       "<style scoped>\n",
       "    .dataframe tbody tr th:only-of-type {\n",
       "        vertical-align: middle;\n",
       "    }\n",
       "\n",
       "    .dataframe tbody tr th {\n",
       "        vertical-align: top;\n",
       "    }\n",
       "\n",
       "    .dataframe thead th {\n",
       "        text-align: right;\n",
       "    }\n",
       "</style>\n",
       "<table border=\"1\" class=\"dataframe\">\n",
       "  <thead>\n",
       "    <tr style=\"text-align: right;\">\n",
       "      <th></th>\n",
       "      <th>id</th>\n",
       "      <th>classificacao_do_hotel</th>\n",
       "      <th>meses_da_reserva_ate_o_check_in</th>\n",
       "      <th>numero_de_pernoites_reservadas</th>\n",
       "      <th>numero_de_hospedes</th>\n",
       "      <th>regime_de_alimentacao</th>\n",
       "      <th>nacionalidade</th>\n",
       "      <th>forma_de_reserva</th>\n",
       "      <th>ja_se_hospedou_anterioremente</th>\n",
       "      <th>tipo_do_quarto_reservado</th>\n",
       "      <th>reserva_feita_por_agencia_de_turismo</th>\n",
       "      <th>reserva_feita_por_empresa</th>\n",
       "      <th>reserva_com_estacionamento</th>\n",
       "      <th>reserva_com_observacoes</th>\n",
       "      <th>reserva_cancelada</th>\n",
       "      <th>latitude</th>\n",
       "      <th>longitude</th>\n",
       "    </tr>\n",
       "  </thead>\n",
       "  <tbody>\n",
       "    <tr>\n",
       "      <th>1</th>\n",
       "      <td>82458</td>\n",
       "      <td>4</td>\n",
       "      <td>167</td>\n",
       "      <td>3</td>\n",
       "      <td>2</td>\n",
       "      <td>Café da manha</td>\n",
       "      <td>Spain</td>\n",
       "      <td>Agência</td>\n",
       "      <td>0</td>\n",
       "      <td>Amethyst</td>\n",
       "      <td>1</td>\n",
       "      <td>0</td>\n",
       "      <td>0</td>\n",
       "      <td>Nenhuma</td>\n",
       "      <td>1</td>\n",
       "      <td>40463667.0</td>\n",
       "      <td>-374922.0</td>\n",
       "    </tr>\n",
       "    <tr>\n",
       "      <th>3</th>\n",
       "      <td>75196</td>\n",
       "      <td>4</td>\n",
       "      <td>13</td>\n",
       "      <td>2</td>\n",
       "      <td>2</td>\n",
       "      <td>Café da manha</td>\n",
       "      <td>Spain</td>\n",
       "      <td>Agência</td>\n",
       "      <td>0</td>\n",
       "      <td>Amethyst</td>\n",
       "      <td>1</td>\n",
       "      <td>0</td>\n",
       "      <td>0</td>\n",
       "      <td>Nenhuma</td>\n",
       "      <td>1</td>\n",
       "      <td>40463667.0</td>\n",
       "      <td>-374922.0</td>\n",
       "    </tr>\n",
       "    <tr>\n",
       "      <th>4</th>\n",
       "      <td>82940</td>\n",
       "      <td>4</td>\n",
       "      <td>4</td>\n",
       "      <td>2</td>\n",
       "      <td>2</td>\n",
       "      <td>Café da manha</td>\n",
       "      <td>Spain</td>\n",
       "      <td>Agência</td>\n",
       "      <td>0</td>\n",
       "      <td>Amethyst</td>\n",
       "      <td>1</td>\n",
       "      <td>0</td>\n",
       "      <td>0</td>\n",
       "      <td>Nenhuma</td>\n",
       "      <td>1</td>\n",
       "      <td>40463667.0</td>\n",
       "      <td>-374922.0</td>\n",
       "    </tr>\n",
       "    <tr>\n",
       "      <th>7</th>\n",
       "      <td>85783</td>\n",
       "      <td>4</td>\n",
       "      <td>2</td>\n",
       "      <td>2</td>\n",
       "      <td>1</td>\n",
       "      <td>Café da manha</td>\n",
       "      <td>Spain</td>\n",
       "      <td>B2B</td>\n",
       "      <td>0</td>\n",
       "      <td>Pink Sapphire</td>\n",
       "      <td>0</td>\n",
       "      <td>1</td>\n",
       "      <td>0</td>\n",
       "      <td>1 a 3</td>\n",
       "      <td>0</td>\n",
       "      <td>40463667.0</td>\n",
       "      <td>-374922.0</td>\n",
       "    </tr>\n",
       "    <tr>\n",
       "      <th>10</th>\n",
       "      <td>109280</td>\n",
       "      <td>4</td>\n",
       "      <td>4</td>\n",
       "      <td>5</td>\n",
       "      <td>2</td>\n",
       "      <td>Café da manha</td>\n",
       "      <td>Spain</td>\n",
       "      <td>Agência</td>\n",
       "      <td>0</td>\n",
       "      <td>Amethyst</td>\n",
       "      <td>1</td>\n",
       "      <td>0</td>\n",
       "      <td>0</td>\n",
       "      <td>Nenhuma</td>\n",
       "      <td>0</td>\n",
       "      <td>40463667.0</td>\n",
       "      <td>-374922.0</td>\n",
       "    </tr>\n",
       "    <tr>\n",
       "      <th>...</th>\n",
       "      <td>...</td>\n",
       "      <td>...</td>\n",
       "      <td>...</td>\n",
       "      <td>...</td>\n",
       "      <td>...</td>\n",
       "      <td>...</td>\n",
       "      <td>...</td>\n",
       "      <td>...</td>\n",
       "      <td>...</td>\n",
       "      <td>...</td>\n",
       "      <td>...</td>\n",
       "      <td>...</td>\n",
       "      <td>...</td>\n",
       "      <td>...</td>\n",
       "      <td>...</td>\n",
       "      <td>...</td>\n",
       "      <td>...</td>\n",
       "    </tr>\n",
       "    <tr>\n",
       "      <th>72149</th>\n",
       "      <td>84974</td>\n",
       "      <td>4</td>\n",
       "      <td>1</td>\n",
       "      <td>1</td>\n",
       "      <td>1</td>\n",
       "      <td>Café da manha</td>\n",
       "      <td>Spain</td>\n",
       "      <td>Agência</td>\n",
       "      <td>0</td>\n",
       "      <td>Amethyst</td>\n",
       "      <td>1</td>\n",
       "      <td>0</td>\n",
       "      <td>0</td>\n",
       "      <td>1 a 3</td>\n",
       "      <td>0</td>\n",
       "      <td>40463667.0</td>\n",
       "      <td>-374922.0</td>\n",
       "    </tr>\n",
       "    <tr>\n",
       "      <th>72151</th>\n",
       "      <td>56825</td>\n",
       "      <td>4</td>\n",
       "      <td>10</td>\n",
       "      <td>7</td>\n",
       "      <td>2</td>\n",
       "      <td>Café da manha</td>\n",
       "      <td>Spain</td>\n",
       "      <td>Agência</td>\n",
       "      <td>0</td>\n",
       "      <td>Amethyst</td>\n",
       "      <td>1</td>\n",
       "      <td>0</td>\n",
       "      <td>0</td>\n",
       "      <td>Nenhuma</td>\n",
       "      <td>1</td>\n",
       "      <td>40463667.0</td>\n",
       "      <td>-374922.0</td>\n",
       "    </tr>\n",
       "    <tr>\n",
       "      <th>72156</th>\n",
       "      <td>4101</td>\n",
       "      <td>5</td>\n",
       "      <td>5</td>\n",
       "      <td>2</td>\n",
       "      <td>2</td>\n",
       "      <td>Café da manha e jantar</td>\n",
       "      <td>Spain</td>\n",
       "      <td>Agência</td>\n",
       "      <td>0</td>\n",
       "      <td>Amethyst</td>\n",
       "      <td>0</td>\n",
       "      <td>0</td>\n",
       "      <td>0</td>\n",
       "      <td>Nenhuma</td>\n",
       "      <td>1</td>\n",
       "      <td>40463667.0</td>\n",
       "      <td>-374922.0</td>\n",
       "    </tr>\n",
       "    <tr>\n",
       "      <th>72157</th>\n",
       "      <td>15828</td>\n",
       "      <td>5</td>\n",
       "      <td>1</td>\n",
       "      <td>8</td>\n",
       "      <td>2</td>\n",
       "      <td>Café da manha e jantar</td>\n",
       "      <td>Spain</td>\n",
       "      <td>Balcão</td>\n",
       "      <td>0</td>\n",
       "      <td>Pink Sapphire</td>\n",
       "      <td>1</td>\n",
       "      <td>0</td>\n",
       "      <td>0</td>\n",
       "      <td>Nenhuma</td>\n",
       "      <td>0</td>\n",
       "      <td>40463667.0</td>\n",
       "      <td>-374922.0</td>\n",
       "    </tr>\n",
       "    <tr>\n",
       "      <th>72158</th>\n",
       "      <td>3164</td>\n",
       "      <td>5</td>\n",
       "      <td>4</td>\n",
       "      <td>14</td>\n",
       "      <td>2</td>\n",
       "      <td>Café da manha e jantar</td>\n",
       "      <td>Spain</td>\n",
       "      <td>Agência</td>\n",
       "      <td>0</td>\n",
       "      <td>Pink Sapphire</td>\n",
       "      <td>1</td>\n",
       "      <td>0</td>\n",
       "      <td>0</td>\n",
       "      <td>Nenhuma</td>\n",
       "      <td>1</td>\n",
       "      <td>40463667.0</td>\n",
       "      <td>-374922.0</td>\n",
       "    </tr>\n",
       "  </tbody>\n",
       "</table>\n",
       "<p>34209 rows × 17 columns</p>\n",
       "</div>"
      ],
      "text/plain": [
       "           id  classificacao_do_hotel  meses_da_reserva_ate_o_check_in  \\\n",
       "1       82458                       4                              167   \n",
       "3       75196                       4                               13   \n",
       "4       82940                       4                                4   \n",
       "7       85783                       4                                2   \n",
       "10     109280                       4                                4   \n",
       "...       ...                     ...                              ...   \n",
       "72149   84974                       4                                1   \n",
       "72151   56825                       4                               10   \n",
       "72156    4101                       5                                5   \n",
       "72157   15828                       5                                1   \n",
       "72158    3164                       5                                4   \n",
       "\n",
       "       numero_de_pernoites_reservadas  numero_de_hospedes  \\\n",
       "1                                   3                   2   \n",
       "3                                   2                   2   \n",
       "4                                   2                   2   \n",
       "7                                   2                   1   \n",
       "10                                  5                   2   \n",
       "...                               ...                 ...   \n",
       "72149                               1                   1   \n",
       "72151                               7                   2   \n",
       "72156                               2                   2   \n",
       "72157                               8                   2   \n",
       "72158                              14                   2   \n",
       "\n",
       "        regime_de_alimentacao nacionalidade forma_de_reserva  \\\n",
       "1               Café da manha         Spain          Agência   \n",
       "3               Café da manha         Spain          Agência   \n",
       "4               Café da manha         Spain          Agência   \n",
       "7               Café da manha         Spain              B2B   \n",
       "10              Café da manha         Spain          Agência   \n",
       "...                       ...           ...              ...   \n",
       "72149           Café da manha         Spain          Agência   \n",
       "72151           Café da manha         Spain          Agência   \n",
       "72156  Café da manha e jantar         Spain          Agência   \n",
       "72157  Café da manha e jantar         Spain           Balcão   \n",
       "72158  Café da manha e jantar         Spain          Agência   \n",
       "\n",
       "       ja_se_hospedou_anterioremente tipo_do_quarto_reservado  \\\n",
       "1                                  0                 Amethyst   \n",
       "3                                  0                 Amethyst   \n",
       "4                                  0                 Amethyst   \n",
       "7                                  0            Pink Sapphire   \n",
       "10                                 0                 Amethyst   \n",
       "...                              ...                      ...   \n",
       "72149                              0                 Amethyst   \n",
       "72151                              0                 Amethyst   \n",
       "72156                              0                 Amethyst   \n",
       "72157                              0            Pink Sapphire   \n",
       "72158                              0            Pink Sapphire   \n",
       "\n",
       "       reserva_feita_por_agencia_de_turismo  reserva_feita_por_empresa  \\\n",
       "1                                         1                          0   \n",
       "3                                         1                          0   \n",
       "4                                         1                          0   \n",
       "7                                         0                          1   \n",
       "10                                        1                          0   \n",
       "...                                     ...                        ...   \n",
       "72149                                     1                          0   \n",
       "72151                                     1                          0   \n",
       "72156                                     0                          0   \n",
       "72157                                     1                          0   \n",
       "72158                                     1                          0   \n",
       "\n",
       "       reserva_com_estacionamento reserva_com_observacoes  reserva_cancelada  \\\n",
       "1                               0                 Nenhuma                  1   \n",
       "3                               0                 Nenhuma                  1   \n",
       "4                               0                 Nenhuma                  1   \n",
       "7                               0                   1 a 3                  0   \n",
       "10                              0                 Nenhuma                  0   \n",
       "...                           ...                     ...                ...   \n",
       "72149                           0                   1 a 3                  0   \n",
       "72151                           0                 Nenhuma                  1   \n",
       "72156                           0                 Nenhuma                  1   \n",
       "72157                           0                 Nenhuma                  0   \n",
       "72158                           0                 Nenhuma                  1   \n",
       "\n",
       "         latitude  longitude  \n",
       "1      40463667.0  -374922.0  \n",
       "3      40463667.0  -374922.0  \n",
       "4      40463667.0  -374922.0  \n",
       "7      40463667.0  -374922.0  \n",
       "10     40463667.0  -374922.0  \n",
       "...           ...        ...  \n",
       "72149  40463667.0  -374922.0  \n",
       "72151  40463667.0  -374922.0  \n",
       "72156  40463667.0  -374922.0  \n",
       "72157  40463667.0  -374922.0  \n",
       "72158  40463667.0  -374922.0  \n",
       "\n",
       "[34209 rows x 17 columns]"
      ]
     },
     "execution_count": 60,
     "metadata": {},
     "output_type": "execute_result"
    }
   ],
   "source": [
    "df2[df2['nacionalidade']=='Spain']"
   ]
  },
  {
   "cell_type": "code",
   "execution_count": null,
   "id": "1ddec91d",
   "metadata": {},
   "outputs": [],
   "source": []
  }
 ],
 "metadata": {
  "kernelspec": {
   "display_name": "hackday",
   "language": "python",
   "name": "hackday"
  },
  "language_info": {
   "codemirror_mode": {
    "name": "ipython",
    "version": 3
   },
   "file_extension": ".py",
   "mimetype": "text/x-python",
   "name": "python",
   "nbconvert_exporter": "python",
   "pygments_lexer": "ipython3",
   "version": "3.11.2"
  }
 },
 "nbformat": 4,
 "nbformat_minor": 5
}
